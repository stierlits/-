{
 "cells": [
  {
   "cell_type": "markdown",
   "metadata": {},
   "source": [
    "   # Исследование Интернет-мазазина компьютерных игр \"Стримчик\"."
   ]
  },
  {
   "cell_type": "markdown",
   "metadata": {},
   "source": [
    "    В нашем распоряжении данные о продажах со всего мира интернет-магазина \"Стримчик\" до 2016 года. Из открытых источников доступны исторические данные о продажах игр, оценки пользователей и экспертов, жанры и платформы. Все данные хранятся в файле  /datasets/games.csv. Необходимо исследовать данные и выявить закономерности для того, чтобы в 2017 году сделать ставку на потенциально популярный продукт и спланировать рекламные кампании. \n",
    "    \n",
    "    Ход работы:\n",
    "    \n",
    "    1) Подготовка данных (обрабатываем дубликаты, пропуски, меняем типы данных, где необходимо)\n",
    "    2) Добавляем столбец суммарные продажи во всех регионах.\n",
    "    3) Выбираем нужный актуальный период и провидим исследовательский анализ данных на нем.\n",
    "    4) Составляем портрет пользователя каждого региона.\n",
    "    5) Провяем гипотезы.\n",
    "    6) Пишем итоговые выводы.\n",
    "   "
   ]
  },
  {
   "cell_type": "code",
   "execution_count": 1,
   "metadata": {},
   "outputs": [],
   "source": [
    "import pandas as pd\n",
    "import numpy as np\n",
    "import seaborn as sb\n",
    "import matplotlib.pyplot as plt\n",
    "from scipy import stats as st\n",
    "import pylab"
   ]
  },
  {
   "cell_type": "markdown",
   "metadata": {},
   "source": [
    "#### Шаг 1. Загрузка данных"
   ]
  },
  {
   "cell_type": "code",
   "execution_count": 2,
   "metadata": {},
   "outputs": [
    {
     "ename": "FileNotFoundError",
     "evalue": "[Errno 2] No such file or directory: '/datasets/games.csv'",
     "output_type": "error",
     "traceback": [
      "\u001b[1;31m---------------------------------------------------------------------------\u001b[0m",
      "\u001b[1;31mFileNotFoundError\u001b[0m                         Traceback (most recent call last)",
      "\u001b[1;32m~\\AppData\\Local\\Temp\\ipykernel_7084\\1936010140.py\u001b[0m in \u001b[0;36m<module>\u001b[1;34m\u001b[0m\n\u001b[1;32m----> 1\u001b[1;33m \u001b[0mdata\u001b[0m \u001b[1;33m=\u001b[0m \u001b[0mpd\u001b[0m\u001b[1;33m.\u001b[0m\u001b[0mread_csv\u001b[0m\u001b[1;33m(\u001b[0m\u001b[1;34m'/datasets/games.csv'\u001b[0m\u001b[1;33m)\u001b[0m\u001b[1;33m\u001b[0m\u001b[1;33m\u001b[0m\u001b[0m\n\u001b[0m",
      "\u001b[1;32m~\\anaconda3\\lib\\site-packages\\pandas\\util\\_decorators.py\u001b[0m in \u001b[0;36mwrapper\u001b[1;34m(*args, **kwargs)\u001b[0m\n\u001b[0;32m    309\u001b[0m                     \u001b[0mstacklevel\u001b[0m\u001b[1;33m=\u001b[0m\u001b[0mstacklevel\u001b[0m\u001b[1;33m,\u001b[0m\u001b[1;33m\u001b[0m\u001b[1;33m\u001b[0m\u001b[0m\n\u001b[0;32m    310\u001b[0m                 )\n\u001b[1;32m--> 311\u001b[1;33m             \u001b[1;32mreturn\u001b[0m \u001b[0mfunc\u001b[0m\u001b[1;33m(\u001b[0m\u001b[1;33m*\u001b[0m\u001b[0margs\u001b[0m\u001b[1;33m,\u001b[0m \u001b[1;33m**\u001b[0m\u001b[0mkwargs\u001b[0m\u001b[1;33m)\u001b[0m\u001b[1;33m\u001b[0m\u001b[1;33m\u001b[0m\u001b[0m\n\u001b[0m\u001b[0;32m    312\u001b[0m \u001b[1;33m\u001b[0m\u001b[0m\n\u001b[0;32m    313\u001b[0m         \u001b[1;32mreturn\u001b[0m \u001b[0mwrapper\u001b[0m\u001b[1;33m\u001b[0m\u001b[1;33m\u001b[0m\u001b[0m\n",
      "\u001b[1;32m~\\anaconda3\\lib\\site-packages\\pandas\\io\\parsers\\readers.py\u001b[0m in \u001b[0;36mread_csv\u001b[1;34m(filepath_or_buffer, sep, delimiter, header, names, index_col, usecols, squeeze, prefix, mangle_dupe_cols, dtype, engine, converters, true_values, false_values, skipinitialspace, skiprows, skipfooter, nrows, na_values, keep_default_na, na_filter, verbose, skip_blank_lines, parse_dates, infer_datetime_format, keep_date_col, date_parser, dayfirst, cache_dates, iterator, chunksize, compression, thousands, decimal, lineterminator, quotechar, quoting, doublequote, escapechar, comment, encoding, encoding_errors, dialect, error_bad_lines, warn_bad_lines, on_bad_lines, delim_whitespace, low_memory, memory_map, float_precision, storage_options)\u001b[0m\n\u001b[0;32m    676\u001b[0m     \u001b[0mkwds\u001b[0m\u001b[1;33m.\u001b[0m\u001b[0mupdate\u001b[0m\u001b[1;33m(\u001b[0m\u001b[0mkwds_defaults\u001b[0m\u001b[1;33m)\u001b[0m\u001b[1;33m\u001b[0m\u001b[1;33m\u001b[0m\u001b[0m\n\u001b[0;32m    677\u001b[0m \u001b[1;33m\u001b[0m\u001b[0m\n\u001b[1;32m--> 678\u001b[1;33m     \u001b[1;32mreturn\u001b[0m \u001b[0m_read\u001b[0m\u001b[1;33m(\u001b[0m\u001b[0mfilepath_or_buffer\u001b[0m\u001b[1;33m,\u001b[0m \u001b[0mkwds\u001b[0m\u001b[1;33m)\u001b[0m\u001b[1;33m\u001b[0m\u001b[1;33m\u001b[0m\u001b[0m\n\u001b[0m\u001b[0;32m    679\u001b[0m \u001b[1;33m\u001b[0m\u001b[0m\n\u001b[0;32m    680\u001b[0m \u001b[1;33m\u001b[0m\u001b[0m\n",
      "\u001b[1;32m~\\anaconda3\\lib\\site-packages\\pandas\\io\\parsers\\readers.py\u001b[0m in \u001b[0;36m_read\u001b[1;34m(filepath_or_buffer, kwds)\u001b[0m\n\u001b[0;32m    573\u001b[0m \u001b[1;33m\u001b[0m\u001b[0m\n\u001b[0;32m    574\u001b[0m     \u001b[1;31m# Create the parser.\u001b[0m\u001b[1;33m\u001b[0m\u001b[1;33m\u001b[0m\u001b[0m\n\u001b[1;32m--> 575\u001b[1;33m     \u001b[0mparser\u001b[0m \u001b[1;33m=\u001b[0m \u001b[0mTextFileReader\u001b[0m\u001b[1;33m(\u001b[0m\u001b[0mfilepath_or_buffer\u001b[0m\u001b[1;33m,\u001b[0m \u001b[1;33m**\u001b[0m\u001b[0mkwds\u001b[0m\u001b[1;33m)\u001b[0m\u001b[1;33m\u001b[0m\u001b[1;33m\u001b[0m\u001b[0m\n\u001b[0m\u001b[0;32m    576\u001b[0m \u001b[1;33m\u001b[0m\u001b[0m\n\u001b[0;32m    577\u001b[0m     \u001b[1;32mif\u001b[0m \u001b[0mchunksize\u001b[0m \u001b[1;32mor\u001b[0m \u001b[0miterator\u001b[0m\u001b[1;33m:\u001b[0m\u001b[1;33m\u001b[0m\u001b[1;33m\u001b[0m\u001b[0m\n",
      "\u001b[1;32m~\\anaconda3\\lib\\site-packages\\pandas\\io\\parsers\\readers.py\u001b[0m in \u001b[0;36m__init__\u001b[1;34m(self, f, engine, **kwds)\u001b[0m\n\u001b[0;32m    930\u001b[0m \u001b[1;33m\u001b[0m\u001b[0m\n\u001b[0;32m    931\u001b[0m         \u001b[0mself\u001b[0m\u001b[1;33m.\u001b[0m\u001b[0mhandles\u001b[0m\u001b[1;33m:\u001b[0m \u001b[0mIOHandles\u001b[0m \u001b[1;33m|\u001b[0m \u001b[1;32mNone\u001b[0m \u001b[1;33m=\u001b[0m \u001b[1;32mNone\u001b[0m\u001b[1;33m\u001b[0m\u001b[1;33m\u001b[0m\u001b[0m\n\u001b[1;32m--> 932\u001b[1;33m         \u001b[0mself\u001b[0m\u001b[1;33m.\u001b[0m\u001b[0m_engine\u001b[0m \u001b[1;33m=\u001b[0m \u001b[0mself\u001b[0m\u001b[1;33m.\u001b[0m\u001b[0m_make_engine\u001b[0m\u001b[1;33m(\u001b[0m\u001b[0mf\u001b[0m\u001b[1;33m,\u001b[0m \u001b[0mself\u001b[0m\u001b[1;33m.\u001b[0m\u001b[0mengine\u001b[0m\u001b[1;33m)\u001b[0m\u001b[1;33m\u001b[0m\u001b[1;33m\u001b[0m\u001b[0m\n\u001b[0m\u001b[0;32m    933\u001b[0m \u001b[1;33m\u001b[0m\u001b[0m\n\u001b[0;32m    934\u001b[0m     \u001b[1;32mdef\u001b[0m \u001b[0mclose\u001b[0m\u001b[1;33m(\u001b[0m\u001b[0mself\u001b[0m\u001b[1;33m)\u001b[0m\u001b[1;33m:\u001b[0m\u001b[1;33m\u001b[0m\u001b[1;33m\u001b[0m\u001b[0m\n",
      "\u001b[1;32m~\\anaconda3\\lib\\site-packages\\pandas\\io\\parsers\\readers.py\u001b[0m in \u001b[0;36m_make_engine\u001b[1;34m(self, f, engine)\u001b[0m\n\u001b[0;32m   1214\u001b[0m             \u001b[1;31m# \"Union[str, PathLike[str], ReadCsvBuffer[bytes], ReadCsvBuffer[str]]\"\u001b[0m\u001b[1;33m\u001b[0m\u001b[1;33m\u001b[0m\u001b[0m\n\u001b[0;32m   1215\u001b[0m             \u001b[1;31m# , \"str\", \"bool\", \"Any\", \"Any\", \"Any\", \"Any\", \"Any\"\u001b[0m\u001b[1;33m\u001b[0m\u001b[1;33m\u001b[0m\u001b[0m\n\u001b[1;32m-> 1216\u001b[1;33m             self.handles = get_handle(  # type: ignore[call-overload]\n\u001b[0m\u001b[0;32m   1217\u001b[0m                 \u001b[0mf\u001b[0m\u001b[1;33m,\u001b[0m\u001b[1;33m\u001b[0m\u001b[1;33m\u001b[0m\u001b[0m\n\u001b[0;32m   1218\u001b[0m                 \u001b[0mmode\u001b[0m\u001b[1;33m,\u001b[0m\u001b[1;33m\u001b[0m\u001b[1;33m\u001b[0m\u001b[0m\n",
      "\u001b[1;32m~\\anaconda3\\lib\\site-packages\\pandas\\io\\common.py\u001b[0m in \u001b[0;36mget_handle\u001b[1;34m(path_or_buf, mode, encoding, compression, memory_map, is_text, errors, storage_options)\u001b[0m\n\u001b[0;32m    784\u001b[0m         \u001b[1;32mif\u001b[0m \u001b[0mioargs\u001b[0m\u001b[1;33m.\u001b[0m\u001b[0mencoding\u001b[0m \u001b[1;32mand\u001b[0m \u001b[1;34m\"b\"\u001b[0m \u001b[1;32mnot\u001b[0m \u001b[1;32min\u001b[0m \u001b[0mioargs\u001b[0m\u001b[1;33m.\u001b[0m\u001b[0mmode\u001b[0m\u001b[1;33m:\u001b[0m\u001b[1;33m\u001b[0m\u001b[1;33m\u001b[0m\u001b[0m\n\u001b[0;32m    785\u001b[0m             \u001b[1;31m# Encoding\u001b[0m\u001b[1;33m\u001b[0m\u001b[1;33m\u001b[0m\u001b[0m\n\u001b[1;32m--> 786\u001b[1;33m             handle = open(\n\u001b[0m\u001b[0;32m    787\u001b[0m                 \u001b[0mhandle\u001b[0m\u001b[1;33m,\u001b[0m\u001b[1;33m\u001b[0m\u001b[1;33m\u001b[0m\u001b[0m\n\u001b[0;32m    788\u001b[0m                 \u001b[0mioargs\u001b[0m\u001b[1;33m.\u001b[0m\u001b[0mmode\u001b[0m\u001b[1;33m,\u001b[0m\u001b[1;33m\u001b[0m\u001b[1;33m\u001b[0m\u001b[0m\n",
      "\u001b[1;31mFileNotFoundError\u001b[0m: [Errno 2] No such file or directory: '/datasets/games.csv'"
     ]
    }
   ],
   "source": [
    "data = pd.read_csv('/datasets/games.csv')"
   ]
  },
  {
   "cell_type": "code",
   "execution_count": null,
   "metadata": {},
   "outputs": [],
   "source": [
    "data.shape"
   ]
  },
  {
   "cell_type": "code",
   "execution_count": null,
   "metadata": {},
   "outputs": [],
   "source": [
    "data.head(10)"
   ]
  },
  {
   "cell_type": "code",
   "execution_count": null,
   "metadata": {},
   "outputs": [],
   "source": [
    "data.describe().T"
   ]
  },
  {
   "cell_type": "code",
   "execution_count": null,
   "metadata": {
    "scrolled": true
   },
   "outputs": [],
   "source": [
    "data.info()"
   ]
  },
  {
   "cell_type": "code",
   "execution_count": null,
   "metadata": {
    "scrolled": true
   },
   "outputs": [],
   "source": [
    "data.hist(bins=50, figsize=(20, 10));"
   ]
  },
  {
   "cell_type": "markdown",
   "metadata": {},
   "source": [
    "Записали данные файла в data. Выводим информацию. В данных есть пропущенные значения."
   ]
  },
  {
   "cell_type": "markdown",
   "metadata": {},
   "source": [
    "#### Шаг 2. Предобработка данных"
   ]
  },
  {
   "cell_type": "code",
   "execution_count": null,
   "metadata": {
    "scrolled": false
   },
   "outputs": [],
   "source": [
    "data[data.duplicated()]"
   ]
  },
  {
   "cell_type": "markdown",
   "metadata": {},
   "source": [
    "Полных дубликатов нет."
   ]
  },
  {
   "cell_type": "code",
   "execution_count": null,
   "metadata": {
    "scrolled": true
   },
   "outputs": [],
   "source": [
    "data.isna().sum()"
   ]
  },
  {
   "cell_type": "code",
   "execution_count": null,
   "metadata": {},
   "outputs": [],
   "source": [
    "data['Year_of_Release'].unique()"
   ]
  },
  {
   "cell_type": "code",
   "execution_count": null,
   "metadata": {
    "scrolled": false
   },
   "outputs": [],
   "source": [
    "data = data.dropna(subset=['Year_of_Release'])"
   ]
  },
  {
   "cell_type": "code",
   "execution_count": null,
   "metadata": {},
   "outputs": [],
   "source": [
    "data['Year_of_Release'].unique()"
   ]
  },
  {
   "cell_type": "code",
   "execution_count": null,
   "metadata": {
    "scrolled": true
   },
   "outputs": [],
   "source": [
    "data['Year_of_Release'] = data['Year_of_Release'].astype('int')"
   ]
  },
  {
   "cell_type": "code",
   "execution_count": null,
   "metadata": {
    "scrolled": true
   },
   "outputs": [],
   "source": [
    "ax = data['Year_of_Release'].hist(bins=100)\n",
    "ax.set(title='data', xlabel='Year_of_Release', ylabel='Sales');"
   ]
  },
  {
   "cell_type": "markdown",
   "metadata": {},
   "source": [
    "В столбце год выпуска есть пропущенные значения. Скорее всего они не заполнились из-за технической ошибки. Так как в дальнейшем мы будем делить данные по годам, пропуски лучше удалить, их не так много."
   ]
  },
  {
   "cell_type": "code",
   "execution_count": null,
   "metadata": {},
   "outputs": [],
   "source": [
    "data['Name'] = data['Name'].str.lower()"
   ]
  },
  {
   "cell_type": "code",
   "execution_count": null,
   "metadata": {},
   "outputs": [],
   "source": [
    "data['Platform'] = data['Platform'].str.lower()"
   ]
  },
  {
   "cell_type": "code",
   "execution_count": null,
   "metadata": {},
   "outputs": [],
   "source": [
    "data['Genre'] = data['Genre'].str.lower()"
   ]
  },
  {
   "cell_type": "markdown",
   "metadata": {},
   "source": [
    "Приводим строковые переменные к нижнему регистру, чтобы было удобнее работать."
   ]
  },
  {
   "cell_type": "code",
   "execution_count": null,
   "metadata": {},
   "outputs": [],
   "source": [
    "data = data.dropna(subset=['Name', 'Genre'])"
   ]
  },
  {
   "cell_type": "markdown",
   "metadata": {},
   "source": [
    "Удаляем пропуски в имени и жанре, тк их мало."
   ]
  },
  {
   "cell_type": "code",
   "execution_count": null,
   "metadata": {},
   "outputs": [],
   "source": [
    "data.isna().sum()"
   ]
  },
  {
   "cell_type": "markdown",
   "metadata": {},
   "source": [
    "Остались пропущенные значения в трех столбцах, оставим их без изменений, тк их довольно таки большое количество и заполнение их какими-либо данные может повлиять на результат. Скорее всего пропуски получились из-за того, что данные оценки и возрастной рейтинг не были выставлены по какой-то причине."
   ]
  },
  {
   "cell_type": "code",
   "execution_count": null,
   "metadata": {
    "scrolled": false
   },
   "outputs": [],
   "source": [
    "data['User_Score'].unique()"
   ]
  },
  {
   "cell_type": "code",
   "execution_count": null,
   "metadata": {},
   "outputs": [],
   "source": [
    "data.shape"
   ]
  },
  {
   "cell_type": "code",
   "execution_count": null,
   "metadata": {
    "scrolled": true
   },
   "outputs": [],
   "source": [
    "data[data['User_Score'] == 'tbd'].count()"
   ]
  },
  {
   "cell_type": "code",
   "execution_count": null,
   "metadata": {},
   "outputs": [],
   "source": [
    "data.loc[data['User_Score'] == 'tbd', ['User_Score']] = 'nan'"
   ]
  },
  {
   "cell_type": "code",
   "execution_count": null,
   "metadata": {},
   "outputs": [],
   "source": [
    "data['User_Score'] = data['User_Score'].astype('float')"
   ]
  },
  {
   "cell_type": "markdown",
   "metadata": {},
   "source": [
    "В столбце с оценками пользователей видим элемент tbd, что значит оценка уточняется. Таких элементов слишком много, чтобы их удалить. Поэтому заменим их на nan. После этого сменим тип данных на float."
   ]
  },
  {
   "cell_type": "code",
   "execution_count": null,
   "metadata": {},
   "outputs": [],
   "source": [
    "data['Rating'].unique()"
   ]
  },
  {
   "cell_type": "code",
   "execution_count": null,
   "metadata": {
    "scrolled": false
   },
   "outputs": [],
   "source": [
    "data.info()"
   ]
  },
  {
   "cell_type": "markdown",
   "metadata": {},
   "source": [
    "Таким образом, мы избавились от части пропусков, поменяли типы данных."
   ]
  },
  {
   "cell_type": "code",
   "execution_count": null,
   "metadata": {},
   "outputs": [],
   "source": [
    "data.shape"
   ]
  },
  {
   "cell_type": "code",
   "execution_count": null,
   "metadata": {},
   "outputs": [],
   "source": [
    "data['Sum_sales'] = data[['EU_sales', 'NA_sales', 'JP_sales', 'Other_sales']].sum(axis=1)"
   ]
  },
  {
   "cell_type": "markdown",
   "metadata": {},
   "source": [
    "Добавили столбец с суммарными продажами по всем регионам."
   ]
  },
  {
   "cell_type": "markdown",
   "metadata": {},
   "source": [
    "#### Шаг 3. Исследовательский анализ данных"
   ]
  },
  {
   "cell_type": "code",
   "execution_count": null,
   "metadata": {},
   "outputs": [],
   "source": [
    "ax = data['Year_of_Release'].hist(bins=100)\n",
    "ax.set(title='data', xlabel='Year_of_Release', ylabel='sales');"
   ]
  },
  {
   "cell_type": "markdown",
   "metadata": {},
   "source": [
    "Большинство данных были получены с 2001 до 2016 года. Пик - 2009-2010 года."
   ]
  },
  {
   "cell_type": "code",
   "execution_count": null,
   "metadata": {
    "scrolled": true
   },
   "outputs": [],
   "source": [
    "top_pl = data.groupby('Platform')['Sum_sales'].sum().sort_values(ascending=False).head(10).reset_index()\n",
    "ax = top_pl.plot.bar(x='Platform', y='Sum_sales')\n",
    "ax.set(title='top_pl', xlabel='Platform', ylabel='sales');"
   ]
  },
  {
   "cell_type": "code",
   "execution_count": null,
   "metadata": {
    "scrolled": true
   },
   "outputs": [],
   "source": [
    "for pl in top_pl['Platform']:\n",
    "    plt.figure()\n",
    "    ax = data.loc[data['Platform'] == pl]['Year_of_Release'].hist(bins=100)\n",
    "    ax.set(title=pl, xlabel='Year_of_Release', ylabel='sales')\n",
    "plt.show()"
   ]
  },
  {
   "cell_type": "markdown",
   "metadata": {},
   "source": [
    "Наиболее популярные платформы ps2, x360, ps3, wii, ds. На их примере видно, что \"жизнь\" одной платформы примерно 10 лет. "
   ]
  },
  {
   "cell_type": "code",
   "execution_count": null,
   "metadata": {},
   "outputs": [],
   "source": [
    "data_actual = data[data['Year_of_Release'] > 2013]\n",
    "data_actual.shape"
   ]
  },
  {
   "cell_type": "markdown",
   "metadata": {},
   "source": [
    "За актуальный период возьмем 2014-2016 года. Так как сфера видеоигр развивается довольно таки быстро."
   ]
  },
  {
   "cell_type": "code",
   "execution_count": null,
   "metadata": {},
   "outputs": [],
   "source": [
    "ax = data_actual['Platform'].hist(bins=100, figsize=(20, 10))\n",
    "ax.set(title='data_actual', xlabel='Platform', ylabel='sales');"
   ]
  },
  {
   "cell_type": "code",
   "execution_count": null,
   "metadata": {},
   "outputs": [],
   "source": [
    "for pl in data_actual['Platform'].unique():\n",
    "    plt.figure()\n",
    "    ax = data_actual.loc[data_actual['Platform'] == pl]['Year_of_Release'].hist(bins=6)\n",
    "    ax.set(title=pl, xlabel='Year_of_Release', ylabel='sales');\n",
    "plt.show()"
   ]
  },
  {
   "cell_type": "markdown",
   "metadata": {},
   "source": [
    "В выбранном периоде лидируют ps4 и psv. Продажи ps4, xone, pc, psv растут, значит являются самыми перспективными. Wiiu, ps3, x360, wii падают."
   ]
  },
  {
   "cell_type": "code",
   "execution_count": null,
   "metadata": {
    "scrolled": false
   },
   "outputs": [],
   "source": [
    "for pl in ['ps4', 'xone', 'ps3', 'psv', '3ds']:\n",
    "    a[pl] = pd.DataFrame(data_actual.loc[data_actual['Platform'] == pl]['Sum_sales']).reset_index()['Sum_sales']\n",
    "a.boxplot(column=['ps4', 'xone', 'ps3', 'psv', '3ds'], figsize=(20, 10));"
   ]
  },
  {
   "cell_type": "markdown",
   "metadata": {},
   "source": [
    "На боксплоте видно, что самые высокие продажи у ps4 и xone. У них размах до 1.7, выше много выбросов."
   ]
  },
  {
   "cell_type": "code",
   "execution_count": null,
   "metadata": {
    "scrolled": false
   },
   "outputs": [],
   "source": [
    "ax = data_actual.loc[data_actual['Platform'] == 'xone'].plot.scatter (x = 'Critic_Score', y = 'Sum_sales', figsize=(10, 5))\n",
    "ax.set(title='ps3_actual');\n",
    "data_actual['Critic_Score'].corr(data_actual['Sum_sales'])"
   ]
  },
  {
   "cell_type": "code",
   "execution_count": null,
   "metadata": {},
   "outputs": [],
   "source": [
    "ax = data_actual.loc[data_actual['Platform'] == 'xone'].plot.scatter (x = 'User_Score', y = 'Sum_sales', figsize=(10, 5))\n",
    "ax.set(title='ps3_actual');\n",
    "data_actual['User_Score'].corr(data_actual['Sum_sales'])"
   ]
  },
  {
   "cell_type": "code",
   "execution_count": null,
   "metadata": {},
   "outputs": [],
   "source": [
    "ax = data_actual.loc[data_actual['Platform'] == 'ps4'].plot.scatter (x = 'Critic_Score', y = 'Sum_sales', figsize=(10, 5))\n",
    "ax.set(title='ps4_actual');\n",
    "data_actual['Critic_Score'].corr(data_actual['Sum_sales'])"
   ]
  },
  {
   "cell_type": "code",
   "execution_count": null,
   "metadata": {},
   "outputs": [],
   "source": [
    "ax = data_actual.loc[data_actual['Platform'] == 'ps4'].plot.scatter (x = 'User_Score', y = 'Sum_sales', figsize=(10, 5))\n",
    "ax.set(title='ps4_actual');\n",
    "data_actual['User_Score'].corr(data_actual['Sum_sales'])"
   ]
  },
  {
   "cell_type": "markdown",
   "metadata": {},
   "source": [
    "Корреляция между отзывами критиков и продажами (0.3) выше,чем между отзывами пользователей и продажами (небольшая отрицательная корелляция). Можно сделать вывод, что на других платформах продажи ниже из-за низкий оценок критиков."
   ]
  },
  {
   "cell_type": "code",
   "execution_count": null,
   "metadata": {},
   "outputs": [],
   "source": [
    "genre = data_actual.groupby(['Genre'])['Sum_sales'].median()\n",
    "ax = genre.plot.bar(x = 'Genre', y = genre)\n",
    "ax.set(title='data_actual', xlabel='Genre', ylabel='sales');"
   ]
  },
  {
   "cell_type": "markdown",
   "metadata": {},
   "source": [
    "На гистограмме по жанрам видно, что лидирует shooter с большим отрывом. Самые низкие продажи у adventure и puzzle."
   ]
  },
  {
   "cell_type": "markdown",
   "metadata": {},
   "source": [
    "#### Шаг 4. Портрет пользователя каждого региона"
   ]
  },
  {
   "cell_type": "code",
   "execution_count": null,
   "metadata": {},
   "outputs": [],
   "source": [
    "data_NA_sales = data_actual.groupby('Platform')['NA_sales'].sum().sort_values(ascending=False).head(5)\n",
    "x = data_NA_sales[0]\n",
    "y = data_NA_sales[1]\n",
    "ax = data_NA_sales.plot.bar(x = 'x', y = 'y')\n",
    "ax.set(title='NA_sales', xlabel='Platform', ylabel='sales');"
   ]
  },
  {
   "cell_type": "code",
   "execution_count": null,
   "metadata": {},
   "outputs": [],
   "source": [
    "data_EU_sales = data_actual.groupby('Platform')['EU_sales'].sum().sort_values(ascending=False).head(5)\n",
    "x = data_EU_sales[0]\n",
    "y = data_EU_sales[1]\n",
    "ax = data_EU_sales.plot.bar(x = 'x', y = 'y')\n",
    "ax.set(title='EU_sales', xlabel='Platform', ylabel='sales');"
   ]
  },
  {
   "cell_type": "code",
   "execution_count": null,
   "metadata": {},
   "outputs": [],
   "source": [
    "data_JP_sales = data_actual.groupby('Platform')['JP_sales'].sum().sort_values(ascending=False).head(5)\n",
    "x = data_JP_sales[0]\n",
    "y = data_JP_sales[1]\n",
    "ax = data_JP_sales.plot.bar(x = 'x', y = 'y')\n",
    "ax.set(title='JP_sales', xlabel='Platform', ylabel='sales');"
   ]
  },
  {
   "cell_type": "markdown",
   "metadata": {},
   "source": [
    "В Северной Америке лидирует ps4 и x360, в Европе ps4 лидирует с большим отрывом. В Японии же лидирует 3ds."
   ]
  },
  {
   "cell_type": "code",
   "execution_count": null,
   "metadata": {
    "scrolled": true
   },
   "outputs": [],
   "source": [
    "data_NA_sales = data_actual.groupby('Genre')['NA_sales'].sum().sort_values(ascending=False).head(5)\n",
    "x = data_NA_sales[0]\n",
    "y = data_NA_sales[1]\n",
    "ax = data_NA_sales.plot.bar(x = 'x', y = 'y')\n",
    "ax.set(title='NA_sales', xlabel='Genre', ylabel='sales');"
   ]
  },
  {
   "cell_type": "code",
   "execution_count": null,
   "metadata": {},
   "outputs": [],
   "source": [
    "data_EU_sales = data_actual.groupby('Genre')['EU_sales'].sum().sort_values(ascending=False).head(5)\n",
    "x = data_EU_sales[0]\n",
    "y = data_EU_sales[1]\n",
    "ax = data_EU_sales.plot.bar(x = 'x', y = 'y')\n",
    "ax.set(title='EU_sales', xlabel='Genre', ylabel='sales');"
   ]
  },
  {
   "cell_type": "code",
   "execution_count": null,
   "metadata": {},
   "outputs": [],
   "source": [
    "data_JP_sales = data_actual.groupby('Genre')['JP_sales'].sum().sort_values(ascending=False).head(5)\n",
    "x = data_JP_sales[0]\n",
    "y = data_JP_sales[1]\n",
    "ax = data_JP_sales.plot.bar(x = 'x', y = 'y')\n",
    "ax.set(title='JP_sales', xlabel='Genre', ylabel='sales');"
   ]
  },
  {
   "cell_type": "markdown",
   "metadata": {},
   "source": [
    "Первые два места по жанрам в Северной Америке и Европе совпадают: shooter и action. В японии на первом месте role-playing, а на втором action."
   ]
  },
  {
   "cell_type": "code",
   "execution_count": null,
   "metadata": {},
   "outputs": [],
   "source": [
    "data_NA_sales = data_actual.groupby('Rating')['NA_sales'].sum().sort_values(ascending=False).head(5)\n",
    "x = data_NA_sales[0]\n",
    "y = data_NA_sales[1]\n",
    "ax = data_NA_sales.plot.bar(x = 'x', y = 'y')\n",
    "ax.set(title='NA_sales', xlabel='Rating', ylabel='sales');"
   ]
  },
  {
   "cell_type": "code",
   "execution_count": null,
   "metadata": {},
   "outputs": [],
   "source": [
    "data_EU_sales = data_actual.groupby('Rating')['EU_sales'].sum().sort_values(ascending=False).head(5)\n",
    "x = data_EU_sales[0]\n",
    "y = data_EU_sales[1]\n",
    "ax = data_EU_sales.plot.bar(x = 'x', y = 'y')\n",
    "ax.set(title='EU_sales', xlabel='Rating', ylabel='sales');"
   ]
  },
  {
   "cell_type": "code",
   "execution_count": null,
   "metadata": {
    "scrolled": true
   },
   "outputs": [],
   "source": [
    "data_JP_sales = data_actual.groupby('Rating')['JP_sales'].sum().sort_values(ascending=False).head(5)\n",
    "x = data_JP_sales[0]\n",
    "y = data_JP_sales[1]\n",
    "ax = data_JP_sales.plot.bar(x = 'x', y = 'y')\n",
    "ax.set(title='JP_sales', xlabel='Rating', ylabel='sales');"
   ]
  },
  {
   "cell_type": "markdown",
   "metadata": {},
   "source": [
    "В Северной Америке и Европе влияние рейтинга на продажи схоже. В Японии большие продажи игр с рейтингом Т."
   ]
  },
  {
   "cell_type": "markdown",
   "metadata": {},
   "source": [
    "В целом видно, что продажи в Северной Америке и Европе зависят от схожих факторов, а Япония довольно сильно отличается. Это связано с культурными особенностями стран."
   ]
  },
  {
   "cell_type": "markdown",
   "metadata": {},
   "source": [
    "#### Шаг 5. Проверка гипотез."
   ]
  },
  {
   "cell_type": "code",
   "execution_count": null,
   "metadata": {
    "scrolled": false
   },
   "outputs": [],
   "source": [
    "data_actual.loc[data_actual['Platform'] == 'xone']['User_Score']"
   ]
  },
  {
   "cell_type": "code",
   "execution_count": null,
   "metadata": {},
   "outputs": [],
   "source": [
    "data_actual.loc[data_actual['Platform'] == 'pc', 'User_Score']"
   ]
  },
  {
   "cell_type": "code",
   "execution_count": null,
   "metadata": {},
   "outputs": [],
   "source": [
    "alpha = 0.05\n",
    "results = st.ttest_ind(data_actual.loc[data_actual['Platform'] == 'xone', 'User_Score'].dropna(), \\\n",
    "                       data_actual.loc[data_actual['Platform'] == 'pc', 'User_Score'].dropna())\n",
    "\n",
    "print('p-значение:', results.pvalue)\n",
    "\n",
    "if results.pvalue < alpha:\n",
    "    print('Отвергаем нулевую гипотезу')\n",
    "else:\n",
    "    print('Не получилось отвергнуть нулевую гипотезу')"
   ]
  },
  {
   "cell_type": "markdown",
   "metadata": {},
   "source": [
    "Нулевая гиепотеза - средние пользовательские рейтинги платформ Xbox One и PC одинаковые. Альтернативная - они различаются. Применим двухсторонний ttest_ind, чтобы проверить это. По результатам теста отклонить нулевую гипотезу не получилось. Значит можно предположить, что рейтинги одинаковые."
   ]
  },
  {
   "cell_type": "code",
   "execution_count": null,
   "metadata": {},
   "outputs": [],
   "source": [
    "alpha = 0.05\n",
    "results = st.ttest_ind(data_actual.loc[data_actual['Genre'] == 'action']['User_Score'].dropna(), \\\n",
    "                       data_actual.loc[data_actual['Genre'] == 'sports']['User_Score'].dropna())\n",
    "\n",
    "print('p-значение:', results.pvalue)\n",
    "\n",
    "if results.pvalue < alpha:\n",
    "    print('Отвергаем нулевую гипотезу')\n",
    "else:\n",
    "    print('Не получилось отвергнуть нулевую гипотезу') "
   ]
  },
  {
   "cell_type": "markdown",
   "metadata": {},
   "source": [
    "Нулевая гипотеза - средние пользовательские рейтинги жанров Action и Sports одинаковые.  Альтернативная - они различаются. Применим двухсторонний ttest_ind, чтобы проверить это. По результатам теста отвергаем нулевую гипотезу. Можно предположить, что рейтинги различны."
   ]
  },
  {
   "cell_type": "markdown",
   "metadata": {},
   "source": [
    "#### Шаг 5. Общий вывод."
   ]
  },
  {
   "cell_type": "markdown",
   "metadata": {},
   "source": [
    "    Предобработка данных:\n",
    "    1) Полных дубликатов нет.\n",
    "    2) В столбце год выпуска есть пропущенные значения. Скорее всего они не заполнились из-за технической ошибки. Так как в дальнейшем мы будем делить данные по годам, пропуски лучше удалить, их не так много.\n",
    "    3) Приводим строковые переменные к нижнему регистру, чтобы было удобнее работать.\n",
    "    4) Удаляем пропуски в имени и жанре, тк их мало.\n",
    "    5) Остались пропущенные значения в трех столбцах, оставим их без изменений, тк их довольно таки большое количество и заполнение их какими-либо данные может повлиять на результат. Скорее всего пропуски получились из-за того, что данные оценки и возрастной рейтинг не были выставлены по какой-то причине.\n",
    "    6) В столбце с оценками пользователей видим элемент tbd, что значит оценка уточняется. Таких элементов слишком много, чтобы их удалить. Поэтому заменим их на nan. После этого сменим тип данных на float.\n",
    "    \n",
    "    Исследовательский анализ данных:\n",
    "    1) Большинство данных были получены с 2001 до 2016 года. Пик - 2009-2010 года.\n",
    "    2) Наиболее популярные платформы ps2, ds, ps3, wii, x360. На их примере видно, что \"жизнь\" одной платформы примерно 10 лет.\n",
    "    3) За актуальный период возьмем 2014-2016 года. Так как сфера видеоигр развивается довольно таки быстро.\n",
    "    4) В выбранном периоде лидируют ps4 и psv. Продажи ps4, xone, pc, psv растут, значит являются самыми перспективными. Wiiu, ps3, x360, wii падают.\n",
    "    5) На боксплоте видно, что самые высокие продажи у ps4 и xone. У них размах до 1.7, выше много выбросов.\n",
    "    6) Корреляция между отзывами критиков и продажами (0.3) выше,чем между отзывами пользователей и продажами (низкая отрицательная корелляция). Можно сделать вывод, что на других платформах продажи ниже из-за низкий оценок критиков.\n",
    "    7) На гистограмме по жанрам видно, что лидирует shooter с большим отрывом. Самые низкие продажи у adventure и puzzle.\n",
    "    8) В Северной Америке лидирует ps4 и x360, в Европе ps4 лидирует с большим отрывом. В Японии же лидирует 3ds.\n",
    "    9) Первые два места по жанрам в Северной Америке и Европе совпадают: shooter и action. В японии на первом месте role-playing, а на втором action.\n",
    "    10) В Северной Америке и Европе влияние рейтинга на продажи схоже. В Японии большие продажи игр с рейтингом Т.\n",
    "    11) В целом видно, что продажи в Северной Америке и Европе зависят от схожих факторов, а Япония довольно сильно отличается. Это связано с культурными особенностями стран.\n",
    "    12) По результатам статистического теста можно предположить, что средние рейтинги платформ Xbox One и PC одинаковые. \n",
    "    13) По результатам статистического теста можно предположить, что средние пользовательские рейтинги жанров Action и Sports различны. "
   ]
  }
 ],
 "metadata": {
  "ExecuteTimeLog": [
   {
    "duration": 349,
    "start_time": "2023-07-24T10:50:31.284Z"
   },
   {
    "duration": 857,
    "start_time": "2023-07-24T10:52:14.122Z"
   },
   {
    "duration": 87,
    "start_time": "2023-07-24T10:52:43.350Z"
   },
   {
    "duration": 21,
    "start_time": "2023-07-24T10:52:55.397Z"
   },
   {
    "duration": 27,
    "start_time": "2023-07-24T10:53:06.500Z"
   },
   {
    "duration": 12,
    "start_time": "2023-07-24T10:53:17.341Z"
   },
   {
    "duration": 683,
    "start_time": "2023-07-24T10:53:58.195Z"
   },
   {
    "duration": 793,
    "start_time": "2023-07-24T10:54:06.907Z"
   },
   {
    "duration": 801,
    "start_time": "2023-07-24T10:54:16.108Z"
   },
   {
    "duration": 18,
    "start_time": "2023-07-24T11:03:37.319Z"
   },
   {
    "duration": 9,
    "start_time": "2023-07-24T11:04:03.710Z"
   },
   {
    "duration": 4,
    "start_time": "2023-07-24T11:05:36.896Z"
   },
   {
    "duration": 154,
    "start_time": "2023-07-24T11:06:35.321Z"
   },
   {
    "duration": 7,
    "start_time": "2023-07-24T11:08:28.711Z"
   },
   {
    "duration": 12,
    "start_time": "2023-07-24T11:08:34.884Z"
   },
   {
    "duration": 4,
    "start_time": "2023-07-24T11:08:55.902Z"
   },
   {
    "duration": 6,
    "start_time": "2023-07-24T11:09:04.709Z"
   },
   {
    "duration": 11,
    "start_time": "2023-07-24T11:09:14.949Z"
   },
   {
    "duration": 5,
    "start_time": "2023-07-24T11:09:21.281Z"
   },
   {
    "duration": 54,
    "start_time": "2023-07-24T11:09:21.311Z"
   },
   {
    "duration": 13,
    "start_time": "2023-07-24T11:09:21.367Z"
   },
   {
    "duration": 55,
    "start_time": "2023-07-24T11:09:21.381Z"
   },
   {
    "duration": 21,
    "start_time": "2023-07-24T11:09:21.438Z"
   },
   {
    "duration": 957,
    "start_time": "2023-07-24T11:09:21.461Z"
   },
   {
    "duration": 19,
    "start_time": "2023-07-24T11:09:22.420Z"
   },
   {
    "duration": 44,
    "start_time": "2023-07-24T11:09:22.441Z"
   },
   {
    "duration": 17,
    "start_time": "2023-07-24T11:09:22.487Z"
   },
   {
    "duration": 25,
    "start_time": "2023-07-24T11:09:22.506Z"
   },
   {
    "duration": 12,
    "start_time": "2023-07-24T11:09:29.010Z"
   },
   {
    "duration": 8,
    "start_time": "2023-07-24T11:10:14.402Z"
   },
   {
    "duration": 14,
    "start_time": "2023-07-24T11:10:35.754Z"
   },
   {
    "duration": 24,
    "start_time": "2023-07-24T11:10:43.829Z"
   },
   {
    "duration": 12,
    "start_time": "2023-07-24T11:10:48.486Z"
   },
   {
    "duration": 4,
    "start_time": "2023-07-24T11:11:32.084Z"
   },
   {
    "duration": 5,
    "start_time": "2023-07-24T11:13:19.623Z"
   },
   {
    "duration": 7,
    "start_time": "2023-07-24T11:13:35.467Z"
   },
   {
    "duration": 18,
    "start_time": "2023-07-24T11:13:40.559Z"
   },
   {
    "duration": 4,
    "start_time": "2023-07-24T11:14:37.375Z"
   },
   {
    "duration": 12,
    "start_time": "2023-07-24T11:14:43.565Z"
   },
   {
    "duration": 6,
    "start_time": "2023-07-24T11:15:04.066Z"
   },
   {
    "duration": 5,
    "start_time": "2023-07-24T11:15:04.821Z"
   },
   {
    "duration": 6,
    "start_time": "2023-07-24T11:15:06.241Z"
   },
   {
    "duration": 119,
    "start_time": "2023-07-24T11:15:39.472Z"
   },
   {
    "duration": 208,
    "start_time": "2023-07-24T11:15:55.525Z"
   },
   {
    "duration": 9,
    "start_time": "2023-07-24T11:20:06.235Z"
   },
   {
    "duration": 2145,
    "start_time": "2023-07-24T11:20:23.920Z"
   },
   {
    "duration": 10,
    "start_time": "2023-07-24T11:20:45.192Z"
   },
   {
    "duration": 9,
    "start_time": "2023-07-24T11:21:34.985Z"
   },
   {
    "duration": 11,
    "start_time": "2023-07-24T11:21:51.804Z"
   },
   {
    "duration": 6,
    "start_time": "2023-07-24T11:54:40.624Z"
   },
   {
    "duration": 9,
    "start_time": "2023-07-24T11:55:44.959Z"
   },
   {
    "duration": 12,
    "start_time": "2023-07-24T12:00:00.617Z"
   },
   {
    "duration": 4,
    "start_time": "2023-07-24T12:00:27.685Z"
   },
   {
    "duration": 5,
    "start_time": "2023-07-24T12:01:08.309Z"
   },
   {
    "duration": 7,
    "start_time": "2023-07-24T12:01:29.939Z"
   },
   {
    "duration": 4,
    "start_time": "2023-07-24T12:02:36.144Z"
   },
   {
    "duration": 12,
    "start_time": "2023-07-24T12:03:28.967Z"
   },
   {
    "duration": 4,
    "start_time": "2023-07-24T12:03:59.151Z"
   },
   {
    "duration": 208,
    "start_time": "2023-07-24T12:04:02.037Z"
   },
   {
    "duration": 10,
    "start_time": "2023-07-24T12:04:03.385Z"
   },
   {
    "duration": 106,
    "start_time": "2023-07-24T12:04:03.749Z"
   },
   {
    "duration": 10,
    "start_time": "2023-07-24T12:04:04.086Z"
   },
   {
    "duration": 7,
    "start_time": "2023-07-24T12:04:04.918Z"
   },
   {
    "duration": 7,
    "start_time": "2023-07-24T12:04:05.855Z"
   },
   {
    "duration": 4,
    "start_time": "2023-07-24T12:04:06.782Z"
   },
   {
    "duration": 5,
    "start_time": "2023-07-24T12:04:07.262Z"
   },
   {
    "duration": 6,
    "start_time": "2023-07-24T12:04:07.733Z"
   },
   {
    "duration": 4,
    "start_time": "2023-07-24T12:04:08.494Z"
   },
   {
    "duration": 12,
    "start_time": "2023-07-24T12:04:08.950Z"
   },
   {
    "duration": 5,
    "start_time": "2023-07-24T12:04:21.551Z"
   },
   {
    "duration": 4,
    "start_time": "2023-07-24T12:04:24.228Z"
   },
   {
    "duration": 49,
    "start_time": "2023-07-24T12:04:24.234Z"
   },
   {
    "duration": 5,
    "start_time": "2023-07-24T12:05:22.757Z"
   },
   {
    "duration": 7,
    "start_time": "2023-07-24T12:05:45.089Z"
   },
   {
    "duration": 8,
    "start_time": "2023-07-24T12:05:45.511Z"
   },
   {
    "duration": 7,
    "start_time": "2023-07-24T12:05:51.943Z"
   },
   {
    "duration": 8,
    "start_time": "2023-07-24T12:05:54.238Z"
   },
   {
    "duration": 7,
    "start_time": "2023-07-24T12:05:54.785Z"
   },
   {
    "duration": 5,
    "start_time": "2023-07-24T12:05:55.282Z"
   },
   {
    "duration": 6,
    "start_time": "2023-07-24T12:05:55.517Z"
   },
   {
    "duration": 3,
    "start_time": "2023-07-24T12:05:55.735Z"
   },
   {
    "duration": 5,
    "start_time": "2023-07-24T12:05:56.184Z"
   },
   {
    "duration": 14,
    "start_time": "2023-07-24T12:05:56.423Z"
   },
   {
    "duration": 7,
    "start_time": "2023-07-24T12:05:56.648Z"
   },
   {
    "duration": 10,
    "start_time": "2023-07-24T12:06:14.727Z"
   },
   {
    "duration": 113,
    "start_time": "2023-07-24T12:06:25.682Z"
   },
   {
    "duration": 11,
    "start_time": "2023-07-24T12:11:02.814Z"
   },
   {
    "duration": 5,
    "start_time": "2023-07-24T12:11:41.893Z"
   },
   {
    "duration": 4,
    "start_time": "2023-07-24T12:11:47.004Z"
   },
   {
    "duration": 70,
    "start_time": "2023-07-24T12:11:47.010Z"
   },
   {
    "duration": 14,
    "start_time": "2023-07-24T12:11:47.082Z"
   },
   {
    "duration": 36,
    "start_time": "2023-07-24T12:11:47.098Z"
   },
   {
    "duration": 11,
    "start_time": "2023-07-24T12:11:47.135Z"
   },
   {
    "duration": 877,
    "start_time": "2023-07-24T12:11:47.147Z"
   },
   {
    "duration": 16,
    "start_time": "2023-07-24T12:11:48.026Z"
   },
   {
    "duration": 14,
    "start_time": "2023-07-24T12:11:48.043Z"
   },
   {
    "duration": 21,
    "start_time": "2023-07-24T12:11:48.059Z"
   },
   {
    "duration": 17,
    "start_time": "2023-07-24T12:11:48.082Z"
   },
   {
    "duration": 9,
    "start_time": "2023-07-24T12:11:48.100Z"
   },
   {
    "duration": 7,
    "start_time": "2023-07-24T12:11:48.111Z"
   },
   {
    "duration": 235,
    "start_time": "2023-07-24T12:11:48.120Z"
   },
   {
    "duration": 9,
    "start_time": "2023-07-24T12:11:48.356Z"
   },
   {
    "duration": 19,
    "start_time": "2023-07-24T12:11:48.367Z"
   },
   {
    "duration": 24,
    "start_time": "2023-07-24T12:11:48.388Z"
   },
   {
    "duration": 15,
    "start_time": "2023-07-24T12:11:48.413Z"
   },
   {
    "duration": 26,
    "start_time": "2023-07-24T12:11:48.430Z"
   },
   {
    "duration": 103,
    "start_time": "2023-07-24T12:11:48.458Z"
   },
   {
    "duration": 10,
    "start_time": "2023-07-24T12:11:54.768Z"
   },
   {
    "duration": 4,
    "start_time": "2023-07-24T12:12:56.578Z"
   },
   {
    "duration": 3,
    "start_time": "2023-07-24T12:15:41.047Z"
   },
   {
    "duration": 60,
    "start_time": "2023-07-24T12:15:41.054Z"
   },
   {
    "duration": 8,
    "start_time": "2023-07-24T12:15:50.055Z"
   },
   {
    "duration": 3,
    "start_time": "2023-07-24T12:16:11.389Z"
   },
   {
    "duration": 68,
    "start_time": "2023-07-24T12:16:11.394Z"
   },
   {
    "duration": 8,
    "start_time": "2023-07-24T12:16:13.420Z"
   },
   {
    "duration": 3,
    "start_time": "2023-07-24T12:16:25.029Z"
   },
   {
    "duration": 14,
    "start_time": "2023-07-24T12:16:30.688Z"
   },
   {
    "duration": 25,
    "start_time": "2023-07-24T12:16:30.965Z"
   },
   {
    "duration": 12,
    "start_time": "2023-07-24T12:16:31.207Z"
   },
   {
    "duration": 1023,
    "start_time": "2023-07-24T12:16:31.437Z"
   },
   {
    "duration": 19,
    "start_time": "2023-07-24T12:16:32.461Z"
   },
   {
    "duration": 8,
    "start_time": "2023-07-24T12:16:32.644Z"
   },
   {
    "duration": 4,
    "start_time": "2023-07-24T12:16:32.925Z"
   },
   {
    "duration": 6,
    "start_time": "2023-07-24T12:16:33.267Z"
   },
   {
    "duration": 5,
    "start_time": "2023-07-24T12:16:33.572Z"
   },
   {
    "duration": 3,
    "start_time": "2023-07-24T12:16:33.860Z"
   },
   {
    "duration": 205,
    "start_time": "2023-07-24T12:16:34.204Z"
   },
   {
    "duration": 9,
    "start_time": "2023-07-24T12:16:34.907Z"
   },
   {
    "duration": 9,
    "start_time": "2023-07-24T12:16:35.197Z"
   },
   {
    "duration": 7,
    "start_time": "2023-07-24T12:16:35.479Z"
   },
   {
    "duration": 8,
    "start_time": "2023-07-24T12:16:36.132Z"
   },
   {
    "duration": 10,
    "start_time": "2023-07-24T12:16:38.756Z"
   },
   {
    "duration": 6,
    "start_time": "2023-07-24T12:16:41.244Z"
   },
   {
    "duration": 3,
    "start_time": "2023-07-24T12:16:41.828Z"
   },
   {
    "duration": 9,
    "start_time": "2023-07-24T12:16:42.765Z"
   },
   {
    "duration": 6,
    "start_time": "2023-07-24T12:16:44.004Z"
   },
   {
    "duration": 5,
    "start_time": "2023-07-24T12:16:46.436Z"
   },
   {
    "duration": 5,
    "start_time": "2023-07-24T12:16:48.259Z"
   },
   {
    "duration": 12,
    "start_time": "2023-07-24T12:16:48.956Z"
   },
   {
    "duration": 4,
    "start_time": "2023-07-24T12:17:03.996Z"
   },
   {
    "duration": 8,
    "start_time": "2023-07-24T12:31:45.235Z"
   },
   {
    "duration": 10,
    "start_time": "2023-07-24T12:31:55.175Z"
   },
   {
    "duration": 12,
    "start_time": "2023-07-24T12:31:58.847Z"
   },
   {
    "duration": 4,
    "start_time": "2023-07-24T12:32:25.103Z"
   },
   {
    "duration": 19,
    "start_time": "2023-07-24T12:32:30.311Z"
   },
   {
    "duration": 3,
    "start_time": "2023-07-24T12:33:24.641Z"
   },
   {
    "duration": 65,
    "start_time": "2023-07-24T12:33:24.646Z"
   },
   {
    "duration": 3,
    "start_time": "2023-07-24T12:33:24.713Z"
   },
   {
    "duration": 16,
    "start_time": "2023-07-24T12:33:24.718Z"
   },
   {
    "duration": 33,
    "start_time": "2023-07-24T12:33:24.736Z"
   },
   {
    "duration": 10,
    "start_time": "2023-07-24T12:33:24.771Z"
   },
   {
    "duration": 836,
    "start_time": "2023-07-24T12:33:24.783Z"
   },
   {
    "duration": 21,
    "start_time": "2023-07-24T12:33:25.620Z"
   },
   {
    "duration": 14,
    "start_time": "2023-07-24T12:33:25.644Z"
   },
   {
    "duration": 12,
    "start_time": "2023-07-24T12:33:25.660Z"
   },
   {
    "duration": 21,
    "start_time": "2023-07-24T12:33:25.673Z"
   },
   {
    "duration": 6,
    "start_time": "2023-07-24T12:33:25.696Z"
   },
   {
    "duration": 17,
    "start_time": "2023-07-24T12:33:25.704Z"
   },
   {
    "duration": 214,
    "start_time": "2023-07-24T12:33:25.722Z"
   },
   {
    "duration": 8,
    "start_time": "2023-07-24T12:33:25.938Z"
   },
   {
    "duration": 10,
    "start_time": "2023-07-24T12:33:25.948Z"
   },
   {
    "duration": 9,
    "start_time": "2023-07-24T12:33:25.960Z"
   },
   {
    "duration": 19,
    "start_time": "2023-07-24T12:33:25.970Z"
   },
   {
    "duration": 16,
    "start_time": "2023-07-24T12:33:25.991Z"
   },
   {
    "duration": 17,
    "start_time": "2023-07-24T12:33:26.008Z"
   },
   {
    "duration": 25,
    "start_time": "2023-07-24T12:33:26.027Z"
   },
   {
    "duration": 17,
    "start_time": "2023-07-24T12:33:26.054Z"
   },
   {
    "duration": 27,
    "start_time": "2023-07-24T12:33:26.073Z"
   },
   {
    "duration": 17,
    "start_time": "2023-07-24T12:33:26.103Z"
   },
   {
    "duration": 12,
    "start_time": "2023-07-24T12:33:26.122Z"
   },
   {
    "duration": 24,
    "start_time": "2023-07-24T12:33:31.621Z"
   },
   {
    "duration": 23,
    "start_time": "2023-07-24T12:35:36.539Z"
   },
   {
    "duration": 22,
    "start_time": "2023-07-24T12:35:51.947Z"
   },
   {
    "duration": 15,
    "start_time": "2023-07-24T12:36:17.931Z"
   },
   {
    "duration": 15,
    "start_time": "2023-07-24T12:36:46.112Z"
   },
   {
    "duration": 16,
    "start_time": "2023-07-24T12:37:01.042Z"
   },
   {
    "duration": 14,
    "start_time": "2023-07-24T12:37:12.224Z"
   },
   {
    "duration": 3,
    "start_time": "2023-07-24T12:37:16.196Z"
   },
   {
    "duration": 47,
    "start_time": "2023-07-24T12:37:16.206Z"
   },
   {
    "duration": 4,
    "start_time": "2023-07-24T12:37:16.255Z"
   },
   {
    "duration": 19,
    "start_time": "2023-07-24T12:37:16.260Z"
   },
   {
    "duration": 27,
    "start_time": "2023-07-24T12:37:16.280Z"
   },
   {
    "duration": 13,
    "start_time": "2023-07-24T12:37:19.999Z"
   },
   {
    "duration": 956,
    "start_time": "2023-07-24T12:37:21.691Z"
   },
   {
    "duration": 16,
    "start_time": "2023-07-24T12:37:27.032Z"
   },
   {
    "duration": 16,
    "start_time": "2023-07-24T12:37:45.375Z"
   },
   {
    "duration": 14,
    "start_time": "2023-07-24T12:38:00.743Z"
   },
   {
    "duration": 4,
    "start_time": "2023-07-24T12:38:05.812Z"
   },
   {
    "duration": 6,
    "start_time": "2023-07-24T12:38:06.686Z"
   },
   {
    "duration": 12,
    "start_time": "2023-07-24T12:38:13.886Z"
   },
   {
    "duration": 4,
    "start_time": "2023-07-24T12:38:18.951Z"
   },
   {
    "duration": 3,
    "start_time": "2023-07-24T12:38:19.478Z"
   },
   {
    "duration": 206,
    "start_time": "2023-07-24T12:38:20.030Z"
   },
   {
    "duration": 8,
    "start_time": "2023-07-24T12:38:22.565Z"
   },
   {
    "duration": 7,
    "start_time": "2023-07-24T12:38:27.317Z"
   },
   {
    "duration": 8,
    "start_time": "2023-07-24T12:38:27.718Z"
   },
   {
    "duration": 7,
    "start_time": "2023-07-24T12:38:28.821Z"
   },
   {
    "duration": 10,
    "start_time": "2023-07-24T12:38:29.774Z"
   },
   {
    "duration": 5,
    "start_time": "2023-07-24T12:38:30.853Z"
   },
   {
    "duration": 3,
    "start_time": "2023-07-24T12:38:31.325Z"
   },
   {
    "duration": 9,
    "start_time": "2023-07-24T12:38:31.849Z"
   },
   {
    "duration": 14,
    "start_time": "2023-07-24T12:38:32.312Z"
   },
   {
    "duration": 6,
    "start_time": "2023-07-24T12:38:32.828Z"
   },
   {
    "duration": 4,
    "start_time": "2023-07-24T12:38:33.677Z"
   },
   {
    "duration": 15,
    "start_time": "2023-07-24T12:38:34.782Z"
   },
   {
    "duration": 3,
    "start_time": "2023-07-24T12:38:51.450Z"
   },
   {
    "duration": 67,
    "start_time": "2023-07-24T12:38:51.456Z"
   },
   {
    "duration": 4,
    "start_time": "2023-07-24T12:38:51.525Z"
   },
   {
    "duration": 42,
    "start_time": "2023-07-24T12:38:51.531Z"
   },
   {
    "duration": 47,
    "start_time": "2023-07-24T12:38:51.575Z"
   },
   {
    "duration": 12,
    "start_time": "2023-07-24T12:38:51.624Z"
   },
   {
    "duration": 897,
    "start_time": "2023-07-24T12:38:51.637Z"
   },
   {
    "duration": 16,
    "start_time": "2023-07-24T12:38:52.535Z"
   },
   {
    "duration": 35,
    "start_time": "2023-07-24T12:38:52.553Z"
   },
   {
    "duration": 35,
    "start_time": "2023-07-24T12:38:52.589Z"
   },
   {
    "duration": 25,
    "start_time": "2023-07-24T12:38:52.627Z"
   },
   {
    "duration": 22,
    "start_time": "2023-07-24T12:38:52.653Z"
   },
   {
    "duration": 79,
    "start_time": "2023-07-24T12:38:52.677Z"
   },
   {
    "duration": 221,
    "start_time": "2023-07-24T12:38:52.758Z"
   },
   {
    "duration": 8,
    "start_time": "2023-07-24T12:38:52.980Z"
   },
   {
    "duration": 20,
    "start_time": "2023-07-24T12:38:52.989Z"
   },
   {
    "duration": 25,
    "start_time": "2023-07-24T12:38:53.010Z"
   },
   {
    "duration": 58,
    "start_time": "2023-07-24T12:38:53.037Z"
   },
   {
    "duration": 41,
    "start_time": "2023-07-24T12:38:53.096Z"
   },
   {
    "duration": 18,
    "start_time": "2023-07-24T12:38:53.138Z"
   },
   {
    "duration": 34,
    "start_time": "2023-07-24T12:38:53.157Z"
   },
   {
    "duration": 9,
    "start_time": "2023-07-24T12:38:59.782Z"
   },
   {
    "duration": 13,
    "start_time": "2023-07-24T12:39:06.429Z"
   },
   {
    "duration": 15,
    "start_time": "2023-07-24T12:39:17.179Z"
   },
   {
    "duration": 24,
    "start_time": "2023-07-24T12:39:22.125Z"
   },
   {
    "duration": 3,
    "start_time": "2023-07-24T12:40:01.465Z"
   },
   {
    "duration": 98,
    "start_time": "2023-07-24T12:40:01.482Z"
   },
   {
    "duration": 50,
    "start_time": "2023-07-24T12:40:01.582Z"
   },
   {
    "duration": 197,
    "start_time": "2023-07-24T12:40:01.634Z"
   },
   {
    "duration": 163,
    "start_time": "2023-07-24T12:40:01.833Z"
   },
   {
    "duration": 118,
    "start_time": "2023-07-24T12:40:01.999Z"
   },
   {
    "duration": 1259,
    "start_time": "2023-07-24T12:40:02.119Z"
   },
   {
    "duration": 17,
    "start_time": "2023-07-24T12:40:03.380Z"
   },
   {
    "duration": 28,
    "start_time": "2023-07-24T12:40:03.398Z"
   },
   {
    "duration": 25,
    "start_time": "2023-07-24T12:40:03.427Z"
   },
   {
    "duration": 13,
    "start_time": "2023-07-24T12:40:03.453Z"
   },
   {
    "duration": 49,
    "start_time": "2023-07-24T12:40:03.468Z"
   },
   {
    "duration": 18,
    "start_time": "2023-07-24T12:40:03.519Z"
   },
   {
    "duration": 363,
    "start_time": "2023-07-24T12:40:03.539Z"
   },
   {
    "duration": 106,
    "start_time": "2023-07-24T12:40:03.905Z"
   },
   {
    "duration": 108,
    "start_time": "2023-07-24T12:40:04.013Z"
   },
   {
    "duration": 61,
    "start_time": "2023-07-24T12:40:04.123Z"
   },
   {
    "duration": 24,
    "start_time": "2023-07-24T12:40:04.186Z"
   },
   {
    "duration": 10,
    "start_time": "2023-07-24T12:40:04.212Z"
   },
   {
    "duration": 21,
    "start_time": "2023-07-24T12:40:04.224Z"
   },
   {
    "duration": 29,
    "start_time": "2023-07-24T12:40:04.247Z"
   },
   {
    "duration": 23,
    "start_time": "2023-07-24T12:40:04.278Z"
   },
   {
    "duration": 6,
    "start_time": "2023-07-24T12:40:10.852Z"
   },
   {
    "duration": 7,
    "start_time": "2023-07-24T12:40:36.482Z"
   },
   {
    "duration": 12,
    "start_time": "2023-07-24T12:40:49.480Z"
   },
   {
    "duration": 6,
    "start_time": "2023-07-24T12:42:20.343Z"
   },
   {
    "duration": 5,
    "start_time": "2023-07-24T12:42:26.210Z"
   },
   {
    "duration": 5,
    "start_time": "2023-07-24T12:42:27.448Z"
   },
   {
    "duration": 13,
    "start_time": "2023-07-24T12:42:28.434Z"
   },
   {
    "duration": 4,
    "start_time": "2023-07-24T12:42:32.056Z"
   },
   {
    "duration": 18,
    "start_time": "2023-07-24T12:46:14.783Z"
   },
   {
    "duration": 21,
    "start_time": "2023-07-24T12:46:46.028Z"
   },
   {
    "duration": 19,
    "start_time": "2023-07-24T12:47:11.988Z"
   },
   {
    "duration": 18,
    "start_time": "2023-07-24T12:47:19.748Z"
   },
   {
    "duration": 5,
    "start_time": "2023-07-24T12:50:01.552Z"
   },
   {
    "duration": 23,
    "start_time": "2023-07-24T12:50:02.835Z"
   },
   {
    "duration": 3,
    "start_time": "2023-07-24T12:50:23.811Z"
   },
   {
    "duration": 49,
    "start_time": "2023-07-24T12:50:23.815Z"
   },
   {
    "duration": 3,
    "start_time": "2023-07-24T12:50:23.865Z"
   },
   {
    "duration": 25,
    "start_time": "2023-07-24T12:50:23.870Z"
   },
   {
    "duration": 31,
    "start_time": "2023-07-24T12:50:23.897Z"
   },
   {
    "duration": 11,
    "start_time": "2023-07-24T12:50:23.930Z"
   },
   {
    "duration": 778,
    "start_time": "2023-07-24T12:50:23.942Z"
   },
   {
    "duration": 16,
    "start_time": "2023-07-24T12:50:24.722Z"
   },
   {
    "duration": 8,
    "start_time": "2023-07-24T12:50:24.739Z"
   },
   {
    "duration": 5,
    "start_time": "2023-07-24T12:50:24.748Z"
   },
   {
    "duration": 8,
    "start_time": "2023-07-24T12:50:24.755Z"
   },
   {
    "duration": 4,
    "start_time": "2023-07-24T12:50:24.764Z"
   },
   {
    "duration": 5,
    "start_time": "2023-07-24T12:50:24.769Z"
   },
   {
    "duration": 228,
    "start_time": "2023-07-24T12:50:24.776Z"
   },
   {
    "duration": 8,
    "start_time": "2023-07-24T12:50:25.006Z"
   },
   {
    "duration": 7,
    "start_time": "2023-07-24T12:50:25.020Z"
   },
   {
    "duration": 32,
    "start_time": "2023-07-24T12:50:25.028Z"
   },
   {
    "duration": 69,
    "start_time": "2023-07-24T12:50:25.061Z"
   },
   {
    "duration": 79,
    "start_time": "2023-07-24T12:50:25.132Z"
   },
   {
    "duration": 31,
    "start_time": "2023-07-24T12:50:25.213Z"
   },
   {
    "duration": 20,
    "start_time": "2023-07-24T12:50:25.247Z"
   },
   {
    "duration": 27,
    "start_time": "2023-07-24T12:50:25.268Z"
   },
   {
    "duration": 23,
    "start_time": "2023-07-24T12:50:25.296Z"
   },
   {
    "duration": 18,
    "start_time": "2023-07-24T12:50:25.321Z"
   },
   {
    "duration": 19,
    "start_time": "2023-07-24T12:50:25.341Z"
   },
   {
    "duration": 23,
    "start_time": "2023-07-24T12:50:25.361Z"
   },
   {
    "duration": 17,
    "start_time": "2023-07-24T12:50:25.387Z"
   },
   {
    "duration": 4,
    "start_time": "2023-07-24T12:50:34.084Z"
   },
   {
    "duration": 314,
    "start_time": "2023-07-24T12:53:16.261Z"
   },
   {
    "duration": 205,
    "start_time": "2023-07-24T12:53:18.836Z"
   },
   {
    "duration": 205,
    "start_time": "2023-07-24T12:54:33.229Z"
   },
   {
    "duration": 211,
    "start_time": "2023-07-24T12:54:41.853Z"
   },
   {
    "duration": 283,
    "start_time": "2023-07-24T18:07:19.586Z"
   },
   {
    "duration": 413,
    "start_time": "2023-07-24T18:08:05.249Z"
   },
   {
    "duration": 9,
    "start_time": "2023-07-24T18:08:46.516Z"
   },
   {
    "duration": 7,
    "start_time": "2023-07-24T18:08:50.321Z"
   },
   {
    "duration": 6,
    "start_time": "2023-07-24T18:09:12.279Z"
   },
   {
    "duration": 274,
    "start_time": "2023-07-24T18:11:51.679Z"
   },
   {
    "duration": 189,
    "start_time": "2023-07-24T18:12:11.367Z"
   },
   {
    "duration": 184,
    "start_time": "2023-07-24T18:12:32.949Z"
   },
   {
    "duration": 196,
    "start_time": "2023-07-24T18:13:06.568Z"
   },
   {
    "duration": 210,
    "start_time": "2023-07-24T18:14:29.322Z"
   },
   {
    "duration": 303,
    "start_time": "2023-07-24T18:14:39.517Z"
   },
   {
    "duration": 174,
    "start_time": "2023-07-24T18:14:53.037Z"
   },
   {
    "duration": 185,
    "start_time": "2023-07-24T18:14:59.893Z"
   },
   {
    "duration": 186,
    "start_time": "2023-07-24T18:15:07.595Z"
   },
   {
    "duration": 244,
    "start_time": "2023-07-24T18:15:25.295Z"
   },
   {
    "duration": 4,
    "start_time": "2023-07-24T18:15:37.729Z"
   },
   {
    "duration": 192,
    "start_time": "2023-07-24T18:15:43.274Z"
   },
   {
    "duration": 321,
    "start_time": "2023-07-24T18:15:57.459Z"
   },
   {
    "duration": 221,
    "start_time": "2023-07-24T18:16:28.068Z"
   },
   {
    "duration": 193,
    "start_time": "2023-07-24T18:19:18.611Z"
   },
   {
    "duration": 226,
    "start_time": "2023-07-24T18:22:31.140Z"
   },
   {
    "duration": 5,
    "start_time": "2023-07-24T18:25:16.884Z"
   },
   {
    "duration": 1694,
    "start_time": "2023-07-24T19:32:24.973Z"
   },
   {
    "duration": 282,
    "start_time": "2023-07-24T19:32:43.656Z"
   },
   {
    "duration": 380,
    "start_time": "2023-07-24T19:34:12.787Z"
   },
   {
    "duration": 196,
    "start_time": "2023-07-24T19:34:46.072Z"
   },
   {
    "duration": 211,
    "start_time": "2023-07-24T19:35:13.451Z"
   },
   {
    "duration": 287,
    "start_time": "2023-07-24T19:37:09.395Z"
   },
   {
    "duration": 205,
    "start_time": "2023-07-24T19:38:30.964Z"
   },
   {
    "duration": 201,
    "start_time": "2023-07-24T19:38:57.168Z"
   },
   {
    "duration": 361,
    "start_time": "2023-07-24T19:39:55.553Z"
   },
   {
    "duration": 223,
    "start_time": "2023-07-24T19:40:24.213Z"
   },
   {
    "duration": 261,
    "start_time": "2023-07-24T19:40:55.242Z"
   },
   {
    "duration": 201,
    "start_time": "2023-07-24T19:41:16.380Z"
   },
   {
    "duration": 216,
    "start_time": "2023-07-24T19:41:49.264Z"
   },
   {
    "duration": 204,
    "start_time": "2023-07-24T19:42:09.807Z"
   },
   {
    "duration": 317,
    "start_time": "2023-07-24T19:42:21.738Z"
   },
   {
    "duration": 275,
    "start_time": "2023-07-24T19:42:46.993Z"
   },
   {
    "duration": 107,
    "start_time": "2023-07-24T19:51:27.053Z"
   },
   {
    "duration": 123,
    "start_time": "2023-07-24T19:52:58.937Z"
   },
   {
    "duration": 102,
    "start_time": "2023-07-24T19:53:30.465Z"
   },
   {
    "duration": 108,
    "start_time": "2023-07-24T19:53:39.632Z"
   },
   {
    "duration": 98,
    "start_time": "2023-07-24T19:53:50.549Z"
   },
   {
    "duration": 118,
    "start_time": "2023-07-24T19:54:42.989Z"
   },
   {
    "duration": 114,
    "start_time": "2023-07-24T19:55:00.258Z"
   },
   {
    "duration": 109,
    "start_time": "2023-07-24T19:57:48.750Z"
   },
   {
    "duration": 69,
    "start_time": "2023-07-25T12:30:22.201Z"
   },
   {
    "duration": 1424,
    "start_time": "2023-07-25T12:30:26.789Z"
   },
   {
    "duration": 93,
    "start_time": "2023-07-25T12:30:28.216Z"
   },
   {
    "duration": 6,
    "start_time": "2023-07-25T12:30:28.311Z"
   },
   {
    "duration": 49,
    "start_time": "2023-07-25T12:30:28.319Z"
   },
   {
    "duration": 42,
    "start_time": "2023-07-25T12:30:28.370Z"
   },
   {
    "duration": 17,
    "start_time": "2023-07-25T12:30:28.414Z"
   },
   {
    "duration": 1194,
    "start_time": "2023-07-25T12:30:28.433Z"
   },
   {
    "duration": 27,
    "start_time": "2023-07-25T12:30:29.629Z"
   },
   {
    "duration": 20,
    "start_time": "2023-07-25T12:30:29.658Z"
   },
   {
    "duration": 11,
    "start_time": "2023-07-25T12:30:29.680Z"
   },
   {
    "duration": 18,
    "start_time": "2023-07-25T12:30:29.693Z"
   },
   {
    "duration": 37,
    "start_time": "2023-07-25T12:30:29.712Z"
   },
   {
    "duration": 15,
    "start_time": "2023-07-25T12:30:29.751Z"
   },
   {
    "duration": 305,
    "start_time": "2023-07-25T12:30:29.768Z"
   },
   {
    "duration": 11,
    "start_time": "2023-07-25T12:30:30.075Z"
   },
   {
    "duration": 78,
    "start_time": "2023-07-25T12:30:30.088Z"
   },
   {
    "duration": 64,
    "start_time": "2023-07-25T12:30:30.168Z"
   },
   {
    "duration": 82,
    "start_time": "2023-07-25T12:30:30.234Z"
   },
   {
    "duration": 84,
    "start_time": "2023-07-25T12:30:30.318Z"
   },
   {
    "duration": 64,
    "start_time": "2023-07-25T12:30:30.404Z"
   },
   {
    "duration": 74,
    "start_time": "2023-07-25T12:30:30.470Z"
   },
   {
    "duration": 78,
    "start_time": "2023-07-25T12:30:30.546Z"
   },
   {
    "duration": 42,
    "start_time": "2023-07-25T12:30:30.626Z"
   },
   {
    "duration": 54,
    "start_time": "2023-07-25T12:30:30.670Z"
   },
   {
    "duration": 60,
    "start_time": "2023-07-25T12:30:30.726Z"
   },
   {
    "duration": 91,
    "start_time": "2023-07-25T12:30:30.788Z"
   },
   {
    "duration": 44,
    "start_time": "2023-07-25T12:30:30.881Z"
   },
   {
    "duration": 58,
    "start_time": "2023-07-25T12:30:30.928Z"
   },
   {
    "duration": 529,
    "start_time": "2023-07-25T12:30:30.988Z"
   },
   {
    "duration": 0,
    "start_time": "2023-07-25T12:30:31.519Z"
   },
   {
    "duration": 0,
    "start_time": "2023-07-25T12:30:31.520Z"
   },
   {
    "duration": 0,
    "start_time": "2023-07-25T12:30:31.521Z"
   },
   {
    "duration": 0,
    "start_time": "2023-07-25T12:30:31.524Z"
   },
   {
    "duration": 0,
    "start_time": "2023-07-25T12:30:31.525Z"
   },
   {
    "duration": 0,
    "start_time": "2023-07-25T12:30:31.527Z"
   },
   {
    "duration": 0,
    "start_time": "2023-07-25T12:30:31.528Z"
   },
   {
    "duration": 0,
    "start_time": "2023-07-25T12:30:31.530Z"
   },
   {
    "duration": 0,
    "start_time": "2023-07-25T12:30:31.531Z"
   },
   {
    "duration": 0,
    "start_time": "2023-07-25T12:30:31.533Z"
   },
   {
    "duration": 0,
    "start_time": "2023-07-25T12:30:31.534Z"
   },
   {
    "duration": 0,
    "start_time": "2023-07-25T12:30:31.536Z"
   },
   {
    "duration": 0,
    "start_time": "2023-07-25T12:30:31.537Z"
   },
   {
    "duration": 0,
    "start_time": "2023-07-25T12:30:31.572Z"
   },
   {
    "duration": 0,
    "start_time": "2023-07-25T12:30:31.574Z"
   },
   {
    "duration": 0,
    "start_time": "2023-07-25T12:30:31.576Z"
   },
   {
    "duration": 0,
    "start_time": "2023-07-25T12:30:31.577Z"
   },
   {
    "duration": 0,
    "start_time": "2023-07-25T12:30:31.579Z"
   },
   {
    "duration": 0,
    "start_time": "2023-07-25T12:30:31.580Z"
   },
   {
    "duration": 0,
    "start_time": "2023-07-25T12:30:31.581Z"
   },
   {
    "duration": 9,
    "start_time": "2023-07-25T12:31:33.522Z"
   },
   {
    "duration": 289,
    "start_time": "2023-07-25T12:31:49.818Z"
   },
   {
    "duration": 454,
    "start_time": "2023-07-25T12:31:53.194Z"
   },
   {
    "duration": 8,
    "start_time": "2023-07-25T12:31:54.114Z"
   },
   {
    "duration": 341,
    "start_time": "2023-07-25T12:31:54.594Z"
   },
   {
    "duration": 279,
    "start_time": "2023-07-25T12:31:54.990Z"
   },
   {
    "duration": 263,
    "start_time": "2023-07-25T12:31:55.348Z"
   },
   {
    "duration": 394,
    "start_time": "2023-07-25T12:31:55.704Z"
   },
   {
    "duration": 390,
    "start_time": "2023-07-25T12:31:56.101Z"
   },
   {
    "duration": 332,
    "start_time": "2023-07-25T12:31:56.494Z"
   },
   {
    "duration": 7,
    "start_time": "2023-07-25T12:31:57.036Z"
   },
   {
    "duration": 391,
    "start_time": "2023-07-25T12:31:57.730Z"
   },
   {
    "duration": 335,
    "start_time": "2023-07-25T12:31:58.124Z"
   },
   {
    "duration": 414,
    "start_time": "2023-07-25T12:31:58.461Z"
   },
   {
    "duration": 341,
    "start_time": "2023-07-25T12:31:58.878Z"
   },
   {
    "duration": 288,
    "start_time": "2023-07-25T12:31:59.241Z"
   },
   {
    "duration": 326,
    "start_time": "2023-07-25T12:31:59.641Z"
   },
   {
    "duration": 258,
    "start_time": "2023-07-25T12:32:00.054Z"
   },
   {
    "duration": 170,
    "start_time": "2023-07-25T12:32:00.814Z"
   },
   {
    "duration": 119,
    "start_time": "2023-07-25T12:32:01.162Z"
   },
   {
    "duration": 323,
    "start_time": "2023-07-25T12:32:01.522Z"
   },
   {
    "duration": 172,
    "start_time": "2023-07-25T12:32:01.852Z"
   },
   {
    "duration": 144,
    "start_time": "2023-07-25T12:32:03.638Z"
   },
   {
    "duration": 150,
    "start_time": "2023-07-25T12:32:21.982Z"
   },
   {
    "duration": 142,
    "start_time": "2023-07-25T12:32:53.329Z"
   },
   {
    "duration": 147,
    "start_time": "2023-07-25T12:34:14.198Z"
   },
   {
    "duration": 196,
    "start_time": "2023-07-25T12:34:27.937Z"
   },
   {
    "duration": 248,
    "start_time": "2023-07-25T12:35:53.791Z"
   },
   {
    "duration": 198,
    "start_time": "2023-07-25T12:36:10.338Z"
   },
   {
    "duration": 272,
    "start_time": "2023-07-25T12:44:17.446Z"
   },
   {
    "duration": 393,
    "start_time": "2023-07-25T12:44:33.741Z"
   },
   {
    "duration": 352,
    "start_time": "2023-07-25T12:44:48.659Z"
   },
   {
    "duration": 9,
    "start_time": "2023-07-25T12:50:06.167Z"
   },
   {
    "duration": 7,
    "start_time": "2023-07-25T12:54:40.137Z"
   },
   {
    "duration": 6,
    "start_time": "2023-07-25T12:54:49.442Z"
   },
   {
    "duration": 389,
    "start_time": "2023-07-25T13:03:32.351Z"
   },
   {
    "duration": 550,
    "start_time": "2023-07-25T13:03:49.723Z"
   },
   {
    "duration": 80,
    "start_time": "2023-07-25T13:04:09.275Z"
   },
   {
    "duration": 604,
    "start_time": "2023-07-25T13:04:23.596Z"
   },
   {
    "duration": 16,
    "start_time": "2023-07-25T13:04:38.715Z"
   },
   {
    "duration": 13,
    "start_time": "2023-07-25T13:04:53.099Z"
   },
   {
    "duration": 16,
    "start_time": "2023-07-25T13:05:16.249Z"
   },
   {
    "duration": 19,
    "start_time": "2023-07-25T13:05:23.319Z"
   },
   {
    "duration": 10,
    "start_time": "2023-07-25T13:05:52.507Z"
   },
   {
    "duration": 24,
    "start_time": "2023-07-25T13:08:02.647Z"
   },
   {
    "duration": 11,
    "start_time": "2023-07-25T13:09:14.114Z"
   },
   {
    "duration": 12,
    "start_time": "2023-07-25T13:09:25.295Z"
   },
   {
    "duration": 11,
    "start_time": "2023-07-25T13:09:39.051Z"
   },
   {
    "duration": 8,
    "start_time": "2023-07-25T13:15:21.764Z"
   },
   {
    "duration": 137,
    "start_time": "2023-07-25T13:15:39.439Z"
   },
   {
    "duration": 10,
    "start_time": "2023-07-25T17:51:20.407Z"
   },
   {
    "duration": 14,
    "start_time": "2023-07-25T17:51:28.119Z"
   },
   {
    "duration": 16,
    "start_time": "2023-07-25T17:51:51.739Z"
   },
   {
    "duration": 14,
    "start_time": "2023-07-25T17:52:01.733Z"
   },
   {
    "duration": 21,
    "start_time": "2023-07-25T17:53:07.838Z"
   },
   {
    "duration": 19,
    "start_time": "2023-07-25T17:53:21.315Z"
   },
   {
    "duration": 149,
    "start_time": "2023-07-25T17:53:39.843Z"
   },
   {
    "duration": 13,
    "start_time": "2023-07-25T17:53:48.523Z"
   },
   {
    "duration": 189,
    "start_time": "2023-07-25T17:54:29.500Z"
   },
   {
    "duration": 17,
    "start_time": "2023-07-25T17:54:32.515Z"
   },
   {
    "duration": 18,
    "start_time": "2023-07-25T17:54:43.108Z"
   },
   {
    "duration": 7,
    "start_time": "2023-07-25T17:55:33.603Z"
   },
   {
    "duration": 13,
    "start_time": "2023-07-25T17:55:43.164Z"
   },
   {
    "duration": 7,
    "start_time": "2023-07-25T17:55:46.128Z"
   },
   {
    "duration": 12,
    "start_time": "2023-07-25T17:55:58.013Z"
   },
   {
    "duration": 9,
    "start_time": "2023-07-25T17:56:04.836Z"
   },
   {
    "duration": 8,
    "start_time": "2023-07-25T17:56:34.533Z"
   },
   {
    "duration": 11,
    "start_time": "2023-07-25T17:56:40.830Z"
   },
   {
    "duration": 8,
    "start_time": "2023-07-25T17:57:35.133Z"
   },
   {
    "duration": 10,
    "start_time": "2023-07-25T17:58:14.815Z"
   },
   {
    "duration": 10,
    "start_time": "2023-07-25T17:58:17.818Z"
   },
   {
    "duration": 8,
    "start_time": "2023-07-25T17:58:30.332Z"
   },
   {
    "duration": 7,
    "start_time": "2023-07-25T17:58:30.748Z"
   },
   {
    "duration": 180,
    "start_time": "2023-07-25T18:00:50.397Z"
   },
   {
    "duration": 8,
    "start_time": "2023-07-25T18:01:07.023Z"
   },
   {
    "duration": 153,
    "start_time": "2023-07-25T18:01:33.764Z"
   },
   {
    "duration": 14,
    "start_time": "2023-07-25T18:01:42.848Z"
   },
   {
    "duration": 130,
    "start_time": "2023-07-25T18:01:49.634Z"
   },
   {
    "duration": 9,
    "start_time": "2023-07-25T18:02:08.638Z"
   },
   {
    "duration": 9,
    "start_time": "2023-07-25T18:03:10.131Z"
   },
   {
    "duration": 8,
    "start_time": "2023-07-25T18:03:14.696Z"
   },
   {
    "duration": 4,
    "start_time": "2023-07-25T18:03:15.049Z"
   },
   {
    "duration": 122,
    "start_time": "2023-07-25T18:04:05.307Z"
   },
   {
    "duration": 7,
    "start_time": "2023-07-25T18:04:16.345Z"
   },
   {
    "duration": 146,
    "start_time": "2023-07-25T18:04:55.143Z"
   },
   {
    "duration": 124,
    "start_time": "2023-07-25T18:06:18.623Z"
   },
   {
    "duration": 228,
    "start_time": "2023-07-25T18:06:28.527Z"
   },
   {
    "duration": 136,
    "start_time": "2023-07-25T18:07:10.254Z"
   },
   {
    "duration": 144,
    "start_time": "2023-07-25T18:07:44.135Z"
   },
   {
    "duration": 120,
    "start_time": "2023-07-25T18:18:21.820Z"
   },
   {
    "duration": 147,
    "start_time": "2023-07-25T18:18:40.335Z"
   },
   {
    "duration": 146,
    "start_time": "2023-07-25T18:18:58.543Z"
   },
   {
    "duration": 126,
    "start_time": "2023-07-25T18:24:38.011Z"
   },
   {
    "duration": 122,
    "start_time": "2023-07-25T18:25:06.799Z"
   },
   {
    "duration": 122,
    "start_time": "2023-07-25T18:26:25.619Z"
   },
   {
    "duration": 151,
    "start_time": "2023-07-25T18:26:30.536Z"
   },
   {
    "duration": 134,
    "start_time": "2023-07-25T18:27:13.870Z"
   },
   {
    "duration": 116,
    "start_time": "2023-07-25T18:27:26.807Z"
   },
   {
    "duration": 101,
    "start_time": "2023-07-26T10:50:14.492Z"
   },
   {
    "duration": 1848,
    "start_time": "2023-07-26T10:51:53.157Z"
   },
   {
    "duration": 681,
    "start_time": "2023-07-26T10:51:55.012Z"
   },
   {
    "duration": 6,
    "start_time": "2023-07-26T10:51:55.695Z"
   },
   {
    "duration": 44,
    "start_time": "2023-07-26T10:51:55.703Z"
   },
   {
    "duration": 37,
    "start_time": "2023-07-26T10:51:55.749Z"
   },
   {
    "duration": 20,
    "start_time": "2023-07-26T10:51:55.788Z"
   },
   {
    "duration": 1270,
    "start_time": "2023-07-26T10:51:55.812Z"
   },
   {
    "duration": 49,
    "start_time": "2023-07-26T10:51:57.098Z"
   },
   {
    "duration": 9,
    "start_time": "2023-07-26T10:51:57.153Z"
   },
   {
    "duration": 4,
    "start_time": "2023-07-26T10:51:57.165Z"
   },
   {
    "duration": 17,
    "start_time": "2023-07-26T10:51:57.171Z"
   },
   {
    "duration": 8,
    "start_time": "2023-07-26T10:51:57.194Z"
   },
   {
    "duration": 7,
    "start_time": "2023-07-26T10:51:57.208Z"
   },
   {
    "duration": 334,
    "start_time": "2023-07-26T10:51:57.232Z"
   },
   {
    "duration": 14,
    "start_time": "2023-07-26T10:51:57.567Z"
   },
   {
    "duration": 21,
    "start_time": "2023-07-26T10:51:57.582Z"
   },
   {
    "duration": 25,
    "start_time": "2023-07-26T10:51:57.604Z"
   },
   {
    "duration": 16,
    "start_time": "2023-07-26T10:51:57.632Z"
   },
   {
    "duration": 9,
    "start_time": "2023-07-26T10:51:57.653Z"
   },
   {
    "duration": 35,
    "start_time": "2023-07-26T10:51:57.664Z"
   },
   {
    "duration": 28,
    "start_time": "2023-07-26T10:51:57.701Z"
   },
   {
    "duration": 32,
    "start_time": "2023-07-26T10:51:57.731Z"
   },
   {
    "duration": 6,
    "start_time": "2023-07-26T10:51:57.765Z"
   },
   {
    "duration": 26,
    "start_time": "2023-07-26T10:51:57.772Z"
   },
   {
    "duration": 29,
    "start_time": "2023-07-26T10:51:57.802Z"
   },
   {
    "duration": 22,
    "start_time": "2023-07-26T10:51:57.833Z"
   },
   {
    "duration": 4,
    "start_time": "2023-07-26T10:51:57.857Z"
   },
   {
    "duration": 37,
    "start_time": "2023-07-26T10:51:57.864Z"
   },
   {
    "duration": 461,
    "start_time": "2023-07-26T10:51:57.909Z"
   },
   {
    "duration": 503,
    "start_time": "2023-07-26T10:51:58.373Z"
   },
   {
    "duration": 9,
    "start_time": "2023-07-26T10:51:58.878Z"
   },
   {
    "duration": 302,
    "start_time": "2023-07-26T10:51:58.888Z"
   },
   {
    "duration": 302,
    "start_time": "2023-07-26T10:51:59.191Z"
   },
   {
    "duration": 292,
    "start_time": "2023-07-26T10:51:59.495Z"
   },
   {
    "duration": 323,
    "start_time": "2023-07-26T10:51:59.792Z"
   },
   {
    "duration": 541,
    "start_time": "2023-07-26T10:52:00.124Z"
   },
   {
    "duration": 346,
    "start_time": "2023-07-26T10:52:00.671Z"
   },
   {
    "duration": 7,
    "start_time": "2023-07-26T10:52:01.022Z"
   },
   {
    "duration": 484,
    "start_time": "2023-07-26T10:52:01.034Z"
   },
   {
    "duration": 348,
    "start_time": "2023-07-26T10:52:01.523Z"
   },
   {
    "duration": 357,
    "start_time": "2023-07-26T10:52:01.873Z"
   },
   {
    "duration": 443,
    "start_time": "2023-07-26T10:52:02.237Z"
   },
   {
    "duration": 289,
    "start_time": "2023-07-26T10:52:02.683Z"
   },
   {
    "duration": 397,
    "start_time": "2023-07-26T10:52:02.977Z"
   },
   {
    "duration": 310,
    "start_time": "2023-07-26T10:52:03.375Z"
   },
   {
    "duration": 158,
    "start_time": "2023-07-26T10:52:03.687Z"
   },
   {
    "duration": 137,
    "start_time": "2023-07-26T10:52:03.849Z"
   },
   {
    "duration": 209,
    "start_time": "2023-07-26T10:52:03.994Z"
   },
   {
    "duration": 157,
    "start_time": "2023-07-26T10:52:04.211Z"
   },
   {
    "duration": 277,
    "start_time": "2023-07-26T10:52:04.370Z"
   },
   {
    "duration": 222,
    "start_time": "2023-07-26T10:52:04.652Z"
   },
   {
    "duration": 218,
    "start_time": "2023-07-26T10:52:04.877Z"
   },
   {
    "duration": 243,
    "start_time": "2023-07-26T10:52:05.101Z"
   },
   {
    "duration": 372,
    "start_time": "2023-07-26T10:52:05.346Z"
   },
   {
    "duration": 173,
    "start_time": "2023-07-26T10:52:05.719Z"
   },
   {
    "duration": 187,
    "start_time": "2023-07-26T10:52:05.896Z"
   },
   {
    "duration": 160,
    "start_time": "2023-07-26T10:52:06.086Z"
   },
   {
    "duration": 145,
    "start_time": "2023-07-26T10:52:06.249Z"
   },
   {
    "duration": 157,
    "start_time": "2023-07-26T10:52:06.399Z"
   },
   {
    "duration": 285,
    "start_time": "2023-07-26T10:52:06.559Z"
   },
   {
    "duration": 200,
    "start_time": "2023-07-26T10:52:06.846Z"
   },
   {
    "duration": 181,
    "start_time": "2023-07-26T10:52:07.048Z"
   },
   {
    "duration": 168,
    "start_time": "2023-07-26T10:52:07.234Z"
   },
   {
    "duration": 262,
    "start_time": "2023-07-26T10:59:58.571Z"
   },
   {
    "duration": 191,
    "start_time": "2023-07-26T11:00:09.848Z"
   },
   {
    "duration": 16,
    "start_time": "2023-07-26T11:11:06.275Z"
   },
   {
    "duration": 23,
    "start_time": "2023-07-26T11:11:48.194Z"
   },
   {
    "duration": 9,
    "start_time": "2023-07-26T11:13:06.538Z"
   },
   {
    "duration": 31,
    "start_time": "2023-07-26T11:13:38.104Z"
   },
   {
    "duration": 20,
    "start_time": "2023-07-26T11:13:42.909Z"
   },
   {
    "duration": 27,
    "start_time": "2023-07-26T11:14:07.200Z"
   },
   {
    "duration": 6,
    "start_time": "2023-07-26T11:14:33.309Z"
   },
   {
    "duration": 120,
    "start_time": "2023-07-26T11:14:33.317Z"
   },
   {
    "duration": 4,
    "start_time": "2023-07-26T11:14:33.439Z"
   },
   {
    "duration": 28,
    "start_time": "2023-07-26T11:14:33.446Z"
   },
   {
    "duration": 86,
    "start_time": "2023-07-26T11:14:33.476Z"
   },
   {
    "duration": 16,
    "start_time": "2023-07-26T11:14:33.563Z"
   },
   {
    "duration": 1451,
    "start_time": "2023-07-26T11:14:33.581Z"
   },
   {
    "duration": 25,
    "start_time": "2023-07-26T11:14:35.034Z"
   },
   {
    "duration": 38,
    "start_time": "2023-07-26T11:14:35.062Z"
   },
   {
    "duration": 5,
    "start_time": "2023-07-26T11:14:35.102Z"
   },
   {
    "duration": 21,
    "start_time": "2023-07-26T11:14:35.110Z"
   },
   {
    "duration": 27,
    "start_time": "2023-07-26T11:14:35.133Z"
   },
   {
    "duration": 62,
    "start_time": "2023-07-26T11:14:35.163Z"
   },
   {
    "duration": 472,
    "start_time": "2023-07-26T11:14:35.226Z"
   },
   {
    "duration": 25,
    "start_time": "2023-07-26T11:14:35.713Z"
   },
   {
    "duration": 17,
    "start_time": "2023-07-26T11:14:35.741Z"
   },
   {
    "duration": 39,
    "start_time": "2023-07-26T11:14:35.760Z"
   },
   {
    "duration": 50,
    "start_time": "2023-07-26T11:14:35.800Z"
   },
   {
    "duration": 61,
    "start_time": "2023-07-26T11:14:35.852Z"
   },
   {
    "duration": 32,
    "start_time": "2023-07-26T11:14:35.915Z"
   },
   {
    "duration": 22,
    "start_time": "2023-07-26T11:14:35.951Z"
   },
   {
    "duration": 42,
    "start_time": "2023-07-26T11:14:35.993Z"
   },
   {
    "duration": 29,
    "start_time": "2023-07-26T11:14:36.037Z"
   },
   {
    "duration": 35,
    "start_time": "2023-07-26T11:14:36.072Z"
   },
   {
    "duration": 22,
    "start_time": "2023-07-26T11:14:36.109Z"
   },
   {
    "duration": 37,
    "start_time": "2023-07-26T11:14:36.132Z"
   },
   {
    "duration": 40,
    "start_time": "2023-07-26T11:14:36.171Z"
   },
   {
    "duration": 25,
    "start_time": "2023-07-26T11:14:36.212Z"
   },
   {
    "duration": 430,
    "start_time": "2023-07-26T11:14:36.239Z"
   },
   {
    "duration": 542,
    "start_time": "2023-07-26T11:14:36.671Z"
   },
   {
    "duration": 14,
    "start_time": "2023-07-26T11:14:37.218Z"
   },
   {
    "duration": 367,
    "start_time": "2023-07-26T11:14:37.237Z"
   },
   {
    "duration": 356,
    "start_time": "2023-07-26T11:14:37.609Z"
   },
   {
    "duration": 473,
    "start_time": "2023-07-26T11:14:37.967Z"
   },
   {
    "duration": 389,
    "start_time": "2023-07-26T11:14:38.442Z"
   },
   {
    "duration": 330,
    "start_time": "2023-07-26T11:14:38.833Z"
   },
   {
    "duration": 299,
    "start_time": "2023-07-26T11:14:39.165Z"
   },
   {
    "duration": 23,
    "start_time": "2023-07-26T11:14:39.467Z"
   },
   {
    "duration": 450,
    "start_time": "2023-07-26T11:14:39.501Z"
   },
   {
    "duration": 457,
    "start_time": "2023-07-26T11:14:39.955Z"
   },
   {
    "duration": 353,
    "start_time": "2023-07-26T11:14:40.417Z"
   },
   {
    "duration": 315,
    "start_time": "2023-07-26T11:14:40.772Z"
   },
   {
    "duration": 326,
    "start_time": "2023-07-26T11:14:41.094Z"
   },
   {
    "duration": 333,
    "start_time": "2023-07-26T11:14:41.422Z"
   },
   {
    "duration": 295,
    "start_time": "2023-07-26T11:14:41.757Z"
   },
   {
    "duration": 290,
    "start_time": "2023-07-26T11:14:42.054Z"
   },
   {
    "duration": 145,
    "start_time": "2023-07-26T11:14:42.347Z"
   },
   {
    "duration": 142,
    "start_time": "2023-07-26T11:14:42.496Z"
   },
   {
    "duration": 190,
    "start_time": "2023-07-26T11:14:42.643Z"
   },
   {
    "duration": 178,
    "start_time": "2023-07-26T11:14:42.848Z"
   },
   {
    "duration": 229,
    "start_time": "2023-07-26T11:14:43.028Z"
   },
   {
    "duration": 205,
    "start_time": "2023-07-26T11:14:43.260Z"
   },
   {
    "duration": 354,
    "start_time": "2023-07-26T11:14:43.467Z"
   },
   {
    "duration": 189,
    "start_time": "2023-07-26T11:14:43.823Z"
   },
   {
    "duration": 226,
    "start_time": "2023-07-26T11:14:44.017Z"
   },
   {
    "duration": 168,
    "start_time": "2023-07-26T11:14:44.254Z"
   },
   {
    "duration": 141,
    "start_time": "2023-07-26T11:14:44.425Z"
   },
   {
    "duration": 283,
    "start_time": "2023-07-26T11:14:44.568Z"
   },
   {
    "duration": 152,
    "start_time": "2023-07-26T11:14:44.856Z"
   },
   {
    "duration": 196,
    "start_time": "2023-07-26T11:14:45.010Z"
   },
   {
    "duration": 185,
    "start_time": "2023-07-26T11:14:45.210Z"
   },
   {
    "duration": 128,
    "start_time": "2023-07-26T11:14:45.399Z"
   },
   {
    "duration": 17,
    "start_time": "2023-07-26T11:14:49.619Z"
   },
   {
    "duration": 15,
    "start_time": "2023-07-26T11:14:50.271Z"
   },
   {
    "duration": 9,
    "start_time": "2023-07-26T11:16:16.858Z"
   },
   {
    "duration": 16,
    "start_time": "2023-07-26T11:16:17.966Z"
   },
   {
    "duration": 29,
    "start_time": "2023-07-26T11:16:24.499Z"
   },
   {
    "duration": 28,
    "start_time": "2023-07-26T11:16:44.309Z"
   },
   {
    "duration": 10,
    "start_time": "2023-07-26T11:17:16.741Z"
   },
   {
    "duration": 13,
    "start_time": "2023-07-26T11:17:25.366Z"
   },
   {
    "duration": 33,
    "start_time": "2023-07-26T11:18:05.731Z"
   },
   {
    "duration": 33,
    "start_time": "2023-07-26T11:18:16.026Z"
   },
   {
    "duration": 23,
    "start_time": "2023-07-26T11:19:40.655Z"
   },
   {
    "duration": 21,
    "start_time": "2023-07-26T11:19:59.927Z"
   },
   {
    "duration": 6,
    "start_time": "2023-07-26T11:20:54.210Z"
   },
   {
    "duration": 32,
    "start_time": "2023-07-26T11:21:21.928Z"
   },
   {
    "duration": 28,
    "start_time": "2023-07-26T11:21:59.508Z"
   },
   {
    "duration": 23,
    "start_time": "2023-07-26T11:22:12.434Z"
   },
   {
    "duration": 12,
    "start_time": "2023-07-26T11:22:50.292Z"
   },
   {
    "duration": 35,
    "start_time": "2023-07-26T11:23:10.910Z"
   },
   {
    "duration": 60,
    "start_time": "2023-07-26T11:23:20.403Z"
   },
   {
    "duration": 12,
    "start_time": "2023-07-26T11:24:32.315Z"
   },
   {
    "duration": 5,
    "start_time": "2023-07-26T11:25:26.450Z"
   },
   {
    "duration": 10,
    "start_time": "2023-07-26T11:25:43.342Z"
   },
   {
    "duration": 10,
    "start_time": "2023-07-26T11:26:09.366Z"
   },
   {
    "duration": 10,
    "start_time": "2023-07-26T11:29:07.852Z"
   },
   {
    "duration": 14,
    "start_time": "2023-07-26T11:29:43.634Z"
   },
   {
    "duration": 20,
    "start_time": "2023-07-26T11:31:07.012Z"
   },
   {
    "duration": 16,
    "start_time": "2023-07-26T11:31:25.751Z"
   },
   {
    "duration": 21,
    "start_time": "2023-07-26T11:54:08.015Z"
   },
   {
    "duration": 11,
    "start_time": "2023-07-26T11:54:12.209Z"
   },
   {
    "duration": 77,
    "start_time": "2023-07-26T19:48:54.360Z"
   },
   {
    "duration": 1586,
    "start_time": "2023-07-26T19:54:34.559Z"
   },
   {
    "duration": 680,
    "start_time": "2023-07-26T19:54:36.147Z"
   },
   {
    "duration": 7,
    "start_time": "2023-07-26T19:54:36.830Z"
   },
   {
    "duration": 23,
    "start_time": "2023-07-26T19:54:36.840Z"
   },
   {
    "duration": 46,
    "start_time": "2023-07-26T19:54:36.865Z"
   },
   {
    "duration": 20,
    "start_time": "2023-07-26T19:54:36.913Z"
   },
   {
    "duration": 1113,
    "start_time": "2023-07-26T19:54:36.937Z"
   },
   {
    "duration": 46,
    "start_time": "2023-07-26T19:54:38.051Z"
   },
   {
    "duration": 38,
    "start_time": "2023-07-26T19:54:38.110Z"
   },
   {
    "duration": 6,
    "start_time": "2023-07-26T19:54:38.153Z"
   },
   {
    "duration": 12,
    "start_time": "2023-07-26T19:54:38.161Z"
   },
   {
    "duration": 8,
    "start_time": "2023-07-26T19:54:38.175Z"
   },
   {
    "duration": 11,
    "start_time": "2023-07-26T19:54:38.185Z"
   },
   {
    "duration": 328,
    "start_time": "2023-07-26T19:54:38.197Z"
   },
   {
    "duration": 12,
    "start_time": "2023-07-26T19:54:38.527Z"
   },
   {
    "duration": 11,
    "start_time": "2023-07-26T19:54:38.541Z"
   },
   {
    "duration": 13,
    "start_time": "2023-07-26T19:54:38.554Z"
   },
   {
    "duration": 35,
    "start_time": "2023-07-26T19:54:38.568Z"
   },
   {
    "duration": 19,
    "start_time": "2023-07-26T19:54:38.613Z"
   },
   {
    "duration": 11,
    "start_time": "2023-07-26T19:54:38.634Z"
   },
   {
    "duration": 8,
    "start_time": "2023-07-26T19:54:38.647Z"
   },
   {
    "duration": 14,
    "start_time": "2023-07-26T19:54:38.657Z"
   },
   {
    "duration": 37,
    "start_time": "2023-07-26T19:54:38.673Z"
   },
   {
    "duration": 24,
    "start_time": "2023-07-26T19:54:38.712Z"
   },
   {
    "duration": 15,
    "start_time": "2023-07-26T19:54:38.737Z"
   },
   {
    "duration": 18,
    "start_time": "2023-07-26T19:54:38.754Z"
   },
   {
    "duration": 10,
    "start_time": "2023-07-26T19:54:38.774Z"
   },
   {
    "duration": 12,
    "start_time": "2023-07-26T19:54:38.790Z"
   },
   {
    "duration": 396,
    "start_time": "2023-07-26T19:54:38.805Z"
   },
   {
    "duration": 485,
    "start_time": "2023-07-26T19:54:39.212Z"
   },
   {
    "duration": 13,
    "start_time": "2023-07-26T19:54:39.700Z"
   },
   {
    "duration": 75,
    "start_time": "2023-07-26T19:58:30.955Z"
   },
   {
    "duration": 1205,
    "start_time": "2023-07-26T19:58:36.054Z"
   },
   {
    "duration": 372,
    "start_time": "2023-07-26T19:58:37.261Z"
   },
   {
    "duration": 5,
    "start_time": "2023-07-26T19:58:37.634Z"
   },
   {
    "duration": 21,
    "start_time": "2023-07-26T19:58:37.641Z"
   },
   {
    "duration": 49,
    "start_time": "2023-07-26T19:58:37.663Z"
   },
   {
    "duration": 18,
    "start_time": "2023-07-26T19:58:37.715Z"
   },
   {
    "duration": 1056,
    "start_time": "2023-07-26T19:58:37.735Z"
   },
   {
    "duration": 25,
    "start_time": "2023-07-26T19:58:38.793Z"
   },
   {
    "duration": 12,
    "start_time": "2023-07-26T19:58:38.820Z"
   },
   {
    "duration": 5,
    "start_time": "2023-07-26T19:58:38.835Z"
   },
   {
    "duration": 11,
    "start_time": "2023-07-26T19:58:38.842Z"
   },
   {
    "duration": 41,
    "start_time": "2023-07-26T19:58:38.854Z"
   },
   {
    "duration": 9,
    "start_time": "2023-07-26T19:58:38.897Z"
   },
   {
    "duration": 316,
    "start_time": "2023-07-26T19:58:38.908Z"
   },
   {
    "duration": 27,
    "start_time": "2023-07-26T19:58:39.226Z"
   },
   {
    "duration": 10,
    "start_time": "2023-07-26T19:58:39.259Z"
   },
   {
    "duration": 13,
    "start_time": "2023-07-26T19:58:39.271Z"
   },
   {
    "duration": 11,
    "start_time": "2023-07-26T19:58:39.285Z"
   },
   {
    "duration": 11,
    "start_time": "2023-07-26T19:58:39.298Z"
   },
   {
    "duration": 12,
    "start_time": "2023-07-26T19:58:39.311Z"
   },
   {
    "duration": 4,
    "start_time": "2023-07-26T19:58:39.328Z"
   },
   {
    "duration": 66,
    "start_time": "2023-07-26T19:58:39.335Z"
   },
   {
    "duration": 8,
    "start_time": "2023-07-26T19:58:39.409Z"
   },
   {
    "duration": 11,
    "start_time": "2023-07-26T19:58:39.424Z"
   },
   {
    "duration": 17,
    "start_time": "2023-07-26T19:58:39.439Z"
   },
   {
    "duration": 20,
    "start_time": "2023-07-26T19:58:39.459Z"
   },
   {
    "duration": 10,
    "start_time": "2023-07-26T19:58:39.485Z"
   },
   {
    "duration": 12,
    "start_time": "2023-07-26T19:58:39.503Z"
   },
   {
    "duration": 366,
    "start_time": "2023-07-26T19:58:39.518Z"
   },
   {
    "duration": 472,
    "start_time": "2023-07-26T19:58:39.888Z"
   },
   {
    "duration": 415,
    "start_time": "2023-07-26T19:58:40.363Z"
   },
   {
    "duration": 11,
    "start_time": "2023-07-26T19:58:40.780Z"
   },
   {
    "duration": 1485,
    "start_time": "2023-07-26T20:02:50.002Z"
   },
   {
    "duration": 368,
    "start_time": "2023-07-26T20:02:51.489Z"
   },
   {
    "duration": 7,
    "start_time": "2023-07-26T20:02:51.859Z"
   },
   {
    "duration": 52,
    "start_time": "2023-07-26T20:02:51.869Z"
   },
   {
    "duration": 58,
    "start_time": "2023-07-26T20:02:51.925Z"
   },
   {
    "duration": 54,
    "start_time": "2023-07-26T20:02:51.990Z"
   },
   {
    "duration": 1280,
    "start_time": "2023-07-26T20:02:52.045Z"
   },
   {
    "duration": 25,
    "start_time": "2023-07-26T20:02:53.326Z"
   },
   {
    "duration": 25,
    "start_time": "2023-07-26T20:02:53.354Z"
   },
   {
    "duration": 7,
    "start_time": "2023-07-26T20:02:53.382Z"
   },
   {
    "duration": 20,
    "start_time": "2023-07-26T20:02:53.391Z"
   },
   {
    "duration": 27,
    "start_time": "2023-07-26T20:02:53.413Z"
   },
   {
    "duration": 20,
    "start_time": "2023-07-26T20:02:53.441Z"
   },
   {
    "duration": 329,
    "start_time": "2023-07-26T20:02:53.462Z"
   },
   {
    "duration": 26,
    "start_time": "2023-07-26T20:02:53.800Z"
   },
   {
    "duration": 16,
    "start_time": "2023-07-26T20:02:53.829Z"
   },
   {
    "duration": 9,
    "start_time": "2023-07-26T20:02:53.847Z"
   },
   {
    "duration": 35,
    "start_time": "2023-07-26T20:02:53.858Z"
   },
   {
    "duration": 58,
    "start_time": "2023-07-26T20:02:53.894Z"
   },
   {
    "duration": 20,
    "start_time": "2023-07-26T20:02:53.954Z"
   },
   {
    "duration": 39,
    "start_time": "2023-07-26T20:02:53.978Z"
   },
   {
    "duration": 46,
    "start_time": "2023-07-26T20:02:54.019Z"
   },
   {
    "duration": 10,
    "start_time": "2023-07-26T20:02:54.067Z"
   },
   {
    "duration": 18,
    "start_time": "2023-07-26T20:02:54.079Z"
   },
   {
    "duration": 13,
    "start_time": "2023-07-26T20:02:54.104Z"
   },
   {
    "duration": 51,
    "start_time": "2023-07-26T20:02:54.121Z"
   },
   {
    "duration": 8,
    "start_time": "2023-07-26T20:02:54.180Z"
   },
   {
    "duration": 12,
    "start_time": "2023-07-26T20:02:54.192Z"
   },
   {
    "duration": 454,
    "start_time": "2023-07-26T20:02:54.205Z"
   },
   {
    "duration": 495,
    "start_time": "2023-07-26T20:02:54.660Z"
   },
   {
    "duration": 11,
    "start_time": "2023-07-26T20:02:55.157Z"
   },
   {
    "duration": 17,
    "start_time": "2023-07-26T20:03:00.391Z"
   },
   {
    "duration": 161,
    "start_time": "2023-07-26T20:03:01.136Z"
   },
   {
    "duration": 21,
    "start_time": "2023-07-26T20:03:11.896Z"
   },
   {
    "duration": 5,
    "start_time": "2023-07-26T20:03:33.761Z"
   },
   {
    "duration": 13,
    "start_time": "2023-07-26T20:03:49.715Z"
   },
   {
    "duration": 27,
    "start_time": "2023-07-26T20:04:08.171Z"
   },
   {
    "duration": 28,
    "start_time": "2023-07-26T20:04:23.868Z"
   },
   {
    "duration": 12,
    "start_time": "2023-07-26T20:04:37.814Z"
   },
   {
    "duration": 21,
    "start_time": "2023-07-26T20:05:07.235Z"
   },
   {
    "duration": 21,
    "start_time": "2023-07-26T20:05:11.917Z"
   },
   {
    "duration": 25,
    "start_time": "2023-07-26T20:05:38.480Z"
   },
   {
    "duration": 11,
    "start_time": "2023-07-26T20:05:53.953Z"
   },
   {
    "duration": 25,
    "start_time": "2023-07-26T20:06:00.860Z"
   },
   {
    "duration": 1819,
    "start_time": "2023-07-26T20:06:09.726Z"
   },
   {
    "duration": 18,
    "start_time": "2023-07-26T20:08:06.592Z"
   },
   {
    "duration": 12,
    "start_time": "2023-07-26T20:08:15.931Z"
   },
   {
    "duration": 2032,
    "start_time": "2023-07-26T20:08:35.502Z"
   },
   {
    "duration": 2153,
    "start_time": "2023-07-26T20:09:28.906Z"
   },
   {
    "duration": 19,
    "start_time": "2023-07-26T20:09:38.000Z"
   },
   {
    "duration": 18,
    "start_time": "2023-07-26T20:09:45.974Z"
   },
   {
    "duration": 2022,
    "start_time": "2023-07-26T20:09:52.539Z"
   },
   {
    "duration": 500,
    "start_time": "2023-07-26T20:12:47.028Z"
   },
   {
    "duration": 19,
    "start_time": "2023-07-26T20:13:15.008Z"
   },
   {
    "duration": 9,
    "start_time": "2023-07-26T20:13:26.428Z"
   },
   {
    "duration": 358,
    "start_time": "2023-07-26T20:13:34.058Z"
   },
   {
    "duration": 431,
    "start_time": "2023-07-26T20:14:08.737Z"
   },
   {
    "duration": 475,
    "start_time": "2023-07-26T20:14:25.670Z"
   },
   {
    "duration": 461,
    "start_time": "2023-07-26T20:14:37.257Z"
   },
   {
    "duration": 483,
    "start_time": "2023-07-26T20:15:25.144Z"
   },
   {
    "duration": 14,
    "start_time": "2023-07-26T20:15:34.315Z"
   },
   {
    "duration": 13,
    "start_time": "2023-07-26T20:15:58.559Z"
   },
   {
    "duration": 12,
    "start_time": "2023-07-26T20:16:10.722Z"
   },
   {
    "duration": 1727,
    "start_time": "2023-07-26T20:16:24.159Z"
   },
   {
    "duration": 274,
    "start_time": "2023-07-26T20:17:11.621Z"
   },
   {
    "duration": 2253,
    "start_time": "2023-07-26T20:17:44.850Z"
   },
   {
    "duration": 2111,
    "start_time": "2023-07-26T20:18:00.731Z"
   },
   {
    "duration": 2075,
    "start_time": "2023-07-26T20:18:52.172Z"
   },
   {
    "duration": 2207,
    "start_time": "2023-07-26T20:19:09.756Z"
   },
   {
    "duration": 1969,
    "start_time": "2023-07-26T20:19:44.694Z"
   },
   {
    "duration": 2298,
    "start_time": "2023-07-26T20:20:02.229Z"
   },
   {
    "duration": 2005,
    "start_time": "2023-07-26T20:20:28.955Z"
   },
   {
    "duration": 15,
    "start_time": "2023-07-26T20:20:46.942Z"
   },
   {
    "duration": 24,
    "start_time": "2023-07-26T20:22:10.778Z"
   },
   {
    "duration": 21,
    "start_time": "2023-07-26T20:22:44.104Z"
   },
   {
    "duration": 455,
    "start_time": "2023-07-26T20:23:07.915Z"
   },
   {
    "duration": 489,
    "start_time": "2023-07-26T20:23:32.472Z"
   },
   {
    "duration": 520,
    "start_time": "2023-07-26T20:23:40.441Z"
   },
   {
    "duration": 489,
    "start_time": "2023-07-26T20:23:59.015Z"
   },
   {
    "duration": 2229,
    "start_time": "2023-07-26T20:24:08.736Z"
   },
   {
    "duration": 2121,
    "start_time": "2023-07-26T20:24:19.847Z"
   },
   {
    "duration": 563,
    "start_time": "2023-07-26T20:24:38.746Z"
   },
   {
    "duration": 657,
    "start_time": "2023-07-26T20:24:47.600Z"
   },
   {
    "duration": 15,
    "start_time": "2023-07-26T20:25:05.744Z"
   },
   {
    "duration": 2361,
    "start_time": "2023-07-26T20:25:29.148Z"
   },
   {
    "duration": 457,
    "start_time": "2023-07-26T20:25:46.103Z"
   },
   {
    "duration": 2934,
    "start_time": "2023-07-26T20:25:55.443Z"
   },
   {
    "duration": 2442,
    "start_time": "2023-07-26T20:26:19.603Z"
   },
   {
    "duration": 518,
    "start_time": "2023-07-26T20:27:30.754Z"
   },
   {
    "duration": 2331,
    "start_time": "2023-07-26T20:27:57.264Z"
   },
   {
    "duration": 2473,
    "start_time": "2023-07-26T20:28:13.797Z"
   },
   {
    "duration": 3,
    "start_time": "2023-07-26T20:28:49.247Z"
   },
   {
    "duration": 95,
    "start_time": "2023-07-26T20:28:49.252Z"
   },
   {
    "duration": 5,
    "start_time": "2023-07-26T20:28:49.354Z"
   },
   {
    "duration": 53,
    "start_time": "2023-07-26T20:28:49.361Z"
   },
   {
    "duration": 50,
    "start_time": "2023-07-26T20:28:49.417Z"
   },
   {
    "duration": 19,
    "start_time": "2023-07-26T20:28:49.469Z"
   },
   {
    "duration": 1374,
    "start_time": "2023-07-26T20:28:49.490Z"
   },
   {
    "duration": 37,
    "start_time": "2023-07-26T20:28:50.866Z"
   },
   {
    "duration": 14,
    "start_time": "2023-07-26T20:28:50.907Z"
   },
   {
    "duration": 13,
    "start_time": "2023-07-26T20:28:50.924Z"
   },
   {
    "duration": 14,
    "start_time": "2023-07-26T20:28:50.939Z"
   },
   {
    "duration": 5,
    "start_time": "2023-07-26T20:28:50.956Z"
   },
   {
    "duration": 16,
    "start_time": "2023-07-26T20:28:50.963Z"
   },
   {
    "duration": 413,
    "start_time": "2023-07-26T20:28:50.986Z"
   },
   {
    "duration": 14,
    "start_time": "2023-07-26T20:28:51.406Z"
   },
   {
    "duration": 13,
    "start_time": "2023-07-26T20:28:51.426Z"
   },
   {
    "duration": 12,
    "start_time": "2023-07-26T20:28:51.446Z"
   },
   {
    "duration": 10,
    "start_time": "2023-07-26T20:28:51.461Z"
   },
   {
    "duration": 36,
    "start_time": "2023-07-26T20:28:51.473Z"
   },
   {
    "duration": 12,
    "start_time": "2023-07-26T20:28:51.511Z"
   },
   {
    "duration": 25,
    "start_time": "2023-07-26T20:28:51.526Z"
   },
   {
    "duration": 14,
    "start_time": "2023-07-26T20:28:51.553Z"
   },
   {
    "duration": 7,
    "start_time": "2023-07-26T20:28:51.569Z"
   },
   {
    "duration": 17,
    "start_time": "2023-07-26T20:28:51.579Z"
   },
   {
    "duration": 9,
    "start_time": "2023-07-26T20:28:51.598Z"
   },
   {
    "duration": 36,
    "start_time": "2023-07-26T20:28:51.609Z"
   },
   {
    "duration": 9,
    "start_time": "2023-07-26T20:28:51.647Z"
   },
   {
    "duration": 14,
    "start_time": "2023-07-26T20:28:51.659Z"
   },
   {
    "duration": 396,
    "start_time": "2023-07-26T20:28:51.675Z"
   },
   {
    "duration": 764,
    "start_time": "2023-07-26T20:28:52.073Z"
   },
   {
    "duration": 2861,
    "start_time": "2023-07-26T20:28:56.295Z"
   },
   {
    "duration": 3486,
    "start_time": "2023-07-26T20:29:28.579Z"
   },
   {
    "duration": 612,
    "start_time": "2023-07-26T20:29:34.796Z"
   },
   {
    "duration": 17,
    "start_time": "2023-07-26T20:30:33.341Z"
   },
   {
    "duration": 651,
    "start_time": "2023-07-26T20:31:21.521Z"
   },
   {
    "duration": 605,
    "start_time": "2023-07-26T20:32:08.694Z"
   },
   {
    "duration": 22,
    "start_time": "2023-07-26T20:32:17.598Z"
   },
   {
    "duration": 591,
    "start_time": "2023-07-26T20:32:36.471Z"
   },
   {
    "duration": 30,
    "start_time": "2023-07-26T20:34:31.394Z"
   },
   {
    "duration": 2711,
    "start_time": "2023-07-26T20:34:44.358Z"
   },
   {
    "duration": 2565,
    "start_time": "2023-07-26T20:34:47.330Z"
   },
   {
    "duration": 16,
    "start_time": "2023-07-26T20:35:07.950Z"
   },
   {
    "duration": 2561,
    "start_time": "2023-07-26T20:36:00.904Z"
   },
   {
    "duration": 2295,
    "start_time": "2023-07-26T20:36:14.862Z"
   },
   {
    "duration": 2368,
    "start_time": "2023-07-26T20:36:18.028Z"
   },
   {
    "duration": 1934,
    "start_time": "2023-07-26T20:37:01.007Z"
   },
   {
    "duration": 3196,
    "start_time": "2023-07-26T20:37:12.837Z"
   },
   {
    "duration": 126,
    "start_time": "2023-07-26T20:41:30.928Z"
   },
   {
    "duration": 22,
    "start_time": "2023-07-26T20:41:36.273Z"
   },
   {
    "duration": 438,
    "start_time": "2023-07-26T20:41:56.214Z"
   },
   {
    "duration": 1885,
    "start_time": "2023-07-26T20:42:03.767Z"
   },
   {
    "duration": 1952,
    "start_time": "2023-07-26T20:42:19.492Z"
   },
   {
    "duration": 1932,
    "start_time": "2023-07-26T20:42:30.263Z"
   },
   {
    "duration": 11,
    "start_time": "2023-07-26T20:42:45.132Z"
   },
   {
    "duration": 16,
    "start_time": "2023-07-26T20:44:11.453Z"
   },
   {
    "duration": 1823,
    "start_time": "2023-07-26T20:44:20.272Z"
   },
   {
    "duration": 2340,
    "start_time": "2023-07-26T20:44:29.816Z"
   },
   {
    "duration": 16,
    "start_time": "2023-07-26T20:44:59.092Z"
   },
   {
    "duration": 1825,
    "start_time": "2023-07-26T20:45:24.719Z"
   },
   {
    "duration": 2019,
    "start_time": "2023-07-26T20:45:33.116Z"
   },
   {
    "duration": 1668,
    "start_time": "2023-07-26T20:45:57.271Z"
   },
   {
    "duration": 1594,
    "start_time": "2023-07-26T20:46:19.071Z"
   },
   {
    "duration": 12,
    "start_time": "2023-07-26T20:47:14.861Z"
   },
   {
    "duration": 19,
    "start_time": "2023-07-26T20:47:33.272Z"
   },
   {
    "duration": 1471,
    "start_time": "2023-07-26T20:47:44.599Z"
   },
   {
    "duration": 287,
    "start_time": "2023-07-26T20:48:10.944Z"
   },
   {
    "duration": 298,
    "start_time": "2023-07-26T20:53:38.995Z"
   },
   {
    "duration": 447,
    "start_time": "2023-07-26T20:53:49.490Z"
   },
   {
    "duration": 27,
    "start_time": "2023-07-26T20:54:39.087Z"
   },
   {
    "duration": 294,
    "start_time": "2023-07-26T20:54:42.760Z"
   },
   {
    "duration": 283,
    "start_time": "2023-07-26T20:55:59.418Z"
   },
   {
    "duration": 14,
    "start_time": "2023-07-26T20:56:51.233Z"
   },
   {
    "duration": 198,
    "start_time": "2023-07-26T20:56:56.802Z"
   },
   {
    "duration": 287,
    "start_time": "2023-07-26T20:59:44.300Z"
   },
   {
    "duration": 256,
    "start_time": "2023-07-26T20:59:59.602Z"
   },
   {
    "duration": 390,
    "start_time": "2023-07-26T21:00:29.134Z"
   },
   {
    "duration": 278,
    "start_time": "2023-07-26T21:00:38.643Z"
   },
   {
    "duration": 269,
    "start_time": "2023-07-26T21:00:48.410Z"
   },
   {
    "duration": 293,
    "start_time": "2023-07-26T21:01:53.894Z"
   },
   {
    "duration": 169,
    "start_time": "2023-07-26T21:02:16.217Z"
   },
   {
    "duration": 275,
    "start_time": "2023-07-26T21:03:20.770Z"
   },
   {
    "duration": 368,
    "start_time": "2023-07-26T21:03:38.402Z"
   },
   {
    "duration": 291,
    "start_time": "2023-07-26T21:05:04.051Z"
   },
   {
    "duration": 262,
    "start_time": "2023-07-26T21:05:09.667Z"
   },
   {
    "duration": 1356,
    "start_time": "2023-07-27T10:10:16.688Z"
   },
   {
    "duration": 179,
    "start_time": "2023-07-27T10:10:18.046Z"
   },
   {
    "duration": 5,
    "start_time": "2023-07-27T10:10:18.226Z"
   },
   {
    "duration": 24,
    "start_time": "2023-07-27T10:10:18.233Z"
   },
   {
    "duration": 37,
    "start_time": "2023-07-27T10:10:18.259Z"
   },
   {
    "duration": 16,
    "start_time": "2023-07-27T10:10:18.297Z"
   },
   {
    "duration": 1144,
    "start_time": "2023-07-27T10:10:18.315Z"
   },
   {
    "duration": 27,
    "start_time": "2023-07-27T10:10:19.461Z"
   },
   {
    "duration": 15,
    "start_time": "2023-07-27T10:10:19.490Z"
   },
   {
    "duration": 15,
    "start_time": "2023-07-27T10:10:19.509Z"
   },
   {
    "duration": 30,
    "start_time": "2023-07-27T10:10:19.527Z"
   },
   {
    "duration": 9,
    "start_time": "2023-07-27T10:10:19.559Z"
   },
   {
    "duration": 13,
    "start_time": "2023-07-27T10:10:19.571Z"
   },
   {
    "duration": 277,
    "start_time": "2023-07-27T10:10:19.586Z"
   },
   {
    "duration": 11,
    "start_time": "2023-07-27T10:10:19.865Z"
   },
   {
    "duration": 22,
    "start_time": "2023-07-27T10:10:19.878Z"
   },
   {
    "duration": 19,
    "start_time": "2023-07-27T10:10:19.902Z"
   },
   {
    "duration": 33,
    "start_time": "2023-07-27T10:10:19.924Z"
   },
   {
    "duration": 11,
    "start_time": "2023-07-27T10:10:19.959Z"
   },
   {
    "duration": 12,
    "start_time": "2023-07-27T10:10:19.973Z"
   },
   {
    "duration": 5,
    "start_time": "2023-07-27T10:10:19.987Z"
   },
   {
    "duration": 37,
    "start_time": "2023-07-27T10:10:19.994Z"
   },
   {
    "duration": 44,
    "start_time": "2023-07-27T10:10:20.032Z"
   },
   {
    "duration": 60,
    "start_time": "2023-07-27T10:10:20.077Z"
   },
   {
    "duration": 47,
    "start_time": "2023-07-27T10:10:20.139Z"
   },
   {
    "duration": 31,
    "start_time": "2023-07-27T10:10:20.188Z"
   },
   {
    "duration": 5,
    "start_time": "2023-07-27T10:10:20.221Z"
   },
   {
    "duration": 10,
    "start_time": "2023-07-27T10:10:20.229Z"
   },
   {
    "duration": 395,
    "start_time": "2023-07-27T10:10:20.241Z"
   },
   {
    "duration": 502,
    "start_time": "2023-07-27T10:10:20.638Z"
   },
   {
    "duration": 193,
    "start_time": "2023-07-27T10:10:21.141Z"
   },
   {
    "duration": 99,
    "start_time": "2023-07-27T10:10:50.443Z"
   },
   {
    "duration": 8,
    "start_time": "2023-07-27T10:10:55.751Z"
   },
   {
    "duration": 231,
    "start_time": "2023-07-27T10:11:05.920Z"
   },
   {
    "duration": 8,
    "start_time": "2023-07-27T10:11:32.421Z"
   },
   {
    "duration": 4,
    "start_time": "2023-07-27T10:11:41.278Z"
   },
   {
    "duration": 5,
    "start_time": "2023-07-27T10:11:44.706Z"
   },
   {
    "duration": 239,
    "start_time": "2023-07-27T10:12:09.687Z"
   },
   {
    "duration": 247,
    "start_time": "2023-07-27T10:13:31.714Z"
   },
   {
    "duration": 362,
    "start_time": "2023-07-27T10:13:39.538Z"
   },
   {
    "duration": 358,
    "start_time": "2023-07-27T10:13:56.302Z"
   },
   {
    "duration": 345,
    "start_time": "2023-07-27T10:14:11.634Z"
   },
   {
    "duration": 1630,
    "start_time": "2023-07-27T10:14:24.518Z"
   },
   {
    "duration": 258,
    "start_time": "2023-07-27T10:14:35.638Z"
   },
   {
    "duration": 393,
    "start_time": "2023-07-27T10:14:43.319Z"
   },
   {
    "duration": 1426,
    "start_time": "2023-07-27T10:14:56.898Z"
   },
   {
    "duration": 1783,
    "start_time": "2023-07-27T10:16:03.135Z"
   },
   {
    "duration": 27,
    "start_time": "2023-07-27T10:18:59.987Z"
   },
   {
    "duration": 143,
    "start_time": "2023-07-27T10:19:04.945Z"
   },
   {
    "duration": 263,
    "start_time": "2023-07-27T10:19:09.596Z"
   },
   {
    "duration": 258,
    "start_time": "2023-07-27T10:19:22.357Z"
   },
   {
    "duration": 1529,
    "start_time": "2023-07-27T10:19:26.367Z"
   },
   {
    "duration": 249,
    "start_time": "2023-07-27T10:21:07.319Z"
   },
   {
    "duration": 229,
    "start_time": "2023-07-27T10:21:26.463Z"
   },
   {
    "duration": 425,
    "start_time": "2023-07-27T10:21:55.551Z"
   },
   {
    "duration": 15,
    "start_time": "2023-07-27T10:22:42.264Z"
   },
   {
    "duration": 93,
    "start_time": "2023-07-27T10:22:51.642Z"
   },
   {
    "duration": 1471,
    "start_time": "2023-07-27T10:22:56.658Z"
   },
   {
    "duration": 1698,
    "start_time": "2023-07-27T10:23:27.946Z"
   },
   {
    "duration": 1547,
    "start_time": "2023-07-27T10:24:43.060Z"
   },
   {
    "duration": 20,
    "start_time": "2023-07-27T10:25:11.221Z"
   },
   {
    "duration": 1665,
    "start_time": "2023-07-27T10:25:19.612Z"
   },
   {
    "duration": 1432,
    "start_time": "2023-07-27T10:27:10.101Z"
   },
   {
    "duration": 20,
    "start_time": "2023-07-27T10:27:24.389Z"
   },
   {
    "duration": 1721,
    "start_time": "2023-07-27T10:28:57.572Z"
   },
   {
    "duration": 1489,
    "start_time": "2023-07-27T10:29:22.959Z"
   },
   {
    "duration": 14,
    "start_time": "2023-07-27T10:31:18.987Z"
   },
   {
    "duration": 243,
    "start_time": "2023-07-27T10:31:47.447Z"
   },
   {
    "duration": 1730,
    "start_time": "2023-07-27T10:31:55.852Z"
   },
   {
    "duration": 2701,
    "start_time": "2023-07-27T10:33:05.060Z"
   },
   {
    "duration": 2654,
    "start_time": "2023-07-27T10:33:29.503Z"
   },
   {
    "duration": 6,
    "start_time": "2023-07-27T10:36:25.112Z"
   },
   {
    "duration": 303,
    "start_time": "2023-07-27T10:37:19.670Z"
   },
   {
    "duration": 2943,
    "start_time": "2023-07-27T10:39:08.562Z"
   },
   {
    "duration": 1263,
    "start_time": "2023-07-27T10:49:12.603Z"
   },
   {
    "duration": 192,
    "start_time": "2023-07-27T10:49:13.868Z"
   },
   {
    "duration": 7,
    "start_time": "2023-07-27T10:49:14.062Z"
   },
   {
    "duration": 22,
    "start_time": "2023-07-27T10:49:14.071Z"
   },
   {
    "duration": 32,
    "start_time": "2023-07-27T10:49:14.096Z"
   },
   {
    "duration": 31,
    "start_time": "2023-07-27T10:49:14.130Z"
   },
   {
    "duration": 1036,
    "start_time": "2023-07-27T10:49:14.163Z"
   },
   {
    "duration": 21,
    "start_time": "2023-07-27T10:49:15.202Z"
   },
   {
    "duration": 10,
    "start_time": "2023-07-27T10:49:15.225Z"
   },
   {
    "duration": 5,
    "start_time": "2023-07-27T10:49:15.256Z"
   },
   {
    "duration": 20,
    "start_time": "2023-07-27T10:49:15.263Z"
   },
   {
    "duration": 25,
    "start_time": "2023-07-27T10:49:15.285Z"
   },
   {
    "duration": 20,
    "start_time": "2023-07-27T10:49:15.312Z"
   },
   {
    "duration": 273,
    "start_time": "2023-07-27T10:49:15.335Z"
   },
   {
    "duration": 9,
    "start_time": "2023-07-27T10:49:15.610Z"
   },
   {
    "duration": 18,
    "start_time": "2023-07-27T10:49:15.621Z"
   },
   {
    "duration": 16,
    "start_time": "2023-07-27T10:49:15.641Z"
   },
   {
    "duration": 9,
    "start_time": "2023-07-27T10:49:15.659Z"
   },
   {
    "duration": 16,
    "start_time": "2023-07-27T10:49:15.670Z"
   },
   {
    "duration": 10,
    "start_time": "2023-07-27T10:49:15.687Z"
   },
   {
    "duration": 4,
    "start_time": "2023-07-27T10:49:15.699Z"
   },
   {
    "duration": 15,
    "start_time": "2023-07-27T10:49:15.705Z"
   },
   {
    "duration": 8,
    "start_time": "2023-07-27T10:49:15.722Z"
   },
   {
    "duration": 27,
    "start_time": "2023-07-27T10:49:15.732Z"
   },
   {
    "duration": 5,
    "start_time": "2023-07-27T10:49:15.761Z"
   },
   {
    "duration": 19,
    "start_time": "2023-07-27T10:49:15.768Z"
   },
   {
    "duration": 4,
    "start_time": "2023-07-27T10:49:15.789Z"
   },
   {
    "duration": 9,
    "start_time": "2023-07-27T10:49:15.794Z"
   },
   {
    "duration": 393,
    "start_time": "2023-07-27T10:49:15.805Z"
   },
   {
    "duration": 167,
    "start_time": "2023-07-27T10:49:16.200Z"
   },
   {
    "duration": 2594,
    "start_time": "2023-07-27T10:49:16.369Z"
   },
   {
    "duration": 8,
    "start_time": "2023-07-27T10:49:18.966Z"
   },
   {
    "duration": 361,
    "start_time": "2023-07-27T10:49:18.977Z"
   },
   {
    "duration": 1512,
    "start_time": "2023-07-27T10:49:27.697Z"
   },
   {
    "duration": 677,
    "start_time": "2023-07-27T10:50:02.445Z"
   },
   {
    "duration": 684,
    "start_time": "2023-07-27T10:50:07.250Z"
   },
   {
    "duration": 1477,
    "start_time": "2023-07-27T10:50:24.345Z"
   },
   {
    "duration": 260,
    "start_time": "2023-07-27T10:50:38.603Z"
   },
   {
    "duration": 238,
    "start_time": "2023-07-27T10:50:42.220Z"
   },
   {
    "duration": 233,
    "start_time": "2023-07-27T10:50:45.641Z"
   },
   {
    "duration": 13,
    "start_time": "2023-07-27T10:55:37.802Z"
   },
   {
    "duration": 31,
    "start_time": "2023-07-27T10:55:37.870Z"
   },
   {
    "duration": 5,
    "start_time": "2023-07-27T10:55:37.909Z"
   },
   {
    "duration": 23,
    "start_time": "2023-07-27T10:55:37.959Z"
   },
   {
    "duration": 49,
    "start_time": "2023-07-27T10:55:38.024Z"
   },
   {
    "duration": 13,
    "start_time": "2023-07-27T10:55:38.089Z"
   },
   {
    "duration": 932,
    "start_time": "2023-07-27T10:55:39.128Z"
   },
   {
    "duration": 22,
    "start_time": "2023-07-27T10:55:40.083Z"
   },
   {
    "duration": 11,
    "start_time": "2023-07-27T10:55:40.116Z"
   },
   {
    "duration": 4,
    "start_time": "2023-07-27T10:55:40.159Z"
   },
   {
    "duration": 6,
    "start_time": "2023-07-27T10:55:40.175Z"
   },
   {
    "duration": 5,
    "start_time": "2023-07-27T10:55:40.201Z"
   },
   {
    "duration": 3,
    "start_time": "2023-07-27T10:55:40.213Z"
   },
   {
    "duration": 263,
    "start_time": "2023-07-27T10:55:40.495Z"
   },
   {
    "duration": 9,
    "start_time": "2023-07-27T10:55:40.771Z"
   },
   {
    "duration": 9,
    "start_time": "2023-07-27T10:55:40.791Z"
   },
   {
    "duration": 10,
    "start_time": "2023-07-27T10:55:40.814Z"
   },
   {
    "duration": 9,
    "start_time": "2023-07-27T10:55:40.863Z"
   },
   {
    "duration": 10,
    "start_time": "2023-07-27T10:55:40.884Z"
   },
   {
    "duration": 11,
    "start_time": "2023-07-27T10:55:40.903Z"
   },
   {
    "duration": 32,
    "start_time": "2023-07-27T10:55:40.924Z"
   },
   {
    "duration": 20,
    "start_time": "2023-07-27T10:55:40.970Z"
   },
   {
    "duration": 15,
    "start_time": "2023-07-27T10:55:40.999Z"
   },
   {
    "duration": 9,
    "start_time": "2023-07-27T10:55:41.028Z"
   },
   {
    "duration": 8,
    "start_time": "2023-07-27T10:55:41.052Z"
   },
   {
    "duration": 12,
    "start_time": "2023-07-27T10:55:41.077Z"
   },
   {
    "duration": 6,
    "start_time": "2023-07-27T10:55:41.096Z"
   },
   {
    "duration": 6,
    "start_time": "2023-07-27T10:55:41.113Z"
   },
   {
    "duration": 293,
    "start_time": "2023-07-27T10:55:41.466Z"
   },
   {
    "duration": 177,
    "start_time": "2023-07-27T10:55:41.957Z"
   },
   {
    "duration": 2667,
    "start_time": "2023-07-27T10:55:44.747Z"
   },
   {
    "duration": 109,
    "start_time": "2023-07-27T10:55:47.429Z"
   },
   {
    "duration": 0,
    "start_time": "2023-07-27T10:55:47.541Z"
   },
   {
    "duration": 9,
    "start_time": "2023-07-27T10:56:49.255Z"
   },
   {
    "duration": 332,
    "start_time": "2023-07-27T10:56:50.968Z"
   },
   {
    "duration": 757,
    "start_time": "2023-07-27T10:56:59.492Z"
   },
   {
    "duration": 1661,
    "start_time": "2023-07-27T10:57:26.162Z"
   },
   {
    "duration": 176,
    "start_time": "2023-07-27T11:03:34.016Z"
   },
   {
    "duration": 218,
    "start_time": "2023-07-27T11:04:54.897Z"
   },
   {
    "duration": 252,
    "start_time": "2023-07-27T11:08:27.264Z"
   },
   {
    "duration": 223,
    "start_time": "2023-07-27T11:08:40.957Z"
   },
   {
    "duration": 201,
    "start_time": "2023-07-27T11:09:05.718Z"
   },
   {
    "duration": 187,
    "start_time": "2023-07-27T11:09:11.351Z"
   },
   {
    "duration": 221,
    "start_time": "2023-07-27T11:09:18.463Z"
   },
   {
    "duration": 234,
    "start_time": "2023-07-27T11:09:52.180Z"
   },
   {
    "duration": 235,
    "start_time": "2023-07-27T11:12:03.695Z"
   },
   {
    "duration": 148,
    "start_time": "2023-07-27T11:12:41.495Z"
   },
   {
    "duration": 204,
    "start_time": "2023-07-27T11:13:00.465Z"
   },
   {
    "duration": 175,
    "start_time": "2023-07-27T11:13:10.189Z"
   },
   {
    "duration": 203,
    "start_time": "2023-07-27T11:13:17.395Z"
   },
   {
    "duration": 217,
    "start_time": "2023-07-27T11:13:21.888Z"
   },
   {
    "duration": 214,
    "start_time": "2023-07-27T11:14:31.277Z"
   },
   {
    "duration": 160,
    "start_time": "2023-07-27T11:15:00.908Z"
   },
   {
    "duration": 166,
    "start_time": "2023-07-27T11:15:10.860Z"
   },
   {
    "duration": 182,
    "start_time": "2023-07-27T11:15:16.022Z"
   },
   {
    "duration": 213,
    "start_time": "2023-07-27T11:15:22.972Z"
   },
   {
    "duration": 199,
    "start_time": "2023-07-27T11:16:11.469Z"
   },
   {
    "duration": 150,
    "start_time": "2023-07-27T11:16:16.164Z"
   },
   {
    "duration": 278,
    "start_time": "2023-07-27T11:16:26.953Z"
   },
   {
    "duration": 147,
    "start_time": "2023-07-27T11:16:58.670Z"
   },
   {
    "duration": 134,
    "start_time": "2023-07-27T11:17:02.001Z"
   },
   {
    "duration": 152,
    "start_time": "2023-07-27T11:17:07.118Z"
   },
   {
    "duration": 175,
    "start_time": "2023-07-27T11:17:08.453Z"
   },
   {
    "duration": 167,
    "start_time": "2023-07-27T11:17:23.946Z"
   },
   {
    "duration": 135,
    "start_time": "2023-07-27T11:17:28.615Z"
   },
   {
    "duration": 149,
    "start_time": "2023-07-27T11:17:32.907Z"
   },
   {
    "duration": 162,
    "start_time": "2023-07-27T11:17:39.820Z"
   },
   {
    "duration": 170,
    "start_time": "2023-07-27T11:17:40.512Z"
   },
   {
    "duration": 262,
    "start_time": "2023-07-27T11:19:14.164Z"
   },
   {
    "duration": 17,
    "start_time": "2023-07-27T11:20:38.774Z"
   },
   {
    "duration": 10,
    "start_time": "2023-07-27T11:21:10.298Z"
   },
   {
    "duration": 11,
    "start_time": "2023-07-27T11:22:12.458Z"
   },
   {
    "duration": 24,
    "start_time": "2023-07-27T11:23:31.350Z"
   },
   {
    "duration": 32,
    "start_time": "2023-07-27T11:23:39.873Z"
   },
   {
    "duration": 166,
    "start_time": "2023-07-27T11:24:44.354Z"
   },
   {
    "duration": 123,
    "start_time": "2023-07-27T11:27:22.764Z"
   },
   {
    "duration": 135,
    "start_time": "2023-07-27T11:27:23.754Z"
   },
   {
    "duration": 118,
    "start_time": "2023-07-27T11:27:24.290Z"
   },
   {
    "duration": 137,
    "start_time": "2023-07-27T11:27:26.390Z"
   },
   {
    "duration": 133,
    "start_time": "2023-07-27T11:27:26.886Z"
   },
   {
    "duration": 129,
    "start_time": "2023-07-27T11:27:28.274Z"
   },
   {
    "duration": 129,
    "start_time": "2023-07-27T11:29:53.435Z"
   },
   {
    "duration": 152,
    "start_time": "2023-07-27T11:29:53.850Z"
   },
   {
    "duration": 10,
    "start_time": "2023-07-27T11:33:01.184Z"
   },
   {
    "duration": 7,
    "start_time": "2023-07-27T11:33:01.503Z"
   },
   {
    "duration": 10,
    "start_time": "2023-07-27T11:33:02.095Z"
   },
   {
    "duration": 11,
    "start_time": "2023-07-27T11:33:08.596Z"
   },
   {
    "duration": 160,
    "start_time": "2023-07-27T11:35:04.585Z"
   },
   {
    "duration": 1344,
    "start_time": "2023-07-28T04:42:39.619Z"
   },
   {
    "duration": 243,
    "start_time": "2023-07-28T04:42:40.965Z"
   },
   {
    "duration": 5,
    "start_time": "2023-07-28T04:42:41.210Z"
   },
   {
    "duration": 20,
    "start_time": "2023-07-28T04:42:41.216Z"
   },
   {
    "duration": 39,
    "start_time": "2023-07-28T04:42:41.237Z"
   },
   {
    "duration": 18,
    "start_time": "2023-07-28T04:42:41.277Z"
   },
   {
    "duration": 995,
    "start_time": "2023-07-28T04:42:41.297Z"
   },
   {
    "duration": 23,
    "start_time": "2023-07-28T04:42:42.294Z"
   },
   {
    "duration": 8,
    "start_time": "2023-07-28T04:42:42.319Z"
   },
   {
    "duration": 4,
    "start_time": "2023-07-28T04:42:42.329Z"
   },
   {
    "duration": 10,
    "start_time": "2023-07-28T04:42:42.335Z"
   },
   {
    "duration": 35,
    "start_time": "2023-07-28T04:42:42.346Z"
   },
   {
    "duration": 8,
    "start_time": "2023-07-28T04:42:42.382Z"
   },
   {
    "duration": 308,
    "start_time": "2023-07-28T04:42:42.392Z"
   },
   {
    "duration": 12,
    "start_time": "2023-07-28T04:42:42.702Z"
   },
   {
    "duration": 10,
    "start_time": "2023-07-28T04:42:42.715Z"
   },
   {
    "duration": 13,
    "start_time": "2023-07-28T04:42:42.726Z"
   },
   {
    "duration": 9,
    "start_time": "2023-07-28T04:42:42.740Z"
   },
   {
    "duration": 16,
    "start_time": "2023-07-28T04:42:42.751Z"
   },
   {
    "duration": 25,
    "start_time": "2023-07-28T04:42:42.768Z"
   },
   {
    "duration": 5,
    "start_time": "2023-07-28T04:42:42.798Z"
   },
   {
    "duration": 16,
    "start_time": "2023-07-28T04:42:42.805Z"
   },
   {
    "duration": 12,
    "start_time": "2023-07-28T04:42:42.823Z"
   },
   {
    "duration": 9,
    "start_time": "2023-07-28T04:42:42.836Z"
   },
   {
    "duration": 5,
    "start_time": "2023-07-28T04:42:42.847Z"
   },
   {
    "duration": 34,
    "start_time": "2023-07-28T04:42:42.853Z"
   },
   {
    "duration": 8,
    "start_time": "2023-07-28T04:42:42.888Z"
   },
   {
    "duration": 10,
    "start_time": "2023-07-28T04:42:42.900Z"
   },
   {
    "duration": 345,
    "start_time": "2023-07-28T04:42:42.912Z"
   },
   {
    "duration": 172,
    "start_time": "2023-07-28T04:42:43.259Z"
   },
   {
    "duration": 2568,
    "start_time": "2023-07-28T04:42:43.433Z"
   },
   {
    "duration": 5,
    "start_time": "2023-07-28T04:42:46.006Z"
   },
   {
    "duration": 346,
    "start_time": "2023-07-28T04:42:46.013Z"
   },
   {
    "duration": 1586,
    "start_time": "2023-07-28T04:42:46.361Z"
   },
   {
    "duration": 133,
    "start_time": "2023-07-28T04:42:50.290Z"
   },
   {
    "duration": 125,
    "start_time": "2023-07-28T04:43:29.898Z"
   },
   {
    "duration": 263,
    "start_time": "2023-07-28T04:43:39.873Z"
   },
   {
    "duration": 523,
    "start_time": "2023-07-28T04:43:53.511Z"
   },
   {
    "duration": 4,
    "start_time": "2023-07-28T04:45:07.121Z"
   },
   {
    "duration": 312,
    "start_time": "2023-07-28T04:45:42.349Z"
   },
   {
    "duration": 168,
    "start_time": "2023-07-28T04:46:40.571Z"
   },
   {
    "duration": 417,
    "start_time": "2023-07-28T04:47:31.440Z"
   },
   {
    "duration": 225,
    "start_time": "2023-07-28T04:47:51.141Z"
   },
   {
    "duration": 439,
    "start_time": "2023-07-28T04:47:57.182Z"
   },
   {
    "duration": 214,
    "start_time": "2023-07-28T04:48:21.245Z"
   },
   {
    "duration": 284,
    "start_time": "2023-07-28T05:03:35.156Z"
   },
   {
    "duration": 272,
    "start_time": "2023-07-28T05:03:45.099Z"
   },
   {
    "duration": 310,
    "start_time": "2023-07-28T05:06:05.221Z"
   },
   {
    "duration": 291,
    "start_time": "2023-07-28T05:06:28.221Z"
   },
   {
    "duration": 432,
    "start_time": "2023-07-28T05:06:40.482Z"
   },
   {
    "duration": 284,
    "start_time": "2023-07-28T05:07:17.518Z"
   },
   {
    "duration": 250,
    "start_time": "2023-07-28T05:09:10.909Z"
   },
   {
    "duration": 100,
    "start_time": "2023-07-28T05:09:31.356Z"
   },
   {
    "duration": 100,
    "start_time": "2023-07-28T05:10:05.969Z"
   },
   {
    "duration": 132,
    "start_time": "2023-07-28T05:18:00.960Z"
   },
   {
    "duration": 118,
    "start_time": "2023-07-28T05:18:24.619Z"
   },
   {
    "duration": 129,
    "start_time": "2023-07-28T05:18:30.033Z"
   },
   {
    "duration": 128,
    "start_time": "2023-07-28T05:18:39.498Z"
   },
   {
    "duration": 1594,
    "start_time": "2023-07-28T11:11:45.260Z"
   },
   {
    "duration": 238,
    "start_time": "2023-07-28T11:11:46.856Z"
   },
   {
    "duration": 7,
    "start_time": "2023-07-28T11:11:47.097Z"
   },
   {
    "duration": 42,
    "start_time": "2023-07-28T11:11:47.107Z"
   },
   {
    "duration": 69,
    "start_time": "2023-07-28T11:11:47.151Z"
   },
   {
    "duration": 14,
    "start_time": "2023-07-28T11:11:47.222Z"
   },
   {
    "duration": 1168,
    "start_time": "2023-07-28T11:11:47.238Z"
   },
   {
    "duration": 21,
    "start_time": "2023-07-28T11:11:48.408Z"
   },
   {
    "duration": 30,
    "start_time": "2023-07-28T11:11:48.431Z"
   },
   {
    "duration": 32,
    "start_time": "2023-07-28T11:11:48.464Z"
   },
   {
    "duration": 18,
    "start_time": "2023-07-28T11:11:48.499Z"
   },
   {
    "duration": 6,
    "start_time": "2023-07-28T11:11:48.519Z"
   },
   {
    "duration": 12,
    "start_time": "2023-07-28T11:11:48.526Z"
   },
   {
    "duration": 303,
    "start_time": "2023-07-28T11:11:48.541Z"
   },
   {
    "duration": 8,
    "start_time": "2023-07-28T11:11:48.846Z"
   },
   {
    "duration": 52,
    "start_time": "2023-07-28T11:11:48.856Z"
   },
   {
    "duration": 105,
    "start_time": "2023-07-28T11:11:48.909Z"
   },
   {
    "duration": 94,
    "start_time": "2023-07-28T11:11:49.015Z"
   },
   {
    "duration": 24,
    "start_time": "2023-07-28T11:11:49.111Z"
   },
   {
    "duration": 6,
    "start_time": "2023-07-28T11:11:49.137Z"
   },
   {
    "duration": 17,
    "start_time": "2023-07-28T11:11:49.144Z"
   },
   {
    "duration": 35,
    "start_time": "2023-07-28T11:11:49.163Z"
   },
   {
    "duration": 8,
    "start_time": "2023-07-28T11:11:49.201Z"
   },
   {
    "duration": 14,
    "start_time": "2023-07-28T11:11:49.211Z"
   },
   {
    "duration": 32,
    "start_time": "2023-07-28T11:11:49.227Z"
   },
   {
    "duration": 60,
    "start_time": "2023-07-28T11:11:49.261Z"
   },
   {
    "duration": 17,
    "start_time": "2023-07-28T11:11:49.324Z"
   },
   {
    "duration": 25,
    "start_time": "2023-07-28T11:11:49.345Z"
   },
   {
    "duration": 388,
    "start_time": "2023-07-28T11:11:49.372Z"
   },
   {
    "duration": 189,
    "start_time": "2023-07-28T11:11:49.762Z"
   },
   {
    "duration": 3079,
    "start_time": "2023-07-28T11:11:49.952Z"
   },
   {
    "duration": 6,
    "start_time": "2023-07-28T11:11:53.033Z"
   },
   {
    "duration": 383,
    "start_time": "2023-07-28T11:11:53.040Z"
   },
   {
    "duration": 1844,
    "start_time": "2023-07-28T11:11:53.425Z"
   },
   {
    "duration": 232,
    "start_time": "2023-07-28T11:12:00.009Z"
   },
   {
    "duration": 347,
    "start_time": "2023-07-28T11:13:28.125Z"
   },
   {
    "duration": 121,
    "start_time": "2023-07-28T11:14:07.311Z"
   },
   {
    "duration": 305,
    "start_time": "2023-07-28T11:14:21.403Z"
   },
   {
    "duration": 205,
    "start_time": "2023-07-28T11:14:42.418Z"
   },
   {
    "duration": 357,
    "start_time": "2023-07-28T11:14:56.142Z"
   },
   {
    "duration": 372,
    "start_time": "2023-07-28T11:15:00.337Z"
   },
   {
    "duration": 365,
    "start_time": "2023-07-28T11:15:04.561Z"
   },
   {
    "duration": 321,
    "start_time": "2023-07-28T11:15:20.704Z"
   },
   {
    "duration": 366,
    "start_time": "2023-07-28T11:15:47.546Z"
   },
   {
    "duration": 322,
    "start_time": "2023-07-28T11:16:06.322Z"
   },
   {
    "duration": 498,
    "start_time": "2023-07-28T11:16:52.295Z"
   },
   {
    "duration": 410,
    "start_time": "2023-07-28T11:17:22.398Z"
   },
   {
    "duration": 466,
    "start_time": "2023-07-28T11:18:16.554Z"
   },
   {
    "duration": 368,
    "start_time": "2023-07-28T11:18:26.818Z"
   },
   {
    "duration": 380,
    "start_time": "2023-07-28T11:18:51.344Z"
   },
   {
    "duration": 582,
    "start_time": "2023-07-28T11:19:04.341Z"
   },
   {
    "duration": 408,
    "start_time": "2023-07-28T11:19:16.103Z"
   },
   {
    "duration": 420,
    "start_time": "2023-07-28T11:20:39.995Z"
   },
   {
    "duration": 293,
    "start_time": "2023-07-28T11:20:52.426Z"
   },
   {
    "duration": 505,
    "start_time": "2023-07-28T11:21:02.102Z"
   },
   {
    "duration": 584,
    "start_time": "2023-07-28T11:21:22.529Z"
   },
   {
    "duration": 1026,
    "start_time": "2023-07-28T11:21:31.798Z"
   },
   {
    "duration": 536,
    "start_time": "2023-07-28T11:21:57.110Z"
   },
   {
    "duration": 940,
    "start_time": "2023-07-28T11:22:20.975Z"
   },
   {
    "duration": 418,
    "start_time": "2023-07-28T11:22:30.791Z"
   },
   {
    "duration": 829,
    "start_time": "2023-07-28T11:22:46.067Z"
   },
   {
    "duration": 409,
    "start_time": "2023-07-28T11:22:55.890Z"
   },
   {
    "duration": 216,
    "start_time": "2023-07-28T11:23:04.052Z"
   },
   {
    "duration": 88,
    "start_time": "2023-07-28T11:24:15.026Z"
   },
   {
    "duration": 88,
    "start_time": "2023-07-28T11:24:21.105Z"
   },
   {
    "duration": 305,
    "start_time": "2023-07-28T11:24:30.549Z"
   },
   {
    "duration": 85,
    "start_time": "2023-07-28T11:24:46.124Z"
   },
   {
    "duration": 102,
    "start_time": "2023-07-28T11:25:24.610Z"
   },
   {
    "duration": 81,
    "start_time": "2023-07-28T11:25:40.117Z"
   },
   {
    "duration": 70,
    "start_time": "2023-07-28T11:25:46.197Z"
   },
   {
    "duration": 77,
    "start_time": "2023-07-28T11:26:08.912Z"
   },
   {
    "duration": 87,
    "start_time": "2023-07-28T11:26:15.511Z"
   },
   {
    "duration": 211,
    "start_time": "2023-07-28T11:26:44.941Z"
   },
   {
    "duration": 14,
    "start_time": "2023-07-28T11:26:53.092Z"
   },
   {
    "duration": 12,
    "start_time": "2023-07-28T11:27:01.726Z"
   },
   {
    "duration": 25,
    "start_time": "2023-07-28T11:27:21.623Z"
   },
   {
    "duration": 17,
    "start_time": "2023-07-28T11:27:34.323Z"
   },
   {
    "duration": 25,
    "start_time": "2023-07-28T11:27:42.403Z"
   },
   {
    "duration": 10,
    "start_time": "2023-07-28T11:27:52.324Z"
   },
   {
    "duration": 14,
    "start_time": "2023-07-28T11:28:00.363Z"
   },
   {
    "duration": 86,
    "start_time": "2023-07-28T11:28:57.262Z"
   },
   {
    "duration": 71,
    "start_time": "2023-07-28T11:29:12.386Z"
   },
   {
    "duration": 75,
    "start_time": "2023-07-28T11:29:47.695Z"
   },
   {
    "duration": 84,
    "start_time": "2023-07-28T11:30:22.431Z"
   },
   {
    "duration": 78,
    "start_time": "2023-07-28T11:30:47.965Z"
   },
   {
    "duration": 81,
    "start_time": "2023-07-28T11:30:56.207Z"
   },
   {
    "duration": 111,
    "start_time": "2023-07-28T11:31:19.783Z"
   },
   {
    "duration": 14,
    "start_time": "2023-07-28T11:32:01.792Z"
   },
   {
    "duration": 161,
    "start_time": "2023-07-28T11:32:09.210Z"
   },
   {
    "duration": 122,
    "start_time": "2023-07-28T11:32:21.388Z"
   },
   {
    "duration": 247,
    "start_time": "2023-07-28T11:33:13.258Z"
   },
   {
    "duration": 11,
    "start_time": "2023-07-28T11:33:20.293Z"
   },
   {
    "duration": 10,
    "start_time": "2023-07-28T11:33:54.887Z"
   },
   {
    "duration": 126,
    "start_time": "2023-07-28T11:34:02.999Z"
   },
   {
    "duration": 9,
    "start_time": "2023-07-28T11:34:30.947Z"
   },
   {
    "duration": 4,
    "start_time": "2023-07-28T11:34:38.262Z"
   },
   {
    "duration": 53,
    "start_time": "2023-07-28T11:34:38.290Z"
   },
   {
    "duration": 5,
    "start_time": "2023-07-28T11:34:38.345Z"
   },
   {
    "duration": 21,
    "start_time": "2023-07-28T11:34:38.351Z"
   },
   {
    "duration": 49,
    "start_time": "2023-07-28T11:34:38.373Z"
   },
   {
    "duration": 15,
    "start_time": "2023-07-28T11:34:38.426Z"
   },
   {
    "duration": 1067,
    "start_time": "2023-07-28T11:34:38.443Z"
   },
   {
    "duration": 32,
    "start_time": "2023-07-28T11:34:39.512Z"
   },
   {
    "duration": 10,
    "start_time": "2023-07-28T11:34:39.546Z"
   },
   {
    "duration": 6,
    "start_time": "2023-07-28T11:34:39.585Z"
   },
   {
    "duration": 20,
    "start_time": "2023-07-28T11:34:39.594Z"
   },
   {
    "duration": 11,
    "start_time": "2023-07-28T11:34:39.617Z"
   },
   {
    "duration": 14,
    "start_time": "2023-07-28T11:34:39.630Z"
   },
   {
    "duration": 297,
    "start_time": "2023-07-28T11:34:39.646Z"
   },
   {
    "duration": 10,
    "start_time": "2023-07-28T11:34:39.947Z"
   },
   {
    "duration": 55,
    "start_time": "2023-07-28T11:34:39.959Z"
   },
   {
    "duration": 33,
    "start_time": "2023-07-28T11:34:40.017Z"
   },
   {
    "duration": 31,
    "start_time": "2023-07-28T11:34:40.051Z"
   },
   {
    "duration": 29,
    "start_time": "2023-07-28T11:34:40.091Z"
   },
   {
    "duration": 21,
    "start_time": "2023-07-28T11:34:40.123Z"
   },
   {
    "duration": 23,
    "start_time": "2023-07-28T11:34:40.146Z"
   },
   {
    "duration": 28,
    "start_time": "2023-07-28T11:34:40.171Z"
   },
   {
    "duration": 28,
    "start_time": "2023-07-28T11:34:40.201Z"
   },
   {
    "duration": 21,
    "start_time": "2023-07-28T11:34:40.232Z"
   },
   {
    "duration": 32,
    "start_time": "2023-07-28T11:34:40.255Z"
   },
   {
    "duration": 35,
    "start_time": "2023-07-28T11:34:40.291Z"
   },
   {
    "duration": 16,
    "start_time": "2023-07-28T11:34:40.328Z"
   },
   {
    "duration": 19,
    "start_time": "2023-07-28T11:34:40.345Z"
   },
   {
    "duration": 329,
    "start_time": "2023-07-28T11:34:40.366Z"
   },
   {
    "duration": 194,
    "start_time": "2023-07-28T11:34:40.697Z"
   },
   {
    "duration": 3251,
    "start_time": "2023-07-28T11:34:40.892Z"
   },
   {
    "duration": 6,
    "start_time": "2023-07-28T11:34:44.144Z"
   },
   {
    "duration": 349,
    "start_time": "2023-07-28T11:34:44.152Z"
   },
   {
    "duration": 1618,
    "start_time": "2023-07-28T11:34:44.503Z"
   },
   {
    "duration": 358,
    "start_time": "2023-07-28T11:34:48.475Z"
   },
   {
    "duration": 302,
    "start_time": "2023-07-28T11:35:39.087Z"
   },
   {
    "duration": 293,
    "start_time": "2023-07-28T11:36:06.040Z"
   },
   {
    "duration": 410,
    "start_time": "2023-07-28T11:36:39.088Z"
   },
   {
    "duration": 451,
    "start_time": "2023-07-28T11:36:50.715Z"
   },
   {
    "duration": 519,
    "start_time": "2023-07-28T11:36:58.538Z"
   },
   {
    "duration": 445,
    "start_time": "2023-07-28T11:37:07.888Z"
   },
   {
    "duration": 409,
    "start_time": "2023-07-28T11:37:22.134Z"
   },
   {
    "duration": 419,
    "start_time": "2023-07-28T11:37:26.988Z"
   },
   {
    "duration": 532,
    "start_time": "2023-07-28T11:38:08.289Z"
   },
   {
    "duration": 428,
    "start_time": "2023-07-28T11:38:13.704Z"
   },
   {
    "duration": 415,
    "start_time": "2023-07-28T11:39:16.891Z"
   },
   {
    "duration": 417,
    "start_time": "2023-07-28T11:39:23.292Z"
   },
   {
    "duration": 409,
    "start_time": "2023-07-28T11:39:33.119Z"
   },
   {
    "duration": 248,
    "start_time": "2023-07-28T11:42:04.497Z"
   },
   {
    "duration": 129,
    "start_time": "2023-07-28T11:43:06.157Z"
   },
   {
    "duration": 127,
    "start_time": "2023-07-28T11:43:15.344Z"
   },
   {
    "duration": 105,
    "start_time": "2023-07-28T11:43:54.259Z"
   },
   {
    "duration": 110,
    "start_time": "2023-07-28T11:44:06.792Z"
   },
   {
    "duration": 102,
    "start_time": "2023-07-28T11:44:31.525Z"
   },
   {
    "duration": 86,
    "start_time": "2023-07-28T11:44:44.744Z"
   },
   {
    "duration": 85,
    "start_time": "2023-07-28T11:45:34.361Z"
   },
   {
    "duration": 195,
    "start_time": "2023-07-28T11:45:59.552Z"
   },
   {
    "duration": 109,
    "start_time": "2023-07-28T11:46:06.315Z"
   },
   {
    "duration": 118,
    "start_time": "2023-07-28T11:46:25.412Z"
   },
   {
    "duration": 1664,
    "start_time": "2023-07-28T11:46:33.387Z"
   },
   {
    "duration": 85,
    "start_time": "2023-07-28T11:46:49.387Z"
   },
   {
    "duration": 112,
    "start_time": "2023-07-28T11:47:30.492Z"
   },
   {
    "duration": 137,
    "start_time": "2023-07-28T11:47:46.452Z"
   },
   {
    "duration": 183,
    "start_time": "2023-07-28T11:48:10.439Z"
   },
   {
    "duration": 94,
    "start_time": "2023-07-28T11:49:04.499Z"
   },
   {
    "duration": 98,
    "start_time": "2023-07-28T11:49:09.215Z"
   },
   {
    "duration": 19,
    "start_time": "2023-07-28T11:49:16.031Z"
   },
   {
    "duration": 20,
    "start_time": "2023-07-28T11:49:33.831Z"
   },
   {
    "duration": 12,
    "start_time": "2023-07-28T11:49:40.787Z"
   },
   {
    "duration": 10,
    "start_time": "2023-07-28T11:50:01.593Z"
   },
   {
    "duration": 13,
    "start_time": "2023-07-28T11:50:14.897Z"
   },
   {
    "duration": 112,
    "start_time": "2023-07-28T11:50:35.085Z"
   },
   {
    "duration": 105,
    "start_time": "2023-07-28T11:51:29.896Z"
   },
   {
    "duration": 159,
    "start_time": "2023-07-28T11:52:11.035Z"
   },
   {
    "duration": 169,
    "start_time": "2023-07-28T11:52:37.329Z"
   },
   {
    "duration": 180,
    "start_time": "2023-07-28T11:52:50.016Z"
   },
   {
    "duration": 189,
    "start_time": "2023-07-28T11:52:57.850Z"
   },
   {
    "duration": 146,
    "start_time": "2023-07-28T11:53:54.961Z"
   },
   {
    "duration": 369,
    "start_time": "2023-07-28T11:54:13.868Z"
   },
   {
    "duration": 149,
    "start_time": "2023-07-28T11:54:49.005Z"
   },
   {
    "duration": 300,
    "start_time": "2023-07-28T11:56:19.005Z"
   },
   {
    "duration": 157,
    "start_time": "2023-07-28T11:56:29.524Z"
   },
   {
    "duration": 144,
    "start_time": "2023-07-28T11:56:51.255Z"
   },
   {
    "duration": 111,
    "start_time": "2023-07-28T11:56:57.308Z"
   },
   {
    "duration": 3,
    "start_time": "2023-07-28T11:57:12.952Z"
   },
   {
    "duration": 69,
    "start_time": "2023-07-28T11:57:12.958Z"
   },
   {
    "duration": 4,
    "start_time": "2023-07-28T11:57:13.029Z"
   },
   {
    "duration": 75,
    "start_time": "2023-07-28T11:57:13.035Z"
   },
   {
    "duration": 52,
    "start_time": "2023-07-28T11:57:13.112Z"
   },
   {
    "duration": 29,
    "start_time": "2023-07-28T11:57:13.166Z"
   },
   {
    "duration": 1117,
    "start_time": "2023-07-28T11:57:13.197Z"
   },
   {
    "duration": 18,
    "start_time": "2023-07-28T11:57:14.315Z"
   },
   {
    "duration": 8,
    "start_time": "2023-07-28T11:57:14.334Z"
   },
   {
    "duration": 4,
    "start_time": "2023-07-28T11:57:14.344Z"
   },
   {
    "duration": 35,
    "start_time": "2023-07-28T11:57:14.350Z"
   },
   {
    "duration": 10,
    "start_time": "2023-07-28T11:57:14.389Z"
   },
   {
    "duration": 21,
    "start_time": "2023-07-28T11:57:14.401Z"
   },
   {
    "duration": 276,
    "start_time": "2023-07-28T11:57:14.423Z"
   },
   {
    "duration": 8,
    "start_time": "2023-07-28T11:57:14.701Z"
   },
   {
    "duration": 15,
    "start_time": "2023-07-28T11:57:14.711Z"
   },
   {
    "duration": 24,
    "start_time": "2023-07-28T11:57:14.727Z"
   },
   {
    "duration": 19,
    "start_time": "2023-07-28T11:57:14.752Z"
   },
   {
    "duration": 33,
    "start_time": "2023-07-28T11:57:14.772Z"
   },
   {
    "duration": 13,
    "start_time": "2023-07-28T11:57:14.806Z"
   },
   {
    "duration": 13,
    "start_time": "2023-07-28T11:57:14.821Z"
   },
   {
    "duration": 10,
    "start_time": "2023-07-28T11:57:14.836Z"
   },
   {
    "duration": 5,
    "start_time": "2023-07-28T11:57:14.848Z"
   },
   {
    "duration": 15,
    "start_time": "2023-07-28T11:57:14.854Z"
   },
   {
    "duration": 19,
    "start_time": "2023-07-28T11:57:14.871Z"
   },
   {
    "duration": 14,
    "start_time": "2023-07-28T11:57:14.891Z"
   },
   {
    "duration": 5,
    "start_time": "2023-07-28T11:57:14.906Z"
   },
   {
    "duration": 21,
    "start_time": "2023-07-28T11:57:14.913Z"
   },
   {
    "duration": 267,
    "start_time": "2023-07-28T11:57:14.937Z"
   },
   {
    "duration": 157,
    "start_time": "2023-07-28T11:57:15.206Z"
   },
   {
    "duration": 2559,
    "start_time": "2023-07-28T11:57:15.364Z"
   },
   {
    "duration": 5,
    "start_time": "2023-07-28T11:57:17.925Z"
   },
   {
    "duration": 489,
    "start_time": "2023-07-28T11:57:17.932Z"
   },
   {
    "duration": 1365,
    "start_time": "2023-07-28T11:57:18.423Z"
   },
   {
    "duration": 113,
    "start_time": "2023-07-28T11:57:24.549Z"
   },
   {
    "duration": 118,
    "start_time": "2023-07-28T11:58:48.126Z"
   },
   {
    "duration": 124,
    "start_time": "2023-07-28T11:59:01.201Z"
   },
   {
    "duration": 257,
    "start_time": "2023-07-28T11:59:11.068Z"
   },
   {
    "duration": 4,
    "start_time": "2023-07-28T11:59:17.092Z"
   },
   {
    "duration": 68,
    "start_time": "2023-07-28T11:59:17.098Z"
   },
   {
    "duration": 4,
    "start_time": "2023-07-28T11:59:17.168Z"
   },
   {
    "duration": 42,
    "start_time": "2023-07-28T11:59:17.173Z"
   },
   {
    "duration": 74,
    "start_time": "2023-07-28T11:59:17.217Z"
   },
   {
    "duration": 15,
    "start_time": "2023-07-28T11:59:17.293Z"
   },
   {
    "duration": 1004,
    "start_time": "2023-07-28T11:59:17.309Z"
   },
   {
    "duration": 19,
    "start_time": "2023-07-28T11:59:18.315Z"
   },
   {
    "duration": 25,
    "start_time": "2023-07-28T11:59:18.336Z"
   },
   {
    "duration": 15,
    "start_time": "2023-07-28T11:59:18.363Z"
   },
   {
    "duration": 31,
    "start_time": "2023-07-28T11:59:18.381Z"
   },
   {
    "duration": 11,
    "start_time": "2023-07-28T11:59:18.414Z"
   },
   {
    "duration": 17,
    "start_time": "2023-07-28T11:59:18.426Z"
   },
   {
    "duration": 287,
    "start_time": "2023-07-28T11:59:18.445Z"
   },
   {
    "duration": 11,
    "start_time": "2023-07-28T11:59:18.734Z"
   },
   {
    "duration": 21,
    "start_time": "2023-07-28T11:59:18.746Z"
   },
   {
    "duration": 32,
    "start_time": "2023-07-28T11:59:18.768Z"
   },
   {
    "duration": 17,
    "start_time": "2023-07-28T11:59:18.802Z"
   },
   {
    "duration": 26,
    "start_time": "2023-07-28T11:59:18.820Z"
   },
   {
    "duration": 16,
    "start_time": "2023-07-28T11:59:18.847Z"
   },
   {
    "duration": 36,
    "start_time": "2023-07-28T11:59:18.864Z"
   },
   {
    "duration": 17,
    "start_time": "2023-07-28T11:59:18.901Z"
   },
   {
    "duration": 31,
    "start_time": "2023-07-28T11:59:18.920Z"
   },
   {
    "duration": 16,
    "start_time": "2023-07-28T11:59:18.952Z"
   },
   {
    "duration": 34,
    "start_time": "2023-07-28T11:59:18.970Z"
   },
   {
    "duration": 25,
    "start_time": "2023-07-28T11:59:19.006Z"
   },
   {
    "duration": 6,
    "start_time": "2023-07-28T11:59:19.032Z"
   },
   {
    "duration": 16,
    "start_time": "2023-07-28T11:59:19.040Z"
   },
   {
    "duration": 281,
    "start_time": "2023-07-28T11:59:19.059Z"
   },
   {
    "duration": 277,
    "start_time": "2023-07-28T11:59:19.342Z"
   },
   {
    "duration": 2612,
    "start_time": "2023-07-28T11:59:19.620Z"
   },
   {
    "duration": 6,
    "start_time": "2023-07-28T11:59:22.233Z"
   },
   {
    "duration": 324,
    "start_time": "2023-07-28T11:59:22.241Z"
   },
   {
    "duration": 1719,
    "start_time": "2023-07-28T11:59:22.567Z"
   },
   {
    "duration": 129,
    "start_time": "2023-07-28T11:59:31.908Z"
   },
   {
    "duration": 120,
    "start_time": "2023-07-28T12:00:02.153Z"
   },
   {
    "duration": 111,
    "start_time": "2023-07-28T12:00:09.915Z"
   },
   {
    "duration": 111,
    "start_time": "2023-07-28T12:00:14.449Z"
   },
   {
    "duration": 116,
    "start_time": "2023-07-28T12:00:26.309Z"
   },
   {
    "duration": 139,
    "start_time": "2023-07-28T12:01:50.346Z"
   },
   {
    "duration": 190,
    "start_time": "2023-07-28T12:02:03.795Z"
   },
   {
    "duration": 158,
    "start_time": "2023-07-28T12:02:12.112Z"
   },
   {
    "duration": 146,
    "start_time": "2023-07-28T12:02:18.290Z"
   },
   {
    "duration": 141,
    "start_time": "2023-07-28T12:02:21.502Z"
   },
   {
    "duration": 153,
    "start_time": "2023-07-28T12:02:50.102Z"
   },
   {
    "duration": 447,
    "start_time": "2023-07-28T12:03:24.589Z"
   },
   {
    "duration": 205,
    "start_time": "2023-07-28T12:03:30.449Z"
   },
   {
    "duration": 241,
    "start_time": "2023-07-28T12:04:08.055Z"
   },
   {
    "duration": 215,
    "start_time": "2023-07-28T12:04:21.742Z"
   },
   {
    "duration": 3,
    "start_time": "2023-07-28T12:04:42.588Z"
   },
   {
    "duration": 55,
    "start_time": "2023-07-28T12:04:42.593Z"
   },
   {
    "duration": 4,
    "start_time": "2023-07-28T12:04:42.650Z"
   },
   {
    "duration": 43,
    "start_time": "2023-07-28T12:04:42.656Z"
   },
   {
    "duration": 31,
    "start_time": "2023-07-28T12:04:42.701Z"
   },
   {
    "duration": 12,
    "start_time": "2023-07-28T12:04:42.734Z"
   },
   {
    "duration": 983,
    "start_time": "2023-07-28T12:04:42.747Z"
   },
   {
    "duration": 19,
    "start_time": "2023-07-28T12:04:43.732Z"
   },
   {
    "duration": 34,
    "start_time": "2023-07-28T12:04:43.753Z"
   },
   {
    "duration": 5,
    "start_time": "2023-07-28T12:04:43.789Z"
   },
   {
    "duration": 12,
    "start_time": "2023-07-28T12:04:43.796Z"
   },
   {
    "duration": 14,
    "start_time": "2023-07-28T12:04:43.809Z"
   },
   {
    "duration": 8,
    "start_time": "2023-07-28T12:04:43.828Z"
   },
   {
    "duration": 397,
    "start_time": "2023-07-28T12:04:43.838Z"
   },
   {
    "duration": 10,
    "start_time": "2023-07-28T12:04:44.236Z"
   },
   {
    "duration": 39,
    "start_time": "2023-07-28T12:04:44.247Z"
   },
   {
    "duration": 27,
    "start_time": "2023-07-28T12:04:44.288Z"
   },
   {
    "duration": 32,
    "start_time": "2023-07-28T12:04:44.316Z"
   },
   {
    "duration": 40,
    "start_time": "2023-07-28T12:04:44.350Z"
   },
   {
    "duration": 28,
    "start_time": "2023-07-28T12:04:44.392Z"
   },
   {
    "duration": 16,
    "start_time": "2023-07-28T12:04:44.421Z"
   },
   {
    "duration": 20,
    "start_time": "2023-07-28T12:04:44.438Z"
   },
   {
    "duration": 27,
    "start_time": "2023-07-28T12:04:44.459Z"
   },
   {
    "duration": 18,
    "start_time": "2023-07-28T12:04:44.488Z"
   },
   {
    "duration": 11,
    "start_time": "2023-07-28T12:04:44.508Z"
   },
   {
    "duration": 23,
    "start_time": "2023-07-28T12:04:44.520Z"
   },
   {
    "duration": 21,
    "start_time": "2023-07-28T12:04:44.545Z"
   },
   {
    "duration": 41,
    "start_time": "2023-07-28T12:04:44.567Z"
   },
   {
    "duration": 299,
    "start_time": "2023-07-28T12:04:44.610Z"
   },
   {
    "duration": 178,
    "start_time": "2023-07-28T12:04:44.910Z"
   },
   {
    "duration": 2691,
    "start_time": "2023-07-28T12:04:45.090Z"
   },
   {
    "duration": 10,
    "start_time": "2023-07-28T12:04:47.783Z"
   },
   {
    "duration": 341,
    "start_time": "2023-07-28T12:04:47.795Z"
   },
   {
    "duration": 1580,
    "start_time": "2023-07-28T12:04:48.137Z"
   },
   {
    "duration": 194,
    "start_time": "2023-07-28T12:04:52.844Z"
   },
   {
    "duration": 226,
    "start_time": "2023-07-28T12:05:17.397Z"
   },
   {
    "duration": 147,
    "start_time": "2023-07-28T12:05:57.341Z"
   },
   {
    "duration": 208,
    "start_time": "2023-07-28T12:06:05.687Z"
   },
   {
    "duration": 233,
    "start_time": "2023-07-28T12:06:13.557Z"
   },
   {
    "duration": 207,
    "start_time": "2023-07-28T12:06:46.102Z"
   },
   {
    "duration": 353,
    "start_time": "2023-07-28T12:07:09.195Z"
   },
   {
    "duration": 215,
    "start_time": "2023-07-28T12:07:17.026Z"
   },
   {
    "duration": 253,
    "start_time": "2023-07-28T12:07:27.035Z"
   },
   {
    "duration": 252,
    "start_time": "2023-07-28T12:08:09.814Z"
   },
   {
    "duration": 239,
    "start_time": "2023-07-28T12:08:29.055Z"
   },
   {
    "duration": 318,
    "start_time": "2023-07-28T12:10:40.304Z"
   },
   {
    "duration": 3,
    "start_time": "2023-07-28T12:11:18.735Z"
   },
   {
    "duration": 73,
    "start_time": "2023-07-28T12:11:18.740Z"
   },
   {
    "duration": 4,
    "start_time": "2023-07-28T12:11:18.815Z"
   },
   {
    "duration": 42,
    "start_time": "2023-07-28T12:11:18.820Z"
   },
   {
    "duration": 66,
    "start_time": "2023-07-28T12:11:18.864Z"
   },
   {
    "duration": 18,
    "start_time": "2023-07-28T12:11:18.932Z"
   },
   {
    "duration": 1244,
    "start_time": "2023-07-28T12:11:18.951Z"
   },
   {
    "duration": 35,
    "start_time": "2023-07-28T12:11:20.196Z"
   },
   {
    "duration": 16,
    "start_time": "2023-07-28T12:11:20.232Z"
   },
   {
    "duration": 12,
    "start_time": "2023-07-28T12:11:20.250Z"
   },
   {
    "duration": 29,
    "start_time": "2023-07-28T12:11:20.276Z"
   },
   {
    "duration": 27,
    "start_time": "2023-07-28T12:11:20.307Z"
   },
   {
    "duration": 28,
    "start_time": "2023-07-28T12:11:20.336Z"
   },
   {
    "duration": 429,
    "start_time": "2023-07-28T12:11:20.367Z"
   },
   {
    "duration": 15,
    "start_time": "2023-07-28T12:11:20.798Z"
   },
   {
    "duration": 15,
    "start_time": "2023-07-28T12:11:20.815Z"
   },
   {
    "duration": 13,
    "start_time": "2023-07-28T12:11:20.832Z"
   },
   {
    "duration": 18,
    "start_time": "2023-07-28T12:11:20.847Z"
   },
   {
    "duration": 36,
    "start_time": "2023-07-28T12:11:20.867Z"
   },
   {
    "duration": 20,
    "start_time": "2023-07-28T12:11:20.905Z"
   },
   {
    "duration": 22,
    "start_time": "2023-07-28T12:11:20.927Z"
   },
   {
    "duration": 16,
    "start_time": "2023-07-28T12:11:20.950Z"
   },
   {
    "duration": 9,
    "start_time": "2023-07-28T12:11:20.968Z"
   },
   {
    "duration": 14,
    "start_time": "2023-07-28T12:11:20.986Z"
   },
   {
    "duration": 25,
    "start_time": "2023-07-28T12:11:21.002Z"
   },
   {
    "duration": 40,
    "start_time": "2023-07-28T12:11:21.029Z"
   },
   {
    "duration": 18,
    "start_time": "2023-07-28T12:11:21.071Z"
   },
   {
    "duration": 7,
    "start_time": "2023-07-28T12:11:21.091Z"
   },
   {
    "duration": 353,
    "start_time": "2023-07-28T12:11:21.102Z"
   },
   {
    "duration": 184,
    "start_time": "2023-07-28T12:11:21.457Z"
   },
   {
    "duration": 3214,
    "start_time": "2023-07-28T12:11:21.643Z"
   },
   {
    "duration": 36,
    "start_time": "2023-07-28T12:11:24.859Z"
   },
   {
    "duration": 545,
    "start_time": "2023-07-28T12:11:24.897Z"
   },
   {
    "duration": 1599,
    "start_time": "2023-07-28T12:11:25.444Z"
   },
   {
    "duration": 129,
    "start_time": "2023-07-28T12:11:30.664Z"
   },
   {
    "duration": 216,
    "start_time": "2023-07-28T12:11:35.210Z"
   },
   {
    "duration": 42,
    "start_time": "2023-07-28T12:12:00.356Z"
   },
   {
    "duration": 236,
    "start_time": "2023-07-28T12:12:35.320Z"
   },
   {
    "duration": 213,
    "start_time": "2023-07-28T12:12:53.337Z"
   },
   {
    "duration": 266,
    "start_time": "2023-07-28T12:13:05.746Z"
   },
   {
    "duration": 367,
    "start_time": "2023-07-28T12:13:21.414Z"
   },
   {
    "duration": 2173,
    "start_time": "2023-07-28T12:14:14.047Z"
   },
   {
    "duration": 295,
    "start_time": "2023-07-28T12:14:40.022Z"
   },
   {
    "duration": 180,
    "start_time": "2023-07-28T12:14:52.712Z"
   },
   {
    "duration": 148,
    "start_time": "2023-07-28T12:15:26.545Z"
   },
   {
    "duration": 209,
    "start_time": "2023-07-28T12:15:33.532Z"
   },
   {
    "duration": 192,
    "start_time": "2023-07-28T12:16:03.971Z"
   },
   {
    "duration": 211,
    "start_time": "2023-07-28T12:16:15.045Z"
   },
   {
    "duration": 260,
    "start_time": "2023-07-28T12:16:36.841Z"
   },
   {
    "duration": 253,
    "start_time": "2023-07-28T12:16:57.094Z"
   },
   {
    "duration": 186,
    "start_time": "2023-07-28T12:17:21.312Z"
   },
   {
    "duration": 185,
    "start_time": "2023-07-28T12:17:31.431Z"
   },
   {
    "duration": 169,
    "start_time": "2023-07-28T12:17:57.887Z"
   },
   {
    "duration": 199,
    "start_time": "2023-07-28T12:18:35.219Z"
   },
   {
    "duration": 192,
    "start_time": "2023-07-28T12:18:50.995Z"
   },
   {
    "duration": 648,
    "start_time": "2023-07-28T12:19:47.998Z"
   },
   {
    "duration": 551,
    "start_time": "2023-07-28T12:20:13.530Z"
   },
   {
    "duration": 256,
    "start_time": "2023-07-28T12:21:06.413Z"
   },
   {
    "duration": 216,
    "start_time": "2023-07-28T12:21:19.498Z"
   },
   {
    "duration": 19,
    "start_time": "2023-07-28T12:21:44.130Z"
   },
   {
    "duration": 228,
    "start_time": "2023-07-28T12:21:49.527Z"
   },
   {
    "duration": 249,
    "start_time": "2023-07-28T12:22:08.265Z"
   },
   {
    "duration": 233,
    "start_time": "2023-07-28T12:22:14.340Z"
   },
   {
    "duration": 240,
    "start_time": "2023-07-28T12:23:04.354Z"
   },
   {
    "duration": 213,
    "start_time": "2023-07-28T12:23:24.402Z"
   },
   {
    "duration": 218,
    "start_time": "2023-07-28T12:23:43.513Z"
   },
   {
    "duration": 370,
    "start_time": "2023-07-28T12:24:07.695Z"
   },
   {
    "duration": 13,
    "start_time": "2023-07-28T12:25:29.935Z"
   },
   {
    "duration": 13,
    "start_time": "2023-07-28T12:25:37.317Z"
   },
   {
    "duration": 12,
    "start_time": "2023-07-28T12:25:44.300Z"
   },
   {
    "duration": 12,
    "start_time": "2023-07-28T12:25:48.449Z"
   },
   {
    "duration": 3,
    "start_time": "2023-07-28T12:25:55.902Z"
   },
   {
    "duration": 79,
    "start_time": "2023-07-28T12:25:55.907Z"
   },
   {
    "duration": 5,
    "start_time": "2023-07-28T12:25:55.989Z"
   },
   {
    "duration": 30,
    "start_time": "2023-07-28T12:25:56.001Z"
   },
   {
    "duration": 53,
    "start_time": "2023-07-28T12:25:56.034Z"
   },
   {
    "duration": 17,
    "start_time": "2023-07-28T12:25:56.089Z"
   },
   {
    "duration": 1082,
    "start_time": "2023-07-28T12:25:56.109Z"
   },
   {
    "duration": 30,
    "start_time": "2023-07-28T12:25:57.194Z"
   },
   {
    "duration": 61,
    "start_time": "2023-07-28T12:25:57.226Z"
   },
   {
    "duration": 15,
    "start_time": "2023-07-28T12:25:57.289Z"
   },
   {
    "duration": 14,
    "start_time": "2023-07-28T12:25:57.307Z"
   },
   {
    "duration": 10,
    "start_time": "2023-07-28T12:25:57.323Z"
   },
   {
    "duration": 6,
    "start_time": "2023-07-28T12:25:57.335Z"
   },
   {
    "duration": 276,
    "start_time": "2023-07-28T12:25:57.342Z"
   },
   {
    "duration": 11,
    "start_time": "2023-07-28T12:25:57.619Z"
   },
   {
    "duration": 32,
    "start_time": "2023-07-28T12:25:57.632Z"
   },
   {
    "duration": 52,
    "start_time": "2023-07-28T12:25:57.666Z"
   },
   {
    "duration": 14,
    "start_time": "2023-07-28T12:25:57.721Z"
   },
   {
    "duration": 29,
    "start_time": "2023-07-28T12:25:57.737Z"
   },
   {
    "duration": 18,
    "start_time": "2023-07-28T12:25:57.769Z"
   },
   {
    "duration": 11,
    "start_time": "2023-07-28T12:25:57.789Z"
   },
   {
    "duration": 28,
    "start_time": "2023-07-28T12:25:57.801Z"
   },
   {
    "duration": 5,
    "start_time": "2023-07-28T12:25:57.831Z"
   },
   {
    "duration": 30,
    "start_time": "2023-07-28T12:25:57.837Z"
   },
   {
    "duration": 18,
    "start_time": "2023-07-28T12:25:57.869Z"
   },
   {
    "duration": 20,
    "start_time": "2023-07-28T12:25:57.890Z"
   },
   {
    "duration": 26,
    "start_time": "2023-07-28T12:25:57.912Z"
   },
   {
    "duration": 33,
    "start_time": "2023-07-28T12:25:57.940Z"
   },
   {
    "duration": 264,
    "start_time": "2023-07-28T12:25:57.976Z"
   },
   {
    "duration": 352,
    "start_time": "2023-07-28T12:25:58.242Z"
   },
   {
    "duration": 2939,
    "start_time": "2023-07-28T12:25:58.595Z"
   },
   {
    "duration": 6,
    "start_time": "2023-07-28T12:26:01.536Z"
   },
   {
    "duration": 427,
    "start_time": "2023-07-28T12:26:01.544Z"
   },
   {
    "duration": 1839,
    "start_time": "2023-07-28T12:26:01.978Z"
   },
   {
    "duration": 21,
    "start_time": "2023-07-28T12:26:06.875Z"
   },
   {
    "duration": 197,
    "start_time": "2023-07-28T12:26:28.392Z"
   },
   {
    "duration": 1690,
    "start_time": "2023-07-28T12:26:36.482Z"
   },
   {
    "duration": 1513,
    "start_time": "2023-07-28T12:26:48.213Z"
   },
   {
    "duration": 1541,
    "start_time": "2023-07-28T12:26:56.492Z"
   },
   {
    "duration": 1595,
    "start_time": "2023-07-28T12:27:34.058Z"
   },
   {
    "duration": 1669,
    "start_time": "2023-07-28T12:27:58.463Z"
   },
   {
    "duration": 1700,
    "start_time": "2023-07-28T12:28:29.327Z"
   },
   {
    "duration": 190,
    "start_time": "2023-07-28T12:28:40.041Z"
   },
   {
    "duration": 206,
    "start_time": "2023-07-28T12:28:43.442Z"
   },
   {
    "duration": 209,
    "start_time": "2023-07-28T12:28:54.688Z"
   },
   {
    "duration": 16,
    "start_time": "2023-07-28T12:29:51.518Z"
   },
   {
    "duration": 251,
    "start_time": "2023-07-28T12:29:55.502Z"
   },
   {
    "duration": 320,
    "start_time": "2023-07-28T12:30:10.345Z"
   },
   {
    "duration": 242,
    "start_time": "2023-07-28T12:30:42.606Z"
   },
   {
    "duration": 289,
    "start_time": "2023-07-28T12:31:14.301Z"
   },
   {
    "duration": 274,
    "start_time": "2023-07-28T12:31:42.618Z"
   },
   {
    "duration": 221,
    "start_time": "2023-07-28T12:32:18.469Z"
   },
   {
    "duration": 30,
    "start_time": "2023-07-28T12:33:14.291Z"
   },
   {
    "duration": 17160,
    "start_time": "2023-07-28T12:33:18.139Z"
   },
   {
    "duration": 268,
    "start_time": "2023-07-28T12:33:46.592Z"
   },
   {
    "duration": 193,
    "start_time": "2023-07-28T12:34:04.113Z"
   },
   {
    "duration": 215,
    "start_time": "2023-07-28T12:34:15.012Z"
   },
   {
    "duration": 303,
    "start_time": "2023-07-28T12:36:18.393Z"
   },
   {
    "duration": 288,
    "start_time": "2023-07-28T12:36:45.542Z"
   },
   {
    "duration": 99,
    "start_time": "2023-07-28T12:38:11.439Z"
   },
   {
    "duration": 293,
    "start_time": "2023-07-28T12:38:25.271Z"
   },
   {
    "duration": 292,
    "start_time": "2023-07-28T12:38:32.740Z"
   },
   {
    "duration": 17,
    "start_time": "2023-07-28T12:39:19.937Z"
   },
   {
    "duration": 22,
    "start_time": "2023-07-28T12:39:29.713Z"
   },
   {
    "duration": 294,
    "start_time": "2023-07-28T12:40:42.035Z"
   },
   {
    "duration": 265,
    "start_time": "2023-07-28T12:41:04.352Z"
   },
   {
    "duration": 257,
    "start_time": "2023-07-28T12:41:57.839Z"
   },
   {
    "duration": 273,
    "start_time": "2023-07-28T12:42:07.795Z"
   },
   {
    "duration": 240,
    "start_time": "2023-07-28T12:42:28.859Z"
   },
   {
    "duration": 861,
    "start_time": "2023-07-28T12:42:40.291Z"
   },
   {
    "duration": 255,
    "start_time": "2023-07-28T12:43:14.543Z"
   },
   {
    "duration": 208,
    "start_time": "2023-07-28T12:43:27.538Z"
   },
   {
    "duration": 155,
    "start_time": "2023-07-28T12:44:00.641Z"
   },
   {
    "duration": 189,
    "start_time": "2023-07-28T12:44:16.365Z"
   },
   {
    "duration": 156,
    "start_time": "2023-07-28T12:44:36.771Z"
   },
   {
    "duration": 150,
    "start_time": "2023-07-28T12:44:51.896Z"
   },
   {
    "duration": 177,
    "start_time": "2023-07-28T12:45:12.223Z"
   },
   {
    "duration": 172,
    "start_time": "2023-07-28T12:45:41.362Z"
   },
   {
    "duration": 303,
    "start_time": "2023-07-28T12:46:00.546Z"
   },
   {
    "duration": 46,
    "start_time": "2023-07-28T12:47:02.208Z"
   },
   {
    "duration": 138,
    "start_time": "2023-07-28T12:47:17.908Z"
   },
   {
    "duration": 194,
    "start_time": "2023-07-28T12:47:22.142Z"
   },
   {
    "duration": 112,
    "start_time": "2023-07-28T12:47:28.746Z"
   },
   {
    "duration": 265,
    "start_time": "2023-07-28T12:47:57.249Z"
   },
   {
    "duration": 535,
    "start_time": "2023-07-28T12:48:39.821Z"
   },
   {
    "duration": 674,
    "start_time": "2023-07-28T12:48:45.619Z"
   },
   {
    "duration": 420,
    "start_time": "2023-07-28T12:48:53.823Z"
   },
   {
    "duration": 244,
    "start_time": "2023-07-28T12:50:17.803Z"
   },
   {
    "duration": 270,
    "start_time": "2023-07-28T13:01:05.143Z"
   },
   {
    "duration": 264,
    "start_time": "2023-07-28T13:01:18.646Z"
   },
   {
    "duration": 295,
    "start_time": "2023-07-28T13:01:31.541Z"
   },
   {
    "duration": 25,
    "start_time": "2023-07-28T13:01:45.268Z"
   },
   {
    "duration": 236,
    "start_time": "2023-07-28T13:02:01.122Z"
   },
   {
    "duration": 13,
    "start_time": "2023-07-28T13:02:11.191Z"
   },
   {
    "duration": 362,
    "start_time": "2023-07-28T13:02:30.059Z"
   },
   {
    "duration": 301,
    "start_time": "2023-07-28T13:05:07.011Z"
   },
   {
    "duration": 311,
    "start_time": "2023-07-28T13:06:15.999Z"
   },
   {
    "duration": 304,
    "start_time": "2023-07-28T13:06:54.456Z"
   },
   {
    "duration": 28,
    "start_time": "2023-07-28T13:16:02.439Z"
   },
   {
    "duration": 35,
    "start_time": "2023-07-28T13:16:33.134Z"
   },
   {
    "duration": 16,
    "start_time": "2023-07-28T13:16:57.624Z"
   },
   {
    "duration": 12,
    "start_time": "2023-07-28T13:17:08.401Z"
   },
   {
    "duration": 13,
    "start_time": "2023-07-28T13:17:11.743Z"
   },
   {
    "duration": 16,
    "start_time": "2023-07-28T13:17:28.304Z"
   },
   {
    "duration": 15,
    "start_time": "2023-07-28T13:17:31.501Z"
   },
   {
    "duration": 43,
    "start_time": "2023-07-28T13:17:40.411Z"
   },
   {
    "duration": 37,
    "start_time": "2023-07-28T13:17:59.832Z"
   },
   {
    "duration": 17,
    "start_time": "2023-07-28T13:18:36.202Z"
   },
   {
    "duration": 12,
    "start_time": "2023-07-28T13:18:41.815Z"
   },
   {
    "duration": 4,
    "start_time": "2023-07-28T13:18:47.251Z"
   },
   {
    "duration": 99,
    "start_time": "2023-07-28T13:18:47.258Z"
   },
   {
    "duration": 4,
    "start_time": "2023-07-28T13:18:47.359Z"
   },
   {
    "duration": 52,
    "start_time": "2023-07-28T13:18:47.366Z"
   },
   {
    "duration": 44,
    "start_time": "2023-07-28T13:18:47.427Z"
   },
   {
    "duration": 46,
    "start_time": "2023-07-28T13:18:47.473Z"
   },
   {
    "duration": 1317,
    "start_time": "2023-07-28T13:18:47.521Z"
   },
   {
    "duration": 65,
    "start_time": "2023-07-28T13:18:48.841Z"
   },
   {
    "duration": 16,
    "start_time": "2023-07-28T13:18:48.910Z"
   },
   {
    "duration": 16,
    "start_time": "2023-07-28T13:18:48.928Z"
   },
   {
    "duration": 11,
    "start_time": "2023-07-28T13:18:48.946Z"
   },
   {
    "duration": 34,
    "start_time": "2023-07-28T13:18:48.959Z"
   },
   {
    "duration": 34,
    "start_time": "2023-07-28T13:18:48.995Z"
   },
   {
    "duration": 331,
    "start_time": "2023-07-28T13:18:49.030Z"
   },
   {
    "duration": 30,
    "start_time": "2023-07-28T13:18:49.363Z"
   },
   {
    "duration": 15,
    "start_time": "2023-07-28T13:18:49.405Z"
   },
   {
    "duration": 18,
    "start_time": "2023-07-28T13:18:49.421Z"
   },
   {
    "duration": 13,
    "start_time": "2023-07-28T13:18:49.441Z"
   },
   {
    "duration": 16,
    "start_time": "2023-07-28T13:18:49.456Z"
   },
   {
    "duration": 33,
    "start_time": "2023-07-28T13:18:49.474Z"
   },
   {
    "duration": 17,
    "start_time": "2023-07-28T13:18:49.509Z"
   },
   {
    "duration": 17,
    "start_time": "2023-07-28T13:18:49.529Z"
   },
   {
    "duration": 15,
    "start_time": "2023-07-28T13:18:49.548Z"
   },
   {
    "duration": 134,
    "start_time": "2023-07-28T13:18:49.566Z"
   },
   {
    "duration": 13,
    "start_time": "2023-07-28T13:18:49.703Z"
   },
   {
    "duration": 38,
    "start_time": "2023-07-28T13:18:49.718Z"
   },
   {
    "duration": 4,
    "start_time": "2023-07-28T13:18:49.758Z"
   },
   {
    "duration": 21,
    "start_time": "2023-07-28T13:18:49.763Z"
   },
   {
    "duration": 344,
    "start_time": "2023-07-28T13:18:49.788Z"
   },
   {
    "duration": 227,
    "start_time": "2023-07-28T13:18:50.134Z"
   },
   {
    "duration": 4362,
    "start_time": "2023-07-28T13:18:50.363Z"
   },
   {
    "duration": 7,
    "start_time": "2023-07-28T13:18:54.727Z"
   },
   {
    "duration": 443,
    "start_time": "2023-07-28T13:18:54.736Z"
   },
   {
    "duration": 1846,
    "start_time": "2023-07-28T13:18:55.181Z"
   },
   {
    "duration": 16,
    "start_time": "2023-07-28T13:19:00.142Z"
   },
   {
    "duration": 23,
    "start_time": "2023-07-28T13:19:19.335Z"
   },
   {
    "duration": 2348,
    "start_time": "2023-07-28T13:19:28.337Z"
   },
   {
    "duration": 22,
    "start_time": "2023-07-28T13:19:36.916Z"
   },
   {
    "duration": 14,
    "start_time": "2023-07-28T13:20:26.238Z"
   },
   {
    "duration": 214,
    "start_time": "2023-07-28T13:20:39.242Z"
   },
   {
    "duration": 1801,
    "start_time": "2023-07-28T13:20:58.541Z"
   },
   {
    "duration": 2078,
    "start_time": "2023-07-28T13:21:20.125Z"
   },
   {
    "duration": 2023,
    "start_time": "2023-07-28T13:21:29.826Z"
   },
   {
    "duration": 236,
    "start_time": "2023-07-28T13:22:04.235Z"
   },
   {
    "duration": 550,
    "start_time": "2023-07-28T13:22:35.923Z"
   },
   {
    "duration": 257,
    "start_time": "2023-07-28T13:23:02.250Z"
   },
   {
    "duration": 368,
    "start_time": "2023-07-28T13:23:13.362Z"
   },
   {
    "duration": 2005,
    "start_time": "2023-07-28T13:23:59.121Z"
   },
   {
    "duration": 192,
    "start_time": "2023-07-28T13:24:06.405Z"
   },
   {
    "duration": 239,
    "start_time": "2023-07-28T13:24:14.966Z"
   },
   {
    "duration": 231,
    "start_time": "2023-07-28T13:24:32.113Z"
   },
   {
    "duration": 1976,
    "start_time": "2023-07-28T13:25:21.345Z"
   },
   {
    "duration": 221,
    "start_time": "2023-07-28T13:25:35.314Z"
   },
   {
    "duration": 251,
    "start_time": "2023-07-28T13:25:58.045Z"
   },
   {
    "duration": 44,
    "start_time": "2023-07-28T13:26:20.656Z"
   },
   {
    "duration": 248,
    "start_time": "2023-07-28T13:26:27.746Z"
   },
   {
    "duration": 1683,
    "start_time": "2023-07-28T13:26:54.244Z"
   },
   {
    "duration": 23,
    "start_time": "2023-07-28T13:27:28.110Z"
   },
   {
    "duration": 20,
    "start_time": "2023-07-28T13:27:34.663Z"
   },
   {
    "duration": 4,
    "start_time": "2023-07-28T13:27:38.308Z"
   },
   {
    "duration": 91,
    "start_time": "2023-07-28T13:27:38.314Z"
   },
   {
    "duration": 5,
    "start_time": "2023-07-28T13:27:38.408Z"
   },
   {
    "duration": 26,
    "start_time": "2023-07-28T13:27:38.414Z"
   },
   {
    "duration": 89,
    "start_time": "2023-07-28T13:27:38.443Z"
   },
   {
    "duration": 16,
    "start_time": "2023-07-28T13:27:38.534Z"
   },
   {
    "duration": 1390,
    "start_time": "2023-07-28T13:27:38.552Z"
   },
   {
    "duration": 56,
    "start_time": "2023-07-28T13:27:39.945Z"
   },
   {
    "duration": 19,
    "start_time": "2023-07-28T13:27:40.009Z"
   },
   {
    "duration": 8,
    "start_time": "2023-07-28T13:27:40.031Z"
   },
   {
    "duration": 32,
    "start_time": "2023-07-28T13:27:40.040Z"
   },
   {
    "duration": 28,
    "start_time": "2023-07-28T13:27:40.078Z"
   },
   {
    "duration": 20,
    "start_time": "2023-07-28T13:27:40.108Z"
   },
   {
    "duration": 383,
    "start_time": "2023-07-28T13:27:40.135Z"
   },
   {
    "duration": 18,
    "start_time": "2023-07-28T13:27:40.522Z"
   },
   {
    "duration": 38,
    "start_time": "2023-07-28T13:27:40.543Z"
   },
   {
    "duration": 43,
    "start_time": "2023-07-28T13:27:40.583Z"
   },
   {
    "duration": 26,
    "start_time": "2023-07-28T13:27:40.630Z"
   },
   {
    "duration": 46,
    "start_time": "2023-07-28T13:27:40.659Z"
   },
   {
    "duration": 8,
    "start_time": "2023-07-28T13:27:40.715Z"
   },
   {
    "duration": 9,
    "start_time": "2023-07-28T13:27:40.727Z"
   },
   {
    "duration": 28,
    "start_time": "2023-07-28T13:27:40.739Z"
   },
   {
    "duration": 10,
    "start_time": "2023-07-28T13:27:40.769Z"
   },
   {
    "duration": 24,
    "start_time": "2023-07-28T13:27:40.781Z"
   },
   {
    "duration": 18,
    "start_time": "2023-07-28T13:27:40.807Z"
   },
   {
    "duration": 63,
    "start_time": "2023-07-28T13:27:40.827Z"
   },
   {
    "duration": 8,
    "start_time": "2023-07-28T13:27:40.892Z"
   },
   {
    "duration": 19,
    "start_time": "2023-07-28T13:27:40.902Z"
   },
   {
    "duration": 350,
    "start_time": "2023-07-28T13:27:40.923Z"
   },
   {
    "duration": 223,
    "start_time": "2023-07-28T13:27:41.282Z"
   },
   {
    "duration": 3298,
    "start_time": "2023-07-28T13:27:41.511Z"
   },
   {
    "duration": 11,
    "start_time": "2023-07-28T13:27:44.814Z"
   },
   {
    "duration": 644,
    "start_time": "2023-07-28T13:27:44.827Z"
   },
   {
    "duration": 1891,
    "start_time": "2023-07-28T13:27:45.477Z"
   },
   {
    "duration": 16,
    "start_time": "2023-07-28T13:27:48.900Z"
   },
   {
    "duration": 12,
    "start_time": "2023-07-28T13:27:57.715Z"
   },
   {
    "duration": 20,
    "start_time": "2023-07-28T13:28:06.162Z"
   },
   {
    "duration": 12,
    "start_time": "2023-07-28T13:28:16.345Z"
   },
   {
    "duration": 12,
    "start_time": "2023-07-28T13:28:22.520Z"
   },
   {
    "duration": 12,
    "start_time": "2023-07-28T13:28:29.945Z"
   },
   {
    "duration": 14,
    "start_time": "2023-07-28T13:28:33.245Z"
   },
   {
    "duration": 2399,
    "start_time": "2023-07-28T13:28:47.318Z"
   },
   {
    "duration": 44,
    "start_time": "2023-07-28T13:28:56.903Z"
   },
   {
    "duration": 261,
    "start_time": "2023-07-28T13:29:03.907Z"
   },
   {
    "duration": 4,
    "start_time": "2023-07-28T13:29:55.209Z"
   },
   {
    "duration": 93,
    "start_time": "2023-07-28T13:29:55.216Z"
   },
   {
    "duration": 7,
    "start_time": "2023-07-28T13:29:55.312Z"
   },
   {
    "duration": 32,
    "start_time": "2023-07-28T13:29:55.321Z"
   },
   {
    "duration": 35,
    "start_time": "2023-07-28T13:29:55.356Z"
   },
   {
    "duration": 22,
    "start_time": "2023-07-28T13:29:55.393Z"
   },
   {
    "duration": 1305,
    "start_time": "2023-07-28T13:29:55.419Z"
   },
   {
    "duration": 23,
    "start_time": "2023-07-28T13:29:56.727Z"
   },
   {
    "duration": 9,
    "start_time": "2023-07-28T13:29:56.752Z"
   },
   {
    "duration": 22,
    "start_time": "2023-07-28T13:29:56.763Z"
   },
   {
    "duration": 23,
    "start_time": "2023-07-28T13:29:56.792Z"
   },
   {
    "duration": 15,
    "start_time": "2023-07-28T13:29:56.818Z"
   },
   {
    "duration": 17,
    "start_time": "2023-07-28T13:29:56.835Z"
   },
   {
    "duration": 305,
    "start_time": "2023-07-28T13:29:56.854Z"
   },
   {
    "duration": 17,
    "start_time": "2023-07-28T13:29:57.160Z"
   },
   {
    "duration": 34,
    "start_time": "2023-07-28T13:29:57.190Z"
   },
   {
    "duration": 9,
    "start_time": "2023-07-28T13:29:57.228Z"
   },
   {
    "duration": 29,
    "start_time": "2023-07-28T13:29:57.239Z"
   },
   {
    "duration": 36,
    "start_time": "2023-07-28T13:29:57.270Z"
   },
   {
    "duration": 13,
    "start_time": "2023-07-28T13:29:57.308Z"
   },
   {
    "duration": 23,
    "start_time": "2023-07-28T13:29:57.323Z"
   },
   {
    "duration": 59,
    "start_time": "2023-07-28T13:29:57.348Z"
   },
   {
    "duration": 15,
    "start_time": "2023-07-28T13:29:57.409Z"
   },
   {
    "duration": 32,
    "start_time": "2023-07-28T13:29:57.426Z"
   },
   {
    "duration": 33,
    "start_time": "2023-07-28T13:29:57.460Z"
   },
   {
    "duration": 24,
    "start_time": "2023-07-28T13:29:57.495Z"
   },
   {
    "duration": 22,
    "start_time": "2023-07-28T13:29:57.520Z"
   },
   {
    "duration": 21,
    "start_time": "2023-07-28T13:29:57.544Z"
   },
   {
    "duration": 320,
    "start_time": "2023-07-28T13:29:57.567Z"
   },
   {
    "duration": 207,
    "start_time": "2023-07-28T13:29:57.889Z"
   },
   {
    "duration": 3353,
    "start_time": "2023-07-28T13:29:58.097Z"
   },
   {
    "duration": 6,
    "start_time": "2023-07-28T13:30:01.452Z"
   },
   {
    "duration": 384,
    "start_time": "2023-07-28T13:30:01.460Z"
   },
   {
    "duration": 1667,
    "start_time": "2023-07-28T13:30:01.846Z"
   },
   {
    "duration": 255,
    "start_time": "2023-07-28T13:30:05.953Z"
   },
   {
    "duration": 313,
    "start_time": "2023-07-28T13:30:38.258Z"
   },
   {
    "duration": 498,
    "start_time": "2023-07-28T13:31:18.513Z"
   },
   {
    "duration": 300,
    "start_time": "2023-07-28T13:31:31.223Z"
   },
   {
    "duration": 47,
    "start_time": "2023-07-28T13:32:11.700Z"
   },
   {
    "duration": 240,
    "start_time": "2023-07-28T13:32:43.214Z"
   },
   {
    "duration": 3,
    "start_time": "2023-07-28T13:32:53.652Z"
   },
   {
    "duration": 74,
    "start_time": "2023-07-28T13:32:53.659Z"
   },
   {
    "duration": 4,
    "start_time": "2023-07-28T13:32:53.735Z"
   },
   {
    "duration": 25,
    "start_time": "2023-07-28T13:32:53.740Z"
   },
   {
    "duration": 71,
    "start_time": "2023-07-28T13:32:53.767Z"
   },
   {
    "duration": 15,
    "start_time": "2023-07-28T13:32:53.839Z"
   },
   {
    "duration": 1071,
    "start_time": "2023-07-28T13:32:53.856Z"
   },
   {
    "duration": 19,
    "start_time": "2023-07-28T13:32:54.928Z"
   },
   {
    "duration": 9,
    "start_time": "2023-07-28T13:32:54.948Z"
   },
   {
    "duration": 30,
    "start_time": "2023-07-28T13:32:54.958Z"
   },
   {
    "duration": 27,
    "start_time": "2023-07-28T13:32:54.993Z"
   },
   {
    "duration": 7,
    "start_time": "2023-07-28T13:32:55.021Z"
   },
   {
    "duration": 8,
    "start_time": "2023-07-28T13:32:55.030Z"
   },
   {
    "duration": 278,
    "start_time": "2023-07-28T13:32:55.040Z"
   },
   {
    "duration": 10,
    "start_time": "2023-07-28T13:32:55.320Z"
   },
   {
    "duration": 14,
    "start_time": "2023-07-28T13:32:55.331Z"
   },
   {
    "duration": 18,
    "start_time": "2023-07-28T13:32:55.347Z"
   },
   {
    "duration": 44,
    "start_time": "2023-07-28T13:32:55.367Z"
   },
   {
    "duration": 22,
    "start_time": "2023-07-28T13:32:55.414Z"
   },
   {
    "duration": 6,
    "start_time": "2023-07-28T13:32:55.439Z"
   },
   {
    "duration": 12,
    "start_time": "2023-07-28T13:32:55.446Z"
   },
   {
    "duration": 11,
    "start_time": "2023-07-28T13:32:55.459Z"
   },
   {
    "duration": 19,
    "start_time": "2023-07-28T13:32:55.471Z"
   },
   {
    "duration": 11,
    "start_time": "2023-07-28T13:32:55.498Z"
   },
   {
    "duration": 16,
    "start_time": "2023-07-28T13:32:55.511Z"
   },
   {
    "duration": 26,
    "start_time": "2023-07-28T13:32:55.528Z"
   },
   {
    "duration": 6,
    "start_time": "2023-07-28T13:32:55.556Z"
   },
   {
    "duration": 172,
    "start_time": "2023-07-28T13:32:55.564Z"
   },
   {
    "duration": 291,
    "start_time": "2023-07-28T13:32:55.740Z"
   },
   {
    "duration": 194,
    "start_time": "2023-07-28T13:32:56.033Z"
   },
   {
    "duration": 2772,
    "start_time": "2023-07-28T13:32:56.229Z"
   },
   {
    "duration": 8,
    "start_time": "2023-07-28T13:32:59.003Z"
   },
   {
    "duration": 389,
    "start_time": "2023-07-28T13:32:59.014Z"
   },
   {
    "duration": 1854,
    "start_time": "2023-07-28T13:32:59.409Z"
   },
   {
    "duration": 59,
    "start_time": "2023-07-28T13:33:05.039Z"
   },
   {
    "duration": 106,
    "start_time": "2023-07-28T13:34:03.718Z"
   },
   {
    "duration": 24,
    "start_time": "2023-07-28T13:34:08.119Z"
   },
   {
    "duration": 239,
    "start_time": "2023-07-28T13:34:28.104Z"
   },
   {
    "duration": 90,
    "start_time": "2023-07-28T13:36:39.013Z"
   },
   {
    "duration": 207,
    "start_time": "2023-07-28T13:36:49.905Z"
   },
   {
    "duration": 17,
    "start_time": "2023-07-28T13:37:13.155Z"
   },
   {
    "duration": 3,
    "start_time": "2023-07-28T13:37:24.369Z"
   },
   {
    "duration": 114,
    "start_time": "2023-07-28T13:37:24.375Z"
   },
   {
    "duration": 12,
    "start_time": "2023-07-28T13:37:24.493Z"
   },
   {
    "duration": 29,
    "start_time": "2023-07-28T13:37:24.507Z"
   },
   {
    "duration": 69,
    "start_time": "2023-07-28T13:37:24.539Z"
   },
   {
    "duration": 16,
    "start_time": "2023-07-28T13:37:24.610Z"
   },
   {
    "duration": 1076,
    "start_time": "2023-07-28T13:37:24.628Z"
   },
   {
    "duration": 19,
    "start_time": "2023-07-28T13:37:25.705Z"
   },
   {
    "duration": 19,
    "start_time": "2023-07-28T13:37:25.726Z"
   },
   {
    "duration": 23,
    "start_time": "2023-07-28T13:37:25.746Z"
   },
   {
    "duration": 40,
    "start_time": "2023-07-28T13:37:25.770Z"
   },
   {
    "duration": 16,
    "start_time": "2023-07-28T13:37:25.812Z"
   },
   {
    "duration": 53,
    "start_time": "2023-07-28T13:37:25.829Z"
   },
   {
    "duration": 470,
    "start_time": "2023-07-28T13:37:25.885Z"
   },
   {
    "duration": 11,
    "start_time": "2023-07-28T13:37:26.358Z"
   },
   {
    "duration": 52,
    "start_time": "2023-07-28T13:37:26.371Z"
   },
   {
    "duration": 83,
    "start_time": "2023-07-28T13:37:26.424Z"
   },
   {
    "duration": 129,
    "start_time": "2023-07-28T13:37:26.509Z"
   },
   {
    "duration": 12,
    "start_time": "2023-07-28T13:37:26.639Z"
   },
   {
    "duration": 17,
    "start_time": "2023-07-28T13:37:26.652Z"
   },
   {
    "duration": 26,
    "start_time": "2023-07-28T13:37:26.670Z"
   },
   {
    "duration": 12,
    "start_time": "2023-07-28T13:37:26.700Z"
   },
   {
    "duration": 48,
    "start_time": "2023-07-28T13:37:26.714Z"
   },
   {
    "duration": 32,
    "start_time": "2023-07-28T13:37:26.764Z"
   },
   {
    "duration": 9,
    "start_time": "2023-07-28T13:37:26.797Z"
   },
   {
    "duration": 19,
    "start_time": "2023-07-28T13:37:26.808Z"
   },
   {
    "duration": 5,
    "start_time": "2023-07-28T13:37:26.829Z"
   },
   {
    "duration": 24,
    "start_time": "2023-07-28T13:37:26.835Z"
   },
   {
    "duration": 306,
    "start_time": "2023-07-28T13:37:26.860Z"
   },
   {
    "duration": 178,
    "start_time": "2023-07-28T13:37:27.167Z"
   },
   {
    "duration": 2678,
    "start_time": "2023-07-28T13:37:27.347Z"
   },
   {
    "duration": 6,
    "start_time": "2023-07-28T13:37:30.027Z"
   },
   {
    "duration": 426,
    "start_time": "2023-07-28T13:37:30.034Z"
   },
   {
    "duration": 1861,
    "start_time": "2023-07-28T13:37:30.463Z"
   },
   {
    "duration": 13,
    "start_time": "2023-07-28T13:37:37.251Z"
   },
   {
    "duration": 16,
    "start_time": "2023-07-28T13:37:51.115Z"
   },
   {
    "duration": 21,
    "start_time": "2023-07-28T13:37:54.624Z"
   },
   {
    "duration": 27,
    "start_time": "2023-07-28T13:38:19.100Z"
   },
   {
    "duration": 15,
    "start_time": "2023-07-28T13:38:34.502Z"
   },
   {
    "duration": 12,
    "start_time": "2023-07-28T13:38:55.525Z"
   },
   {
    "duration": 18,
    "start_time": "2023-07-28T13:39:29.031Z"
   },
   {
    "duration": 15,
    "start_time": "2023-07-28T13:39:42.326Z"
   },
   {
    "duration": 16,
    "start_time": "2023-07-28T13:39:49.868Z"
   },
   {
    "duration": 30,
    "start_time": "2023-07-28T13:40:16.469Z"
   },
   {
    "duration": 17,
    "start_time": "2023-07-28T13:40:21.855Z"
   },
   {
    "duration": 17,
    "start_time": "2023-07-28T13:41:17.449Z"
   },
   {
    "duration": 15,
    "start_time": "2023-07-28T13:41:24.649Z"
   },
   {
    "duration": 17,
    "start_time": "2023-07-28T13:41:40.024Z"
   },
   {
    "duration": 24,
    "start_time": "2023-07-28T13:41:55.732Z"
   },
   {
    "duration": 24,
    "start_time": "2023-07-28T13:42:11.504Z"
   },
   {
    "duration": 20,
    "start_time": "2023-07-28T13:42:15.993Z"
   },
   {
    "duration": 16,
    "start_time": "2023-07-28T13:42:49.343Z"
   },
   {
    "duration": 14,
    "start_time": "2023-07-28T13:43:07.650Z"
   },
   {
    "duration": 17,
    "start_time": "2023-07-28T13:43:23.502Z"
   },
   {
    "duration": 101,
    "start_time": "2023-07-28T13:43:30.472Z"
   },
   {
    "duration": 13,
    "start_time": "2023-07-28T13:43:34.324Z"
   },
   {
    "duration": 30,
    "start_time": "2023-07-28T13:43:55.868Z"
   },
   {
    "duration": 20,
    "start_time": "2023-07-28T13:44:00.456Z"
   },
   {
    "duration": 16,
    "start_time": "2023-07-28T13:44:06.028Z"
   },
   {
    "duration": 18,
    "start_time": "2023-07-28T13:44:47.069Z"
   },
   {
    "duration": 15,
    "start_time": "2023-07-28T13:44:57.812Z"
   },
   {
    "duration": 22,
    "start_time": "2023-07-28T13:45:10.463Z"
   },
   {
    "duration": 35,
    "start_time": "2023-07-28T13:45:16.967Z"
   },
   {
    "duration": 14,
    "start_time": "2023-07-28T13:45:25.049Z"
   },
   {
    "duration": 13,
    "start_time": "2023-07-28T13:45:29.903Z"
   },
   {
    "duration": 24,
    "start_time": "2023-07-28T13:45:38.365Z"
   },
   {
    "duration": 20,
    "start_time": "2023-07-28T13:46:07.021Z"
   },
   {
    "duration": 16,
    "start_time": "2023-07-28T13:46:11.503Z"
   },
   {
    "duration": 20,
    "start_time": "2023-07-28T15:25:36.246Z"
   },
   {
    "duration": 36,
    "start_time": "2023-07-28T15:25:58.252Z"
   },
   {
    "duration": 231,
    "start_time": "2023-07-28T15:27:40.717Z"
   },
   {
    "duration": 243,
    "start_time": "2023-07-28T15:28:08.459Z"
   },
   {
    "duration": 15,
    "start_time": "2023-07-28T15:28:13.945Z"
   },
   {
    "duration": 12,
    "start_time": "2023-07-28T15:28:27.734Z"
   },
   {
    "duration": 264,
    "start_time": "2023-07-28T15:28:52.367Z"
   },
   {
    "duration": 23,
    "start_time": "2023-07-28T15:29:01.148Z"
   },
   {
    "duration": 176,
    "start_time": "2023-07-28T15:29:13.160Z"
   },
   {
    "duration": 341,
    "start_time": "2023-07-28T15:29:24.466Z"
   },
   {
    "duration": 183,
    "start_time": "2023-07-28T15:29:42.514Z"
   },
   {
    "duration": 149,
    "start_time": "2023-07-28T15:30:14.641Z"
   },
   {
    "duration": 144,
    "start_time": "2023-07-28T15:31:04.965Z"
   },
   {
    "duration": 140,
    "start_time": "2023-07-28T15:31:33.092Z"
   },
   {
    "duration": 133,
    "start_time": "2023-07-28T15:32:44.987Z"
   },
   {
    "duration": 144,
    "start_time": "2023-07-28T15:33:13.345Z"
   },
   {
    "duration": 139,
    "start_time": "2023-07-28T15:33:29.833Z"
   },
   {
    "duration": 187,
    "start_time": "2023-07-28T15:35:53.711Z"
   },
   {
    "duration": 191,
    "start_time": "2023-07-28T15:36:46.505Z"
   },
   {
    "duration": 1509,
    "start_time": "2023-07-28T15:38:37.543Z"
   },
   {
    "duration": 1728,
    "start_time": "2023-07-28T15:38:59.528Z"
   },
   {
    "duration": 1529,
    "start_time": "2023-07-28T15:40:24.834Z"
   },
   {
    "duration": 1450,
    "start_time": "2023-07-28T15:41:10.718Z"
   },
   {
    "duration": 99,
    "start_time": "2023-07-28T15:42:35.621Z"
   },
   {
    "duration": 144,
    "start_time": "2023-07-28T15:42:48.252Z"
   },
   {
    "duration": 106,
    "start_time": "2023-07-28T15:43:04.119Z"
   },
   {
    "duration": 138,
    "start_time": "2023-07-28T15:43:34.302Z"
   },
   {
    "duration": 2538,
    "start_time": "2023-07-28T15:45:01.334Z"
   },
   {
    "duration": 1724,
    "start_time": "2023-07-28T15:45:30.096Z"
   },
   {
    "duration": 1453,
    "start_time": "2023-07-28T15:45:53.090Z"
   },
   {
    "duration": 149,
    "start_time": "2023-07-28T15:46:25.388Z"
   },
   {
    "duration": 134,
    "start_time": "2023-07-28T15:46:39.294Z"
   },
   {
    "duration": 4,
    "start_time": "2023-07-28T15:47:11.104Z"
   },
   {
    "duration": 76,
    "start_time": "2023-07-28T15:47:11.110Z"
   },
   {
    "duration": 5,
    "start_time": "2023-07-28T15:47:11.188Z"
   },
   {
    "duration": 24,
    "start_time": "2023-07-28T15:47:11.195Z"
   },
   {
    "duration": 59,
    "start_time": "2023-07-28T15:47:11.222Z"
   },
   {
    "duration": 17,
    "start_time": "2023-07-28T15:47:11.283Z"
   },
   {
    "duration": 1164,
    "start_time": "2023-07-28T15:47:11.302Z"
   },
   {
    "duration": 37,
    "start_time": "2023-07-28T15:47:12.468Z"
   },
   {
    "duration": 10,
    "start_time": "2023-07-28T15:47:12.507Z"
   },
   {
    "duration": 13,
    "start_time": "2023-07-28T15:47:12.518Z"
   },
   {
    "duration": 6,
    "start_time": "2023-07-28T15:47:12.534Z"
   },
   {
    "duration": 5,
    "start_time": "2023-07-28T15:47:12.542Z"
   },
   {
    "duration": 31,
    "start_time": "2023-07-28T15:47:12.548Z"
   },
   {
    "duration": 277,
    "start_time": "2023-07-28T15:47:12.581Z"
   },
   {
    "duration": 27,
    "start_time": "2023-07-28T15:47:12.859Z"
   },
   {
    "duration": 14,
    "start_time": "2023-07-28T15:47:12.888Z"
   },
   {
    "duration": 29,
    "start_time": "2023-07-28T15:47:12.904Z"
   },
   {
    "duration": 19,
    "start_time": "2023-07-28T15:47:12.935Z"
   },
   {
    "duration": 44,
    "start_time": "2023-07-28T15:47:12.956Z"
   },
   {
    "duration": 21,
    "start_time": "2023-07-28T15:47:13.002Z"
   },
   {
    "duration": 37,
    "start_time": "2023-07-28T15:47:13.025Z"
   },
   {
    "duration": 31,
    "start_time": "2023-07-28T15:47:13.064Z"
   },
   {
    "duration": 21,
    "start_time": "2023-07-28T15:47:13.096Z"
   },
   {
    "duration": 18,
    "start_time": "2023-07-28T15:47:13.119Z"
   },
   {
    "duration": 9,
    "start_time": "2023-07-28T15:47:13.140Z"
   },
   {
    "duration": 43,
    "start_time": "2023-07-28T15:47:13.152Z"
   },
   {
    "duration": 12,
    "start_time": "2023-07-28T15:47:13.197Z"
   },
   {
    "duration": 12,
    "start_time": "2023-07-28T15:47:13.211Z"
   },
   {
    "duration": 305,
    "start_time": "2023-07-28T15:47:13.227Z"
   },
   {
    "duration": 191,
    "start_time": "2023-07-28T15:47:13.533Z"
   },
   {
    "duration": 2821,
    "start_time": "2023-07-28T15:47:13.726Z"
   },
   {
    "duration": 8,
    "start_time": "2023-07-28T15:47:16.549Z"
   },
   {
    "duration": 336,
    "start_time": "2023-07-28T15:47:16.559Z"
   },
   {
    "duration": 1455,
    "start_time": "2023-07-28T15:47:16.896Z"
   },
   {
    "duration": 149,
    "start_time": "2023-07-28T15:47:20.592Z"
   },
   {
    "duration": 393,
    "start_time": "2023-07-28T15:48:57.193Z"
   },
   {
    "duration": 133,
    "start_time": "2023-07-28T15:49:09.111Z"
   },
   {
    "duration": 155,
    "start_time": "2023-07-28T15:49:43.207Z"
   },
   {
    "duration": 163,
    "start_time": "2023-07-28T15:50:16.936Z"
   },
   {
    "duration": 143,
    "start_time": "2023-07-28T15:50:43.346Z"
   },
   {
    "duration": 15,
    "start_time": "2023-07-28T15:51:02.819Z"
   },
   {
    "duration": 16,
    "start_time": "2023-07-28T15:51:09.887Z"
   },
   {
    "duration": 148,
    "start_time": "2023-07-28T15:51:27.487Z"
   },
   {
    "duration": 96,
    "start_time": "2023-07-28T15:54:23.593Z"
   },
   {
    "duration": 95,
    "start_time": "2023-07-28T15:54:34.092Z"
   },
   {
    "duration": 14,
    "start_time": "2023-07-28T15:56:06.359Z"
   },
   {
    "duration": 143,
    "start_time": "2023-07-28T15:56:52.101Z"
   },
   {
    "duration": 152,
    "start_time": "2023-07-28T15:57:02.629Z"
   },
   {
    "duration": 152,
    "start_time": "2023-07-28T15:57:30.511Z"
   },
   {
    "duration": 151,
    "start_time": "2023-07-28T16:52:20.647Z"
   },
   {
    "duration": 160,
    "start_time": "2023-07-28T16:52:36.273Z"
   },
   {
    "duration": 170,
    "start_time": "2023-07-28T16:53:08.893Z"
   },
   {
    "duration": 299,
    "start_time": "2023-07-28T16:53:59.868Z"
   },
   {
    "duration": 91,
    "start_time": "2023-07-28T16:54:28.980Z"
   },
   {
    "duration": 1659,
    "start_time": "2023-07-28T16:54:35.287Z"
   },
   {
    "duration": 2124,
    "start_time": "2023-07-28T16:55:08.956Z"
   },
   {
    "duration": 2559,
    "start_time": "2023-07-28T16:55:15.887Z"
   },
   {
    "duration": 2124,
    "start_time": "2023-07-28T16:56:25.525Z"
   },
   {
    "duration": 1550,
    "start_time": "2023-07-28T16:56:30.200Z"
   },
   {
    "duration": 170,
    "start_time": "2023-07-28T16:57:09.575Z"
   },
   {
    "duration": 149,
    "start_time": "2023-07-28T16:57:50.048Z"
   },
   {
    "duration": 86,
    "start_time": "2023-07-28T16:59:04.305Z"
   },
   {
    "duration": 1827,
    "start_time": "2023-07-28T16:59:13.505Z"
   },
   {
    "duration": 220,
    "start_time": "2023-07-28T16:59:24.945Z"
   },
   {
    "duration": 245,
    "start_time": "2023-07-28T17:00:00.228Z"
   },
   {
    "duration": 207,
    "start_time": "2023-07-28T17:00:39.401Z"
   },
   {
    "duration": 214,
    "start_time": "2023-07-28T17:00:52.510Z"
   },
   {
    "duration": 304,
    "start_time": "2023-07-28T17:01:10.040Z"
   },
   {
    "duration": 232,
    "start_time": "2023-07-28T17:01:40.516Z"
   },
   {
    "duration": 221,
    "start_time": "2023-07-28T17:02:48.417Z"
   },
   {
    "duration": 217,
    "start_time": "2023-07-28T17:03:17.371Z"
   },
   {
    "duration": 309,
    "start_time": "2023-07-28T17:03:49.292Z"
   },
   {
    "duration": 211,
    "start_time": "2023-07-28T17:03:53.344Z"
   }
  ],
  "kernelspec": {
   "display_name": "Python 3 (ipykernel)",
   "language": "python",
   "name": "python3"
  },
  "language_info": {
   "codemirror_mode": {
    "name": "ipython",
    "version": 3
   },
   "file_extension": ".py",
   "mimetype": "text/x-python",
   "name": "python",
   "nbconvert_exporter": "python",
   "pygments_lexer": "ipython3",
   "version": "3.9.13"
  },
  "toc": {
   "base_numbering": 1,
   "nav_menu": {
    "height": "151.484px",
    "width": "298.496px"
   },
   "number_sections": true,
   "sideBar": true,
   "skip_h1_title": true,
   "title_cell": "Table of Contents",
   "title_sidebar": "Contents",
   "toc_cell": false,
   "toc_position": {},
   "toc_section_display": true,
   "toc_window_display": false
  }
 },
 "nbformat": 4,
 "nbformat_minor": 2
}

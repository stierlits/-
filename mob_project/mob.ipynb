{
 "cells": [
  {
   "cell_type": "markdown",
   "metadata": {},
   "source": [
    "# Название проекта: стартап по продаже продуктов питания."
   ]
  },
  {
   "cell_type": "markdown",
   "metadata": {},
   "source": [
    "Описание прокта: \n",
    "Дан файл с данными о действиях пользователей. Необходимо разобраться, как ведут себя пользователи мобильного приложения.\n",
    "\n",
    "Цели проекта:\n",
    "1) Изучить воронку продаж. Узнайть, как пользователи доходят до покупки. Сколько пользователей доходит до покупки, а сколько — «застревает» на предыдущих шагах.\n",
    "\n",
    "2) Исследовать результаты A/A/B-эксперимента, который состоит в изменении шрифтов.\n",
    "\n",
    "План проекта:\n",
    "1) Подготовка данных.\n",
    "\n",
    "2) Изучение данных.\n",
    "\n",
    "3) Изучение воронки событий.\n",
    "\n",
    "4) Результаты эсперимента.\n",
    "\n",
    "5) Выводы."
   ]
  },
  {
   "cell_type": "markdown",
   "metadata": {},
   "source": [
    "##  Предобработка данных."
   ]
  },
  {
   "cell_type": "code",
   "execution_count": 1,
   "metadata": {},
   "outputs": [],
   "source": [
    "import pandas as pd\n",
    "import numpy as np\n",
    "import datetime as dt\n",
    "import matplotlib.pyplot as plt\n",
    "import scipy.stats as stats\n",
    "import datetime\n",
    "import math as mth"
   ]
  },
  {
   "cell_type": "code",
   "execution_count": 2,
   "metadata": {},
   "outputs": [],
   "source": [
    "data = pd.read_csv('logs_exp.csv', sep='\\t')"
   ]
  },
  {
   "cell_type": "code",
   "execution_count": 3,
   "metadata": {},
   "outputs": [
    {
     "data": {
      "text/html": [
       "<div>\n",
       "<style scoped>\n",
       "    .dataframe tbody tr th:only-of-type {\n",
       "        vertical-align: middle;\n",
       "    }\n",
       "\n",
       "    .dataframe tbody tr th {\n",
       "        vertical-align: top;\n",
       "    }\n",
       "\n",
       "    .dataframe thead th {\n",
       "        text-align: right;\n",
       "    }\n",
       "</style>\n",
       "<table border=\"1\" class=\"dataframe\">\n",
       "  <thead>\n",
       "    <tr style=\"text-align: right;\">\n",
       "      <th></th>\n",
       "      <th>EventName</th>\n",
       "      <th>DeviceIDHash</th>\n",
       "      <th>EventTimestamp</th>\n",
       "      <th>ExpId</th>\n",
       "    </tr>\n",
       "  </thead>\n",
       "  <tbody>\n",
       "    <tr>\n",
       "      <th>0</th>\n",
       "      <td>MainScreenAppear</td>\n",
       "      <td>4575588528974610257</td>\n",
       "      <td>1564029816</td>\n",
       "      <td>246</td>\n",
       "    </tr>\n",
       "    <tr>\n",
       "      <th>1</th>\n",
       "      <td>MainScreenAppear</td>\n",
       "      <td>7416695313311560658</td>\n",
       "      <td>1564053102</td>\n",
       "      <td>246</td>\n",
       "    </tr>\n",
       "    <tr>\n",
       "      <th>2</th>\n",
       "      <td>PaymentScreenSuccessful</td>\n",
       "      <td>3518123091307005509</td>\n",
       "      <td>1564054127</td>\n",
       "      <td>248</td>\n",
       "    </tr>\n",
       "    <tr>\n",
       "      <th>3</th>\n",
       "      <td>CartScreenAppear</td>\n",
       "      <td>3518123091307005509</td>\n",
       "      <td>1564054127</td>\n",
       "      <td>248</td>\n",
       "    </tr>\n",
       "    <tr>\n",
       "      <th>4</th>\n",
       "      <td>PaymentScreenSuccessful</td>\n",
       "      <td>6217807653094995999</td>\n",
       "      <td>1564055322</td>\n",
       "      <td>248</td>\n",
       "    </tr>\n",
       "  </tbody>\n",
       "</table>\n",
       "</div>"
      ],
      "text/plain": [
       "                 EventName         DeviceIDHash  EventTimestamp  ExpId\n",
       "0         MainScreenAppear  4575588528974610257      1564029816    246\n",
       "1         MainScreenAppear  7416695313311560658      1564053102    246\n",
       "2  PaymentScreenSuccessful  3518123091307005509      1564054127    248\n",
       "3         CartScreenAppear  3518123091307005509      1564054127    248\n",
       "4  PaymentScreenSuccessful  6217807653094995999      1564055322    248"
      ]
     },
     "execution_count": 3,
     "metadata": {},
     "output_type": "execute_result"
    }
   ],
   "source": [
    "data.head()"
   ]
  },
  {
   "cell_type": "code",
   "execution_count": 4,
   "metadata": {
    "scrolled": true
   },
   "outputs": [],
   "source": [
    "data = data.rename(columns = {'EventName' : 'event_name', 'DeviceIDHash' : 'device_id_hash', 'EventTimestamp' : 'event_timestamp', \\\n",
    "                     'ExpId' : 'exp_id'})"
   ]
  },
  {
   "cell_type": "markdown",
   "metadata": {},
   "source": [
    "Выгрузили данные в файл, заменили названия столбцов."
   ]
  },
  {
   "cell_type": "code",
   "execution_count": 5,
   "metadata": {},
   "outputs": [
    {
     "name": "stdout",
     "output_type": "stream",
     "text": [
      "<class 'pandas.core.frame.DataFrame'>\n",
      "RangeIndex: 244126 entries, 0 to 244125\n",
      "Data columns (total 4 columns):\n",
      " #   Column           Non-Null Count   Dtype \n",
      "---  ------           --------------   ----- \n",
      " 0   event_name       244126 non-null  object\n",
      " 1   device_id_hash   244126 non-null  int64 \n",
      " 2   event_timestamp  244126 non-null  int64 \n",
      " 3   exp_id           244126 non-null  int64 \n",
      "dtypes: int64(3), object(1)\n",
      "memory usage: 7.5+ MB\n"
     ]
    }
   ],
   "source": [
    "data.info()"
   ]
  },
  {
   "cell_type": "code",
   "execution_count": 6,
   "metadata": {},
   "outputs": [
    {
     "data": {
      "text/plain": [
       "event_name         0\n",
       "device_id_hash     0\n",
       "event_timestamp    0\n",
       "exp_id             0\n",
       "dtype: int64"
      ]
     },
     "execution_count": 6,
     "metadata": {},
     "output_type": "execute_result"
    }
   ],
   "source": [
    "data.isnull().sum()"
   ]
  },
  {
   "cell_type": "code",
   "execution_count": 7,
   "metadata": {},
   "outputs": [
    {
     "data": {
      "text/plain": [
       "413"
      ]
     },
     "execution_count": 7,
     "metadata": {},
     "output_type": "execute_result"
    }
   ],
   "source": [
    "data.duplicated().sum()"
   ]
  },
  {
   "cell_type": "code",
   "execution_count": 8,
   "metadata": {},
   "outputs": [],
   "source": [
    "data = data.drop_duplicates()"
   ]
  },
  {
   "cell_type": "markdown",
   "metadata": {},
   "source": [
    "В данных отсутсвуют пропущенные значения. Есть 413 полных дубликата, удалим их."
   ]
  },
  {
   "cell_type": "code",
   "execution_count": 9,
   "metadata": {},
   "outputs": [],
   "source": [
    "data['date_and_time'] = pd.to_datetime(data['event_timestamp'],unit='s')"
   ]
  },
  {
   "cell_type": "code",
   "execution_count": 10,
   "metadata": {},
   "outputs": [],
   "source": [
    "data['date'] = data['date_and_time'].dt.date"
   ]
  },
  {
   "cell_type": "code",
   "execution_count": 11,
   "metadata": {},
   "outputs": [
    {
     "data": {
      "text/html": [
       "<div>\n",
       "<style scoped>\n",
       "    .dataframe tbody tr th:only-of-type {\n",
       "        vertical-align: middle;\n",
       "    }\n",
       "\n",
       "    .dataframe tbody tr th {\n",
       "        vertical-align: top;\n",
       "    }\n",
       "\n",
       "    .dataframe thead th {\n",
       "        text-align: right;\n",
       "    }\n",
       "</style>\n",
       "<table border=\"1\" class=\"dataframe\">\n",
       "  <thead>\n",
       "    <tr style=\"text-align: right;\">\n",
       "      <th></th>\n",
       "      <th>event_name</th>\n",
       "      <th>device_id_hash</th>\n",
       "      <th>event_timestamp</th>\n",
       "      <th>exp_id</th>\n",
       "      <th>date_and_time</th>\n",
       "      <th>date</th>\n",
       "    </tr>\n",
       "  </thead>\n",
       "  <tbody>\n",
       "    <tr>\n",
       "      <th>0</th>\n",
       "      <td>MainScreenAppear</td>\n",
       "      <td>4575588528974610257</td>\n",
       "      <td>1564029816</td>\n",
       "      <td>246</td>\n",
       "      <td>2019-07-25 04:43:36</td>\n",
       "      <td>2019-07-25</td>\n",
       "    </tr>\n",
       "    <tr>\n",
       "      <th>1</th>\n",
       "      <td>MainScreenAppear</td>\n",
       "      <td>7416695313311560658</td>\n",
       "      <td>1564053102</td>\n",
       "      <td>246</td>\n",
       "      <td>2019-07-25 11:11:42</td>\n",
       "      <td>2019-07-25</td>\n",
       "    </tr>\n",
       "    <tr>\n",
       "      <th>2</th>\n",
       "      <td>PaymentScreenSuccessful</td>\n",
       "      <td>3518123091307005509</td>\n",
       "      <td>1564054127</td>\n",
       "      <td>248</td>\n",
       "      <td>2019-07-25 11:28:47</td>\n",
       "      <td>2019-07-25</td>\n",
       "    </tr>\n",
       "    <tr>\n",
       "      <th>3</th>\n",
       "      <td>CartScreenAppear</td>\n",
       "      <td>3518123091307005509</td>\n",
       "      <td>1564054127</td>\n",
       "      <td>248</td>\n",
       "      <td>2019-07-25 11:28:47</td>\n",
       "      <td>2019-07-25</td>\n",
       "    </tr>\n",
       "    <tr>\n",
       "      <th>4</th>\n",
       "      <td>PaymentScreenSuccessful</td>\n",
       "      <td>6217807653094995999</td>\n",
       "      <td>1564055322</td>\n",
       "      <td>248</td>\n",
       "      <td>2019-07-25 11:48:42</td>\n",
       "      <td>2019-07-25</td>\n",
       "    </tr>\n",
       "  </tbody>\n",
       "</table>\n",
       "</div>"
      ],
      "text/plain": [
       "                event_name       device_id_hash  event_timestamp  exp_id  \\\n",
       "0         MainScreenAppear  4575588528974610257       1564029816     246   \n",
       "1         MainScreenAppear  7416695313311560658       1564053102     246   \n",
       "2  PaymentScreenSuccessful  3518123091307005509       1564054127     248   \n",
       "3         CartScreenAppear  3518123091307005509       1564054127     248   \n",
       "4  PaymentScreenSuccessful  6217807653094995999       1564055322     248   \n",
       "\n",
       "        date_and_time        date  \n",
       "0 2019-07-25 04:43:36  2019-07-25  \n",
       "1 2019-07-25 11:11:42  2019-07-25  \n",
       "2 2019-07-25 11:28:47  2019-07-25  \n",
       "3 2019-07-25 11:28:47  2019-07-25  \n",
       "4 2019-07-25 11:48:42  2019-07-25  "
      ]
     },
     "execution_count": 11,
     "metadata": {},
     "output_type": "execute_result"
    }
   ],
   "source": [
    "data.head()"
   ]
  },
  {
   "cell_type": "markdown",
   "metadata": {},
   "source": [
    "Добавили столбец даты и времени и даты."
   ]
  },
  {
   "cell_type": "markdown",
   "metadata": {},
   "source": [
    "## Изучение данных."
   ]
  },
  {
   "cell_type": "code",
   "execution_count": 12,
   "metadata": {},
   "outputs": [
    {
     "data": {
      "text/plain": [
       "243713"
      ]
     },
     "execution_count": 12,
     "metadata": {},
     "output_type": "execute_result"
    }
   ],
   "source": [
    "data['event_name'].count()"
   ]
  },
  {
   "cell_type": "code",
   "execution_count": 13,
   "metadata": {},
   "outputs": [
    {
     "data": {
      "text/plain": [
       "7551"
      ]
     },
     "execution_count": 13,
     "metadata": {},
     "output_type": "execute_result"
    }
   ],
   "source": [
    "data['device_id_hash'].nunique()"
   ]
  },
  {
   "cell_type": "code",
   "execution_count": 14,
   "metadata": {},
   "outputs": [
    {
     "data": {
      "text/plain": [
       "32"
      ]
     },
     "execution_count": 14,
     "metadata": {},
     "output_type": "execute_result"
    }
   ],
   "source": [
    "round(data['event_name'].count() / data['device_id_hash'].nunique())"
   ]
  },
  {
   "cell_type": "code",
   "execution_count": 15,
   "metadata": {
    "scrolled": true
   },
   "outputs": [
    {
     "data": {
      "text/plain": [
       "20.0"
      ]
     },
     "execution_count": 15,
     "metadata": {},
     "output_type": "execute_result"
    }
   ],
   "source": [
    "data['device_id_hash'].value_counts().median()"
   ]
  },
  {
   "cell_type": "code",
   "execution_count": 16,
   "metadata": {
    "scrolled": true
   },
   "outputs": [
    {
     "data": {
      "text/plain": [
       "1"
      ]
     },
     "execution_count": 16,
     "metadata": {},
     "output_type": "execute_result"
    }
   ],
   "source": [
    "data['device_id_hash'].value_counts().min()"
   ]
  },
  {
   "cell_type": "code",
   "execution_count": 17,
   "metadata": {
    "scrolled": false
   },
   "outputs": [
    {
     "data": {
      "text/plain": [
       "2307"
      ]
     },
     "execution_count": 17,
     "metadata": {},
     "output_type": "execute_result"
    }
   ],
   "source": [
    "data['device_id_hash'].value_counts().max()"
   ]
  },
  {
   "cell_type": "markdown",
   "metadata": {},
   "source": [
    "В среднем на пользователя приходится 32 события. Медиана - 20, значит распределение смещенное. Минимальное количество событий на пользователя - 1, максимальное - 2307. Значит в данных есть аномальные пользователи."
   ]
  },
  {
   "cell_type": "code",
   "execution_count": 18,
   "metadata": {},
   "outputs": [
    {
     "data": {
      "text/plain": [
       "datetime.date(2019, 7, 25)"
      ]
     },
     "execution_count": 18,
     "metadata": {},
     "output_type": "execute_result"
    }
   ],
   "source": [
    "data['date'].min()"
   ]
  },
  {
   "cell_type": "code",
   "execution_count": 19,
   "metadata": {},
   "outputs": [
    {
     "data": {
      "text/plain": [
       "datetime.date(2019, 8, 7)"
      ]
     },
     "execution_count": 19,
     "metadata": {},
     "output_type": "execute_result"
    }
   ],
   "source": [
    "data['date'].max()"
   ]
  },
  {
   "cell_type": "code",
   "execution_count": 20,
   "metadata": {},
   "outputs": [
    {
     "data": {
      "image/png": "[encoded data removed]",
      "text/plain": [
       "<Figure size 1200x700 with 1 Axes>"
      ]
     },
     "metadata": {},
     "output_type": "display_data"
    }
   ],
   "source": [
    "plt.figure(figsize=(12, 7))\n",
    "x = data['date'].unique()\n",
    "y = data.groupby(['date'])['event_name'].count()\n",
    "plt.bar(x, y)\n",
    "plt.title('количество событий в зависимости от времени')\n",
    "plt.xlabel('Дата')\n",
    "plt.ylabel('Количество событий')\n",
    "plt.show()"
   ]
  },
  {
   "cell_type": "code",
   "execution_count": 21,
   "metadata": {},
   "outputs": [],
   "source": [
    "data1 = data[data['date'] >=  datetime.date(2019,8,1)]"
   ]
  },
  {
   "cell_type": "code",
   "execution_count": 22,
   "metadata": {},
   "outputs": [
    {
     "name": "stdout",
     "output_type": "stream",
     "text": [
      "<class 'pandas.core.frame.DataFrame'>\n",
      "Int64Index: 240887 entries, 2828 to 244125\n",
      "Data columns (total 6 columns):\n",
      " #   Column           Non-Null Count   Dtype         \n",
      "---  ------           --------------   -----         \n",
      " 0   event_name       240887 non-null  object        \n",
      " 1   device_id_hash   240887 non-null  int64         \n",
      " 2   event_timestamp  240887 non-null  int64         \n",
      " 3   exp_id           240887 non-null  int64         \n",
      " 4   date_and_time    240887 non-null  datetime64[ns]\n",
      " 5   date             240887 non-null  object        \n",
      "dtypes: datetime64[ns](1), int64(3), object(2)\n",
      "memory usage: 12.9+ MB\n"
     ]
    }
   ],
   "source": [
    "data1.info()"
   ]
  },
  {
   "cell_type": "code",
   "execution_count": 23,
   "metadata": {
    "scrolled": true
   },
   "outputs": [
    {
     "data": {
      "text/plain": [
       "2826"
      ]
     },
     "execution_count": 23,
     "metadata": {},
     "output_type": "execute_result"
    }
   ],
   "source": [
    "data['event_name'].count() - data1['event_name'].count()"
   ]
  },
  {
   "cell_type": "code",
   "execution_count": 24,
   "metadata": {},
   "outputs": [
    {
     "data": {
      "text/plain": [
       "1.16"
      ]
     },
     "execution_count": 24,
     "metadata": {},
     "output_type": "execute_result"
    }
   ],
   "source": [
    "round(100-data1['event_name'].count()/data['event_name'].count()*100, 2)"
   ]
  },
  {
   "cell_type": "code",
   "execution_count": 25,
   "metadata": {
    "scrolled": true
   },
   "outputs": [
    {
     "data": {
      "text/plain": [
       "17"
      ]
     },
     "execution_count": 25,
     "metadata": {},
     "output_type": "execute_result"
    }
   ],
   "source": [
    "data['device_id_hash'].nunique() - data1['device_id_hash'].nunique()"
   ]
  },
  {
   "cell_type": "code",
   "execution_count": 26,
   "metadata": {},
   "outputs": [
    {
     "data": {
      "text/plain": [
       "0.23"
      ]
     },
     "execution_count": 26,
     "metadata": {},
     "output_type": "execute_result"
    }
   ],
   "source": [
    "round(100-data1['device_id_hash'].nunique()/data['device_id_hash'].nunique()*100, 2)"
   ]
  },
  {
   "cell_type": "code",
   "execution_count": 27,
   "metadata": {},
   "outputs": [
    {
     "data": {
      "text/plain": [
       "2484"
      ]
     },
     "execution_count": 27,
     "metadata": {},
     "output_type": "execute_result"
    }
   ],
   "source": [
    "data1[data1['exp_id'] == 246]['device_id_hash'].nunique()"
   ]
  },
  {
   "cell_type": "code",
   "execution_count": 28,
   "metadata": {},
   "outputs": [
    {
     "data": {
      "text/plain": [
       "2513"
      ]
     },
     "execution_count": 28,
     "metadata": {},
     "output_type": "execute_result"
    }
   ],
   "source": [
    "data1[data1['exp_id'] == 247]['device_id_hash'].nunique()"
   ]
  },
  {
   "cell_type": "code",
   "execution_count": 29,
   "metadata": {},
   "outputs": [
    {
     "data": {
      "text/plain": [
       "2537"
      ]
     },
     "execution_count": 29,
     "metadata": {},
     "output_type": "execute_result"
    }
   ],
   "source": [
    "data1[data1['exp_id'] == 248]['device_id_hash'].nunique()"
   ]
  },
  {
   "cell_type": "markdown",
   "metadata": {},
   "source": [
    "Изначально мы располагаем данными за период от 25 июля 2019 до 7 августа 2019. Но на столбчатой диаграмме видно, что полные данные начинаются только 1 августа 2019 года. Это произошло из-за того, что в логи новых дней по некоторым пользователям могут «доезжать» события из прошлого. Поэтому более старые данные стоит отбросить. Таким образом мы потеряли 2926 события (1.16%)и 17 пользователей (0.23%). Мы можем это сделать, так как остались пользователи из всех трех групп."
   ]
  },
  {
   "cell_type": "markdown",
   "metadata": {},
   "source": [
    "## Изучение воронки событий."
   ]
  },
  {
   "cell_type": "code",
   "execution_count": 30,
   "metadata": {
    "scrolled": true
   },
   "outputs": [
    {
     "data": {
      "text/plain": [
       "array(['Tutorial', 'MainScreenAppear', 'OffersScreenAppear',\n",
       "       'CartScreenAppear', 'PaymentScreenSuccessful'], dtype=object)"
      ]
     },
     "execution_count": 30,
     "metadata": {},
     "output_type": "execute_result"
    }
   ],
   "source": [
    "event_name = data1['event_name'].unique()\n",
    "event_name"
   ]
  },
  {
   "cell_type": "code",
   "execution_count": 31,
   "metadata": {
    "scrolled": true
   },
   "outputs": [
    {
     "data": {
      "text/plain": [
       "event_name\n",
       "MainScreenAppear           117328\n",
       "OffersScreenAppear          46333\n",
       "CartScreenAppear            42303\n",
       "PaymentScreenSuccessful     33918\n",
       "Tutorial                     1005\n",
       "Name: device_id_hash, dtype: int64"
      ]
     },
     "execution_count": 31,
     "metadata": {},
     "output_type": "execute_result"
    }
   ],
   "source": [
    "y = data1.groupby(['event_name']).count().sort_values(by = ['device_id_hash'], ascending=False)['device_id_hash']\n",
    "y"
   ]
  },
  {
   "cell_type": "code",
   "execution_count": 32,
   "metadata": {
    "scrolled": true
   },
   "outputs": [
    {
     "data": {
      "image/png": "[encoded data removed]",
      "text/plain": [
       "<Figure size 1200x700 with 1 Axes>"
      ]
     },
     "metadata": {},
     "output_type": "display_data"
    }
   ],
   "source": [
    "plt.figure(figsize=(12, 7))\n",
    "plt.bar(['MainScreenAppear', 'OffersScreenAppear', 'CartScreenAppear', 'PaymentScreenSuccessful', 'Tutorial'], y)\n",
    "plt.title('Количество событий типа')\n",
    "plt.xlabel('Тип события')\n",
    "plt.ylabel('Количество событий')\n",
    "plt.show()"
   ]
  },
  {
   "cell_type": "markdown",
   "metadata": {},
   "source": [
    "На шаг MainScreenAppear переходят 117328 пользователя, на OffersScreenAppear - 46333, на CartScreenAppear - 42303, на PaymentScreenSuccessful - 33918, на Tutorial всего 1005."
   ]
  },
  {
   "cell_type": "code",
   "execution_count": 33,
   "metadata": {},
   "outputs": [
    {
     "data": {
      "text/plain": [
       "event_name\n",
       "MainScreenAppear           7419\n",
       "OffersScreenAppear         4593\n",
       "CartScreenAppear           3734\n",
       "PaymentScreenSuccessful    3539\n",
       "Tutorial                    840\n",
       "Name: device_id_hash, dtype: int64"
      ]
     },
     "execution_count": 33,
     "metadata": {},
     "output_type": "execute_result"
    }
   ],
   "source": [
    "z = data1.groupby('event_name')['device_id_hash'].nunique().sort_values(ascending=False)\n",
    "z"
   ]
  },
  {
   "cell_type": "code",
   "execution_count": 34,
   "metadata": {},
   "outputs": [
    {
     "data": {
      "image/png": "[encoded data removed]",
      "text/plain": [
       "<Figure size 1200x700 with 1 Axes>"
      ]
     },
     "metadata": {},
     "output_type": "display_data"
    }
   ],
   "source": [
    "plt.figure(figsize=(12, 7))\n",
    "plt.bar(['MainScreenAppear', 'OffersScreenAppear', 'CartScreenAppear', 'PaymentScreenSuccessful', 'Tutorial'], z)\n",
    "plt.title('Количество пользователей, совершивших событие типа')\n",
    "plt.xlabel('Тип события')\n",
    "plt.ylabel('Количество пользователей')\n",
    "plt.show()"
   ]
  },
  {
   "cell_type": "code",
   "execution_count": 35,
   "metadata": {},
   "outputs": [
    {
     "data": {
      "text/plain": [
       "event_name\n",
       "MainScreenAppear           98.473586\n",
       "OffersScreenAppear         60.963632\n",
       "CartScreenAppear           49.561986\n",
       "PaymentScreenSuccessful    46.973719\n",
       "Tutorial                   11.149456\n",
       "Name: device_id_hash, dtype: float64"
      ]
     },
     "execution_count": 35,
     "metadata": {},
     "output_type": "execute_result"
    }
   ],
   "source": [
    "z / data1['device_id_hash'].nunique() * 100"
   ]
  },
  {
   "cell_type": "code",
   "execution_count": 36,
   "metadata": {},
   "outputs": [],
   "source": [
    "y = y.to_frame()\n",
    "z = z.to_frame()"
   ]
  },
  {
   "cell_type": "code",
   "execution_count": 37,
   "metadata": {
    "scrolled": true
   },
   "outputs": [
    {
     "data": {
      "text/html": [
       "<div>\n",
       "<style scoped>\n",
       "    .dataframe tbody tr th:only-of-type {\n",
       "        vertical-align: middle;\n",
       "    }\n",
       "\n",
       "    .dataframe tbody tr th {\n",
       "        vertical-align: top;\n",
       "    }\n",
       "\n",
       "    .dataframe thead th {\n",
       "        text-align: right;\n",
       "    }\n",
       "</style>\n",
       "<table border=\"1\" class=\"dataframe\">\n",
       "  <thead>\n",
       "    <tr style=\"text-align: right;\">\n",
       "      <th></th>\n",
       "      <th>device_id_hash</th>\n",
       "      <th>n/first</th>\n",
       "    </tr>\n",
       "    <tr>\n",
       "      <th>event_name</th>\n",
       "      <th></th>\n",
       "      <th></th>\n",
       "    </tr>\n",
       "  </thead>\n",
       "  <tbody>\n",
       "    <tr>\n",
       "      <th>MainScreenAppear</th>\n",
       "      <td>7419</td>\n",
       "      <td>98.473586</td>\n",
       "    </tr>\n",
       "    <tr>\n",
       "      <th>OffersScreenAppear</th>\n",
       "      <td>4593</td>\n",
       "      <td>60.963632</td>\n",
       "    </tr>\n",
       "    <tr>\n",
       "      <th>CartScreenAppear</th>\n",
       "      <td>3734</td>\n",
       "      <td>49.561986</td>\n",
       "    </tr>\n",
       "    <tr>\n",
       "      <th>PaymentScreenSuccessful</th>\n",
       "      <td>3539</td>\n",
       "      <td>46.973719</td>\n",
       "    </tr>\n",
       "    <tr>\n",
       "      <th>Tutorial</th>\n",
       "      <td>840</td>\n",
       "      <td>11.149456</td>\n",
       "    </tr>\n",
       "  </tbody>\n",
       "</table>\n",
       "</div>"
      ],
      "text/plain": [
       "                         device_id_hash    n/first\n",
       "event_name                                        \n",
       "MainScreenAppear                   7419  98.473586\n",
       "OffersScreenAppear                 4593  60.963632\n",
       "CartScreenAppear                   3734  49.561986\n",
       "PaymentScreenSuccessful            3539  46.973719\n",
       "Tutorial                            840  11.149456"
      ]
     },
     "execution_count": 37,
     "metadata": {},
     "output_type": "execute_result"
    }
   ],
   "source": [
    "users = z.merge(z / data1['device_id_hash'].nunique() * 100, on='event_name')\n",
    "users = users.rename(columns = {'device_id_hash_x' : 'device_id_hash', 'device_id_hash_y' : 'n/first'})\n",
    "users"
   ]
  },
  {
   "cell_type": "markdown",
   "metadata": {},
   "source": [
    "Можно предположить, что последовательность действий такая: MainScreenAppear, OffersScreenAppear, CartScreenAppear, PaymentScreenSuccessful. На страницу Tutorial переходит малое количество пользователей, скорее всего оно не входит в цепочку. На первый шаг - MainScreenAppear переходит 98.5 процентов пользователей. Можно предположить, что это событие совершают не все пользователи из-за технических ошибок."
   ]
  },
  {
   "cell_type": "code",
   "execution_count": 38,
   "metadata": {
    "scrolled": true
   },
   "outputs": [
    {
     "data": {
      "text/html": [
       "<div>\n",
       "<style scoped>\n",
       "    .dataframe tbody tr th:only-of-type {\n",
       "        vertical-align: middle;\n",
       "    }\n",
       "\n",
       "    .dataframe tbody tr th {\n",
       "        vertical-align: top;\n",
       "    }\n",
       "\n",
       "    .dataframe thead th {\n",
       "        text-align: right;\n",
       "    }\n",
       "</style>\n",
       "<table border=\"1\" class=\"dataframe\">\n",
       "  <thead>\n",
       "    <tr style=\"text-align: right;\">\n",
       "      <th></th>\n",
       "      <th>device_id_hash</th>\n",
       "      <th>n/first</th>\n",
       "      <th>n/n-1</th>\n",
       "    </tr>\n",
       "    <tr>\n",
       "      <th>event_name</th>\n",
       "      <th></th>\n",
       "      <th></th>\n",
       "      <th></th>\n",
       "    </tr>\n",
       "  </thead>\n",
       "  <tbody>\n",
       "    <tr>\n",
       "      <th>MainScreenAppear</th>\n",
       "      <td>7419</td>\n",
       "      <td>98.473586</td>\n",
       "      <td>100.000000</td>\n",
       "    </tr>\n",
       "    <tr>\n",
       "      <th>OffersScreenAppear</th>\n",
       "      <td>4593</td>\n",
       "      <td>60.963632</td>\n",
       "      <td>61.908613</td>\n",
       "    </tr>\n",
       "    <tr>\n",
       "      <th>CartScreenAppear</th>\n",
       "      <td>3734</td>\n",
       "      <td>49.561986</td>\n",
       "      <td>81.297627</td>\n",
       "    </tr>\n",
       "    <tr>\n",
       "      <th>PaymentScreenSuccessful</th>\n",
       "      <td>3539</td>\n",
       "      <td>46.973719</td>\n",
       "      <td>94.777718</td>\n",
       "    </tr>\n",
       "    <tr>\n",
       "      <th>Tutorial</th>\n",
       "      <td>840</td>\n",
       "      <td>11.149456</td>\n",
       "      <td>23.735519</td>\n",
       "    </tr>\n",
       "  </tbody>\n",
       "</table>\n",
       "</div>"
      ],
      "text/plain": [
       "                         device_id_hash    n/first       n/n-1\n",
       "event_name                                                    \n",
       "MainScreenAppear                   7419  98.473586  100.000000\n",
       "OffersScreenAppear                 4593  60.963632   61.908613\n",
       "CartScreenAppear                   3734  49.561986   81.297627\n",
       "PaymentScreenSuccessful            3539  46.973719   94.777718\n",
       "Tutorial                            840  11.149456   23.735519"
      ]
     },
     "execution_count": 38,
     "metadata": {},
     "output_type": "execute_result"
    }
   ],
   "source": [
    "users['n/n-1'] = users['device_id_hash'] / users['device_id_hash'].shift()*100\n",
    "users.loc['MainScreenAppear', 'n/n-1'] = 100\n",
    "users"
   ]
  },
  {
   "cell_type": "markdown",
   "metadata": {},
   "source": [
    "Конверсии текущего шага к первому составили 98%, 61%, 50%, 47%. На первый шаг попали не все пользователи, возможно это произошло из-за технических ошибок. Конверсия текущего шага к предыдущему: 100%, 62%, 81%, 95%. БОльше всего пользователей теряются при переходе на шаг OffersScreenAppear, возможно это происходит из-за того,что главный экран не устраивает этих людей."
   ]
  },
  {
   "cell_type": "code",
   "execution_count": 39,
   "metadata": {},
   "outputs": [
    {
     "data": {
      "text/plain": [
       "0.47701846610055265"
      ]
     },
     "execution_count": 39,
     "metadata": {},
     "output_type": "execute_result"
    }
   ],
   "source": [
    "data1[data1['event_name'] == 'PaymentScreenSuccessful']['device_id_hash'].nunique() /\\\n",
    "data1[data1['event_name'] == 'MainScreenAppear']['device_id_hash'].nunique()"
   ]
  },
  {
   "cell_type": "markdown",
   "metadata": {},
   "source": [
    "48 процентов пользователей доходят от первого события до оплаты."
   ]
  },
  {
   "cell_type": "markdown",
   "metadata": {},
   "source": [
    "## Результаты эксперимента."
   ]
  },
  {
   "cell_type": "code",
   "execution_count": 40,
   "metadata": {},
   "outputs": [
    {
     "data": {
      "text/plain": [
       "exp_id\n",
       "246    2484\n",
       "247    2513\n",
       "248    2537\n",
       "Name: device_id_hash, dtype: int64"
      ]
     },
     "execution_count": 40,
     "metadata": {},
     "output_type": "execute_result"
    }
   ],
   "source": [
    "data1.groupby('exp_id')['device_id_hash'].nunique()"
   ]
  },
  {
   "cell_type": "code",
   "execution_count": 41,
   "metadata": {
    "scrolled": true
   },
   "outputs": [
    {
     "data": {
      "text/plain": [
       "exp_id    0\n",
       "dtype: int64"
      ]
     },
     "execution_count": 41,
     "metadata": {},
     "output_type": "execute_result"
    }
   ],
   "source": [
    "data1.groupby('device_id_hash').agg({'exp_id' : 'nunique'}).query('exp_id>1').count()"
   ]
  },
  {
   "cell_type": "code",
   "execution_count": 42,
   "metadata": {
    "scrolled": true
   },
   "outputs": [
    {
     "data": {
      "text/plain": [
       "exp_id    0\n",
       "dtype: int64"
      ]
     },
     "execution_count": 42,
     "metadata": {},
     "output_type": "execute_result"
    }
   ],
   "source": [
    "data1.groupby('device_id_hash')['exp_id'].nunique().to_frame().query('exp_id>1').count()"
   ]
  },
  {
   "cell_type": "markdown",
   "metadata": {},
   "source": [
    "В контрольных группах 2484 и 2513 пользователя, в экспериментальной 2537. Нет пользователей, попавших в несколько групп."
   ]
  },
  {
   "cell_type": "markdown",
   "metadata": {},
   "source": [
    "Создадим таблицу с количество пользователей по группам на каждом этапе, а также суммарное их количество."
   ]
  },
  {
   "cell_type": "code",
   "execution_count": 43,
   "metadata": {},
   "outputs": [
    {
     "data": {
      "text/html": [
       "<div>\n",
       "<style scoped>\n",
       "    .dataframe tbody tr th:only-of-type {\n",
       "        vertical-align: middle;\n",
       "    }\n",
       "\n",
       "    .dataframe tbody tr th {\n",
       "        vertical-align: top;\n",
       "    }\n",
       "\n",
       "    .dataframe thead th {\n",
       "        text-align: right;\n",
       "    }\n",
       "</style>\n",
       "<table border=\"1\" class=\"dataframe\">\n",
       "  <thead>\n",
       "    <tr style=\"text-align: right;\">\n",
       "      <th>event_name</th>\n",
       "      <th>exp_id</th>\n",
       "      <th>CartScreenAppear</th>\n",
       "      <th>MainScreenAppear</th>\n",
       "      <th>OffersScreenAppear</th>\n",
       "      <th>PaymentScreenSuccessful</th>\n",
       "      <th>Tutorial</th>\n",
       "    </tr>\n",
       "  </thead>\n",
       "  <tbody>\n",
       "    <tr>\n",
       "      <th>0</th>\n",
       "      <td>246</td>\n",
       "      <td>1266</td>\n",
       "      <td>2450</td>\n",
       "      <td>1542</td>\n",
       "      <td>1200</td>\n",
       "      <td>278</td>\n",
       "    </tr>\n",
       "    <tr>\n",
       "      <th>1</th>\n",
       "      <td>247</td>\n",
       "      <td>1238</td>\n",
       "      <td>2476</td>\n",
       "      <td>1520</td>\n",
       "      <td>1158</td>\n",
       "      <td>283</td>\n",
       "    </tr>\n",
       "    <tr>\n",
       "      <th>2</th>\n",
       "      <td>248</td>\n",
       "      <td>1230</td>\n",
       "      <td>2493</td>\n",
       "      <td>1531</td>\n",
       "      <td>1181</td>\n",
       "      <td>279</td>\n",
       "    </tr>\n",
       "  </tbody>\n",
       "</table>\n",
       "</div>"
      ],
      "text/plain": [
       "event_name  exp_id  CartScreenAppear  MainScreenAppear  OffersScreenAppear  \\\n",
       "0              246              1266              2450                1542   \n",
       "1              247              1238              2476                1520   \n",
       "2              248              1230              2493                1531   \n",
       "\n",
       "event_name  PaymentScreenSuccessful  Tutorial  \n",
       "0                              1200       278  \n",
       "1                              1158       283  \n",
       "2                              1181       279  "
      ]
     },
     "execution_count": 43,
     "metadata": {},
     "output_type": "execute_result"
    }
   ],
   "source": [
    "users = data1.pivot_table(index = 'exp_id', columns = 'event_name', values = 'device_id_hash', aggfunc = 'nunique').reset_index()\n",
    "users"
   ]
  },
  {
   "cell_type": "code",
   "execution_count": 44,
   "metadata": {
    "scrolled": false
   },
   "outputs": [
    {
     "data": {
      "text/html": [
       "<div>\n",
       "<style scoped>\n",
       "    .dataframe tbody tr th:only-of-type {\n",
       "        vertical-align: middle;\n",
       "    }\n",
       "\n",
       "    .dataframe tbody tr th {\n",
       "        vertical-align: top;\n",
       "    }\n",
       "\n",
       "    .dataframe thead th {\n",
       "        text-align: right;\n",
       "    }\n",
       "</style>\n",
       "<table border=\"1\" class=\"dataframe\">\n",
       "  <thead>\n",
       "    <tr style=\"text-align: right;\">\n",
       "      <th>event_name</th>\n",
       "      <th>CartScreenAppear</th>\n",
       "      <th>MainScreenAppear</th>\n",
       "      <th>OffersScreenAppear</th>\n",
       "      <th>PaymentScreenSuccessful</th>\n",
       "      <th>Tutorial</th>\n",
       "      <th>total</th>\n",
       "    </tr>\n",
       "    <tr>\n",
       "      <th>exp_id</th>\n",
       "      <th></th>\n",
       "      <th></th>\n",
       "      <th></th>\n",
       "      <th></th>\n",
       "      <th></th>\n",
       "      <th></th>\n",
       "    </tr>\n",
       "  </thead>\n",
       "  <tbody>\n",
       "    <tr>\n",
       "      <th>246</th>\n",
       "      <td>1266</td>\n",
       "      <td>2450</td>\n",
       "      <td>1542</td>\n",
       "      <td>1200</td>\n",
       "      <td>278</td>\n",
       "      <td>2484</td>\n",
       "    </tr>\n",
       "    <tr>\n",
       "      <th>247</th>\n",
       "      <td>1238</td>\n",
       "      <td>2476</td>\n",
       "      <td>1520</td>\n",
       "      <td>1158</td>\n",
       "      <td>283</td>\n",
       "      <td>2513</td>\n",
       "    </tr>\n",
       "    <tr>\n",
       "      <th>248</th>\n",
       "      <td>1230</td>\n",
       "      <td>2493</td>\n",
       "      <td>1531</td>\n",
       "      <td>1181</td>\n",
       "      <td>279</td>\n",
       "      <td>2537</td>\n",
       "    </tr>\n",
       "  </tbody>\n",
       "</table>\n",
       "</div>"
      ],
      "text/plain": [
       "event_name  CartScreenAppear  MainScreenAppear  OffersScreenAppear  \\\n",
       "exp_id                                                               \n",
       "246                     1266              2450                1542   \n",
       "247                     1238              2476                1520   \n",
       "248                     1230              2493                1531   \n",
       "\n",
       "event_name  PaymentScreenSuccessful  Tutorial  total  \n",
       "exp_id                                                \n",
       "246                            1200       278   2484  \n",
       "247                            1158       283   2513  \n",
       "248                            1181       279   2537  "
      ]
     },
     "execution_count": 44,
     "metadata": {},
     "output_type": "execute_result"
    }
   ],
   "source": [
    "users_count = data1.groupby('exp_id')['device_id_hash'].nunique()\n",
    "users['total'] = users['exp_id'].apply(lambda x: users_count.loc[x])\n",
    "users = users.set_index('exp_id')\n",
    "users"
   ]
  },
  {
   "cell_type": "markdown",
   "metadata": {},
   "source": [
    "Функция для проведения теста:"
   ]
  },
  {
   "cell_type": "code",
   "execution_count": 45,
   "metadata": {},
   "outputs": [],
   "source": [
    "def test(event, total, alpha):\n",
    "    p246 = event[0] / total[0]\n",
    "    p247 = event[1] / total[1]\n",
    "    psum = (event[0] + event[1]) / (total[0] + total[1])\n",
    "    dif = p246 - p247\n",
    "    z = dif / mth.sqrt(psum *(1-psum) * (1/total[0] + 1/total[1]))\n",
    "    distr = stats.norm(0, 1) \n",
    "    \n",
    "    p_value = (1 - distr.cdf(abs(z))) * 2\n",
    "    \n",
    "    print('p-значение: ', p_value)\n",
    "    \n",
    "    if (p_value < alpha):\n",
    "        print(\"Отвергаем нулевую гипотезу: между долями есть значимая разница\")\n",
    "    else:\n",
    "        print(\"Не получилось отвергнуть нулевую гипотезу\")"
   ]
  },
  {
   "cell_type": "markdown",
   "metadata": {},
   "source": [
    "Зададим уровень значимости сначала 0.1:"
   ]
  },
  {
   "cell_type": "code",
   "execution_count": 46,
   "metadata": {},
   "outputs": [],
   "source": [
    "alpha = 0.01"
   ]
  },
  {
   "cell_type": "markdown",
   "metadata": {},
   "source": [
    "Нулевая гипотеза: статистических различий между группами нет. Альтернативная: статистические различия между группами есть."
   ]
  },
  {
   "cell_type": "markdown",
   "metadata": {},
   "source": [
    "Проведет тест для двух контрольных групп."
   ]
  },
  {
   "cell_type": "code",
   "execution_count": 47,
   "metadata": {},
   "outputs": [
    {
     "name": "stdout",
     "output_type": "stream",
     "text": [
      "p-значение:  0.7570597232046099\n",
      "Не получилось отвергнуть нулевую гипотезу\n"
     ]
    }
   ],
   "source": [
    "test([users['MainScreenAppear'][246], users['MainScreenAppear'][247]], [users['total'][246], users['total'][247]], alpha)"
   ]
  },
  {
   "cell_type": "code",
   "execution_count": 48,
   "metadata": {},
   "outputs": [
    {
     "name": "stdout",
     "output_type": "stream",
     "text": [
      "p-значение:  0.2480954578522181\n",
      "Не получилось отвергнуть нулевую гипотезу\n"
     ]
    }
   ],
   "source": [
    "test([users['OffersScreenAppear'][246], users['OffersScreenAppear'][247]], [users['total'][246], users['total'][247]], alpha)"
   ]
  },
  {
   "cell_type": "code",
   "execution_count": 49,
   "metadata": {},
   "outputs": [
    {
     "name": "stdout",
     "output_type": "stream",
     "text": [
      "p-значение:  0.22883372237997213\n",
      "Не получилось отвергнуть нулевую гипотезу\n"
     ]
    }
   ],
   "source": [
    "test([users['CartScreenAppear'][246], users['CartScreenAppear'][247]], [users['total'][246], users['total'][247]], alpha)"
   ]
  },
  {
   "cell_type": "code",
   "execution_count": 50,
   "metadata": {},
   "outputs": [
    {
     "name": "stdout",
     "output_type": "stream",
     "text": [
      "p-значение:  0.11456679313141849\n",
      "Не получилось отвергнуть нулевую гипотезу\n"
     ]
    }
   ],
   "source": [
    "test([users['PaymentScreenSuccessful'][246], users['PaymentScreenSuccessful'][247]], [users['total'][246], users['total'][247]], alpha)"
   ]
  },
  {
   "cell_type": "markdown",
   "metadata": {},
   "source": [
    "По результатам теста нельзя отвергнуть нулевую гипотезу. Значит статистической разницы между контрольными группами нет. Это значит, что разбиение пользователей на группы корректно."
   ]
  },
  {
   "cell_type": "markdown",
   "metadata": {},
   "source": [
    "Проведем тест для экспериментальной и каждой из контрольной групп, а также с суммарной группой контрольных."
   ]
  },
  {
   "cell_type": "code",
   "execution_count": 51,
   "metadata": {
    "scrolled": true
   },
   "outputs": [
    {
     "name": "stdout",
     "output_type": "stream",
     "text": [
      "p-значение:  0.2949721933554552\n",
      "Не получилось отвергнуть нулевую гипотезу\n"
     ]
    }
   ],
   "source": [
    "test([users['MainScreenAppear'][246], users['MainScreenAppear'][248]], [users['total'][246], users['total'][248]], alpha)"
   ]
  },
  {
   "cell_type": "code",
   "execution_count": 52,
   "metadata": {},
   "outputs": [
    {
     "name": "stdout",
     "output_type": "stream",
     "text": [
      "p-значение:  0.20836205402738917\n",
      "Не получилось отвергнуть нулевую гипотезу\n"
     ]
    }
   ],
   "source": [
    "test([users['OffersScreenAppear'][246], users['OffersScreenAppear'][248]], [users['total'][246], users['total'][248]], alpha)"
   ]
  },
  {
   "cell_type": "code",
   "execution_count": 53,
   "metadata": {},
   "outputs": [
    {
     "name": "stdout",
     "output_type": "stream",
     "text": [
      "p-значение:  0.07842923237520116\n",
      "Не получилось отвергнуть нулевую гипотезу\n"
     ]
    }
   ],
   "source": [
    "test([users['CartScreenAppear'][246], users['CartScreenAppear'][248]], [users['total'][246], users['total'][248]], alpha)"
   ]
  },
  {
   "cell_type": "code",
   "execution_count": 54,
   "metadata": {
    "scrolled": true
   },
   "outputs": [
    {
     "name": "stdout",
     "output_type": "stream",
     "text": [
      "p-значение:  0.2122553275697796\n",
      "Не получилось отвергнуть нулевую гипотезу\n"
     ]
    }
   ],
   "source": [
    "test([users['PaymentScreenSuccessful'][246], users['PaymentScreenSuccessful'][248]], [users['total'][246], users['total'][248]], alpha)"
   ]
  },
  {
   "cell_type": "code",
   "execution_count": 55,
   "metadata": {},
   "outputs": [
    {
     "name": "stdout",
     "output_type": "stream",
     "text": [
      "p-значение:  0.4587053616621515\n",
      "Не получилось отвергнуть нулевую гипотезу\n"
     ]
    }
   ],
   "source": [
    "test([users['MainScreenAppear'][247], users['MainScreenAppear'][248]], [users['total'][247], users['total'][248]], alpha)"
   ]
  },
  {
   "cell_type": "code",
   "execution_count": 56,
   "metadata": {},
   "outputs": [
    {
     "name": "stdout",
     "output_type": "stream",
     "text": [
      "p-значение:  0.9197817830592261\n",
      "Не получилось отвергнуть нулевую гипотезу\n"
     ]
    }
   ],
   "source": [
    "test([users['OffersScreenAppear'][247], users['OffersScreenAppear'][248]], [users['total'][247], users['total'][248]], alpha)"
   ]
  },
  {
   "cell_type": "code",
   "execution_count": 57,
   "metadata": {},
   "outputs": [
    {
     "name": "stdout",
     "output_type": "stream",
     "text": [
      "p-значение:  0.5786197879539783\n",
      "Не получилось отвергнуть нулевую гипотезу\n"
     ]
    }
   ],
   "source": [
    "test([users['CartScreenAppear'][247], users['CartScreenAppear'][248]], [users['total'][247], users['total'][248]], alpha)"
   ]
  },
  {
   "cell_type": "code",
   "execution_count": 58,
   "metadata": {
    "scrolled": true
   },
   "outputs": [
    {
     "name": "stdout",
     "output_type": "stream",
     "text": [
      "p-значение:  0.7373415053803964\n",
      "Не получилось отвергнуть нулевую гипотезу\n"
     ]
    }
   ],
   "source": [
    "test([users['PaymentScreenSuccessful'][247], users['PaymentScreenSuccessful'][248]], [users['total'][247], users['total'][248]], alpha)"
   ]
  },
  {
   "cell_type": "code",
   "execution_count": 59,
   "metadata": {},
   "outputs": [
    {
     "data": {
      "text/html": [
       "<div>\n",
       "<style scoped>\n",
       "    .dataframe tbody tr th:only-of-type {\n",
       "        vertical-align: middle;\n",
       "    }\n",
       "\n",
       "    .dataframe tbody tr th {\n",
       "        vertical-align: top;\n",
       "    }\n",
       "\n",
       "    .dataframe thead th {\n",
       "        text-align: right;\n",
       "    }\n",
       "</style>\n",
       "<table border=\"1\" class=\"dataframe\">\n",
       "  <thead>\n",
       "    <tr style=\"text-align: right;\">\n",
       "      <th>event_name</th>\n",
       "      <th>CartScreenAppear</th>\n",
       "      <th>MainScreenAppear</th>\n",
       "      <th>OffersScreenAppear</th>\n",
       "      <th>PaymentScreenSuccessful</th>\n",
       "      <th>Tutorial</th>\n",
       "      <th>total</th>\n",
       "    </tr>\n",
       "    <tr>\n",
       "      <th>exp_id</th>\n",
       "      <th></th>\n",
       "      <th></th>\n",
       "      <th></th>\n",
       "      <th></th>\n",
       "      <th></th>\n",
       "      <th></th>\n",
       "    </tr>\n",
       "  </thead>\n",
       "  <tbody>\n",
       "    <tr>\n",
       "      <th>246</th>\n",
       "      <td>1266</td>\n",
       "      <td>2450</td>\n",
       "      <td>1542</td>\n",
       "      <td>1200</td>\n",
       "      <td>278</td>\n",
       "      <td>2484</td>\n",
       "    </tr>\n",
       "    <tr>\n",
       "      <th>247</th>\n",
       "      <td>1238</td>\n",
       "      <td>2476</td>\n",
       "      <td>1520</td>\n",
       "      <td>1158</td>\n",
       "      <td>283</td>\n",
       "      <td>2513</td>\n",
       "    </tr>\n",
       "    <tr>\n",
       "      <th>248</th>\n",
       "      <td>1230</td>\n",
       "      <td>2493</td>\n",
       "      <td>1531</td>\n",
       "      <td>1181</td>\n",
       "      <td>279</td>\n",
       "      <td>2537</td>\n",
       "    </tr>\n",
       "    <tr>\n",
       "      <th>sum</th>\n",
       "      <td>2504</td>\n",
       "      <td>4926</td>\n",
       "      <td>3062</td>\n",
       "      <td>2358</td>\n",
       "      <td>561</td>\n",
       "      <td>4997</td>\n",
       "    </tr>\n",
       "  </tbody>\n",
       "</table>\n",
       "</div>"
      ],
      "text/plain": [
       "event_name  CartScreenAppear  MainScreenAppear  OffersScreenAppear  \\\n",
       "exp_id                                                               \n",
       "246                     1266              2450                1542   \n",
       "247                     1238              2476                1520   \n",
       "248                     1230              2493                1531   \n",
       "sum                     2504              4926                3062   \n",
       "\n",
       "event_name  PaymentScreenSuccessful  Tutorial  total  \n",
       "exp_id                                                \n",
       "246                            1200       278   2484  \n",
       "247                            1158       283   2513  \n",
       "248                            1181       279   2537  \n",
       "sum                            2358       561   4997  "
      ]
     },
     "execution_count": 59,
     "metadata": {},
     "output_type": "execute_result"
    }
   ],
   "source": [
    "users.loc['sum'] = users['CartScreenAppear'][246]+users['CartScreenAppear'][247] , users['MainScreenAppear'][246]+users['MainScreenAppear'][247], users['OffersScreenAppear'][246]+users['OffersScreenAppear'][247], users['PaymentScreenSuccessful'][246]+users['PaymentScreenSuccessful'][247], users['Tutorial'][246]+users['Tutorial'][247], users['total'][246]+users['total'][247]\n",
    "users"
   ]
  },
  {
   "cell_type": "code",
   "execution_count": 60,
   "metadata": {},
   "outputs": [
    {
     "name": "stdout",
     "output_type": "stream",
     "text": [
      "p-значение:  0.29424526837179577\n",
      "Не получилось отвергнуть нулевую гипотезу\n"
     ]
    }
   ],
   "source": [
    "test([users['MainScreenAppear']['sum'], users['MainScreenAppear'][248]], [users['total']['sum'], users['total'][248]], alpha)"
   ]
  },
  {
   "cell_type": "code",
   "execution_count": 61,
   "metadata": {},
   "outputs": [
    {
     "name": "stdout",
     "output_type": "stream",
     "text": [
      "p-значение:  0.43425549655188256\n",
      "Не получилось отвергнуть нулевую гипотезу\n"
     ]
    }
   ],
   "source": [
    "test([users['OffersScreenAppear']['sum'], users['OffersScreenAppear'][248]], [users['total']['sum'], users['total'][248]], alpha)"
   ]
  },
  {
   "cell_type": "code",
   "execution_count": 62,
   "metadata": {},
   "outputs": [
    {
     "name": "stdout",
     "output_type": "stream",
     "text": [
      "p-значение:  0.18175875284404386\n",
      "Не получилось отвергнуть нулевую гипотезу\n"
     ]
    }
   ],
   "source": [
    "test([users['CartScreenAppear']['sum'], users['CartScreenAppear'][248]], [users['total']['sum'], users['total'][248]], alpha)"
   ]
  },
  {
   "cell_type": "code",
   "execution_count": 63,
   "metadata": {},
   "outputs": [
    {
     "name": "stdout",
     "output_type": "stream",
     "text": [
      "p-значение:  0.6004294282308704\n",
      "Не получилось отвергнуть нулевую гипотезу\n"
     ]
    }
   ],
   "source": [
    "test([users['PaymentScreenSuccessful']['sum'], users['PaymentScreenSuccessful'][248]], [users['total']['sum'], users['total'][248]], alpha)"
   ]
  },
  {
   "cell_type": "markdown",
   "metadata": {},
   "source": [
    "Мы провери 16 тестов, сравнили экспериментальную группу с контрольными, а также с суммой контрольных. По результатам теста не выявленно статистических различий. Шрифт не влияет на конверсию."
   ]
  },
  {
   "cell_type": "code",
   "execution_count": 64,
   "metadata": {
    "scrolled": true
   },
   "outputs": [
    {
     "data": {
      "text/plain": [
       "0.14854222890512447"
      ]
     },
     "execution_count": 64,
     "metadata": {},
     "output_type": "execute_result"
    }
   ],
   "source": [
    "1-(1-alpha)**16"
   ]
  },
  {
   "cell_type": "code",
   "execution_count": 65,
   "metadata": {},
   "outputs": [],
   "source": [
    "alpha = 0.05"
   ]
  },
  {
   "cell_type": "code",
   "execution_count": 66,
   "metadata": {
    "scrolled": false
   },
   "outputs": [
    {
     "data": {
      "text/plain": [
       "0.048845042569365726"
      ]
     },
     "execution_count": 66,
     "metadata": {},
     "output_type": "execute_result"
    }
   ],
   "source": [
    "1-(1-alpha/16)**16"
   ]
  },
  {
   "cell_type": "markdown",
   "metadata": {},
   "source": [
    "Уровень значимость в 0.01 нам не подходит, так как вероятность ошибки слишком высока, возьмем уровень значимости 0.05."
   ]
  },
  {
   "cell_type": "code",
   "execution_count": 67,
   "metadata": {},
   "outputs": [
    {
     "name": "stdout",
     "output_type": "stream",
     "text": [
      "p-значение:  0.7570597232046099\n",
      "Не получилось отвергнуть нулевую гипотезу\n"
     ]
    }
   ],
   "source": [
    "test([users['MainScreenAppear'][246], users['MainScreenAppear'][247]], [users['total'][246], users['total'][247]], alpha)"
   ]
  },
  {
   "cell_type": "code",
   "execution_count": 68,
   "metadata": {},
   "outputs": [
    {
     "name": "stdout",
     "output_type": "stream",
     "text": [
      "p-значение:  0.2480954578522181\n",
      "Не получилось отвергнуть нулевую гипотезу\n"
     ]
    }
   ],
   "source": [
    "test([users['OffersScreenAppear'][246], users['OffersScreenAppear'][247]], [users['total'][246], users['total'][247]], alpha)"
   ]
  },
  {
   "cell_type": "code",
   "execution_count": 69,
   "metadata": {},
   "outputs": [
    {
     "name": "stdout",
     "output_type": "stream",
     "text": [
      "p-значение:  0.22883372237997213\n",
      "Не получилось отвергнуть нулевую гипотезу\n"
     ]
    }
   ],
   "source": [
    "test([users['CartScreenAppear'][246], users['CartScreenAppear'][247]], [users['total'][246], users['total'][247]], alpha)"
   ]
  },
  {
   "cell_type": "code",
   "execution_count": 70,
   "metadata": {},
   "outputs": [
    {
     "name": "stdout",
     "output_type": "stream",
     "text": [
      "p-значение:  0.11456679313141849\n",
      "Не получилось отвергнуть нулевую гипотезу\n"
     ]
    }
   ],
   "source": [
    "test([users['PaymentScreenSuccessful'][246], users['PaymentScreenSuccessful'][247]], [users['total'][246], users['total'][247]], alpha)"
   ]
  },
  {
   "cell_type": "code",
   "execution_count": 71,
   "metadata": {},
   "outputs": [
    {
     "name": "stdout",
     "output_type": "stream",
     "text": [
      "p-значение:  0.2949721933554552\n",
      "Не получилось отвергнуть нулевую гипотезу\n"
     ]
    }
   ],
   "source": [
    "test([users['MainScreenAppear'][246], users['MainScreenAppear'][248]], [users['total'][246], users['total'][248]], alpha)"
   ]
  },
  {
   "cell_type": "code",
   "execution_count": 72,
   "metadata": {},
   "outputs": [
    {
     "name": "stdout",
     "output_type": "stream",
     "text": [
      "p-значение:  0.20836205402738917\n",
      "Не получилось отвергнуть нулевую гипотезу\n"
     ]
    }
   ],
   "source": [
    "test([users['OffersScreenAppear'][246], users['OffersScreenAppear'][248]], [users['total'][246], users['total'][248]], alpha)"
   ]
  },
  {
   "cell_type": "code",
   "execution_count": 73,
   "metadata": {},
   "outputs": [
    {
     "name": "stdout",
     "output_type": "stream",
     "text": [
      "p-значение:  0.07842923237520116\n",
      "Не получилось отвергнуть нулевую гипотезу\n"
     ]
    }
   ],
   "source": [
    "test([users['CartScreenAppear'][246], users['CartScreenAppear'][248]], [users['total'][246], users['total'][248]], alpha)"
   ]
  },
  {
   "cell_type": "code",
   "execution_count": 74,
   "metadata": {},
   "outputs": [
    {
     "name": "stdout",
     "output_type": "stream",
     "text": [
      "p-значение:  0.2122553275697796\n",
      "Не получилось отвергнуть нулевую гипотезу\n"
     ]
    }
   ],
   "source": [
    "test([users['PaymentScreenSuccessful'][246], users['PaymentScreenSuccessful'][248]], [users['total'][246], users['total'][248]], alpha)"
   ]
  },
  {
   "cell_type": "code",
   "execution_count": 75,
   "metadata": {},
   "outputs": [
    {
     "name": "stdout",
     "output_type": "stream",
     "text": [
      "p-значение:  0.4587053616621515\n",
      "Не получилось отвергнуть нулевую гипотезу\n"
     ]
    }
   ],
   "source": [
    "test([users['MainScreenAppear'][247], users['MainScreenAppear'][248]], [users['total'][247], users['total'][248]], alpha)"
   ]
  },
  {
   "cell_type": "code",
   "execution_count": 76,
   "metadata": {},
   "outputs": [
    {
     "name": "stdout",
     "output_type": "stream",
     "text": [
      "p-значение:  0.9197817830592261\n",
      "Не получилось отвергнуть нулевую гипотезу\n"
     ]
    }
   ],
   "source": [
    "test([users['OffersScreenAppear'][247], users['OffersScreenAppear'][248]], [users['total'][247], users['total'][248]], alpha)"
   ]
  },
  {
   "cell_type": "code",
   "execution_count": 77,
   "metadata": {},
   "outputs": [
    {
     "name": "stdout",
     "output_type": "stream",
     "text": [
      "p-значение:  0.5786197879539783\n",
      "Не получилось отвергнуть нулевую гипотезу\n"
     ]
    }
   ],
   "source": [
    "test([users['CartScreenAppear'][247], users['CartScreenAppear'][248]], [users['total'][247], users['total'][248]], alpha)"
   ]
  },
  {
   "cell_type": "code",
   "execution_count": 78,
   "metadata": {},
   "outputs": [
    {
     "name": "stdout",
     "output_type": "stream",
     "text": [
      "p-значение:  0.7373415053803964\n",
      "Не получилось отвергнуть нулевую гипотезу\n"
     ]
    }
   ],
   "source": [
    "test([users['PaymentScreenSuccessful'][247], users['PaymentScreenSuccessful'][248]], [users['total'][247], users['total'][248]], alpha)"
   ]
  },
  {
   "cell_type": "code",
   "execution_count": 79,
   "metadata": {},
   "outputs": [
    {
     "name": "stdout",
     "output_type": "stream",
     "text": [
      "p-значение:  0.29424526837179577\n",
      "Не получилось отвергнуть нулевую гипотезу\n"
     ]
    }
   ],
   "source": [
    "test([users['MainScreenAppear']['sum'], users['MainScreenAppear'][248]], [users['total']['sum'], users['total'][248]], alpha)"
   ]
  },
  {
   "cell_type": "code",
   "execution_count": 80,
   "metadata": {},
   "outputs": [
    {
     "name": "stdout",
     "output_type": "stream",
     "text": [
      "p-значение:  0.43425549655188256\n",
      "Не получилось отвергнуть нулевую гипотезу\n"
     ]
    }
   ],
   "source": [
    "test([users['OffersScreenAppear']['sum'], users['OffersScreenAppear'][248]], [users['total']['sum'], users['total'][248]], alpha)"
   ]
  },
  {
   "cell_type": "code",
   "execution_count": 81,
   "metadata": {},
   "outputs": [
    {
     "name": "stdout",
     "output_type": "stream",
     "text": [
      "p-значение:  0.18175875284404386\n",
      "Не получилось отвергнуть нулевую гипотезу\n"
     ]
    }
   ],
   "source": [
    "test([users['CartScreenAppear']['sum'], users['CartScreenAppear'][248]], [users['total']['sum'], users['total'][248]], alpha)"
   ]
  },
  {
   "cell_type": "code",
   "execution_count": 82,
   "metadata": {},
   "outputs": [
    {
     "name": "stdout",
     "output_type": "stream",
     "text": [
      "p-значение:  0.6004294282308704\n",
      "Не получилось отвергнуть нулевую гипотезу\n"
     ]
    }
   ],
   "source": [
    "test([users['PaymentScreenSuccessful']['sum'], users['PaymentScreenSuccessful'][248]], [users['total']['sum'], users['total'][248]], alpha)"
   ]
  },
  {
   "cell_type": "markdown",
   "metadata": {},
   "source": [
    "При уровне значимости 0.05 не найдено статистически значемых отличий между долями ни по каким группам. Значит изменение шрифтов не повлияло на конверсии."
   ]
  },
  {
   "cell_type": "markdown",
   "metadata": {},
   "source": [
    "## Вывод."
   ]
  },
  {
   "cell_type": "markdown",
   "metadata": {},
   "source": [
    "* Всего в логе 243713 события, 7551. В среднем на рользователя приходится 32 события.\n",
    "* Изначально мы имеем данные за две недели, но в первую неделю данные не полные, и мы их отбрасываем. Таким образом у нас есть данные за одну неделю.\n",
    "* Отбросив данные мы потеряли 2926 события и 17 пользователей. Пользователи остались при этом из всех трех групп.\n",
    "* События по частоте: MainScreenAppear, OffersScreenAppear, CartScreenAppear, PaymentScreenSuccessful, Tutorial. Tutorial не является обязательным и его посетело малое количетсво людей, не включаем его в воронку.\n",
    "* Доля пользователей, которые прошли на второй шаг: 62 процента, на третий шаг 81 процент, на чертвертый шаг 95 процентов. Значит больше всего пользователей теряются при переходе на второй шаг.\n",
    "* 48 процентов пользователей доходят от первого события до оплаты.\n",
    "* Группа 246: 2484 пользователя, 247: 2513 пользователя, 248: 2537 пользователя.\n",
    "* По результатам А/А теста статистически значимых различий нет, значит разбиение на группы корректное.\n",
    "* С уровнем значимости 0.05 по результатам А/В теста статистически значемых различий между группами не найдено. Значит изменение шрифта не повлияло на конверсию.\n",
    "* Стоит остановить тест и зафиксировать отсутствие различий между группами."
   ]
  }
 ],
 "metadata": {
  "ExecuteTimeLog": [
   {
    "duration": 1436,
    "start_time": "2023-10-02T17:14:38.258Z"
   },
   {
    "duration": 878,
    "start_time": "2023-10-02T17:14:53.964Z"
   },
   {
    "duration": 12,
    "start_time": "2023-10-02T17:15:08.174Z"
   },
   {
    "duration": 95,
    "start_time": "2023-10-02T17:15:23.669Z"
   },
   {
    "duration": 181,
    "start_time": "2023-10-02T17:16:19.811Z"
   },
   {
    "duration": 9,
    "start_time": "2023-10-02T17:16:20.603Z"
   },
   {
    "duration": 119,
    "start_time": "2023-10-02T17:18:43.247Z"
   },
   {
    "duration": 13,
    "start_time": "2023-10-02T17:18:48.510Z"
   },
   {
    "duration": 20,
    "start_time": "2023-10-02T17:19:04.727Z"
   },
   {
    "duration": 18,
    "start_time": "2023-10-02T17:19:43.070Z"
   },
   {
    "duration": 125,
    "start_time": "2023-10-02T17:19:50.436Z"
   },
   {
    "duration": 15,
    "start_time": "2023-10-02T17:19:52.479Z"
   },
   {
    "duration": 12,
    "start_time": "2023-10-02T17:20:40.590Z"
   },
   {
    "duration": 10,
    "start_time": "2023-10-02T17:20:44.297Z"
   },
   {
    "duration": 10,
    "start_time": "2023-10-02T17:20:47.132Z"
   },
   {
    "duration": 68,
    "start_time": "2023-10-02T17:21:04.944Z"
   },
   {
    "duration": 62,
    "start_time": "2023-10-02T17:21:49.010Z"
   },
   {
    "duration": 65,
    "start_time": "2023-10-02T17:22:04.521Z"
   },
   {
    "duration": 73,
    "start_time": "2023-10-02T17:22:15.669Z"
   },
   {
    "duration": 10,
    "start_time": "2023-10-02T17:22:57.265Z"
   },
   {
    "duration": 3,
    "start_time": "2023-10-02T17:23:11.613Z"
   },
   {
    "duration": 61,
    "start_time": "2023-10-02T17:23:14.784Z"
   },
   {
    "duration": 66,
    "start_time": "2023-10-02T17:23:21.442Z"
   },
   {
    "duration": 72,
    "start_time": "2023-10-02T17:24:03.725Z"
   },
   {
    "duration": 59,
    "start_time": "2023-10-02T17:24:04.389Z"
   },
   {
    "duration": 91,
    "start_time": "2023-10-02T17:24:25.188Z"
   },
   {
    "duration": 73,
    "start_time": "2023-10-02T17:24:25.647Z"
   },
   {
    "duration": 1963,
    "start_time": "2023-10-02T17:26:54.218Z"
   },
   {
    "duration": 1941,
    "start_time": "2023-10-02T17:28:14.332Z"
   },
   {
    "duration": 2153,
    "start_time": "2023-10-02T17:28:25.201Z"
   },
   {
    "duration": 81,
    "start_time": "2023-10-02T17:29:07.641Z"
   },
   {
    "duration": 3347,
    "start_time": "2023-10-02T17:29:09.333Z"
   },
   {
    "duration": 2496,
    "start_time": "2023-10-02T17:30:55.317Z"
   },
   {
    "duration": 45,
    "start_time": "2023-10-02T17:31:45.347Z"
   },
   {
    "duration": 9,
    "start_time": "2023-10-02T17:31:54.330Z"
   },
   {
    "duration": 38,
    "start_time": "2023-10-02T17:31:55.620Z"
   },
   {
    "duration": 18,
    "start_time": "2023-10-02T17:31:55.993Z"
   },
   {
    "duration": 86,
    "start_time": "2023-10-02T17:31:56.415Z"
   },
   {
    "duration": 89,
    "start_time": "2023-10-02T17:31:56.878Z"
   },
   {
    "duration": 2882,
    "start_time": "2023-10-02T17:31:57.640Z"
   },
   {
    "duration": 41,
    "start_time": "2023-10-02T17:32:15.192Z"
   },
   {
    "duration": 3,
    "start_time": "2023-10-02T17:32:22.225Z"
   },
   {
    "duration": 278,
    "start_time": "2023-10-02T17:32:22.229Z"
   },
   {
    "duration": 10,
    "start_time": "2023-10-02T17:32:22.509Z"
   },
   {
    "duration": 22,
    "start_time": "2023-10-02T17:32:22.521Z"
   },
   {
    "duration": 42,
    "start_time": "2023-10-02T17:32:22.546Z"
   },
   {
    "duration": 74,
    "start_time": "2023-10-02T17:32:22.590Z"
   },
   {
    "duration": 95,
    "start_time": "2023-10-02T17:32:22.665Z"
   },
   {
    "duration": 64,
    "start_time": "2023-10-02T17:32:22.762Z"
   },
   {
    "duration": 45,
    "start_time": "2023-10-02T17:32:22.828Z"
   },
   {
    "duration": 1862,
    "start_time": "2023-10-02T17:33:02.307Z"
   },
   {
    "duration": 11,
    "start_time": "2023-10-02T17:33:23.987Z"
   },
   {
    "duration": 3,
    "start_time": "2023-10-02T17:33:58.136Z"
   },
   {
    "duration": 186,
    "start_time": "2023-10-02T17:33:58.141Z"
   },
   {
    "duration": 7,
    "start_time": "2023-10-02T17:33:58.329Z"
   },
   {
    "duration": 32,
    "start_time": "2023-10-02T17:33:58.337Z"
   },
   {
    "duration": 31,
    "start_time": "2023-10-02T17:33:58.372Z"
   },
   {
    "duration": 33,
    "start_time": "2023-10-02T17:33:58.405Z"
   },
   {
    "duration": 76,
    "start_time": "2023-10-02T17:33:58.439Z"
   },
   {
    "duration": 58,
    "start_time": "2023-10-02T17:33:58.517Z"
   },
   {
    "duration": 34,
    "start_time": "2023-10-02T17:33:58.577Z"
   },
   {
    "duration": 12,
    "start_time": "2023-10-02T17:34:02.888Z"
   },
   {
    "duration": 10,
    "start_time": "2023-10-02T17:34:07.602Z"
   },
   {
    "duration": 16,
    "start_time": "2023-10-02T17:34:47.647Z"
   },
   {
    "duration": 14,
    "start_time": "2023-10-02T17:34:48.841Z"
   },
   {
    "duration": 9,
    "start_time": "2023-10-02T17:34:51.435Z"
   },
   {
    "duration": 12,
    "start_time": "2023-10-02T17:35:02.224Z"
   },
   {
    "duration": 8,
    "start_time": "2023-10-02T17:35:34.322Z"
   },
   {
    "duration": 4,
    "start_time": "2023-10-02T17:35:39.483Z"
   },
   {
    "duration": 13,
    "start_time": "2023-10-02T17:35:41.448Z"
   },
   {
    "duration": 17,
    "start_time": "2023-10-02T17:35:44.357Z"
   },
   {
    "duration": 77,
    "start_time": "2023-10-02T17:36:03.302Z"
   },
   {
    "duration": 19,
    "start_time": "2023-10-02T17:36:04.344Z"
   },
   {
    "duration": 9,
    "start_time": "2023-10-02T17:36:15.223Z"
   },
   {
    "duration": 13,
    "start_time": "2023-10-02T17:38:02.208Z"
   },
   {
    "duration": 10,
    "start_time": "2023-10-02T17:38:28.111Z"
   },
   {
    "duration": 42,
    "start_time": "2023-10-02T17:38:28.519Z"
   },
   {
    "duration": 25,
    "start_time": "2023-10-02T17:38:28.710Z"
   },
   {
    "duration": 98,
    "start_time": "2023-10-02T17:38:28.882Z"
   },
   {
    "duration": 124,
    "start_time": "2023-10-02T17:38:29.070Z"
   },
   {
    "duration": 7,
    "start_time": "2023-10-02T17:38:29.422Z"
   },
   {
    "duration": 14,
    "start_time": "2023-10-02T17:38:29.606Z"
   },
   {
    "duration": 74,
    "start_time": "2023-10-02T17:38:29.802Z"
   },
   {
    "duration": 9,
    "start_time": "2023-10-02T17:38:29.992Z"
   },
   {
    "duration": 17,
    "start_time": "2023-10-02T17:38:30.742Z"
   },
   {
    "duration": 5,
    "start_time": "2023-10-02T17:38:31.228Z"
   },
   {
    "duration": 3,
    "start_time": "2023-10-02T17:38:51.314Z"
   },
   {
    "duration": 206,
    "start_time": "2023-10-02T17:38:51.318Z"
   },
   {
    "duration": 7,
    "start_time": "2023-10-02T17:38:51.526Z"
   },
   {
    "duration": 44,
    "start_time": "2023-10-02T17:38:51.534Z"
   },
   {
    "duration": 58,
    "start_time": "2023-10-02T17:38:51.580Z"
   },
   {
    "duration": 47,
    "start_time": "2023-10-02T17:38:51.639Z"
   },
   {
    "duration": 79,
    "start_time": "2023-10-02T17:38:51.688Z"
   },
   {
    "duration": 67,
    "start_time": "2023-10-02T17:38:51.768Z"
   },
   {
    "duration": 6,
    "start_time": "2023-10-02T17:38:51.837Z"
   },
   {
    "duration": 32,
    "start_time": "2023-10-02T17:38:51.844Z"
   },
   {
    "duration": 85,
    "start_time": "2023-10-02T17:38:51.878Z"
   },
   {
    "duration": 10,
    "start_time": "2023-10-02T17:38:51.964Z"
   },
   {
    "duration": 20,
    "start_time": "2023-10-02T17:38:51.976Z"
   },
   {
    "duration": 40,
    "start_time": "2023-10-02T17:38:51.998Z"
   },
   {
    "duration": 4,
    "start_time": "2023-10-02T17:39:06.933Z"
   },
   {
    "duration": 36,
    "start_time": "2023-10-02T17:39:32.136Z"
   },
   {
    "duration": 7,
    "start_time": "2023-10-02T17:39:43.219Z"
   },
   {
    "duration": 34,
    "start_time": "2023-10-02T17:40:02.288Z"
   },
   {
    "duration": 31,
    "start_time": "2023-10-02T17:41:48.768Z"
   },
   {
    "duration": 30,
    "start_time": "2023-10-02T17:42:12.748Z"
   },
   {
    "duration": 30,
    "start_time": "2023-10-02T17:42:58.112Z"
   },
   {
    "duration": 9,
    "start_time": "2023-10-02T17:46:41.107Z"
   },
   {
    "duration": 28,
    "start_time": "2023-10-02T17:47:01.741Z"
   },
   {
    "duration": 10,
    "start_time": "2023-10-02T17:47:13.584Z"
   },
   {
    "duration": 58,
    "start_time": "2023-10-02T17:47:17.602Z"
   },
   {
    "duration": 7,
    "start_time": "2023-10-02T17:47:20.284Z"
   },
   {
    "duration": 39,
    "start_time": "2023-10-02T17:47:27.977Z"
   },
   {
    "duration": 12,
    "start_time": "2023-10-02T17:48:46.635Z"
   },
   {
    "duration": 53,
    "start_time": "2023-10-02T17:48:51.831Z"
   },
   {
    "duration": 9,
    "start_time": "2023-10-02T17:49:07.327Z"
   },
   {
    "duration": 6,
    "start_time": "2023-10-02T17:49:27.370Z"
   },
   {
    "duration": 16,
    "start_time": "2023-10-02T17:49:35.251Z"
   },
   {
    "duration": 3,
    "start_time": "2023-10-02T17:49:45.585Z"
   },
   {
    "duration": 234,
    "start_time": "2023-10-02T17:50:02.306Z"
   },
   {
    "duration": 346,
    "start_time": "2023-10-02T17:50:13.291Z"
   },
   {
    "duration": 57,
    "start_time": "2023-10-02T17:50:25.436Z"
   },
   {
    "duration": 196,
    "start_time": "2023-10-02T17:50:37.621Z"
   },
   {
    "duration": 5,
    "start_time": "2023-10-02T17:50:51.046Z"
   },
   {
    "duration": 284,
    "start_time": "2023-10-02T17:50:54.186Z"
   },
   {
    "duration": 209,
    "start_time": "2023-10-02T17:51:17.567Z"
   },
   {
    "duration": 223,
    "start_time": "2023-10-02T17:51:21.641Z"
   },
   {
    "duration": 223,
    "start_time": "2023-10-02T17:51:26.571Z"
   },
   {
    "duration": 235,
    "start_time": "2023-10-02T17:51:42.038Z"
   },
   {
    "duration": 237,
    "start_time": "2023-10-02T17:52:23.408Z"
   },
   {
    "duration": 236,
    "start_time": "2023-10-02T17:52:30.193Z"
   },
   {
    "duration": 435,
    "start_time": "2023-10-02T17:54:30.281Z"
   },
   {
    "duration": 114,
    "start_time": "2023-10-02T17:55:16.281Z"
   },
   {
    "duration": 400,
    "start_time": "2023-10-02T17:55:23.784Z"
   },
   {
    "duration": 451,
    "start_time": "2023-10-02T17:55:30.006Z"
   },
   {
    "duration": 55,
    "start_time": "2023-10-02T17:56:39.111Z"
   },
   {
    "duration": 10,
    "start_time": "2023-10-02T17:57:04.522Z"
   },
   {
    "duration": 11,
    "start_time": "2023-10-02T17:57:09.971Z"
   },
   {
    "duration": 12,
    "start_time": "2023-10-02T17:57:22.071Z"
   },
   {
    "duration": 97,
    "start_time": "2023-10-02T17:58:25.994Z"
   },
   {
    "duration": 105,
    "start_time": "2023-10-02T17:58:49.008Z"
   },
   {
    "duration": 366,
    "start_time": "2023-10-02T17:58:53.613Z"
   },
   {
    "duration": 8,
    "start_time": "2023-10-02T17:59:39.196Z"
   },
   {
    "duration": 3,
    "start_time": "2023-10-02T18:00:09.417Z"
   },
   {
    "duration": 199,
    "start_time": "2023-10-02T18:00:09.629Z"
   },
   {
    "duration": 7,
    "start_time": "2023-10-02T18:00:09.830Z"
   },
   {
    "duration": 5,
    "start_time": "2023-10-02T18:00:09.987Z"
   },
   {
    "duration": 24,
    "start_time": "2023-10-02T18:00:10.309Z"
   },
   {
    "duration": 18,
    "start_time": "2023-10-02T18:00:10.816Z"
   },
   {
    "duration": 88,
    "start_time": "2023-10-02T18:00:10.845Z"
   },
   {
    "duration": 74,
    "start_time": "2023-10-02T18:00:10.935Z"
   },
   {
    "duration": 7,
    "start_time": "2023-10-02T18:00:11.012Z"
   },
   {
    "duration": 107,
    "start_time": "2023-10-02T18:00:11.021Z"
   },
   {
    "duration": 9,
    "start_time": "2023-10-02T18:00:11.131Z"
   },
   {
    "duration": 47,
    "start_time": "2023-10-02T18:00:11.156Z"
   },
   {
    "duration": 7,
    "start_time": "2023-10-02T18:00:11.206Z"
   },
   {
    "duration": 63,
    "start_time": "2023-10-02T18:00:11.214Z"
   },
   {
    "duration": 19,
    "start_time": "2023-10-02T18:00:11.279Z"
   },
   {
    "duration": 20,
    "start_time": "2023-10-02T18:00:11.300Z"
   },
   {
    "duration": 285,
    "start_time": "2023-10-02T18:00:11.322Z"
   },
   {
    "duration": 20,
    "start_time": "2023-10-02T18:00:11.609Z"
   },
   {
    "duration": 20,
    "start_time": "2023-10-02T18:00:40.490Z"
   },
   {
    "duration": 29,
    "start_time": "2023-10-02T18:00:48.927Z"
   },
   {
    "duration": 4,
    "start_time": "2023-10-02T18:01:12.906Z"
   },
   {
    "duration": 12,
    "start_time": "2023-10-02T18:01:23.433Z"
   },
   {
    "duration": 42,
    "start_time": "2023-10-02T18:01:30.735Z"
   },
   {
    "duration": 15,
    "start_time": "2023-10-02T18:01:31.188Z"
   },
   {
    "duration": 57,
    "start_time": "2023-10-02T18:01:44.525Z"
   },
   {
    "duration": 5,
    "start_time": "2023-10-02T18:02:07.700Z"
   },
   {
    "duration": 25,
    "start_time": "2023-10-02T18:03:45.215Z"
   },
   {
    "duration": 16,
    "start_time": "2023-10-02T18:05:02.273Z"
   },
   {
    "duration": 9,
    "start_time": "2023-10-02T18:05:03.599Z"
   },
   {
    "duration": 33,
    "start_time": "2023-10-02T18:05:19.439Z"
   },
   {
    "duration": 13,
    "start_time": "2023-10-02T18:06:22.979Z"
   },
   {
    "duration": 12,
    "start_time": "2023-10-02T18:08:02.879Z"
   },
   {
    "duration": 3,
    "start_time": "2023-10-02T18:08:06.500Z"
   },
   {
    "duration": 281,
    "start_time": "2023-10-02T18:08:06.506Z"
   },
   {
    "duration": 8,
    "start_time": "2023-10-02T18:08:06.789Z"
   },
   {
    "duration": 27,
    "start_time": "2023-10-02T18:08:06.798Z"
   },
   {
    "duration": 42,
    "start_time": "2023-10-02T18:08:06.827Z"
   },
   {
    "duration": 23,
    "start_time": "2023-10-02T18:08:06.870Z"
   },
   {
    "duration": 67,
    "start_time": "2023-10-02T18:08:06.895Z"
   },
   {
    "duration": 61,
    "start_time": "2023-10-02T18:08:06.968Z"
   },
   {
    "duration": 28,
    "start_time": "2023-10-02T18:08:07.031Z"
   },
   {
    "duration": 98,
    "start_time": "2023-10-02T18:08:07.061Z"
   },
   {
    "duration": 155,
    "start_time": "2023-10-02T18:08:07.160Z"
   },
   {
    "duration": 19,
    "start_time": "2023-10-02T18:08:07.316Z"
   },
   {
    "duration": 24,
    "start_time": "2023-10-02T18:08:07.337Z"
   },
   {
    "duration": 33,
    "start_time": "2023-10-02T18:08:07.364Z"
   },
   {
    "duration": 23,
    "start_time": "2023-10-02T18:08:07.399Z"
   },
   {
    "duration": 49,
    "start_time": "2023-10-02T18:08:07.424Z"
   },
   {
    "duration": 290,
    "start_time": "2023-10-02T18:08:07.475Z"
   },
   {
    "duration": 31,
    "start_time": "2023-10-02T18:08:07.773Z"
   },
   {
    "duration": 31,
    "start_time": "2023-10-02T18:08:07.806Z"
   },
   {
    "duration": 59,
    "start_time": "2023-10-02T18:08:07.838Z"
   },
   {
    "duration": 13,
    "start_time": "2023-10-02T18:08:07.899Z"
   },
   {
    "duration": 2121,
    "start_time": "2023-10-02T18:08:07.914Z"
   },
   {
    "duration": 150,
    "start_time": "2023-10-02T18:08:28.270Z"
   },
   {
    "duration": 12,
    "start_time": "2023-10-02T18:08:34.104Z"
   },
   {
    "duration": 11,
    "start_time": "2023-10-02T18:09:05.984Z"
   },
   {
    "duration": 10,
    "start_time": "2023-10-02T18:09:17.521Z"
   },
   {
    "duration": 172,
    "start_time": "2023-10-02T18:09:43.708Z"
   },
   {
    "duration": 10,
    "start_time": "2023-10-02T18:09:49.079Z"
   },
   {
    "duration": 8,
    "start_time": "2023-10-02T18:10:00.188Z"
   },
   {
    "duration": 22,
    "start_time": "2023-10-02T18:10:23.426Z"
   },
   {
    "duration": 11,
    "start_time": "2023-10-02T18:10:52.103Z"
   },
   {
    "duration": 11,
    "start_time": "2023-10-02T18:10:59.589Z"
   },
   {
    "duration": 15,
    "start_time": "2023-10-02T18:11:03.669Z"
   },
   {
    "duration": 52,
    "start_time": "2023-10-03T08:39:06.567Z"
   },
   {
    "duration": 1434,
    "start_time": "2023-10-03T08:39:12.112Z"
   },
   {
    "duration": 542,
    "start_time": "2023-10-03T08:39:13.548Z"
   },
   {
    "duration": 14,
    "start_time": "2023-10-03T08:39:14.092Z"
   },
   {
    "duration": 17,
    "start_time": "2023-10-03T08:39:14.108Z"
   },
   {
    "duration": 36,
    "start_time": "2023-10-03T08:39:14.127Z"
   },
   {
    "duration": 29,
    "start_time": "2023-10-03T08:39:14.165Z"
   },
   {
    "duration": 98,
    "start_time": "2023-10-03T08:39:14.195Z"
   },
   {
    "duration": 75,
    "start_time": "2023-10-03T08:39:14.294Z"
   },
   {
    "duration": 7,
    "start_time": "2023-10-03T08:39:14.371Z"
   },
   {
    "duration": 135,
    "start_time": "2023-10-03T08:39:14.381Z"
   },
   {
    "duration": 11,
    "start_time": "2023-10-03T08:39:14.518Z"
   },
   {
    "duration": 43,
    "start_time": "2023-10-03T08:39:14.531Z"
   },
   {
    "duration": 56,
    "start_time": "2023-10-03T08:39:14.576Z"
   },
   {
    "duration": 40,
    "start_time": "2023-10-03T08:39:14.633Z"
   },
   {
    "duration": 68,
    "start_time": "2023-10-03T08:39:14.674Z"
   },
   {
    "duration": 75,
    "start_time": "2023-10-03T08:39:14.744Z"
   },
   {
    "duration": 442,
    "start_time": "2023-10-03T08:39:14.821Z"
   },
   {
    "duration": 45,
    "start_time": "2023-10-03T08:39:15.264Z"
   },
   {
    "duration": 57,
    "start_time": "2023-10-03T08:39:15.311Z"
   },
   {
    "duration": 36,
    "start_time": "2023-10-03T08:39:15.370Z"
   },
   {
    "duration": 41,
    "start_time": "2023-10-03T08:39:15.408Z"
   },
   {
    "duration": 48,
    "start_time": "2023-10-03T08:39:15.451Z"
   },
   {
    "duration": 52,
    "start_time": "2023-10-03T08:39:15.501Z"
   },
   {
    "duration": 62,
    "start_time": "2023-10-03T08:39:15.554Z"
   },
   {
    "duration": 68,
    "start_time": "2023-10-03T08:39:15.617Z"
   },
   {
    "duration": 71,
    "start_time": "2023-10-03T08:39:45.111Z"
   },
   {
    "duration": 183,
    "start_time": "2023-10-03T08:40:04.448Z"
   },
   {
    "duration": 12,
    "start_time": "2023-10-03T08:43:25.638Z"
   },
   {
    "duration": 5,
    "start_time": "2023-10-03T08:43:34.194Z"
   },
   {
    "duration": 52,
    "start_time": "2023-10-03T08:43:43.099Z"
   },
   {
    "duration": 55,
    "start_time": "2023-10-03T08:44:02.145Z"
   },
   {
    "duration": 52,
    "start_time": "2023-10-03T08:44:17.288Z"
   },
   {
    "duration": 51,
    "start_time": "2023-10-03T08:44:54.501Z"
   },
   {
    "duration": 3364,
    "start_time": "2023-10-03T08:45:25.024Z"
   },
   {
    "duration": 24,
    "start_time": "2023-10-03T08:45:36.165Z"
   },
   {
    "duration": 49,
    "start_time": "2023-10-03T08:45:48.949Z"
   },
   {
    "duration": 52,
    "start_time": "2023-10-03T08:46:00.227Z"
   },
   {
    "duration": 50,
    "start_time": "2023-10-03T08:46:54.655Z"
   },
   {
    "duration": 51,
    "start_time": "2023-10-03T08:47:27.383Z"
   },
   {
    "duration": 51,
    "start_time": "2023-10-03T08:47:39.035Z"
   },
   {
    "duration": 66,
    "start_time": "2023-10-03T08:48:10.044Z"
   },
   {
    "duration": 48,
    "start_time": "2023-10-03T08:49:10.588Z"
   },
   {
    "duration": 48,
    "start_time": "2023-10-03T08:49:40.524Z"
   },
   {
    "duration": 21,
    "start_time": "2023-10-03T08:49:57.935Z"
   },
   {
    "duration": 53,
    "start_time": "2023-10-03T08:49:59.109Z"
   },
   {
    "duration": 154,
    "start_time": "2023-10-03T08:50:50.712Z"
   },
   {
    "duration": 13,
    "start_time": "2023-10-03T08:56:04.323Z"
   },
   {
    "duration": 13,
    "start_time": "2023-10-03T08:56:22.013Z"
   },
   {
    "duration": 25,
    "start_time": "2023-10-03T08:56:30.743Z"
   },
   {
    "duration": 27,
    "start_time": "2023-10-03T08:56:50.377Z"
   },
   {
    "duration": 80,
    "start_time": "2023-10-03T08:57:08.549Z"
   },
   {
    "duration": 10,
    "start_time": "2023-10-03T08:57:12.725Z"
   },
   {
    "duration": 26,
    "start_time": "2023-10-03T08:57:15.688Z"
   },
   {
    "duration": 29,
    "start_time": "2023-10-03T08:57:48.466Z"
   },
   {
    "duration": 26,
    "start_time": "2023-10-03T08:57:54.054Z"
   },
   {
    "duration": 27,
    "start_time": "2023-10-03T08:58:03.162Z"
   },
   {
    "duration": 36,
    "start_time": "2023-10-03T08:58:32.037Z"
   },
   {
    "duration": 99,
    "start_time": "2023-10-03T08:58:52.802Z"
   },
   {
    "duration": 113,
    "start_time": "2023-10-03T08:59:17.626Z"
   },
   {
    "duration": 25,
    "start_time": "2023-10-03T08:59:28.670Z"
   },
   {
    "duration": 113,
    "start_time": "2023-10-03T08:59:38.050Z"
   },
   {
    "duration": 111,
    "start_time": "2023-10-03T09:00:23.740Z"
   },
   {
    "duration": 55,
    "start_time": "2023-10-03T09:02:26.984Z"
   },
   {
    "duration": 56,
    "start_time": "2023-10-03T09:02:59.865Z"
   },
   {
    "duration": 53,
    "start_time": "2023-10-03T09:03:11.051Z"
   },
   {
    "duration": 48,
    "start_time": "2023-10-03T09:03:39.468Z"
   },
   {
    "duration": 151,
    "start_time": "2023-10-03T09:03:40.474Z"
   },
   {
    "duration": 57,
    "start_time": "2023-10-03T09:03:41.301Z"
   },
   {
    "duration": 39,
    "start_time": "2023-10-03T09:04:05.222Z"
   },
   {
    "duration": 171,
    "start_time": "2023-10-03T09:04:05.745Z"
   },
   {
    "duration": 56,
    "start_time": "2023-10-03T09:04:06.002Z"
   },
   {
    "duration": 282,
    "start_time": "2023-10-03T09:04:43.931Z"
   },
   {
    "duration": 59,
    "start_time": "2023-10-03T09:04:46.902Z"
   },
   {
    "duration": 161,
    "start_time": "2023-10-03T09:05:27.810Z"
   },
   {
    "duration": 19,
    "start_time": "2023-10-03T09:07:29.908Z"
   },
   {
    "duration": 25,
    "start_time": "2023-10-03T09:07:30.132Z"
   },
   {
    "duration": 163,
    "start_time": "2023-10-03T09:07:30.353Z"
   },
   {
    "duration": 57,
    "start_time": "2023-10-03T09:07:30.568Z"
   },
   {
    "duration": 163,
    "start_time": "2023-10-03T09:07:30.815Z"
   },
   {
    "duration": 26,
    "start_time": "2023-10-03T09:10:12.242Z"
   },
   {
    "duration": 3,
    "start_time": "2023-10-03T09:10:31.444Z"
   },
   {
    "duration": 9,
    "start_time": "2023-10-03T09:10:34.542Z"
   },
   {
    "duration": 8,
    "start_time": "2023-10-03T09:11:46.729Z"
   },
   {
    "duration": 10,
    "start_time": "2023-10-03T09:11:51.155Z"
   },
   {
    "duration": 1738,
    "start_time": "2023-10-03T09:13:27.448Z"
   },
   {
    "duration": 249,
    "start_time": "2023-10-03T09:13:44.517Z"
   },
   {
    "duration": 162,
    "start_time": "2023-10-03T09:13:54.087Z"
   },
   {
    "duration": 24,
    "start_time": "2023-10-03T09:16:01.291Z"
   },
   {
    "duration": 31,
    "start_time": "2023-10-03T09:16:08.259Z"
   },
   {
    "duration": 48,
    "start_time": "2023-10-03T09:21:55.017Z"
   },
   {
    "duration": 4251,
    "start_time": "2023-10-03T09:22:18.297Z"
   },
   {
    "duration": 52,
    "start_time": "2023-10-03T09:22:38.219Z"
   },
   {
    "duration": 48,
    "start_time": "2023-10-03T09:23:02.033Z"
   },
   {
    "duration": 1601,
    "start_time": "2023-10-03T09:23:09.445Z"
   },
   {
    "duration": 51,
    "start_time": "2023-10-03T09:23:27.593Z"
   },
   {
    "duration": 2561,
    "start_time": "2023-10-03T09:23:43.471Z"
   },
   {
    "duration": 58,
    "start_time": "2023-10-03T09:23:52.861Z"
   },
   {
    "duration": 48,
    "start_time": "2023-10-03T09:24:07.065Z"
   },
   {
    "duration": 52,
    "start_time": "2023-10-03T09:24:11.879Z"
   },
   {
    "duration": 50,
    "start_time": "2023-10-03T09:25:59.281Z"
   },
   {
    "duration": 2222,
    "start_time": "2023-10-03T09:26:56.485Z"
   },
   {
    "duration": 2433,
    "start_time": "2023-10-03T09:27:11.390Z"
   },
   {
    "duration": 63,
    "start_time": "2023-10-03T09:29:25.001Z"
   },
   {
    "duration": 51,
    "start_time": "2023-10-03T09:30:47.745Z"
   },
   {
    "duration": 52,
    "start_time": "2023-10-03T09:30:58.358Z"
   },
   {
    "duration": 56,
    "start_time": "2023-10-03T09:31:05.997Z"
   },
   {
    "duration": 53,
    "start_time": "2023-10-03T09:31:17.700Z"
   },
   {
    "duration": 54,
    "start_time": "2023-10-03T09:31:38.166Z"
   },
   {
    "duration": 163,
    "start_time": "2023-10-03T09:35:54.339Z"
   },
   {
    "duration": 191,
    "start_time": "2023-10-03T09:36:13.962Z"
   },
   {
    "duration": 62,
    "start_time": "2023-10-03T09:41:00.343Z"
   },
   {
    "duration": 53,
    "start_time": "2023-10-03T09:41:27.991Z"
   },
   {
    "duration": 45,
    "start_time": "2023-10-03T09:41:51.792Z"
   },
   {
    "duration": 58,
    "start_time": "2023-10-03T09:43:50.809Z"
   },
   {
    "duration": 9,
    "start_time": "2023-10-03T10:02:05.488Z"
   },
   {
    "duration": 37,
    "start_time": "2023-10-03T10:02:31.920Z"
   },
   {
    "duration": 51,
    "start_time": "2023-10-03T10:04:25.812Z"
   },
   {
    "duration": 41,
    "start_time": "2023-10-03T11:21:49.355Z"
   },
   {
    "duration": 31,
    "start_time": "2023-10-03T11:21:58.406Z"
   },
   {
    "duration": 56,
    "start_time": "2023-10-03T11:22:13.176Z"
   },
   {
    "duration": 95,
    "start_time": "2023-10-03T11:42:44.267Z"
   },
   {
    "duration": 21,
    "start_time": "2023-10-03T11:43:09.969Z"
   },
   {
    "duration": 98,
    "start_time": "2023-10-03T11:43:13.695Z"
   },
   {
    "duration": 59,
    "start_time": "2023-10-03T11:45:57.515Z"
   },
   {
    "duration": 60,
    "start_time": "2023-10-03T11:46:40.421Z"
   },
   {
    "duration": 1888,
    "start_time": "2023-10-03T11:46:59.986Z"
   },
   {
    "duration": 1604,
    "start_time": "2023-10-03T11:47:18.726Z"
   },
   {
    "duration": 1689,
    "start_time": "2023-10-03T11:47:46.716Z"
   },
   {
    "duration": 1724,
    "start_time": "2023-10-03T11:48:11.280Z"
   },
   {
    "duration": 53,
    "start_time": "2023-10-03T11:51:28.936Z"
   },
   {
    "duration": 1747,
    "start_time": "2023-10-03T11:51:37.376Z"
   },
   {
    "duration": 4,
    "start_time": "2023-10-03T11:51:45.068Z"
   },
   {
    "duration": 247,
    "start_time": "2023-10-03T11:51:45.075Z"
   },
   {
    "duration": 8,
    "start_time": "2023-10-03T11:51:45.324Z"
   },
   {
    "duration": 28,
    "start_time": "2023-10-03T11:51:45.334Z"
   },
   {
    "duration": 44,
    "start_time": "2023-10-03T11:51:45.365Z"
   },
   {
    "duration": 41,
    "start_time": "2023-10-03T11:51:45.411Z"
   },
   {
    "duration": 109,
    "start_time": "2023-10-03T11:51:45.454Z"
   },
   {
    "duration": 101,
    "start_time": "2023-10-03T11:51:45.565Z"
   },
   {
    "duration": 10,
    "start_time": "2023-10-03T11:51:45.670Z"
   },
   {
    "duration": 115,
    "start_time": "2023-10-03T11:51:45.683Z"
   },
   {
    "duration": 17,
    "start_time": "2023-10-03T11:51:45.800Z"
   },
   {
    "duration": 35,
    "start_time": "2023-10-03T11:51:45.820Z"
   },
   {
    "duration": 10,
    "start_time": "2023-10-03T11:51:45.864Z"
   },
   {
    "duration": 28,
    "start_time": "2023-10-03T11:51:45.877Z"
   },
   {
    "duration": 25,
    "start_time": "2023-10-03T11:51:45.907Z"
   },
   {
    "duration": 51,
    "start_time": "2023-10-03T11:51:45.935Z"
   },
   {
    "duration": 334,
    "start_time": "2023-10-03T11:51:45.988Z"
   },
   {
    "duration": 53,
    "start_time": "2023-10-03T11:51:46.325Z"
   },
   {
    "duration": 83,
    "start_time": "2023-10-03T11:51:46.381Z"
   },
   {
    "duration": 41,
    "start_time": "2023-10-03T11:51:46.469Z"
   },
   {
    "duration": 34,
    "start_time": "2023-10-03T11:51:46.511Z"
   },
   {
    "duration": 37,
    "start_time": "2023-10-03T11:51:46.547Z"
   },
   {
    "duration": 45,
    "start_time": "2023-10-03T11:51:46.586Z"
   },
   {
    "duration": 51,
    "start_time": "2023-10-03T11:51:46.634Z"
   },
   {
    "duration": 36,
    "start_time": "2023-10-03T11:51:46.687Z"
   },
   {
    "duration": 70,
    "start_time": "2023-10-03T11:51:46.725Z"
   },
   {
    "duration": 227,
    "start_time": "2023-10-03T11:51:46.797Z"
   },
   {
    "duration": 73,
    "start_time": "2023-10-03T11:51:47.026Z"
   },
   {
    "duration": 231,
    "start_time": "2023-10-03T11:51:47.101Z"
   },
   {
    "duration": 24,
    "start_time": "2023-10-03T11:51:47.334Z"
   },
   {
    "duration": 80,
    "start_time": "2023-10-03T11:51:47.361Z"
   },
   {
    "duration": 74,
    "start_time": "2023-10-03T11:51:47.447Z"
   },
   {
    "duration": 77,
    "start_time": "2023-10-03T11:51:47.523Z"
   },
   {
    "duration": 117,
    "start_time": "2023-10-03T11:51:47.602Z"
   },
   {
    "duration": 47,
    "start_time": "2023-10-03T11:51:47.721Z"
   },
   {
    "duration": 49,
    "start_time": "2023-10-03T11:51:47.770Z"
   },
   {
    "duration": 111,
    "start_time": "2023-10-03T11:51:47.821Z"
   },
   {
    "duration": 47,
    "start_time": "2023-10-03T11:51:47.934Z"
   },
   {
    "duration": 2230,
    "start_time": "2023-10-03T11:52:03.488Z"
   },
   {
    "duration": 2698,
    "start_time": "2023-10-03T11:52:25.241Z"
   },
   {
    "duration": 1887,
    "start_time": "2023-10-03T11:56:40.903Z"
   },
   {
    "duration": 11,
    "start_time": "2023-10-03T11:56:46.944Z"
   },
   {
    "duration": 224,
    "start_time": "2023-10-03T11:56:46.964Z"
   },
   {
    "duration": 9,
    "start_time": "2023-10-03T11:56:47.191Z"
   },
   {
    "duration": 27,
    "start_time": "2023-10-03T11:56:47.201Z"
   },
   {
    "duration": 77,
    "start_time": "2023-10-03T11:56:47.229Z"
   },
   {
    "duration": 20,
    "start_time": "2023-10-03T11:56:47.309Z"
   },
   {
    "duration": 112,
    "start_time": "2023-10-03T11:56:47.330Z"
   },
   {
    "duration": 88,
    "start_time": "2023-10-03T11:56:47.444Z"
   },
   {
    "duration": 18,
    "start_time": "2023-10-03T11:56:47.534Z"
   },
   {
    "duration": 112,
    "start_time": "2023-10-03T11:56:47.560Z"
   },
   {
    "duration": 35,
    "start_time": "2023-10-03T11:56:47.675Z"
   },
   {
    "duration": 49,
    "start_time": "2023-10-03T11:56:47.712Z"
   },
   {
    "duration": 17,
    "start_time": "2023-10-03T11:56:47.763Z"
   },
   {
    "duration": 24,
    "start_time": "2023-10-03T11:56:47.782Z"
   },
   {
    "duration": 22,
    "start_time": "2023-10-03T11:56:47.809Z"
   },
   {
    "duration": 42,
    "start_time": "2023-10-03T11:56:47.833Z"
   },
   {
    "duration": 303,
    "start_time": "2023-10-03T11:56:47.877Z"
   },
   {
    "duration": 38,
    "start_time": "2023-10-03T11:56:48.181Z"
   },
   {
    "duration": 63,
    "start_time": "2023-10-03T11:56:48.221Z"
   },
   {
    "duration": 29,
    "start_time": "2023-10-03T11:56:48.286Z"
   },
   {
    "duration": 34,
    "start_time": "2023-10-03T11:56:48.316Z"
   },
   {
    "duration": 16,
    "start_time": "2023-10-03T11:56:48.357Z"
   },
   {
    "duration": 15,
    "start_time": "2023-10-03T11:56:48.375Z"
   },
   {
    "duration": 13,
    "start_time": "2023-10-03T11:56:48.393Z"
   },
   {
    "duration": 59,
    "start_time": "2023-10-03T11:56:48.407Z"
   },
   {
    "duration": 54,
    "start_time": "2023-10-03T11:56:48.468Z"
   },
   {
    "duration": 175,
    "start_time": "2023-10-03T11:56:48.523Z"
   },
   {
    "duration": 69,
    "start_time": "2023-10-03T11:56:48.700Z"
   },
   {
    "duration": 221,
    "start_time": "2023-10-03T11:56:48.771Z"
   },
   {
    "duration": 10,
    "start_time": "2023-10-03T11:56:48.994Z"
   },
   {
    "duration": 85,
    "start_time": "2023-10-03T11:56:49.006Z"
   },
   {
    "duration": 74,
    "start_time": "2023-10-03T11:56:49.093Z"
   },
   {
    "duration": 62,
    "start_time": "2023-10-03T11:56:49.172Z"
   },
   {
    "duration": 63,
    "start_time": "2023-10-03T11:56:49.248Z"
   },
   {
    "duration": 56,
    "start_time": "2023-10-03T11:56:49.313Z"
   },
   {
    "duration": 42,
    "start_time": "2023-10-03T11:56:49.372Z"
   },
   {
    "duration": 104,
    "start_time": "2023-10-03T11:56:49.416Z"
   },
   {
    "duration": 53,
    "start_time": "2023-10-03T11:56:49.522Z"
   },
   {
    "duration": 2603,
    "start_time": "2023-10-03T11:57:04.664Z"
   },
   {
    "duration": 3,
    "start_time": "2023-10-03T11:57:14.263Z"
   },
   {
    "duration": 221,
    "start_time": "2023-10-03T11:57:14.272Z"
   },
   {
    "duration": 8,
    "start_time": "2023-10-03T11:57:14.495Z"
   },
   {
    "duration": 35,
    "start_time": "2023-10-03T11:57:14.505Z"
   },
   {
    "duration": 92,
    "start_time": "2023-10-03T11:57:14.542Z"
   },
   {
    "duration": 38,
    "start_time": "2023-10-03T11:57:14.635Z"
   },
   {
    "duration": 74,
    "start_time": "2023-10-03T11:57:14.675Z"
   },
   {
    "duration": 74,
    "start_time": "2023-10-03T11:57:14.751Z"
   },
   {
    "duration": 32,
    "start_time": "2023-10-03T11:57:14.827Z"
   },
   {
    "duration": 80,
    "start_time": "2023-10-03T11:57:14.865Z"
   },
   {
    "duration": 33,
    "start_time": "2023-10-03T11:57:14.953Z"
   },
   {
    "duration": 157,
    "start_time": "2023-10-03T11:57:14.988Z"
   },
   {
    "duration": 53,
    "start_time": "2023-10-03T11:57:15.147Z"
   },
   {
    "duration": 78,
    "start_time": "2023-10-03T11:57:15.202Z"
   },
   {
    "duration": 41,
    "start_time": "2023-10-03T11:57:15.282Z"
   },
   {
    "duration": 103,
    "start_time": "2023-10-03T11:57:15.325Z"
   },
   {
    "duration": 412,
    "start_time": "2023-10-03T11:57:15.430Z"
   },
   {
    "duration": 48,
    "start_time": "2023-10-03T11:57:15.843Z"
   },
   {
    "duration": 64,
    "start_time": "2023-10-03T11:57:15.893Z"
   },
   {
    "duration": 36,
    "start_time": "2023-10-03T11:57:15.966Z"
   },
   {
    "duration": 78,
    "start_time": "2023-10-03T11:57:16.005Z"
   },
   {
    "duration": 23,
    "start_time": "2023-10-03T11:57:16.093Z"
   },
   {
    "duration": 27,
    "start_time": "2023-10-03T11:57:16.117Z"
   },
   {
    "duration": 24,
    "start_time": "2023-10-03T11:57:16.146Z"
   },
   {
    "duration": 38,
    "start_time": "2023-10-03T11:57:16.172Z"
   },
   {
    "duration": 60,
    "start_time": "2023-10-03T11:57:16.212Z"
   },
   {
    "duration": 315,
    "start_time": "2023-10-03T11:57:16.274Z"
   },
   {
    "duration": 80,
    "start_time": "2023-10-03T11:57:16.592Z"
   },
   {
    "duration": 191,
    "start_time": "2023-10-03T11:57:16.676Z"
   },
   {
    "duration": 10,
    "start_time": "2023-10-03T11:57:16.869Z"
   },
   {
    "duration": 73,
    "start_time": "2023-10-03T11:57:16.881Z"
   },
   {
    "duration": 53,
    "start_time": "2023-10-03T11:57:16.956Z"
   },
   {
    "duration": 79,
    "start_time": "2023-10-03T11:57:17.011Z"
   },
   {
    "duration": 69,
    "start_time": "2023-10-03T11:57:17.092Z"
   },
   {
    "duration": 41,
    "start_time": "2023-10-03T11:57:17.164Z"
   },
   {
    "duration": 60,
    "start_time": "2023-10-03T11:57:17.207Z"
   },
   {
    "duration": 95,
    "start_time": "2023-10-03T11:57:17.269Z"
   },
   {
    "duration": 38,
    "start_time": "2023-10-03T11:57:17.368Z"
   },
   {
    "duration": 3,
    "start_time": "2023-10-04T08:52:20.602Z"
   },
   {
    "duration": 215,
    "start_time": "2023-10-04T08:52:20.607Z"
   },
   {
    "duration": 8,
    "start_time": "2023-10-04T08:52:20.824Z"
   },
   {
    "duration": 43,
    "start_time": "2023-10-04T08:52:20.834Z"
   },
   {
    "duration": 50,
    "start_time": "2023-10-04T08:52:20.880Z"
   },
   {
    "duration": 35,
    "start_time": "2023-10-04T08:52:20.933Z"
   },
   {
    "duration": 85,
    "start_time": "2023-10-04T08:52:20.970Z"
   },
   {
    "duration": 70,
    "start_time": "2023-10-04T08:52:21.057Z"
   },
   {
    "duration": 22,
    "start_time": "2023-10-04T08:52:21.130Z"
   },
   {
    "duration": 127,
    "start_time": "2023-10-04T08:52:21.154Z"
   },
   {
    "duration": 9,
    "start_time": "2023-10-04T08:52:21.284Z"
   },
   {
    "duration": 203,
    "start_time": "2023-10-04T08:52:21.295Z"
   },
   {
    "duration": 21,
    "start_time": "2023-10-04T08:52:21.500Z"
   },
   {
    "duration": 47,
    "start_time": "2023-10-04T08:52:21.523Z"
   },
   {
    "duration": 39,
    "start_time": "2023-10-04T08:52:21.572Z"
   },
   {
    "duration": 59,
    "start_time": "2023-10-04T08:52:21.613Z"
   },
   {
    "duration": 262,
    "start_time": "2023-10-04T08:52:21.674Z"
   },
   {
    "duration": 34,
    "start_time": "2023-10-04T08:52:21.938Z"
   },
   {
    "duration": 68,
    "start_time": "2023-10-04T08:52:21.974Z"
   },
   {
    "duration": 27,
    "start_time": "2023-10-04T08:52:22.043Z"
   },
   {
    "duration": 38,
    "start_time": "2023-10-04T08:52:22.072Z"
   },
   {
    "duration": 41,
    "start_time": "2023-10-04T08:52:22.113Z"
   },
   {
    "duration": 43,
    "start_time": "2023-10-04T08:52:22.155Z"
   },
   {
    "duration": 34,
    "start_time": "2023-10-04T08:52:22.199Z"
   },
   {
    "duration": 29,
    "start_time": "2023-10-04T08:52:22.235Z"
   },
   {
    "duration": 56,
    "start_time": "2023-10-04T08:52:22.266Z"
   },
   {
    "duration": 168,
    "start_time": "2023-10-04T08:52:22.324Z"
   },
   {
    "duration": 68,
    "start_time": "2023-10-04T08:52:22.494Z"
   },
   {
    "duration": 174,
    "start_time": "2023-10-04T08:52:22.566Z"
   },
   {
    "duration": 10,
    "start_time": "2023-10-04T08:52:22.747Z"
   },
   {
    "duration": 65,
    "start_time": "2023-10-04T08:52:22.759Z"
   },
   {
    "duration": 54,
    "start_time": "2023-10-04T08:52:22.826Z"
   },
   {
    "duration": 66,
    "start_time": "2023-10-04T08:52:22.882Z"
   },
   {
    "duration": 52,
    "start_time": "2023-10-04T08:52:22.950Z"
   },
   {
    "duration": 52,
    "start_time": "2023-10-04T08:52:23.005Z"
   },
   {
    "duration": 41,
    "start_time": "2023-10-04T08:52:23.059Z"
   },
   {
    "duration": 90,
    "start_time": "2023-10-04T08:52:23.102Z"
   },
   {
    "duration": 38,
    "start_time": "2023-10-04T08:52:23.194Z"
   },
   {
    "duration": 6,
    "start_time": "2023-10-04T09:16:36.006Z"
   },
   {
    "duration": 10,
    "start_time": "2023-10-04T09:22:52.176Z"
   },
   {
    "duration": 17,
    "start_time": "2023-10-04T09:23:46.853Z"
   },
   {
    "duration": 3,
    "start_time": "2023-10-04T09:24:30.006Z"
   },
   {
    "duration": 13,
    "start_time": "2023-10-04T09:24:33.825Z"
   },
   {
    "duration": 14,
    "start_time": "2023-10-04T09:25:00.863Z"
   },
   {
    "duration": 225,
    "start_time": "2023-10-04T09:25:01.241Z"
   },
   {
    "duration": 5,
    "start_time": "2023-10-04T09:25:20.072Z"
   },
   {
    "duration": 6,
    "start_time": "2023-10-04T09:25:20.416Z"
   },
   {
    "duration": 3,
    "start_time": "2023-10-04T09:25:54.292Z"
   },
   {
    "duration": 6,
    "start_time": "2023-10-04T09:25:54.590Z"
   },
   {
    "duration": 6,
    "start_time": "2023-10-04T09:34:12.321Z"
   },
   {
    "duration": 7,
    "start_time": "2023-10-04T09:34:31.064Z"
   },
   {
    "duration": 8,
    "start_time": "2023-10-04T09:34:48.657Z"
   },
   {
    "duration": 6,
    "start_time": "2023-10-04T09:48:12.658Z"
   },
   {
    "duration": 6,
    "start_time": "2023-10-04T09:48:22.940Z"
   },
   {
    "duration": 6,
    "start_time": "2023-10-04T09:48:31.592Z"
   },
   {
    "duration": 5,
    "start_time": "2023-10-04T09:48:44.155Z"
   },
   {
    "duration": 6,
    "start_time": "2023-10-04T09:49:15.045Z"
   },
   {
    "duration": 7,
    "start_time": "2023-10-04T09:50:44.090Z"
   },
   {
    "duration": 7,
    "start_time": "2023-10-04T09:50:55.291Z"
   },
   {
    "duration": 5,
    "start_time": "2023-10-04T09:51:05.831Z"
   },
   {
    "duration": 6,
    "start_time": "2023-10-04T09:51:17.281Z"
   },
   {
    "duration": 1601,
    "start_time": "2023-10-04T09:53:41.514Z"
   },
   {
    "duration": 2126,
    "start_time": "2023-10-04T09:55:12.058Z"
   },
   {
    "duration": 25,
    "start_time": "2023-10-04T09:55:25.242Z"
   },
   {
    "duration": 113,
    "start_time": "2023-10-04T09:56:44.639Z"
   },
   {
    "duration": 15,
    "start_time": "2023-10-04T09:56:57.417Z"
   },
   {
    "duration": 15,
    "start_time": "2023-10-04T09:57:13.598Z"
   },
   {
    "duration": 13,
    "start_time": "2023-10-04T09:57:27.731Z"
   },
   {
    "duration": 1937,
    "start_time": "2023-10-04T09:58:39.200Z"
   },
   {
    "duration": 6,
    "start_time": "2023-10-04T09:58:52.594Z"
   },
   {
    "duration": 6,
    "start_time": "2023-10-04T09:59:05.605Z"
   },
   {
    "duration": 6,
    "start_time": "2023-10-04T09:59:20.715Z"
   },
   {
    "duration": 6,
    "start_time": "2023-10-04T09:59:35.695Z"
   },
   {
    "duration": 3,
    "start_time": "2023-10-04T11:11:06.380Z"
   },
   {
    "duration": 5,
    "start_time": "2023-10-04T11:11:21.779Z"
   },
   {
    "duration": 2,
    "start_time": "2023-10-04T11:11:38.045Z"
   },
   {
    "duration": 6,
    "start_time": "2023-10-04T11:11:38.454Z"
   },
   {
    "duration": 6,
    "start_time": "2023-10-04T11:11:41.327Z"
   },
   {
    "duration": 7,
    "start_time": "2023-10-04T11:11:58.086Z"
   },
   {
    "duration": 6,
    "start_time": "2023-10-04T11:12:10.151Z"
   },
   {
    "duration": 9,
    "start_time": "2023-10-04T11:12:45.315Z"
   },
   {
    "duration": 6,
    "start_time": "2023-10-04T11:13:02.098Z"
   },
   {
    "duration": 5,
    "start_time": "2023-10-04T11:13:22.718Z"
   },
   {
    "duration": 5,
    "start_time": "2023-10-04T11:13:40.979Z"
   },
   {
    "duration": 6,
    "start_time": "2023-10-04T11:13:53.097Z"
   },
   {
    "duration": 7,
    "start_time": "2023-10-04T11:14:02.262Z"
   },
   {
    "duration": 7,
    "start_time": "2023-10-04T11:14:10.330Z"
   },
   {
    "duration": 5,
    "start_time": "2023-10-04T11:14:20.195Z"
   },
   {
    "duration": 154,
    "start_time": "2023-10-04T11:14:31.600Z"
   },
   {
    "duration": 5,
    "start_time": "2023-10-04T11:14:34.664Z"
   },
   {
    "duration": 6,
    "start_time": "2023-10-04T11:14:42.289Z"
   },
   {
    "duration": 7,
    "start_time": "2023-10-04T11:14:50.845Z"
   },
   {
    "duration": 6,
    "start_time": "2023-10-04T11:15:04.111Z"
   },
   {
    "duration": 3,
    "start_time": "2023-10-04T11:34:48.830Z"
   },
   {
    "duration": 241,
    "start_time": "2023-10-04T11:34:48.837Z"
   },
   {
    "duration": 9,
    "start_time": "2023-10-04T11:34:49.081Z"
   },
   {
    "duration": 18,
    "start_time": "2023-10-04T11:34:49.093Z"
   },
   {
    "duration": 50,
    "start_time": "2023-10-04T11:34:49.114Z"
   },
   {
    "duration": 22,
    "start_time": "2023-10-04T11:34:49.166Z"
   },
   {
    "duration": 88,
    "start_time": "2023-10-04T11:34:49.189Z"
   },
   {
    "duration": 77,
    "start_time": "2023-10-04T11:34:49.281Z"
   },
   {
    "duration": 9,
    "start_time": "2023-10-04T11:34:49.360Z"
   },
   {
    "duration": 98,
    "start_time": "2023-10-04T11:34:49.371Z"
   },
   {
    "duration": 22,
    "start_time": "2023-10-04T11:34:49.473Z"
   },
   {
    "duration": 27,
    "start_time": "2023-10-04T11:34:49.497Z"
   },
   {
    "duration": 8,
    "start_time": "2023-10-04T11:34:49.525Z"
   },
   {
    "duration": 24,
    "start_time": "2023-10-04T11:34:49.535Z"
   },
   {
    "duration": 30,
    "start_time": "2023-10-04T11:34:49.560Z"
   },
   {
    "duration": 36,
    "start_time": "2023-10-04T11:34:49.592Z"
   },
   {
    "duration": 289,
    "start_time": "2023-10-04T11:34:49.630Z"
   },
   {
    "duration": 45,
    "start_time": "2023-10-04T11:34:49.921Z"
   },
   {
    "duration": 34,
    "start_time": "2023-10-04T11:34:49.969Z"
   },
   {
    "duration": 74,
    "start_time": "2023-10-04T11:34:50.006Z"
   },
   {
    "duration": 20,
    "start_time": "2023-10-04T11:34:50.082Z"
   },
   {
    "duration": 26,
    "start_time": "2023-10-04T11:34:50.104Z"
   },
   {
    "duration": 17,
    "start_time": "2023-10-04T11:34:50.132Z"
   },
   {
    "duration": 18,
    "start_time": "2023-10-04T11:34:50.152Z"
   },
   {
    "duration": 19,
    "start_time": "2023-10-04T11:34:50.172Z"
   },
   {
    "duration": 85,
    "start_time": "2023-10-04T11:34:50.193Z"
   },
   {
    "duration": 198,
    "start_time": "2023-10-04T11:34:50.280Z"
   },
   {
    "duration": 69,
    "start_time": "2023-10-04T11:34:50.480Z"
   },
   {
    "duration": 187,
    "start_time": "2023-10-04T11:34:50.555Z"
   },
   {
    "duration": 16,
    "start_time": "2023-10-04T11:34:50.746Z"
   },
   {
    "duration": 90,
    "start_time": "2023-10-04T11:34:50.765Z"
   },
   {
    "duration": 54,
    "start_time": "2023-10-04T11:34:50.857Z"
   },
   {
    "duration": 74,
    "start_time": "2023-10-04T11:34:50.913Z"
   },
   {
    "duration": 65,
    "start_time": "2023-10-04T11:34:50.989Z"
   },
   {
    "duration": 37,
    "start_time": "2023-10-04T11:34:51.056Z"
   },
   {
    "duration": 60,
    "start_time": "2023-10-04T11:34:51.094Z"
   },
   {
    "duration": 100,
    "start_time": "2023-10-04T11:34:51.156Z"
   },
   {
    "duration": 42,
    "start_time": "2023-10-04T11:34:51.259Z"
   },
   {
    "duration": 5,
    "start_time": "2023-10-04T11:34:51.303Z"
   },
   {
    "duration": 32,
    "start_time": "2023-10-04T11:34:51.310Z"
   },
   {
    "duration": 35,
    "start_time": "2023-10-04T11:34:51.344Z"
   },
   {
    "duration": 27,
    "start_time": "2023-10-04T11:34:51.381Z"
   },
   {
    "duration": 49,
    "start_time": "2023-10-04T11:34:51.410Z"
   },
   {
    "duration": 19,
    "start_time": "2023-10-04T11:34:51.462Z"
   },
   {
    "duration": 34,
    "start_time": "2023-10-04T11:34:51.483Z"
   },
   {
    "duration": 29,
    "start_time": "2023-10-04T11:34:51.519Z"
   },
   {
    "duration": 21,
    "start_time": "2023-10-04T11:34:51.550Z"
   },
   {
    "duration": 27,
    "start_time": "2023-10-04T11:34:51.574Z"
   },
   {
    "duration": 24,
    "start_time": "2023-10-04T11:34:51.603Z"
   },
   {
    "duration": 34,
    "start_time": "2023-10-04T11:34:51.629Z"
   },
   {
    "duration": 14,
    "start_time": "2023-10-04T11:34:51.665Z"
   },
   {
    "duration": 42,
    "start_time": "2023-10-04T11:34:51.681Z"
   },
   {
    "duration": 50,
    "start_time": "2023-10-04T11:34:51.725Z"
   },
   {
    "duration": 32,
    "start_time": "2023-10-04T11:34:51.777Z"
   },
   {
    "duration": 44,
    "start_time": "2023-10-04T11:34:51.811Z"
   },
   {
    "duration": 24,
    "start_time": "2023-10-04T11:34:51.857Z"
   },
   {
    "duration": 96,
    "start_time": "2023-10-04T11:34:51.883Z"
   },
   {
    "duration": 34,
    "start_time": "2023-10-04T11:34:51.981Z"
   },
   {
    "duration": 18,
    "start_time": "2023-10-04T11:34:52.017Z"
   },
   {
    "duration": 26,
    "start_time": "2023-10-04T11:34:52.038Z"
   },
   {
    "duration": 30,
    "start_time": "2023-10-04T11:34:52.066Z"
   },
   {
    "duration": 23,
    "start_time": "2023-10-04T11:34:52.098Z"
   },
   {
    "duration": 48,
    "start_time": "2023-10-04T11:34:52.123Z"
   },
   {
    "duration": 44,
    "start_time": "2023-10-04T11:34:52.174Z"
   },
   {
    "duration": 44,
    "start_time": "2023-10-04T11:34:52.220Z"
   },
   {
    "duration": 38,
    "start_time": "2023-10-04T11:34:52.266Z"
   },
   {
    "duration": 52,
    "start_time": "2023-10-04T11:34:52.306Z"
   },
   {
    "duration": 24,
    "start_time": "2023-10-04T11:34:52.360Z"
   },
   {
    "duration": 19,
    "start_time": "2023-10-04T11:34:52.386Z"
   },
   {
    "duration": 20,
    "start_time": "2023-10-04T11:34:52.406Z"
   },
   {
    "duration": 39,
    "start_time": "2023-10-04T11:34:52.427Z"
   },
   {
    "duration": 41,
    "start_time": "2023-10-04T11:34:52.469Z"
   },
   {
    "duration": 29,
    "start_time": "2023-10-04T11:34:52.512Z"
   },
   {
    "duration": 49,
    "start_time": "2023-10-04T11:34:52.543Z"
   },
   {
    "duration": 52,
    "start_time": "2023-10-05T09:49:55.780Z"
   },
   {
    "duration": 1407,
    "start_time": "2023-10-05T09:50:00.180Z"
   },
   {
    "duration": 532,
    "start_time": "2023-10-05T09:50:01.589Z"
   },
   {
    "duration": 15,
    "start_time": "2023-10-05T09:50:02.123Z"
   },
   {
    "duration": 166,
    "start_time": "2023-10-05T09:50:02.141Z"
   },
   {
    "duration": 107,
    "start_time": "2023-10-05T09:50:02.309Z"
   },
   {
    "duration": 35,
    "start_time": "2023-10-05T09:50:02.417Z"
   },
   {
    "duration": 85,
    "start_time": "2023-10-05T09:50:02.454Z"
   },
   {
    "duration": 74,
    "start_time": "2023-10-05T09:50:02.541Z"
   },
   {
    "duration": 7,
    "start_time": "2023-10-05T09:50:02.616Z"
   },
   {
    "duration": 110,
    "start_time": "2023-10-05T09:50:02.626Z"
   },
   {
    "duration": 10,
    "start_time": "2023-10-05T09:50:02.737Z"
   },
   {
    "duration": 47,
    "start_time": "2023-10-05T09:50:02.749Z"
   },
   {
    "duration": 45,
    "start_time": "2023-10-05T09:50:02.798Z"
   },
   {
    "duration": 77,
    "start_time": "2023-10-05T09:50:02.845Z"
   },
   {
    "duration": 49,
    "start_time": "2023-10-05T09:50:02.923Z"
   },
   {
    "duration": 76,
    "start_time": "2023-10-05T09:50:02.973Z"
   },
   {
    "duration": 54,
    "start_time": "2023-10-05T09:50:03.051Z"
   },
   {
    "duration": 392,
    "start_time": "2023-10-05T09:50:03.107Z"
   },
   {
    "duration": 50,
    "start_time": "2023-10-05T09:50:03.501Z"
   },
   {
    "duration": 34,
    "start_time": "2023-10-05T09:50:03.553Z"
   },
   {
    "duration": 27,
    "start_time": "2023-10-05T09:50:03.589Z"
   },
   {
    "duration": 75,
    "start_time": "2023-10-05T09:50:03.618Z"
   },
   {
    "duration": 71,
    "start_time": "2023-10-05T09:50:03.695Z"
   },
   {
    "duration": 259,
    "start_time": "2023-10-05T09:50:03.768Z"
   },
   {
    "duration": 89,
    "start_time": "2023-10-05T09:50:04.029Z"
   },
   {
    "duration": 44,
    "start_time": "2023-10-05T09:50:04.119Z"
   },
   {
    "duration": 85,
    "start_time": "2023-10-05T09:50:04.164Z"
   },
   {
    "duration": 173,
    "start_time": "2023-10-05T09:50:04.253Z"
   },
   {
    "duration": 62,
    "start_time": "2023-10-05T09:50:04.428Z"
   },
   {
    "duration": 173,
    "start_time": "2023-10-05T09:50:04.491Z"
   },
   {
    "duration": 9,
    "start_time": "2023-10-05T09:50:04.666Z"
   },
   {
    "duration": 72,
    "start_time": "2023-10-05T09:50:04.676Z"
   },
   {
    "duration": 49,
    "start_time": "2023-10-05T09:50:04.750Z"
   },
   {
    "duration": 56,
    "start_time": "2023-10-05T09:50:04.801Z"
   },
   {
    "duration": 46,
    "start_time": "2023-10-05T09:50:04.859Z"
   },
   {
    "duration": 52,
    "start_time": "2023-10-05T09:50:04.907Z"
   },
   {
    "duration": 63,
    "start_time": "2023-10-05T09:50:04.961Z"
   },
   {
    "duration": 82,
    "start_time": "2023-10-05T09:50:05.026Z"
   },
   {
    "duration": 44,
    "start_time": "2023-10-05T09:50:05.110Z"
   },
   {
    "duration": 5,
    "start_time": "2023-10-05T09:50:05.156Z"
   },
   {
    "duration": 22,
    "start_time": "2023-10-05T09:50:05.163Z"
   },
   {
    "duration": 49,
    "start_time": "2023-10-05T09:50:05.187Z"
   },
   {
    "duration": 23,
    "start_time": "2023-10-05T09:50:05.238Z"
   },
   {
    "duration": 26,
    "start_time": "2023-10-05T09:50:05.264Z"
   },
   {
    "duration": 40,
    "start_time": "2023-10-05T09:50:05.292Z"
   },
   {
    "duration": 21,
    "start_time": "2023-10-05T09:50:05.334Z"
   },
   {
    "duration": 25,
    "start_time": "2023-10-05T09:50:05.357Z"
   },
   {
    "duration": 30,
    "start_time": "2023-10-05T09:50:05.384Z"
   },
   {
    "duration": 40,
    "start_time": "2023-10-05T09:50:05.415Z"
   },
   {
    "duration": 27,
    "start_time": "2023-10-05T09:50:05.457Z"
   },
   {
    "duration": 27,
    "start_time": "2023-10-05T09:50:05.486Z"
   },
   {
    "duration": 32,
    "start_time": "2023-10-05T09:50:05.515Z"
   },
   {
    "duration": 38,
    "start_time": "2023-10-05T09:50:05.549Z"
   },
   {
    "duration": 30,
    "start_time": "2023-10-05T09:50:05.589Z"
   },
   {
    "duration": 25,
    "start_time": "2023-10-05T09:50:05.621Z"
   },
   {
    "duration": 28,
    "start_time": "2023-10-05T09:50:05.648Z"
   },
   {
    "duration": 28,
    "start_time": "2023-10-05T09:50:05.678Z"
   },
   {
    "duration": 21,
    "start_time": "2023-10-05T09:50:05.708Z"
   },
   {
    "duration": 17,
    "start_time": "2023-10-05T09:50:05.730Z"
   },
   {
    "duration": 22,
    "start_time": "2023-10-05T09:50:05.749Z"
   },
   {
    "duration": 44,
    "start_time": "2023-10-05T09:50:05.772Z"
   },
   {
    "duration": 31,
    "start_time": "2023-10-05T09:50:05.818Z"
   },
   {
    "duration": 36,
    "start_time": "2023-10-05T09:50:05.850Z"
   },
   {
    "duration": 26,
    "start_time": "2023-10-05T09:50:05.888Z"
   },
   {
    "duration": 29,
    "start_time": "2023-10-05T09:50:05.915Z"
   },
   {
    "duration": 67,
    "start_time": "2023-10-05T09:50:05.946Z"
   },
   {
    "duration": 91,
    "start_time": "2023-10-05T09:50:06.014Z"
   },
   {
    "duration": 39,
    "start_time": "2023-10-05T09:50:06.107Z"
   },
   {
    "duration": 48,
    "start_time": "2023-10-05T09:50:06.148Z"
   },
   {
    "duration": 50,
    "start_time": "2023-10-05T09:50:06.198Z"
   },
   {
    "duration": 34,
    "start_time": "2023-10-05T09:50:06.249Z"
   },
   {
    "duration": 50,
    "start_time": "2023-10-05T09:50:06.285Z"
   },
   {
    "duration": 40,
    "start_time": "2023-10-05T09:50:06.336Z"
   },
   {
    "duration": 23,
    "start_time": "2023-10-05T09:50:06.377Z"
   },
   {
    "duration": 41,
    "start_time": "2023-10-05T09:50:06.402Z"
   },
   {
    "duration": 8,
    "start_time": "2023-10-05T09:51:01.065Z"
   },
   {
    "duration": 7,
    "start_time": "2023-10-05T09:51:08.746Z"
   },
   {
    "duration": 7,
    "start_time": "2023-10-05T09:51:50.288Z"
   },
   {
    "duration": 26,
    "start_time": "2023-10-05T09:55:34.255Z"
   },
   {
    "duration": 11,
    "start_time": "2023-10-05T09:56:28.363Z"
   },
   {
    "duration": 47,
    "start_time": "2023-10-05T09:59:53.559Z"
   },
   {
    "duration": 55,
    "start_time": "2023-10-05T09:59:59.406Z"
   },
   {
    "duration": 57,
    "start_time": "2023-10-05T10:02:50.718Z"
   },
   {
    "duration": 57,
    "start_time": "2023-10-05T10:02:54.750Z"
   },
   {
    "duration": 70,
    "start_time": "2023-10-05T10:21:21.637Z"
   },
   {
    "duration": 13,
    "start_time": "2023-10-05T10:22:33.936Z"
   },
   {
    "duration": 10,
    "start_time": "2023-10-05T10:22:43.882Z"
   },
   {
    "duration": 56,
    "start_time": "2023-10-05T10:23:24.177Z"
   },
   {
    "duration": 71,
    "start_time": "2023-10-05T10:23:42.165Z"
   },
   {
    "duration": 647,
    "start_time": "2023-10-05T10:24:10.026Z"
   },
   {
    "duration": 85,
    "start_time": "2023-10-05T10:24:26.767Z"
   },
   {
    "duration": 9,
    "start_time": "2023-10-05T10:25:23.541Z"
   },
   {
    "duration": 8,
    "start_time": "2023-10-05T10:26:05.123Z"
   },
   {
    "duration": 9,
    "start_time": "2023-10-05T10:26:12.867Z"
   },
   {
    "duration": 9,
    "start_time": "2023-10-05T10:26:34.628Z"
   },
   {
    "duration": 10,
    "start_time": "2023-10-05T10:26:44.107Z"
   },
   {
    "duration": 51,
    "start_time": "2023-10-05T10:27:06.255Z"
   },
   {
    "duration": 55,
    "start_time": "2023-10-05T10:27:19.606Z"
   },
   {
    "duration": 55,
    "start_time": "2023-10-05T10:27:27.891Z"
   },
   {
    "duration": 51,
    "start_time": "2023-10-05T10:27:44.163Z"
   },
   {
    "duration": 24,
    "start_time": "2023-10-05T10:27:51.765Z"
   },
   {
    "duration": 20,
    "start_time": "2023-10-05T10:27:55.593Z"
   },
   {
    "duration": 51,
    "start_time": "2023-10-05T10:27:56.612Z"
   },
   {
    "duration": 60,
    "start_time": "2023-10-05T10:28:04.641Z"
   },
   {
    "duration": 10,
    "start_time": "2023-10-05T10:28:11.734Z"
   },
   {
    "duration": 45,
    "start_time": "2023-10-05T10:28:23.901Z"
   },
   {
    "duration": 131,
    "start_time": "2023-10-05T10:28:24.223Z"
   },
   {
    "duration": 47,
    "start_time": "2023-10-05T10:28:44.914Z"
   },
   {
    "duration": 175,
    "start_time": "2023-10-05T10:28:45.495Z"
   },
   {
    "duration": 55,
    "start_time": "2023-10-05T10:28:47.837Z"
   },
   {
    "duration": 56,
    "start_time": "2023-10-05T10:28:54.013Z"
   },
   {
    "duration": 188,
    "start_time": "2023-10-05T10:28:55.277Z"
   },
   {
    "duration": 9,
    "start_time": "2023-10-05T10:28:56.095Z"
   },
   {
    "duration": 9,
    "start_time": "2023-10-05T10:28:56.839Z"
   },
   {
    "duration": 8,
    "start_time": "2023-10-05T10:29:11.149Z"
   },
   {
    "duration": 11,
    "start_time": "2023-10-05T10:29:36.880Z"
   },
   {
    "duration": 9,
    "start_time": "2023-10-05T10:29:44.747Z"
   },
   {
    "duration": 11,
    "start_time": "2023-10-05T10:30:00.968Z"
   },
   {
    "duration": 17,
    "start_time": "2023-10-05T10:30:04.559Z"
   },
   {
    "duration": 23,
    "start_time": "2023-10-05T10:31:10.525Z"
   },
   {
    "duration": 24,
    "start_time": "2023-10-05T10:31:17.292Z"
   },
   {
    "duration": 19,
    "start_time": "2023-10-05T10:31:22.340Z"
   },
   {
    "duration": 19,
    "start_time": "2023-10-05T10:31:57.053Z"
   },
   {
    "duration": 49,
    "start_time": "2023-10-05T10:31:57.273Z"
   },
   {
    "duration": 163,
    "start_time": "2023-10-05T10:31:57.447Z"
   },
   {
    "duration": 57,
    "start_time": "2023-10-05T10:31:58.612Z"
   },
   {
    "duration": 169,
    "start_time": "2023-10-05T10:31:59.965Z"
   },
   {
    "duration": 11,
    "start_time": "2023-10-05T10:32:01.078Z"
   },
   {
    "duration": 14,
    "start_time": "2023-10-05T10:32:01.725Z"
   },
   {
    "duration": 15,
    "start_time": "2023-10-05T10:32:07.389Z"
   },
   {
    "duration": 9,
    "start_time": "2023-10-05T10:32:40.821Z"
   },
   {
    "duration": 7,
    "start_time": "2023-10-05T10:33:06.333Z"
   },
   {
    "duration": 10,
    "start_time": "2023-10-05T10:33:13.238Z"
   },
   {
    "duration": 7,
    "start_time": "2023-10-05T10:33:14.094Z"
   },
   {
    "duration": 14,
    "start_time": "2023-10-05T10:33:19.436Z"
   },
   {
    "duration": 16,
    "start_time": "2023-10-05T10:34:32.242Z"
   },
   {
    "duration": 15,
    "start_time": "2023-10-05T10:35:14.775Z"
   },
   {
    "duration": 15,
    "start_time": "2023-10-05T10:35:17.295Z"
   },
   {
    "duration": 17,
    "start_time": "2023-10-05T10:35:45.362Z"
   },
   {
    "duration": 23,
    "start_time": "2023-10-05T10:35:49.701Z"
   },
   {
    "duration": 15,
    "start_time": "2023-10-05T10:36:33.801Z"
   },
   {
    "duration": 21,
    "start_time": "2023-10-05T10:37:04.260Z"
   },
   {
    "duration": 13,
    "start_time": "2023-10-05T10:37:38.892Z"
   },
   {
    "duration": 14,
    "start_time": "2023-10-05T10:37:47.724Z"
   },
   {
    "duration": 290,
    "start_time": "2023-10-05T10:38:10.656Z"
   },
   {
    "duration": 14,
    "start_time": "2023-10-05T10:38:14.214Z"
   },
   {
    "duration": 13,
    "start_time": "2023-10-05T10:38:45.741Z"
   },
   {
    "duration": 13,
    "start_time": "2023-10-05T10:39:46.627Z"
   },
   {
    "duration": 12,
    "start_time": "2023-10-05T10:40:26.275Z"
   },
   {
    "duration": 3,
    "start_time": "2023-10-05T10:40:31.855Z"
   },
   {
    "duration": 355,
    "start_time": "2023-10-05T10:40:31.861Z"
   },
   {
    "duration": 30,
    "start_time": "2023-10-05T10:40:32.218Z"
   },
   {
    "duration": 17,
    "start_time": "2023-10-05T10:40:32.250Z"
   },
   {
    "duration": 33,
    "start_time": "2023-10-05T10:40:32.270Z"
   },
   {
    "duration": 43,
    "start_time": "2023-10-05T10:40:32.305Z"
   },
   {
    "duration": 96,
    "start_time": "2023-10-05T10:40:32.350Z"
   },
   {
    "duration": 77,
    "start_time": "2023-10-05T10:40:32.448Z"
   },
   {
    "duration": 22,
    "start_time": "2023-10-05T10:40:32.527Z"
   },
   {
    "duration": 88,
    "start_time": "2023-10-05T10:40:32.551Z"
   },
   {
    "duration": 29,
    "start_time": "2023-10-05T10:40:32.646Z"
   },
   {
    "duration": 50,
    "start_time": "2023-10-05T10:40:32.677Z"
   },
   {
    "duration": 35,
    "start_time": "2023-10-05T10:40:32.729Z"
   },
   {
    "duration": 30,
    "start_time": "2023-10-05T10:40:32.766Z"
   },
   {
    "duration": 36,
    "start_time": "2023-10-05T10:40:32.798Z"
   },
   {
    "duration": 29,
    "start_time": "2023-10-05T10:40:32.836Z"
   },
   {
    "duration": 18,
    "start_time": "2023-10-05T10:40:32.867Z"
   },
   {
    "duration": 35,
    "start_time": "2023-10-05T10:40:32.886Z"
   },
   {
    "duration": 40,
    "start_time": "2023-10-05T10:40:32.923Z"
   },
   {
    "duration": 281,
    "start_time": "2023-10-05T10:40:32.965Z"
   },
   {
    "duration": 32,
    "start_time": "2023-10-05T10:40:33.248Z"
   },
   {
    "duration": 65,
    "start_time": "2023-10-05T10:40:33.282Z"
   },
   {
    "duration": 28,
    "start_time": "2023-10-05T10:40:33.349Z"
   },
   {
    "duration": 37,
    "start_time": "2023-10-05T10:40:33.379Z"
   },
   {
    "duration": 127,
    "start_time": "2023-10-05T10:40:33.418Z"
   },
   {
    "duration": 34,
    "start_time": "2023-10-05T10:40:33.547Z"
   },
   {
    "duration": 113,
    "start_time": "2023-10-05T10:40:33.583Z"
   },
   {
    "duration": 13,
    "start_time": "2023-10-05T10:40:33.698Z"
   },
   {
    "duration": 87,
    "start_time": "2023-10-05T10:40:33.717Z"
   },
   {
    "duration": 29,
    "start_time": "2023-10-05T10:40:33.806Z"
   },
   {
    "duration": 57,
    "start_time": "2023-10-05T10:40:33.837Z"
   },
   {
    "duration": 168,
    "start_time": "2023-10-05T10:40:33.895Z"
   },
   {
    "duration": 60,
    "start_time": "2023-10-05T10:40:34.065Z"
   },
   {
    "duration": 187,
    "start_time": "2023-10-05T10:40:34.127Z"
   },
   {
    "duration": 10,
    "start_time": "2023-10-05T10:40:34.316Z"
   },
   {
    "duration": 20,
    "start_time": "2023-10-05T10:40:34.327Z"
   },
   {
    "duration": 41,
    "start_time": "2023-10-05T10:40:34.348Z"
   },
   {
    "duration": 1789,
    "start_time": "2023-10-05T10:40:34.390Z"
   },
   {
    "duration": 0,
    "start_time": "2023-10-05T10:40:36.181Z"
   },
   {
    "duration": 0,
    "start_time": "2023-10-05T10:40:36.182Z"
   },
   {
    "duration": 0,
    "start_time": "2023-10-05T10:40:36.183Z"
   },
   {
    "duration": 0,
    "start_time": "2023-10-05T10:40:36.184Z"
   },
   {
    "duration": 0,
    "start_time": "2023-10-05T10:40:36.185Z"
   },
   {
    "duration": 0,
    "start_time": "2023-10-05T10:40:36.186Z"
   },
   {
    "duration": 0,
    "start_time": "2023-10-05T10:40:36.187Z"
   },
   {
    "duration": 0,
    "start_time": "2023-10-05T10:40:36.188Z"
   },
   {
    "duration": 0,
    "start_time": "2023-10-05T10:40:36.189Z"
   },
   {
    "duration": 0,
    "start_time": "2023-10-05T10:40:36.190Z"
   },
   {
    "duration": 0,
    "start_time": "2023-10-05T10:40:36.191Z"
   },
   {
    "duration": 0,
    "start_time": "2023-10-05T10:40:36.192Z"
   },
   {
    "duration": 0,
    "start_time": "2023-10-05T10:40:36.193Z"
   },
   {
    "duration": 0,
    "start_time": "2023-10-05T10:40:36.195Z"
   },
   {
    "duration": 0,
    "start_time": "2023-10-05T10:40:36.196Z"
   },
   {
    "duration": 0,
    "start_time": "2023-10-05T10:40:36.197Z"
   },
   {
    "duration": 0,
    "start_time": "2023-10-05T10:40:36.198Z"
   },
   {
    "duration": 0,
    "start_time": "2023-10-05T10:40:36.200Z"
   },
   {
    "duration": 0,
    "start_time": "2023-10-05T10:40:36.201Z"
   },
   {
    "duration": 0,
    "start_time": "2023-10-05T10:40:36.202Z"
   },
   {
    "duration": 0,
    "start_time": "2023-10-05T10:40:36.203Z"
   },
   {
    "duration": 0,
    "start_time": "2023-10-05T10:40:36.204Z"
   },
   {
    "duration": 0,
    "start_time": "2023-10-05T10:40:36.205Z"
   },
   {
    "duration": 0,
    "start_time": "2023-10-05T10:40:36.206Z"
   },
   {
    "duration": 0,
    "start_time": "2023-10-05T10:40:36.207Z"
   },
   {
    "duration": 0,
    "start_time": "2023-10-05T10:40:36.208Z"
   },
   {
    "duration": 0,
    "start_time": "2023-10-05T10:40:36.209Z"
   },
   {
    "duration": 0,
    "start_time": "2023-10-05T10:40:36.210Z"
   },
   {
    "duration": 0,
    "start_time": "2023-10-05T10:40:36.211Z"
   },
   {
    "duration": 0,
    "start_time": "2023-10-05T10:40:36.212Z"
   },
   {
    "duration": 0,
    "start_time": "2023-10-05T10:40:36.213Z"
   },
   {
    "duration": 0,
    "start_time": "2023-10-05T10:40:36.214Z"
   },
   {
    "duration": 0,
    "start_time": "2023-10-05T10:40:36.214Z"
   },
   {
    "duration": 0,
    "start_time": "2023-10-05T10:40:36.215Z"
   },
   {
    "duration": 0,
    "start_time": "2023-10-05T10:40:36.217Z"
   },
   {
    "duration": 0,
    "start_time": "2023-10-05T10:40:36.218Z"
   },
   {
    "duration": 0,
    "start_time": "2023-10-05T10:40:36.219Z"
   },
   {
    "duration": 0,
    "start_time": "2023-10-05T10:40:36.247Z"
   },
   {
    "duration": 0,
    "start_time": "2023-10-05T10:40:36.248Z"
   },
   {
    "duration": 0,
    "start_time": "2023-10-05T10:40:36.249Z"
   },
   {
    "duration": 0,
    "start_time": "2023-10-05T10:40:36.250Z"
   },
   {
    "duration": 0,
    "start_time": "2023-10-05T10:40:36.251Z"
   },
   {
    "duration": 0,
    "start_time": "2023-10-05T10:40:36.253Z"
   },
   {
    "duration": 0,
    "start_time": "2023-10-05T10:40:36.254Z"
   },
   {
    "duration": 14,
    "start_time": "2023-10-05T10:40:57.981Z"
   },
   {
    "duration": 4,
    "start_time": "2023-10-05T10:42:24.337Z"
   },
   {
    "duration": 10,
    "start_time": "2023-10-05T10:42:28.427Z"
   },
   {
    "duration": 11,
    "start_time": "2023-10-05T10:42:38.152Z"
   },
   {
    "duration": 10,
    "start_time": "2023-10-05T10:42:54.402Z"
   },
   {
    "duration": 16,
    "start_time": "2023-10-05T10:43:06.406Z"
   },
   {
    "duration": 12,
    "start_time": "2023-10-05T10:43:24.446Z"
   },
   {
    "duration": 11,
    "start_time": "2023-10-05T10:44:25.536Z"
   },
   {
    "duration": 2262,
    "start_time": "2023-10-05T10:45:56.376Z"
   },
   {
    "duration": 12,
    "start_time": "2023-10-05T10:46:41.806Z"
   },
   {
    "duration": 1483,
    "start_time": "2023-10-05T10:46:57.091Z"
   },
   {
    "duration": 10,
    "start_time": "2023-10-05T10:47:50.543Z"
   },
   {
    "duration": 18,
    "start_time": "2023-10-05T10:48:15.492Z"
   },
   {
    "duration": 2141,
    "start_time": "2023-10-05T10:48:25.289Z"
   },
   {
    "duration": 11,
    "start_time": "2023-10-05T10:48:31.482Z"
   },
   {
    "duration": 11,
    "start_time": "2023-10-05T10:48:44.489Z"
   },
   {
    "duration": 11,
    "start_time": "2023-10-05T10:48:57.679Z"
   },
   {
    "duration": 11,
    "start_time": "2023-10-05T10:49:13.900Z"
   },
   {
    "duration": 4,
    "start_time": "2023-10-05T10:49:19.422Z"
   },
   {
    "duration": 248,
    "start_time": "2023-10-05T10:49:19.433Z"
   },
   {
    "duration": 8,
    "start_time": "2023-10-05T10:49:19.683Z"
   },
   {
    "duration": 52,
    "start_time": "2023-10-05T10:49:19.694Z"
   },
   {
    "duration": 58,
    "start_time": "2023-10-05T10:49:19.749Z"
   },
   {
    "duration": 48,
    "start_time": "2023-10-05T10:49:19.809Z"
   },
   {
    "duration": 109,
    "start_time": "2023-10-05T10:49:19.859Z"
   },
   {
    "duration": 84,
    "start_time": "2023-10-05T10:49:19.969Z"
   },
   {
    "duration": 8,
    "start_time": "2023-10-05T10:49:20.055Z"
   },
   {
    "duration": 143,
    "start_time": "2023-10-05T10:49:20.065Z"
   },
   {
    "duration": 40,
    "start_time": "2023-10-05T10:49:20.211Z"
   },
   {
    "duration": 51,
    "start_time": "2023-10-05T10:49:20.254Z"
   },
   {
    "duration": 58,
    "start_time": "2023-10-05T10:49:20.307Z"
   },
   {
    "duration": 76,
    "start_time": "2023-10-05T10:49:20.367Z"
   },
   {
    "duration": 64,
    "start_time": "2023-10-05T10:49:20.445Z"
   },
   {
    "duration": 88,
    "start_time": "2023-10-05T10:49:20.511Z"
   },
   {
    "duration": 64,
    "start_time": "2023-10-05T10:49:20.601Z"
   },
   {
    "duration": 84,
    "start_time": "2023-10-05T10:49:20.667Z"
   },
   {
    "duration": 97,
    "start_time": "2023-10-05T10:49:20.754Z"
   },
   {
    "duration": 324,
    "start_time": "2023-10-05T10:49:20.853Z"
   },
   {
    "duration": 33,
    "start_time": "2023-10-05T10:49:21.179Z"
   },
   {
    "duration": 52,
    "start_time": "2023-10-05T10:49:21.214Z"
   },
   {
    "duration": 27,
    "start_time": "2023-10-05T10:49:21.268Z"
   },
   {
    "duration": 50,
    "start_time": "2023-10-05T10:49:21.297Z"
   },
   {
    "duration": 19,
    "start_time": "2023-10-05T10:49:21.349Z"
   },
   {
    "duration": 20,
    "start_time": "2023-10-05T10:49:21.370Z"
   },
   {
    "duration": 28,
    "start_time": "2023-10-05T10:49:21.392Z"
   },
   {
    "duration": 40,
    "start_time": "2023-10-05T10:49:21.422Z"
   },
   {
    "duration": 27,
    "start_time": "2023-10-05T10:49:21.467Z"
   },
   {
    "duration": 46,
    "start_time": "2023-10-05T10:49:21.496Z"
   },
   {
    "duration": 63,
    "start_time": "2023-10-05T10:49:21.545Z"
   },
   {
    "duration": 156,
    "start_time": "2023-10-05T10:49:21.610Z"
   },
   {
    "duration": 56,
    "start_time": "2023-10-05T10:49:21.769Z"
   },
   {
    "duration": 195,
    "start_time": "2023-10-05T10:49:21.826Z"
   },
   {
    "duration": 25,
    "start_time": "2023-10-05T10:49:22.023Z"
   },
   {
    "duration": 5,
    "start_time": "2023-10-05T10:49:22.050Z"
   },
   {
    "duration": 54,
    "start_time": "2023-10-05T10:49:22.057Z"
   },
   {
    "duration": 34,
    "start_time": "2023-10-05T10:49:22.113Z"
   },
   {
    "duration": 92,
    "start_time": "2023-10-05T10:49:22.149Z"
   },
   {
    "duration": 55,
    "start_time": "2023-10-05T10:49:22.243Z"
   },
   {
    "duration": 50,
    "start_time": "2023-10-05T10:49:22.299Z"
   },
   {
    "duration": 49,
    "start_time": "2023-10-05T10:49:22.350Z"
   },
   {
    "duration": 50,
    "start_time": "2023-10-05T10:49:22.401Z"
   },
   {
    "duration": 42,
    "start_time": "2023-10-05T10:49:22.453Z"
   },
   {
    "duration": 99,
    "start_time": "2023-10-05T10:49:22.497Z"
   },
   {
    "duration": 50,
    "start_time": "2023-10-05T10:49:22.598Z"
   },
   {
    "duration": 6,
    "start_time": "2023-10-05T10:49:22.650Z"
   },
   {
    "duration": 21,
    "start_time": "2023-10-05T10:49:22.659Z"
   },
   {
    "duration": 39,
    "start_time": "2023-10-05T10:49:22.682Z"
   },
   {
    "duration": 21,
    "start_time": "2023-10-05T10:49:22.723Z"
   },
   {
    "duration": 19,
    "start_time": "2023-10-05T10:49:22.745Z"
   },
   {
    "duration": 21,
    "start_time": "2023-10-05T10:49:22.766Z"
   },
   {
    "duration": 23,
    "start_time": "2023-10-05T10:49:22.789Z"
   },
   {
    "duration": 30,
    "start_time": "2023-10-05T10:49:22.814Z"
   },
   {
    "duration": 29,
    "start_time": "2023-10-05T10:49:22.846Z"
   },
   {
    "duration": 40,
    "start_time": "2023-10-05T10:49:22.877Z"
   },
   {
    "duration": 34,
    "start_time": "2023-10-05T10:49:22.919Z"
   },
   {
    "duration": 25,
    "start_time": "2023-10-05T10:49:22.956Z"
   },
   {
    "duration": 36,
    "start_time": "2023-10-05T10:49:22.982Z"
   },
   {
    "duration": 16,
    "start_time": "2023-10-05T10:49:23.020Z"
   },
   {
    "duration": 20,
    "start_time": "2023-10-05T10:49:23.038Z"
   },
   {
    "duration": 35,
    "start_time": "2023-10-05T10:49:23.060Z"
   },
   {
    "duration": 23,
    "start_time": "2023-10-05T10:49:23.097Z"
   },
   {
    "duration": 20,
    "start_time": "2023-10-05T10:49:23.123Z"
   },
   {
    "duration": 35,
    "start_time": "2023-10-05T10:49:23.145Z"
   },
   {
    "duration": 24,
    "start_time": "2023-10-05T10:49:23.182Z"
   },
   {
    "duration": 30,
    "start_time": "2023-10-05T10:49:23.208Z"
   },
   {
    "duration": 29,
    "start_time": "2023-10-05T10:49:23.241Z"
   },
   {
    "duration": 63,
    "start_time": "2023-10-05T10:49:23.273Z"
   },
   {
    "duration": 20,
    "start_time": "2023-10-05T10:49:23.338Z"
   },
   {
    "duration": 20,
    "start_time": "2023-10-05T10:49:23.360Z"
   },
   {
    "duration": 23,
    "start_time": "2023-10-05T10:49:23.382Z"
   },
   {
    "duration": 15,
    "start_time": "2023-10-05T10:49:23.407Z"
   },
   {
    "duration": 20,
    "start_time": "2023-10-05T10:49:23.423Z"
   },
   {
    "duration": 33,
    "start_time": "2023-10-05T10:49:23.445Z"
   },
   {
    "duration": 22,
    "start_time": "2023-10-05T10:49:23.480Z"
   },
   {
    "duration": 35,
    "start_time": "2023-10-05T10:49:23.503Z"
   },
   {
    "duration": 17,
    "start_time": "2023-10-05T10:49:23.540Z"
   },
   {
    "duration": 20,
    "start_time": "2023-10-05T10:49:23.560Z"
   },
   {
    "duration": 30,
    "start_time": "2023-10-05T10:49:23.582Z"
   },
   {
    "duration": 50,
    "start_time": "2023-10-05T10:49:23.615Z"
   },
   {
    "duration": 18,
    "start_time": "2023-10-05T10:49:23.667Z"
   },
   {
    "duration": 11,
    "start_time": "2023-10-05T10:50:03.228Z"
   },
   {
    "duration": 10,
    "start_time": "2023-10-05T10:50:04.395Z"
   },
   {
    "duration": 15,
    "start_time": "2023-10-05T10:50:05.030Z"
   },
   {
    "duration": 16,
    "start_time": "2023-10-05T10:50:19.437Z"
   },
   {
    "duration": 12,
    "start_time": "2023-10-05T10:50:24.484Z"
   },
   {
    "duration": 14,
    "start_time": "2023-10-05T11:22:50.022Z"
   },
   {
    "duration": 13,
    "start_time": "2023-10-05T11:23:06.062Z"
   },
   {
    "duration": 12,
    "start_time": "2023-10-05T11:23:22.765Z"
   },
   {
    "duration": 13,
    "start_time": "2023-10-05T11:23:33.322Z"
   },
   {
    "duration": 11,
    "start_time": "2023-10-05T11:23:59.412Z"
   },
   {
    "duration": 1284,
    "start_time": "2023-10-05T11:24:08.444Z"
   },
   {
    "duration": 199,
    "start_time": "2023-10-05T11:24:09.729Z"
   },
   {
    "duration": 14,
    "start_time": "2023-10-05T11:24:09.930Z"
   },
   {
    "duration": 41,
    "start_time": "2023-10-05T11:24:09.948Z"
   },
   {
    "duration": 41,
    "start_time": "2023-10-05T11:24:09.991Z"
   },
   {
    "duration": 18,
    "start_time": "2023-10-05T11:24:10.034Z"
   },
   {
    "duration": 99,
    "start_time": "2023-10-05T11:24:10.054Z"
   },
   {
    "duration": 75,
    "start_time": "2023-10-05T11:24:10.155Z"
   },
   {
    "duration": 18,
    "start_time": "2023-10-05T11:24:10.232Z"
   },
   {
    "duration": 81,
    "start_time": "2023-10-05T11:24:10.252Z"
   },
   {
    "duration": 53,
    "start_time": "2023-10-05T11:24:10.335Z"
   },
   {
    "duration": 30,
    "start_time": "2023-10-05T11:24:10.389Z"
   },
   {
    "duration": 23,
    "start_time": "2023-10-05T11:24:10.421Z"
   },
   {
    "duration": 28,
    "start_time": "2023-10-05T11:24:10.445Z"
   },
   {
    "duration": 23,
    "start_time": "2023-10-05T11:24:10.474Z"
   },
   {
    "duration": 25,
    "start_time": "2023-10-05T11:24:10.499Z"
   },
   {
    "duration": 30,
    "start_time": "2023-10-05T11:24:10.526Z"
   },
   {
    "duration": 35,
    "start_time": "2023-10-05T11:24:10.558Z"
   },
   {
    "duration": 48,
    "start_time": "2023-10-05T11:24:10.594Z"
   },
   {
    "duration": 370,
    "start_time": "2023-10-05T11:24:10.644Z"
   },
   {
    "duration": 50,
    "start_time": "2023-10-05T11:24:11.016Z"
   },
   {
    "duration": 61,
    "start_time": "2023-10-05T11:24:11.068Z"
   },
   {
    "duration": 39,
    "start_time": "2023-10-05T11:24:11.131Z"
   },
   {
    "duration": 47,
    "start_time": "2023-10-05T11:24:11.172Z"
   },
   {
    "duration": 28,
    "start_time": "2023-10-05T11:24:11.221Z"
   },
   {
    "duration": 16,
    "start_time": "2023-10-05T11:24:11.251Z"
   },
   {
    "duration": 24,
    "start_time": "2023-10-05T11:24:11.270Z"
   },
   {
    "duration": 13,
    "start_time": "2023-10-05T11:24:11.299Z"
   },
   {
    "duration": 24,
    "start_time": "2023-10-05T11:24:11.314Z"
   },
   {
    "duration": 26,
    "start_time": "2023-10-05T11:24:11.347Z"
   },
   {
    "duration": 66,
    "start_time": "2023-10-05T11:24:11.376Z"
   },
   {
    "duration": 170,
    "start_time": "2023-10-05T11:24:11.444Z"
   },
   {
    "duration": 68,
    "start_time": "2023-10-05T11:24:11.616Z"
   },
   {
    "duration": 180,
    "start_time": "2023-10-05T11:24:11.686Z"
   },
   {
    "duration": 9,
    "start_time": "2023-10-05T11:24:11.868Z"
   },
   {
    "duration": 5,
    "start_time": "2023-10-05T11:24:11.879Z"
   },
   {
    "duration": 24,
    "start_time": "2023-10-05T11:24:11.885Z"
   },
   {
    "duration": 13,
    "start_time": "2023-10-05T11:24:11.912Z"
   },
   {
    "duration": 87,
    "start_time": "2023-10-05T11:24:11.927Z"
   },
   {
    "duration": 46,
    "start_time": "2023-10-05T11:24:12.015Z"
   },
   {
    "duration": 53,
    "start_time": "2023-10-05T11:24:12.063Z"
   },
   {
    "duration": 62,
    "start_time": "2023-10-05T11:24:12.118Z"
   },
   {
    "duration": 34,
    "start_time": "2023-10-05T11:24:12.182Z"
   },
   {
    "duration": 65,
    "start_time": "2023-10-05T11:24:12.218Z"
   },
   {
    "duration": 96,
    "start_time": "2023-10-05T11:24:12.285Z"
   },
   {
    "duration": 40,
    "start_time": "2023-10-05T11:24:12.383Z"
   },
   {
    "duration": 23,
    "start_time": "2023-10-05T11:24:12.426Z"
   },
   {
    "duration": 15,
    "start_time": "2023-10-05T11:24:12.451Z"
   },
   {
    "duration": 15,
    "start_time": "2023-10-05T11:24:12.467Z"
   },
   {
    "duration": 23,
    "start_time": "2023-10-05T11:24:12.484Z"
   },
   {
    "duration": 39,
    "start_time": "2023-10-05T11:24:12.509Z"
   },
   {
    "duration": 26,
    "start_time": "2023-10-05T11:24:12.550Z"
   },
   {
    "duration": 18,
    "start_time": "2023-10-05T11:24:12.578Z"
   },
   {
    "duration": 28,
    "start_time": "2023-10-05T11:24:12.598Z"
   },
   {
    "duration": 19,
    "start_time": "2023-10-05T11:24:12.628Z"
   },
   {
    "duration": 20,
    "start_time": "2023-10-05T11:24:12.649Z"
   },
   {
    "duration": 21,
    "start_time": "2023-10-05T11:24:12.670Z"
   },
   {
    "duration": 20,
    "start_time": "2023-10-05T11:24:12.693Z"
   },
   {
    "duration": 7,
    "start_time": "2023-10-05T11:24:12.715Z"
   },
   {
    "duration": 20,
    "start_time": "2023-10-05T11:24:12.724Z"
   },
   {
    "duration": 19,
    "start_time": "2023-10-05T11:24:12.746Z"
   },
   {
    "duration": 29,
    "start_time": "2023-10-05T11:24:12.767Z"
   },
   {
    "duration": 23,
    "start_time": "2023-10-05T11:24:12.798Z"
   },
   {
    "duration": 34,
    "start_time": "2023-10-05T11:24:12.823Z"
   },
   {
    "duration": 28,
    "start_time": "2023-10-05T11:24:12.859Z"
   },
   {
    "duration": 17,
    "start_time": "2023-10-05T11:24:12.889Z"
   },
   {
    "duration": 10,
    "start_time": "2023-10-05T11:24:12.908Z"
   },
   {
    "duration": 26,
    "start_time": "2023-10-05T11:24:12.920Z"
   },
   {
    "duration": 47,
    "start_time": "2023-10-05T11:24:12.948Z"
   },
   {
    "duration": 26,
    "start_time": "2023-10-05T11:24:12.997Z"
   },
   {
    "duration": 91,
    "start_time": "2023-10-05T11:24:13.025Z"
   },
   {
    "duration": 83,
    "start_time": "2023-10-05T11:24:13.119Z"
   },
   {
    "duration": 56,
    "start_time": "2023-10-05T11:24:13.203Z"
   },
   {
    "duration": 122,
    "start_time": "2023-10-05T11:24:13.260Z"
   },
   {
    "duration": 91,
    "start_time": "2023-10-05T11:24:13.384Z"
   },
   {
    "duration": 32,
    "start_time": "2023-10-05T11:24:13.477Z"
   },
   {
    "duration": 69,
    "start_time": "2023-10-05T11:24:13.511Z"
   },
   {
    "duration": 99,
    "start_time": "2023-10-05T11:24:13.582Z"
   },
   {
    "duration": 61,
    "start_time": "2023-10-05T11:24:13.683Z"
   },
   {
    "duration": 77,
    "start_time": "2023-10-05T11:24:13.745Z"
   },
   {
    "duration": 30,
    "start_time": "2023-10-05T11:24:13.824Z"
   },
   {
    "duration": 67,
    "start_time": "2023-10-05T11:24:13.859Z"
   },
   {
    "duration": 15,
    "start_time": "2023-10-05T11:30:34.589Z"
   },
   {
    "duration": 16,
    "start_time": "2023-10-05T11:30:39.723Z"
   },
   {
    "duration": 11,
    "start_time": "2023-10-05T11:32:01.630Z"
   },
   {
    "duration": 23,
    "start_time": "2023-10-05T11:32:13.089Z"
   },
   {
    "duration": 18,
    "start_time": "2023-10-05T11:32:15.662Z"
   },
   {
    "duration": 3,
    "start_time": "2023-10-05T11:32:22.526Z"
   },
   {
    "duration": 274,
    "start_time": "2023-10-05T11:32:22.533Z"
   },
   {
    "duration": 8,
    "start_time": "2023-10-05T11:32:22.810Z"
   },
   {
    "duration": 11,
    "start_time": "2023-10-05T11:32:22.846Z"
   },
   {
    "duration": 40,
    "start_time": "2023-10-05T11:32:22.859Z"
   },
   {
    "duration": 31,
    "start_time": "2023-10-05T11:32:22.901Z"
   },
   {
    "duration": 83,
    "start_time": "2023-10-05T11:32:22.934Z"
   },
   {
    "duration": 68,
    "start_time": "2023-10-05T11:32:23.018Z"
   },
   {
    "duration": 7,
    "start_time": "2023-10-05T11:32:23.088Z"
   },
   {
    "duration": 109,
    "start_time": "2023-10-05T11:32:23.096Z"
   },
   {
    "duration": 10,
    "start_time": "2023-10-05T11:32:23.208Z"
   },
   {
    "duration": 61,
    "start_time": "2023-10-05T11:32:23.220Z"
   },
   {
    "duration": 32,
    "start_time": "2023-10-05T11:32:23.283Z"
   },
   {
    "duration": 50,
    "start_time": "2023-10-05T11:32:23.317Z"
   },
   {
    "duration": 27,
    "start_time": "2023-10-05T11:32:23.369Z"
   },
   {
    "duration": 26,
    "start_time": "2023-10-05T11:32:23.398Z"
   },
   {
    "duration": 159,
    "start_time": "2023-10-05T11:32:23.426Z"
   },
   {
    "duration": 37,
    "start_time": "2023-10-05T11:32:23.587Z"
   },
   {
    "duration": 44,
    "start_time": "2023-10-05T11:32:23.626Z"
   },
   {
    "duration": 269,
    "start_time": "2023-10-05T11:32:23.672Z"
   },
   {
    "duration": 42,
    "start_time": "2023-10-05T11:32:23.943Z"
   },
   {
    "duration": 43,
    "start_time": "2023-10-05T11:32:23.987Z"
   },
   {
    "duration": 40,
    "start_time": "2023-10-05T11:32:24.032Z"
   },
   {
    "duration": 30,
    "start_time": "2023-10-05T11:32:24.074Z"
   },
   {
    "duration": 42,
    "start_time": "2023-10-05T11:32:24.106Z"
   },
   {
    "duration": 14,
    "start_time": "2023-10-05T11:32:24.150Z"
   },
   {
    "duration": 28,
    "start_time": "2023-10-05T11:32:24.165Z"
   },
   {
    "duration": 14,
    "start_time": "2023-10-05T11:32:24.195Z"
   },
   {
    "duration": 33,
    "start_time": "2023-10-05T11:32:24.215Z"
   },
   {
    "duration": 25,
    "start_time": "2023-10-05T11:32:24.250Z"
   },
   {
    "duration": 72,
    "start_time": "2023-10-05T11:32:24.277Z"
   },
   {
    "duration": 168,
    "start_time": "2023-10-05T11:32:24.352Z"
   },
   {
    "duration": 67,
    "start_time": "2023-10-05T11:32:24.522Z"
   },
   {
    "duration": 178,
    "start_time": "2023-10-05T11:32:24.590Z"
   },
   {
    "duration": 11,
    "start_time": "2023-10-05T11:32:24.770Z"
   },
   {
    "duration": 32,
    "start_time": "2023-10-05T11:32:24.783Z"
   },
   {
    "duration": 48,
    "start_time": "2023-10-05T11:32:24.817Z"
   },
   {
    "duration": 17,
    "start_time": "2023-10-05T11:32:24.868Z"
   },
   {
    "duration": 59,
    "start_time": "2023-10-05T11:32:24.887Z"
   },
   {
    "duration": 47,
    "start_time": "2023-10-05T11:32:24.949Z"
   },
   {
    "duration": 61,
    "start_time": "2023-10-05T11:32:24.998Z"
   },
   {
    "duration": 55,
    "start_time": "2023-10-05T11:32:25.061Z"
   },
   {
    "duration": 49,
    "start_time": "2023-10-05T11:32:25.118Z"
   },
   {
    "duration": 39,
    "start_time": "2023-10-05T11:32:25.169Z"
   },
   {
    "duration": 107,
    "start_time": "2023-10-05T11:32:25.210Z"
   },
   {
    "duration": 53,
    "start_time": "2023-10-05T11:32:25.320Z"
   },
   {
    "duration": 7,
    "start_time": "2023-10-05T11:32:25.376Z"
   },
   {
    "duration": 34,
    "start_time": "2023-10-05T11:32:25.386Z"
   },
   {
    "duration": 37,
    "start_time": "2023-10-05T11:32:25.422Z"
   },
   {
    "duration": 23,
    "start_time": "2023-10-05T11:32:25.462Z"
   },
   {
    "duration": 37,
    "start_time": "2023-10-05T11:32:25.487Z"
   },
   {
    "duration": 124,
    "start_time": "2023-10-05T11:32:25.526Z"
   },
   {
    "duration": 39,
    "start_time": "2023-10-05T11:32:25.652Z"
   },
   {
    "duration": 22,
    "start_time": "2023-10-05T11:32:25.693Z"
   },
   {
    "duration": 59,
    "start_time": "2023-10-05T11:32:25.717Z"
   },
   {
    "duration": 17,
    "start_time": "2023-10-05T11:32:25.778Z"
   },
   {
    "duration": 34,
    "start_time": "2023-10-05T11:32:25.797Z"
   },
   {
    "duration": 56,
    "start_time": "2023-10-05T11:32:25.833Z"
   },
   {
    "duration": 28,
    "start_time": "2023-10-05T11:32:25.891Z"
   },
   {
    "duration": 25,
    "start_time": "2023-10-05T11:32:25.921Z"
   },
   {
    "duration": 31,
    "start_time": "2023-10-05T11:32:25.948Z"
   },
   {
    "duration": 20,
    "start_time": "2023-10-05T11:32:25.981Z"
   },
   {
    "duration": 36,
    "start_time": "2023-10-05T11:32:26.002Z"
   },
   {
    "duration": 18,
    "start_time": "2023-10-05T11:32:26.039Z"
   },
   {
    "duration": 22,
    "start_time": "2023-10-05T11:32:26.059Z"
   },
   {
    "duration": 10,
    "start_time": "2023-10-05T11:32:26.083Z"
   },
   {
    "duration": 8,
    "start_time": "2023-10-05T11:32:26.095Z"
   },
   {
    "duration": 17,
    "start_time": "2023-10-05T11:32:26.105Z"
   },
   {
    "duration": 24,
    "start_time": "2023-10-05T11:32:26.124Z"
   },
   {
    "duration": 23,
    "start_time": "2023-10-05T11:32:26.150Z"
   },
   {
    "duration": 31,
    "start_time": "2023-10-05T11:32:26.175Z"
   },
   {
    "duration": 23,
    "start_time": "2023-10-05T11:32:26.208Z"
   },
   {
    "duration": 8,
    "start_time": "2023-10-05T11:32:26.233Z"
   },
   {
    "duration": 30,
    "start_time": "2023-10-05T11:32:26.243Z"
   },
   {
    "duration": 11,
    "start_time": "2023-10-05T11:32:26.275Z"
   },
   {
    "duration": 18,
    "start_time": "2023-10-05T11:32:26.287Z"
   },
   {
    "duration": 9,
    "start_time": "2023-10-05T11:32:26.307Z"
   },
   {
    "duration": 22,
    "start_time": "2023-10-05T11:32:26.317Z"
   },
   {
    "duration": 12,
    "start_time": "2023-10-05T11:32:26.341Z"
   },
   {
    "duration": 18,
    "start_time": "2023-10-05T11:32:26.355Z"
   },
   {
    "duration": 12,
    "start_time": "2023-10-05T11:32:26.375Z"
   },
   {
    "duration": 22,
    "start_time": "2023-10-05T11:32:26.389Z"
   },
   {
    "duration": 1690,
    "start_time": "2023-10-05T11:33:04.090Z"
   },
   {
    "duration": 4,
    "start_time": "2023-10-05T11:33:10.879Z"
   },
   {
    "duration": 232,
    "start_time": "2023-10-05T11:33:10.887Z"
   },
   {
    "duration": 8,
    "start_time": "2023-10-05T11:33:11.121Z"
   },
   {
    "duration": 36,
    "start_time": "2023-10-05T11:33:11.130Z"
   },
   {
    "duration": 43,
    "start_time": "2023-10-05T11:33:11.168Z"
   },
   {
    "duration": 24,
    "start_time": "2023-10-05T11:33:11.213Z"
   },
   {
    "duration": 87,
    "start_time": "2023-10-05T11:33:11.239Z"
   },
   {
    "duration": 66,
    "start_time": "2023-10-05T11:33:11.327Z"
   },
   {
    "duration": 6,
    "start_time": "2023-10-05T11:33:11.395Z"
   },
   {
    "duration": 98,
    "start_time": "2023-10-05T11:33:11.403Z"
   },
   {
    "duration": 10,
    "start_time": "2023-10-05T11:33:11.504Z"
   },
   {
    "duration": 45,
    "start_time": "2023-10-05T11:33:11.516Z"
   },
   {
    "duration": 34,
    "start_time": "2023-10-05T11:33:11.562Z"
   },
   {
    "duration": 32,
    "start_time": "2023-10-05T11:33:11.598Z"
   },
   {
    "duration": 31,
    "start_time": "2023-10-05T11:33:11.632Z"
   },
   {
    "duration": 22,
    "start_time": "2023-10-05T11:33:11.665Z"
   },
   {
    "duration": 22,
    "start_time": "2023-10-05T11:33:11.689Z"
   },
   {
    "duration": 41,
    "start_time": "2023-10-05T11:33:11.713Z"
   },
   {
    "duration": 86,
    "start_time": "2023-10-05T11:33:11.755Z"
   },
   {
    "duration": 287,
    "start_time": "2023-10-05T11:33:11.843Z"
   },
   {
    "duration": 42,
    "start_time": "2023-10-05T11:33:12.132Z"
   },
   {
    "duration": 78,
    "start_time": "2023-10-05T11:33:12.176Z"
   },
   {
    "duration": 26,
    "start_time": "2023-10-05T11:33:12.256Z"
   },
   {
    "duration": 49,
    "start_time": "2023-10-05T11:33:12.284Z"
   },
   {
    "duration": 16,
    "start_time": "2023-10-05T11:33:12.334Z"
   },
   {
    "duration": 20,
    "start_time": "2023-10-05T11:33:12.352Z"
   },
   {
    "duration": 34,
    "start_time": "2023-10-05T11:33:12.374Z"
   },
   {
    "duration": 35,
    "start_time": "2023-10-05T11:33:12.410Z"
   },
   {
    "duration": 13,
    "start_time": "2023-10-05T11:33:12.525Z"
   },
   {
    "duration": 42,
    "start_time": "2023-10-05T11:33:12.547Z"
   },
   {
    "duration": 78,
    "start_time": "2023-10-05T11:33:12.591Z"
   },
   {
    "duration": 163,
    "start_time": "2023-10-05T11:33:12.671Z"
   },
   {
    "duration": 59,
    "start_time": "2023-10-05T11:33:12.835Z"
   },
   {
    "duration": 172,
    "start_time": "2023-10-05T11:33:12.895Z"
   },
   {
    "duration": 11,
    "start_time": "2023-10-05T11:33:13.069Z"
   },
   {
    "duration": 36,
    "start_time": "2023-10-05T11:33:13.082Z"
   },
   {
    "duration": 36,
    "start_time": "2023-10-05T11:33:13.120Z"
   },
   {
    "duration": 43,
    "start_time": "2023-10-05T11:33:13.158Z"
   },
   {
    "duration": 138,
    "start_time": "2023-10-05T11:33:13.203Z"
   },
   {
    "duration": 86,
    "start_time": "2023-10-05T11:33:13.343Z"
   },
   {
    "duration": 58,
    "start_time": "2023-10-05T11:33:13.431Z"
   },
   {
    "duration": 78,
    "start_time": "2023-10-05T11:33:13.490Z"
   },
   {
    "duration": 55,
    "start_time": "2023-10-05T11:33:13.570Z"
   },
   {
    "duration": 42,
    "start_time": "2023-10-05T11:33:13.627Z"
   },
   {
    "duration": 80,
    "start_time": "2023-10-05T11:33:13.671Z"
   },
   {
    "duration": 37,
    "start_time": "2023-10-05T11:33:13.753Z"
   },
   {
    "duration": 6,
    "start_time": "2023-10-05T11:33:13.791Z"
   },
   {
    "duration": 41,
    "start_time": "2023-10-05T11:33:13.798Z"
   },
   {
    "duration": 51,
    "start_time": "2023-10-05T11:33:13.841Z"
   },
   {
    "duration": 19,
    "start_time": "2023-10-05T11:33:13.894Z"
   },
   {
    "duration": 69,
    "start_time": "2023-10-05T11:33:13.914Z"
   },
   {
    "duration": 24,
    "start_time": "2023-10-05T11:33:13.985Z"
   },
   {
    "duration": 23,
    "start_time": "2023-10-05T11:33:14.011Z"
   },
   {
    "duration": 20,
    "start_time": "2023-10-05T11:33:14.037Z"
   },
   {
    "duration": 103,
    "start_time": "2023-10-05T11:33:14.059Z"
   },
   {
    "duration": 18,
    "start_time": "2023-10-05T11:33:14.164Z"
   },
   {
    "duration": 15,
    "start_time": "2023-10-05T11:33:14.184Z"
   },
   {
    "duration": 24,
    "start_time": "2023-10-05T11:33:14.201Z"
   },
   {
    "duration": 19,
    "start_time": "2023-10-05T11:33:14.226Z"
   },
   {
    "duration": 23,
    "start_time": "2023-10-05T11:33:14.246Z"
   },
   {
    "duration": 74,
    "start_time": "2023-10-05T11:33:14.271Z"
   },
   {
    "duration": 27,
    "start_time": "2023-10-05T11:33:14.347Z"
   },
   {
    "duration": 46,
    "start_time": "2023-10-05T11:33:14.376Z"
   },
   {
    "duration": 39,
    "start_time": "2023-10-05T11:33:14.424Z"
   },
   {
    "duration": 28,
    "start_time": "2023-10-05T11:33:14.465Z"
   },
   {
    "duration": 27,
    "start_time": "2023-10-05T11:33:14.494Z"
   },
   {
    "duration": 16,
    "start_time": "2023-10-05T11:33:14.523Z"
   },
   {
    "duration": 26,
    "start_time": "2023-10-05T11:33:14.541Z"
   },
   {
    "duration": 50,
    "start_time": "2023-10-05T11:33:14.568Z"
   },
   {
    "duration": 30,
    "start_time": "2023-10-05T11:33:14.620Z"
   },
   {
    "duration": 23,
    "start_time": "2023-10-05T11:33:14.652Z"
   },
   {
    "duration": 17,
    "start_time": "2023-10-05T11:33:14.677Z"
   },
   {
    "duration": 14,
    "start_time": "2023-10-05T11:33:14.695Z"
   },
   {
    "duration": 28,
    "start_time": "2023-10-05T11:33:14.711Z"
   },
   {
    "duration": 80,
    "start_time": "2023-10-05T11:33:14.741Z"
   },
   {
    "duration": 19,
    "start_time": "2023-10-05T11:33:14.822Z"
   },
   {
    "duration": 29,
    "start_time": "2023-10-05T11:33:14.843Z"
   },
   {
    "duration": 15,
    "start_time": "2023-10-05T11:33:14.874Z"
   },
   {
    "duration": 24,
    "start_time": "2023-10-05T11:33:14.891Z"
   },
   {
    "duration": 9,
    "start_time": "2023-10-05T11:33:14.917Z"
   },
   {
    "duration": 16,
    "start_time": "2023-10-05T11:33:14.927Z"
   },
   {
    "duration": 22,
    "start_time": "2023-10-05T11:33:14.945Z"
   },
   {
    "duration": 3,
    "start_time": "2023-10-05T11:39:47.205Z"
   },
   {
    "duration": 6,
    "start_time": "2023-10-05T11:39:48.546Z"
   },
   {
    "duration": 6,
    "start_time": "2023-10-05T11:39:48.841Z"
   },
   {
    "duration": 5,
    "start_time": "2023-10-05T11:39:49.378Z"
   },
   {
    "duration": 6,
    "start_time": "2023-10-05T11:39:50.310Z"
   },
   {
    "duration": 6,
    "start_time": "2023-10-05T11:39:56.026Z"
   },
   {
    "duration": 6,
    "start_time": "2023-10-05T11:39:56.561Z"
   },
   {
    "duration": 5,
    "start_time": "2023-10-05T11:39:57.427Z"
   },
   {
    "duration": 6,
    "start_time": "2023-10-05T11:39:58.366Z"
   },
   {
    "duration": 4,
    "start_time": "2023-10-05T11:39:58.861Z"
   },
   {
    "duration": 6,
    "start_time": "2023-10-05T11:39:59.479Z"
   },
   {
    "duration": 6,
    "start_time": "2023-10-05T11:40:00.166Z"
   },
   {
    "duration": 5,
    "start_time": "2023-10-05T11:40:01.129Z"
   },
   {
    "duration": 12,
    "start_time": "2023-10-05T11:40:02.205Z"
   },
   {
    "duration": 5,
    "start_time": "2023-10-05T11:40:06.011Z"
   },
   {
    "duration": 6,
    "start_time": "2023-10-05T11:40:06.244Z"
   },
   {
    "duration": 5,
    "start_time": "2023-10-05T11:40:06.604Z"
   },
   {
    "duration": 5,
    "start_time": "2023-10-05T11:40:07.132Z"
   },
   {
    "duration": 6,
    "start_time": "2023-10-05T11:41:07.922Z"
   },
   {
    "duration": 5,
    "start_time": "2023-10-05T11:45:10.314Z"
   },
   {
    "duration": 4,
    "start_time": "2023-10-05T11:45:47.474Z"
   },
   {
    "duration": 4,
    "start_time": "2023-10-05T11:47:07.596Z"
   },
   {
    "duration": 5,
    "start_time": "2023-10-05T11:47:15.037Z"
   },
   {
    "duration": 1172,
    "start_time": "2023-10-05T11:59:20.568Z"
   },
   {
    "duration": 197,
    "start_time": "2023-10-05T11:59:21.742Z"
   },
   {
    "duration": 14,
    "start_time": "2023-10-05T11:59:21.941Z"
   },
   {
    "duration": 27,
    "start_time": "2023-10-05T11:59:21.958Z"
   },
   {
    "duration": 58,
    "start_time": "2023-10-05T11:59:21.987Z"
   },
   {
    "duration": 35,
    "start_time": "2023-10-05T11:59:22.047Z"
   },
   {
    "duration": 125,
    "start_time": "2023-10-05T11:59:22.084Z"
   },
   {
    "duration": 84,
    "start_time": "2023-10-05T11:59:22.211Z"
   },
   {
    "duration": 8,
    "start_time": "2023-10-05T11:59:22.296Z"
   },
   {
    "duration": 112,
    "start_time": "2023-10-05T11:59:22.307Z"
   },
   {
    "duration": 10,
    "start_time": "2023-10-05T11:59:22.420Z"
   },
   {
    "duration": 53,
    "start_time": "2023-10-05T11:59:22.431Z"
   },
   {
    "duration": 36,
    "start_time": "2023-10-05T11:59:22.486Z"
   },
   {
    "duration": 34,
    "start_time": "2023-10-05T11:59:22.524Z"
   },
   {
    "duration": 38,
    "start_time": "2023-10-05T11:59:22.560Z"
   },
   {
    "duration": 22,
    "start_time": "2023-10-05T11:59:22.600Z"
   },
   {
    "duration": 19,
    "start_time": "2023-10-05T11:59:22.623Z"
   },
   {
    "duration": 42,
    "start_time": "2023-10-05T11:59:22.644Z"
   },
   {
    "duration": 65,
    "start_time": "2023-10-05T11:59:22.688Z"
   },
   {
    "duration": 355,
    "start_time": "2023-10-05T11:59:22.755Z"
   },
   {
    "duration": 52,
    "start_time": "2023-10-05T11:59:23.113Z"
   },
   {
    "duration": 46,
    "start_time": "2023-10-05T11:59:23.167Z"
   },
   {
    "duration": 101,
    "start_time": "2023-10-05T11:59:23.215Z"
   },
   {
    "duration": 53,
    "start_time": "2023-10-05T11:59:23.318Z"
   },
   {
    "duration": 22,
    "start_time": "2023-10-05T11:59:23.374Z"
   },
   {
    "duration": 131,
    "start_time": "2023-10-05T11:59:23.398Z"
   },
   {
    "duration": 137,
    "start_time": "2023-10-05T11:59:23.532Z"
   },
   {
    "duration": 155,
    "start_time": "2023-10-05T11:59:23.675Z"
   },
   {
    "duration": 57,
    "start_time": "2023-10-05T11:59:23.832Z"
   },
   {
    "duration": 53,
    "start_time": "2023-10-05T11:59:23.891Z"
   },
   {
    "duration": 56,
    "start_time": "2023-10-05T11:59:23.946Z"
   },
   {
    "duration": 169,
    "start_time": "2023-10-05T11:59:24.003Z"
   },
   {
    "duration": 59,
    "start_time": "2023-10-05T11:59:24.174Z"
   },
   {
    "duration": 174,
    "start_time": "2023-10-05T11:59:24.246Z"
   },
   {
    "duration": 9,
    "start_time": "2023-10-05T11:59:24.422Z"
   },
   {
    "duration": 14,
    "start_time": "2023-10-05T11:59:24.433Z"
   },
   {
    "duration": 33,
    "start_time": "2023-10-05T11:59:24.449Z"
   },
   {
    "duration": 15,
    "start_time": "2023-10-05T11:59:24.483Z"
   },
   {
    "duration": 70,
    "start_time": "2023-10-05T11:59:24.500Z"
   },
   {
    "duration": 34,
    "start_time": "2023-10-05T11:59:24.572Z"
   },
   {
    "duration": 56,
    "start_time": "2023-10-05T11:59:24.608Z"
   },
   {
    "duration": 91,
    "start_time": "2023-10-05T11:59:24.666Z"
   },
   {
    "duration": 42,
    "start_time": "2023-10-05T11:59:24.759Z"
   },
   {
    "duration": 5,
    "start_time": "2023-10-05T11:59:24.803Z"
   },
   {
    "duration": 5,
    "start_time": "2023-10-05T11:59:24.811Z"
   },
   {
    "duration": 39,
    "start_time": "2023-10-05T11:59:24.817Z"
   },
   {
    "duration": 11,
    "start_time": "2023-10-05T11:59:24.858Z"
   },
   {
    "duration": 7,
    "start_time": "2023-10-05T11:59:24.871Z"
   },
   {
    "duration": 8,
    "start_time": "2023-10-05T11:59:24.880Z"
   },
   {
    "duration": 17,
    "start_time": "2023-10-05T11:59:24.890Z"
   },
   {
    "duration": 14,
    "start_time": "2023-10-05T11:59:24.909Z"
   },
   {
    "duration": 16,
    "start_time": "2023-10-05T11:59:24.925Z"
   },
   {
    "duration": 9,
    "start_time": "2023-10-05T11:59:24.942Z"
   },
   {
    "duration": 15,
    "start_time": "2023-10-05T11:59:24.952Z"
   },
   {
    "duration": 13,
    "start_time": "2023-10-05T11:59:24.969Z"
   },
   {
    "duration": 12,
    "start_time": "2023-10-05T11:59:24.984Z"
   },
   {
    "duration": 29,
    "start_time": "2023-10-05T11:59:24.998Z"
   },
   {
    "duration": 32,
    "start_time": "2023-10-05T11:59:25.028Z"
   },
   {
    "duration": 29,
    "start_time": "2023-10-05T11:59:25.062Z"
   },
   {
    "duration": 26,
    "start_time": "2023-10-05T11:59:25.093Z"
   },
   {
    "duration": 35,
    "start_time": "2023-10-05T11:59:25.121Z"
   },
   {
    "duration": 36,
    "start_time": "2023-10-05T11:59:25.158Z"
   },
   {
    "duration": 27,
    "start_time": "2023-10-05T11:59:25.196Z"
   },
   {
    "duration": 60,
    "start_time": "2023-10-05T11:59:25.225Z"
   },
   {
    "duration": 83,
    "start_time": "2023-10-05T11:59:25.288Z"
   },
   {
    "duration": 30,
    "start_time": "2023-10-05T11:59:25.373Z"
   },
   {
    "duration": 19,
    "start_time": "2023-10-05T11:59:25.405Z"
   },
   {
    "duration": 40,
    "start_time": "2023-10-05T11:59:25.425Z"
   },
   {
    "duration": 36,
    "start_time": "2023-10-05T11:59:25.467Z"
   },
   {
    "duration": 23,
    "start_time": "2023-10-05T11:59:25.505Z"
   },
   {
    "duration": 18,
    "start_time": "2023-10-05T11:59:25.530Z"
   },
   {
    "duration": 26,
    "start_time": "2023-10-05T11:59:25.550Z"
   },
   {
    "duration": 13,
    "start_time": "2023-10-05T11:59:25.578Z"
   },
   {
    "duration": 35,
    "start_time": "2023-10-05T11:59:25.593Z"
   },
   {
    "duration": 19,
    "start_time": "2023-10-05T11:59:25.630Z"
   },
   {
    "duration": 9,
    "start_time": "2023-10-05T11:59:25.651Z"
   },
   {
    "duration": 16,
    "start_time": "2023-10-05T11:59:25.661Z"
   },
   {
    "duration": 27,
    "start_time": "2023-10-05T11:59:25.679Z"
   },
   {
    "duration": 12,
    "start_time": "2023-10-05T11:59:25.708Z"
   },
   {
    "duration": 40,
    "start_time": "2023-10-05T11:59:25.722Z"
   },
   {
    "duration": 18,
    "start_time": "2023-10-05T11:59:25.764Z"
   },
   {
    "duration": 22,
    "start_time": "2023-10-05T12:00:18.087Z"
   },
   {
    "duration": 47,
    "start_time": "2023-10-06T12:03:54.427Z"
   },
   {
    "duration": 1411,
    "start_time": "2023-10-06T12:04:01.101Z"
   },
   {
    "duration": 540,
    "start_time": "2023-10-06T12:04:02.514Z"
   },
   {
    "duration": 12,
    "start_time": "2023-10-06T12:04:03.055Z"
   },
   {
    "duration": 248,
    "start_time": "2023-10-06T12:04:03.069Z"
   },
   {
    "duration": 182,
    "start_time": "2023-10-06T12:04:03.319Z"
   },
   {
    "duration": 315,
    "start_time": "2023-10-06T12:04:03.503Z"
   },
   {
    "duration": 79,
    "start_time": "2023-10-06T12:04:03.819Z"
   },
   {
    "duration": 66,
    "start_time": "2023-10-06T12:04:03.899Z"
   },
   {
    "duration": 7,
    "start_time": "2023-10-06T12:04:03.967Z"
   },
   {
    "duration": 109,
    "start_time": "2023-10-06T12:04:03.975Z"
   },
   {
    "duration": 9,
    "start_time": "2023-10-06T12:04:04.086Z"
   },
   {
    "duration": 67,
    "start_time": "2023-10-06T12:04:04.097Z"
   },
   {
    "duration": 44,
    "start_time": "2023-10-06T12:04:04.166Z"
   },
   {
    "duration": 30,
    "start_time": "2023-10-06T12:04:04.213Z"
   },
   {
    "duration": 19,
    "start_time": "2023-10-06T12:04:04.244Z"
   },
   {
    "duration": 27,
    "start_time": "2023-10-06T12:04:04.264Z"
   },
   {
    "duration": 27,
    "start_time": "2023-10-06T12:04:04.292Z"
   },
   {
    "duration": 63,
    "start_time": "2023-10-06T12:04:04.321Z"
   },
   {
    "duration": 93,
    "start_time": "2023-10-06T12:04:04.385Z"
   },
   {
    "duration": 333,
    "start_time": "2023-10-06T12:04:04.479Z"
   },
   {
    "duration": 35,
    "start_time": "2023-10-06T12:04:04.814Z"
   },
   {
    "duration": 35,
    "start_time": "2023-10-06T12:04:04.851Z"
   },
   {
    "duration": 47,
    "start_time": "2023-10-06T12:04:04.888Z"
   },
   {
    "duration": 49,
    "start_time": "2023-10-06T12:04:04.937Z"
   },
   {
    "duration": 20,
    "start_time": "2023-10-06T12:04:04.987Z"
   },
   {
    "duration": 31,
    "start_time": "2023-10-06T12:04:05.008Z"
   },
   {
    "duration": 42,
    "start_time": "2023-10-06T12:04:05.041Z"
   },
   {
    "duration": 62,
    "start_time": "2023-10-06T12:04:05.085Z"
   },
   {
    "duration": 33,
    "start_time": "2023-10-06T12:04:05.149Z"
   },
   {
    "duration": 48,
    "start_time": "2023-10-06T12:04:05.183Z"
   },
   {
    "duration": 62,
    "start_time": "2023-10-06T12:04:05.233Z"
   },
   {
    "duration": 157,
    "start_time": "2023-10-06T12:04:05.297Z"
   },
   {
    "duration": 53,
    "start_time": "2023-10-06T12:04:05.456Z"
   },
   {
    "duration": 153,
    "start_time": "2023-10-06T12:04:05.525Z"
   },
   {
    "duration": 8,
    "start_time": "2023-10-06T12:04:05.680Z"
   },
   {
    "duration": 59,
    "start_time": "2023-10-06T12:04:05.690Z"
   },
   {
    "duration": 38,
    "start_time": "2023-10-06T12:04:05.751Z"
   },
   {
    "duration": 13,
    "start_time": "2023-10-06T12:04:05.792Z"
   },
   {
    "duration": 92,
    "start_time": "2023-10-06T12:04:05.807Z"
   },
   {
    "duration": 38,
    "start_time": "2023-10-06T12:04:05.902Z"
   },
   {
    "duration": 48,
    "start_time": "2023-10-06T12:04:05.945Z"
   },
   {
    "duration": 97,
    "start_time": "2023-10-06T12:04:05.995Z"
   },
   {
    "duration": 45,
    "start_time": "2023-10-06T12:04:06.093Z"
   },
   {
    "duration": 5,
    "start_time": "2023-10-06T12:04:06.139Z"
   },
   {
    "duration": 41,
    "start_time": "2023-10-06T12:04:06.146Z"
   },
   {
    "duration": 40,
    "start_time": "2023-10-06T12:04:06.189Z"
   },
   {
    "duration": 28,
    "start_time": "2023-10-06T12:04:06.231Z"
   },
   {
    "duration": 42,
    "start_time": "2023-10-06T12:04:06.261Z"
   },
   {
    "duration": 32,
    "start_time": "2023-10-06T12:04:06.305Z"
   },
   {
    "duration": 53,
    "start_time": "2023-10-06T12:04:06.338Z"
   },
   {
    "duration": 48,
    "start_time": "2023-10-06T12:04:06.393Z"
   },
   {
    "duration": 40,
    "start_time": "2023-10-06T12:04:06.443Z"
   },
   {
    "duration": 81,
    "start_time": "2023-10-06T12:04:06.485Z"
   },
   {
    "duration": 67,
    "start_time": "2023-10-06T12:04:06.568Z"
   },
   {
    "duration": 57,
    "start_time": "2023-10-06T12:04:06.637Z"
   },
   {
    "duration": 100,
    "start_time": "2023-10-06T12:04:06.695Z"
   },
   {
    "duration": 91,
    "start_time": "2023-10-06T12:04:06.797Z"
   },
   {
    "duration": 69,
    "start_time": "2023-10-06T12:04:06.890Z"
   },
   {
    "duration": 50,
    "start_time": "2023-10-06T12:04:06.961Z"
   },
   {
    "duration": 35,
    "start_time": "2023-10-06T12:04:07.013Z"
   },
   {
    "duration": 45,
    "start_time": "2023-10-06T12:04:07.050Z"
   },
   {
    "duration": 51,
    "start_time": "2023-10-06T12:04:07.096Z"
   },
   {
    "duration": 54,
    "start_time": "2023-10-06T12:04:07.149Z"
   },
   {
    "duration": 39,
    "start_time": "2023-10-06T12:04:07.205Z"
   },
   {
    "duration": 43,
    "start_time": "2023-10-06T12:04:07.246Z"
   },
   {
    "duration": 39,
    "start_time": "2023-10-06T12:04:07.291Z"
   },
   {
    "duration": 44,
    "start_time": "2023-10-06T12:04:07.331Z"
   },
   {
    "duration": 59,
    "start_time": "2023-10-06T12:04:07.376Z"
   },
   {
    "duration": 45,
    "start_time": "2023-10-06T12:04:07.439Z"
   },
   {
    "duration": 36,
    "start_time": "2023-10-06T12:04:07.486Z"
   },
   {
    "duration": 35,
    "start_time": "2023-10-06T12:04:07.524Z"
   },
   {
    "duration": 31,
    "start_time": "2023-10-06T12:04:07.561Z"
   },
   {
    "duration": 63,
    "start_time": "2023-10-06T12:04:07.593Z"
   },
   {
    "duration": 29,
    "start_time": "2023-10-06T12:04:07.658Z"
   },
   {
    "duration": 35,
    "start_time": "2023-10-06T12:04:07.689Z"
   },
   {
    "duration": 39,
    "start_time": "2023-10-06T12:04:07.725Z"
   },
   {
    "duration": 51,
    "start_time": "2023-10-06T12:04:07.765Z"
   },
   {
    "duration": 26,
    "start_time": "2023-10-06T12:04:07.818Z"
   },
   {
    "duration": 46,
    "start_time": "2023-10-06T12:04:07.846Z"
   },
   {
    "duration": 34,
    "start_time": "2023-10-06T12:04:07.894Z"
   },
   {
    "duration": 43,
    "start_time": "2023-10-06T12:04:07.930Z"
   },
   {
    "duration": 35,
    "start_time": "2023-10-06T12:04:07.975Z"
   },
   {
    "duration": 53,
    "start_time": "2023-10-12T09:17:40.406Z"
   },
   {
    "duration": 1206,
    "start_time": "2023-10-12T09:17:44.966Z"
   },
   {
    "duration": 469,
    "start_time": "2023-10-12T09:17:46.173Z"
   },
   {
    "duration": 14,
    "start_time": "2023-10-12T09:17:46.643Z"
   },
   {
    "duration": 38,
    "start_time": "2023-10-12T09:17:46.659Z"
   },
   {
    "duration": 47,
    "start_time": "2023-10-12T09:17:46.698Z"
   },
   {
    "duration": 21,
    "start_time": "2023-10-12T09:17:46.746Z"
   },
   {
    "duration": 108,
    "start_time": "2023-10-12T09:17:46.768Z"
   },
   {
    "duration": 68,
    "start_time": "2023-10-12T09:17:46.877Z"
   },
   {
    "duration": 8,
    "start_time": "2023-10-12T09:17:46.946Z"
   },
   {
    "duration": 92,
    "start_time": "2023-10-12T09:17:46.958Z"
   },
   {
    "duration": 15,
    "start_time": "2023-10-12T09:17:47.051Z"
   },
   {
    "duration": 47,
    "start_time": "2023-10-12T09:17:47.067Z"
   },
   {
    "duration": 15,
    "start_time": "2023-10-12T09:17:47.115Z"
   },
   {
    "duration": 33,
    "start_time": "2023-10-12T09:17:47.131Z"
   },
   {
    "duration": 38,
    "start_time": "2023-10-12T09:17:47.165Z"
   },
   {
    "duration": 20,
    "start_time": "2023-10-12T09:17:47.204Z"
   },
   {
    "duration": 28,
    "start_time": "2023-10-12T09:17:47.226Z"
   },
   {
    "duration": 30,
    "start_time": "2023-10-12T09:17:47.256Z"
   },
   {
    "duration": 38,
    "start_time": "2023-10-12T09:17:47.288Z"
   },
   {
    "duration": 339,
    "start_time": "2023-10-12T09:17:47.327Z"
   },
   {
    "duration": 29,
    "start_time": "2023-10-12T09:17:47.668Z"
   },
   {
    "duration": 26,
    "start_time": "2023-10-12T09:17:47.698Z"
   },
   {
    "duration": 48,
    "start_time": "2023-10-12T09:17:47.725Z"
   },
   {
    "duration": 19,
    "start_time": "2023-10-12T09:17:47.775Z"
   },
   {
    "duration": 17,
    "start_time": "2023-10-12T09:17:47.796Z"
   },
   {
    "duration": 36,
    "start_time": "2023-10-12T09:17:47.815Z"
   },
   {
    "duration": 15,
    "start_time": "2023-10-12T09:17:47.853Z"
   },
   {
    "duration": 10,
    "start_time": "2023-10-12T09:17:47.871Z"
   },
   {
    "duration": 10,
    "start_time": "2023-10-12T09:17:47.882Z"
   },
   {
    "duration": 50,
    "start_time": "2023-10-12T09:17:47.893Z"
   },
   {
    "duration": 39,
    "start_time": "2023-10-12T09:17:47.944Z"
   },
   {
    "duration": 146,
    "start_time": "2023-10-12T09:17:47.985Z"
   },
   {
    "duration": 63,
    "start_time": "2023-10-12T09:17:48.132Z"
   },
   {
    "duration": 168,
    "start_time": "2023-10-12T09:17:48.196Z"
   },
   {
    "duration": 8,
    "start_time": "2023-10-12T09:17:48.365Z"
   },
   {
    "duration": 3,
    "start_time": "2023-10-12T09:17:48.374Z"
   },
   {
    "duration": 16,
    "start_time": "2023-10-12T09:17:48.378Z"
   },
   {
    "duration": 8,
    "start_time": "2023-10-12T09:17:48.396Z"
   },
   {
    "duration": 72,
    "start_time": "2023-10-12T09:17:48.406Z"
   },
   {
    "duration": 28,
    "start_time": "2023-10-12T09:17:48.479Z"
   },
   {
    "duration": 48,
    "start_time": "2023-10-12T09:17:48.508Z"
   },
   {
    "duration": 97,
    "start_time": "2023-10-12T09:17:49.971Z"
   },
   {
    "duration": 124,
    "start_time": "2023-10-12T09:18:36.185Z"
   },
   {
    "duration": 36,
    "start_time": "2023-10-12T09:18:39.791Z"
   },
   {
    "duration": 37,
    "start_time": "2023-10-12T09:18:48.627Z"
   }
  ],
  "kernelspec": {
   "display_name": "Python 3 (ipykernel)",
   "language": "python",
   "name": "python3"
  },
  "language_info": {
   "codemirror_mode": {
    "name": "ipython",
    "version": 3
   },
   "file_extension": ".py",
   "mimetype": "text/x-python",
   "name": "python",
   "nbconvert_exporter": "python",
   "pygments_lexer": "ipython3",
   "version": "3.9.13"
  },
  "toc": {
   "base_numbering": 1,
   "nav_menu": {},
   "number_sections": true,
   "sideBar": true,
   "skip_h1_title": true,
   "title_cell": "Table of Contents",
   "title_sidebar": "Contents",
   "toc_cell": false,
   "toc_position": {},
   "toc_section_display": true,
   "toc_window_display": false
  }
 },
 "nbformat": 4,
 "nbformat_minor": 2
}
